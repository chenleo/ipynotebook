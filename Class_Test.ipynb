{
 "metadata": {
  "name": ""
 },
 "nbformat": 3,
 "nbformat_minor": 0,
 "worksheets": [
  {
   "cells": [
    {
     "cell_type": "markdown",
     "metadata": {},
     "source": [
      "<h1> Class Test</h1>"
     ]
    },
    {
     "cell_type": "code",
     "collapsed": false,
     "input": [
      "from IPython.display import YouTubeVideo"
     ],
     "language": "python",
     "metadata": {},
     "outputs": [],
     "prompt_number": 4
    },
    {
     "cell_type": "code",
     "collapsed": false,
     "input": [
      "#YoukuVideo class:\n",
      "from IPython.display import IFrame\n",
      "class YoukuVideo(IFrame):\n",
      "    \"\"\" Just as youtube, write a youku video class\n",
      "    e.g. to embed the video on this page:\n",
      "    http://v.youku.com/v_show/id_foo.html\n",
      "    \n",
      "    vid = YoukuVideo(\"foo\")\n",
      "    display(vid)\n",
      "    \"\"\"\n",
      "    \n",
      "    def __init__(self, id, width=400, height=300, **kwargs):\n",
      "        src = \"http://player.youku.com/embed/{0}\".format(id)\n",
      "        super(YoukuVideo, self).__init__(src, width, height, **kwargs)"
     ],
     "language": "python",
     "metadata": {},
     "outputs": [],
     "prompt_number": 1
    },
    {
     "cell_type": "code",
     "collapsed": false,
     "input": [
      "#\u5927\u5e08\u751f\u65e5\u89c6\u9891\n",
      "YoukuVideo(\"XNjQzNzU4NDQ4\")"
     ],
     "language": "python",
     "metadata": {},
     "outputs": [
      {
       "html": [
        "\n",
        "        <iframe\n",
        "            width=\"400\"\n",
        "            height=300\"\n",
        "            src=\"http://player.youku.com/embed/XNjQzNzU4NDQ4\"\n",
        "            frameborder=\"0\"\n",
        "            allowfullscreen\n",
        "        ></iframe>\n",
        "        "
       ],
       "metadata": {},
       "output_type": "pyout",
       "prompt_number": 2,
       "text": [
        "<__main__.YoukuVideo at 0x102bcfb10>"
       ]
      }
     ],
     "prompt_number": 2
    },
    {
     "cell_type": "code",
     "collapsed": false,
     "input": [
      "#Test Youtube\n",
      "#\u8c01\u8bf4\u5973\u5b50\u4e0d\u5982\u7537\n",
      "YouTubeVideo('wAdTee75pME')"
     ],
     "language": "python",
     "metadata": {},
     "outputs": [
      {
       "html": [
        "\n",
        "        <iframe\n",
        "            width=\"400\"\n",
        "            height=300\"\n",
        "            src=\"http://www.youtube.com/embed/wAdTee75pME\"\n",
        "            frameborder=\"0\"\n",
        "            allowfullscreen\n",
        "        ></iframe>\n",
        "        "
       ],
       "metadata": {},
       "output_type": "pyout",
       "prompt_number": 6,
       "text": [
        "<IPython.lib.display.YouTubeVideo at 0x102baac10>"
       ]
      }
     ],
     "prompt_number": 6
    },
    {
     "cell_type": "code",
     "collapsed": false,
     "input": [],
     "language": "python",
     "metadata": {},
     "outputs": []
    }
   ],
   "metadata": {}
  }
 ]
}