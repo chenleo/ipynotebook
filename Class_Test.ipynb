{
 "metadata": {
  "name": ""
 },
 "nbformat": 3,
 "nbformat_minor": 0,
 "worksheets": [
  {
   "cells": [
    {
     "cell_type": "markdown",
     "metadata": {},
     "source": [
      "<h1> Class Test</h1>"
     ]
    },
    {
     "cell_type": "code",
     "collapsed": false,
     "input": [
      "%qtconsole"
     ],
     "language": "python",
     "metadata": {},
     "outputs": [],
     "prompt_number": 25
    },
    {
     "cell_type": "code",
     "collapsed": false,
     "input": [
      "import sys\n",
      "sys.version"
     ],
     "language": "python",
     "metadata": {},
     "outputs": [
      {
       "metadata": {},
       "output_type": "pyout",
       "prompt_number": 19,
       "text": [
        "'3.3.3 (default, Nov 23 2013, 16:24:30) \\n[GCC 4.2.1 (Apple Inc. build 5666) (dot 3)]'"
       ]
      }
     ],
     "prompt_number": 19
    },
    {
     "cell_type": "code",
     "collapsed": false,
     "input": [
      "from IPython.display import YouTubeVideo"
     ],
     "language": "python",
     "metadata": {},
     "outputs": [],
     "prompt_number": 20
    },
    {
     "cell_type": "code",
     "collapsed": false,
     "input": [
      "#YoukuVideo class:\n",
      "from IPython.display import IFrame\n",
      "class YoukuVideo(IFrame):\n",
      "    \"\"\" Just as youtube, write a youku video class\n",
      "    e.g. to embed the video on this page:\n",
      "    http://v.youku.com/v_show/id_foo.html\n",
      "    \n",
      "    vid = YoukuVideo(\"foo\")\n",
      "    display(vid)\n",
      "    \"\"\"\n",
      "    \n",
      "    def __init__(self, id, width=400, height=300, **kwargs):\n",
      "        src = \"http://player.youku.com/embed/{0}\".format(id)\n",
      "        super(YoukuVideo, self).__init__(src, width, height, **kwargs)"
     ],
     "language": "python",
     "metadata": {},
     "outputs": [],
     "prompt_number": 1
    },
    {
     "cell_type": "code",
     "collapsed": false,
     "input": [
      "#\u5927\u5e08\u751f\u65e5\u89c6\u9891\n",
      "YoukuVideo('XNjQzNzU4NDQ4')"
     ],
     "language": "python",
     "metadata": {},
     "outputs": [
      {
       "html": [
        "\n",
        "        <iframe\n",
        "            width=\"400\"\n",
        "            height=300\"\n",
        "            src=\"http://player.youku.com/embed/XNjQzNzU4NDQ4\"\n",
        "            frameborder=\"0\"\n",
        "            allowfullscreen\n",
        "        ></iframe>\n",
        "        "
       ],
       "metadata": {},
       "output_type": "pyout",
       "prompt_number": 34,
       "text": [
        "<__main__.YoukuVideo at 0x1034bcc50>"
       ]
      }
     ],
     "prompt_number": 34
    },
    {
     "cell_type": "code",
     "collapsed": false,
     "input": [
      "#Test Youtube\n",
      "#\u8c01\u8bf4\u5973\u5b50\u4e0d\u5982\u7537\n",
      "YouTubeVideo('wAdTee75pME')"
     ],
     "language": "python",
     "metadata": {},
     "outputs": [
      {
       "html": [
        "\n",
        "        <iframe\n",
        "            width=\"400\"\n",
        "            height=300\"\n",
        "            src=\"http://www.youtube.com/embed/wAdTee75pME\"\n",
        "            frameborder=\"0\"\n",
        "            allowfullscreen\n",
        "        ></iframe>\n",
        "        "
       ],
       "metadata": {},
       "output_type": "pyout",
       "prompt_number": 27,
       "text": [
        "<IPython.lib.display.YouTubeVideo at 0x1031d5b90>"
       ]
      }
     ],
     "prompt_number": 27
    },
    {
     "cell_type": "code",
     "collapsed": false,
     "input": [
      "YoukuVideo('XNjQ0NDY4MzI0')"
     ],
     "language": "python",
     "metadata": {},
     "outputs": [
      {
       "html": [
        "\n",
        "        <iframe\n",
        "            width=\"400\"\n",
        "            height=300\"\n",
        "            src=\"http://player.youku.com/embed/XNjQ0NDY4MzI0\"\n",
        "            frameborder=\"0\"\n",
        "            allowfullscreen\n",
        "        ></iframe>\n",
        "        "
       ],
       "metadata": {},
       "output_type": "pyout",
       "prompt_number": 3,
       "text": [
        "<__main__.YoukuVideo at 0x102ac8a10>"
       ]
      }
     ],
     "prompt_number": 3
    },
    {
     "cell_type": "code",
     "collapsed": false,
     "input": [
      "#YoukuVideoSecond class:\n",
      "from IPython.display import IFrame\n",
      "class YoukuVideoSecond(IFrame):\n",
      "    \"\"\" Just as youtube, write a youku video class\n",
      "    e.g. to embed the video on this page:\n",
      "    http://v.youku.com/v_show/id_foo.html\n",
      "    \n",
      "    vid = YoukuVideo(\"foo\")\n",
      "    display(vid)\n",
      "    \"\"\"\n",
      "    \n",
      "    def __init__(self, id, width=400, height=300, **kwargs):\n",
      "        src = \"http://player.youku.com/embed/{0}\".format(id)\n",
      "        super(YoukuVideoSecond, self).__init__(src, width, height, **kwargs)"
     ],
     "language": "python",
     "metadata": {},
     "outputs": [],
     "prompt_number": 48
    },
    {
     "cell_type": "code",
     "collapsed": false,
     "input": [
      "YoukuVideoSecond('XNjQzNzU4NDQ4',name=\"\u5927\u5e08\u751f\u65e5\",align=\"middle\")"
     ],
     "language": "python",
     "metadata": {},
     "outputs": [
      {
       "html": [
        "\n",
        "        <iframe\n",
        "            width=\"400\"\n",
        "            height=300\"\n",
        "            src=\"http://player.youku.com/embed/XNjQzNzU4NDQ4?name=%E5%A4%A7%E5%B8%88%E7%94%9F%E6%97%A5&align=middle\"\n",
        "            frameborder=\"0\"\n",
        "            allowfullscreen\n",
        "        ></iframe>\n",
        "        "
       ],
       "metadata": {},
       "output_type": "pyout",
       "prompt_number": 58,
       "text": [
        "<__main__.YoukuVideoSecond at 0x1034f8e10>"
       ]
      }
     ],
     "prompt_number": 58
    },
    {
     "cell_type": "code",
     "collapsed": false,
     "input": [
      "T = True"
     ],
     "language": "python",
     "metadata": {},
     "outputs": [],
     "prompt_number": 44
    },
    {
     "cell_type": "code",
     "collapsed": false,
     "input": [],
     "language": "python",
     "metadata": {},
     "outputs": []
    }
   ],
   "metadata": {}
  }
 ]
}