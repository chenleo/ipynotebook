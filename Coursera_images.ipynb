{
 "metadata": {
  "name": "",
  "signature": "sha256:45e394f14d8a7aee47755a58f4b08b9e2381a6ad976e4adc23f28f836fa47482"
 },
 "nbformat": 3,
 "nbformat_minor": 0,
 "worksheets": [
  {
   "cells": [
    {
     "cell_type": "markdown",
     "metadata": {},
     "source": [
      "## Week2"
     ]
    },
    {
     "cell_type": "code",
     "collapsed": false,
     "input": [
      "# 1hr images\n",
      "1e3 * 1e3 * 24 * 30 * 60 *120 /1e9 # Gbits"
     ],
     "language": "python",
     "metadata": {},
     "outputs": [
      {
       "metadata": {},
       "output_type": "pyout",
       "prompt_number": 4,
       "text": [
        "5184.0"
       ]
      }
     ],
     "prompt_number": 4,
     "trusted": true
    },
    {
     "cell_type": "code",
     "collapsed": false,
     "input": [
      "2 ** 8"
     ],
     "language": "python",
     "metadata": {},
     "outputs": [
      {
       "metadata": {},
       "output_type": "pyout",
       "prompt_number": 5,
       "text": [
        "256"
       ]
      }
     ],
     "prompt_number": 5,
     "trusted": true
    },
    {
     "cell_type": "code",
     "collapsed": false,
     "input": [
      "test = [5,7,10,13,15,16,19,20,22,25,30]"
     ],
     "language": "python",
     "metadata": {},
     "outputs": [],
     "prompt_number": 16,
     "trusted": true
    },
    {
     "cell_type": "code",
     "collapsed": false,
     "input": [
      "%pylab inline"
     ],
     "language": "python",
     "metadata": {},
     "outputs": [
      {
       "output_type": "stream",
       "stream": "stdout",
       "text": [
        "Populating the interactive namespace from numpy and matplotlib\n"
       ]
      },
      {
       "output_type": "stream",
       "stream": "stderr",
       "text": [
        "WARNING: pylab import has clobbered these variables: ['test']\n",
        "`%pylab --no-import-all` prevents importing * from pylab and numpy\n"
       ]
      }
     ],
     "prompt_number": 7,
     "trusted": true
    },
    {
     "cell_type": "code",
     "collapsed": false,
     "input": [
      "t2 = np.array(test)"
     ],
     "language": "python",
     "metadata": {},
     "outputs": [],
     "prompt_number": 18,
     "trusted": true
    },
    {
     "cell_type": "code",
     "collapsed": false,
     "input": [
      "plot(t2,'x')"
     ],
     "language": "python",
     "metadata": {},
     "outputs": [
      {
       "metadata": {},
       "output_type": "pyout",
       "prompt_number": 20,
       "text": [
        "[<matplotlib.lines.Line2D at 0x104d21a50>]"
       ]
      },
      {
       "metadata": {},
       "output_type": "display_data",
       "png": "[encoded data removed]",
       "text": [
        "<matplotlib.figure.Figure at 0x104d7ec10>"
       ]
      }
     ],
     "prompt_number": 20,
     "trusted": true
    },
    {
     "cell_type": "code",
     "collapsed": false,
     "input": [
      "test"
     ],
     "language": "python",
     "metadata": {},
     "outputs": [
      {
       "metadata": {},
       "output_type": "pyout",
       "prompt_number": 17,
       "text": [
        "[5, 7, 10, 13, 15, 16, 19, 20, 22, 25, 30]"
       ]
      }
     ],
     "prompt_number": 17,
     "trusted": true
    },
    {
     "cell_type": "code",
     "collapsed": false,
     "input": [],
     "language": "python",
     "metadata": {},
     "outputs": [],
     "trusted": true
    }
   ],
   "metadata": {}
  }
 ]
}