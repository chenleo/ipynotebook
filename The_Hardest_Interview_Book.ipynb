{
 "metadata": {
  "name": ""
 },
 "nbformat": 3,
 "nbformat_minor": 0,
 "worksheets": [
  {
   "cells": [
    {
     "cell_type": "heading",
     "level": 1,
     "metadata": {},
     "source": [
      "The Hardest Coding Cook Book"
     ]
    },
    {
     "cell_type": "code",
     "collapsed": false,
     "input": [
      "%qtconsole"
     ],
     "language": "python",
     "metadata": {},
     "outputs": [],
     "prompt_number": 1
    },
    {
     "cell_type": "heading",
     "level": 2,
     "metadata": {},
     "source": [
      "Chapter 5  Primitive Tyes"
     ]
    },
    {
     "cell_type": "heading",
     "level": 3,
     "metadata": {},
     "source": [
      "Problem 5.1 : How would you go about computing the parity of a very large number of 64-bit nonnegtive integers?"
     ]
    },
    {
     "cell_type": "code",
     "collapsed": false,
     "input": [
      "#What is Parity?\n",
      "#Parity is defined as the even/odd number of bit 1 in the representation of binary.\n",
      "#e.g. parity(10) is 0, since the number of 1 bits in 10 is 2(even)\n",
      "def parity(num):\n",
      "    result = 0\n",
      "    while (num):\n",
      "        result ^= 1\n",
      "        num &= (num -1)\n",
      "    return result"
     ],
     "language": "python",
     "metadata": {},
     "outputs": [],
     "prompt_number": 8
    },
    {
     "cell_type": "code",
     "collapsed": false,
     "input": [
      "#test case:\n",
      "test = 10\n",
      "print bin(test), parity(test)"
     ],
     "language": "python",
     "metadata": {},
     "outputs": [
      {
       "output_type": "stream",
       "stream": "stdout",
       "text": [
        "0b1010 0\n"
       ]
      }
     ],
     "prompt_number": 9
    },
    {
     "cell_type": "code",
     "collapsed": false,
     "input": [],
     "language": "python",
     "metadata": {},
     "outputs": []
    }
   ],
   "metadata": {}
  }
 ]
}