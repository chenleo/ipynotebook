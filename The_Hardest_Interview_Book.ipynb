{
 "metadata": {
  "name": ""
 },
 "nbformat": 3,
 "nbformat_minor": 0,
 "worksheets": [
  {
   "cells": [
    {
     "cell_type": "heading",
     "level": 1,
     "metadata": {
      "slideshow": {
       "slide_type": "slide"
      }
     },
     "source": [
      "The Hardest Coding Cook Book"
     ]
    },
    {
     "cell_type": "code",
     "collapsed": false,
     "input": [
      "%qtconsole"
     ],
     "language": "python",
     "metadata": {},
     "outputs": [],
     "prompt_number": 1
    },
    {
     "cell_type": "code",
     "collapsed": false,
     "input": [
      "%pylab inline"
     ],
     "language": "python",
     "metadata": {},
     "outputs": [
      {
       "output_type": "stream",
       "stream": "stdout",
       "text": [
        "Populating the interactive namespace from numpy and matplotlib\n"
       ]
      }
     ],
     "prompt_number": 2
    },
    {
     "cell_type": "heading",
     "level": 2,
     "metadata": {
      "slideshow": {
       "slide_type": "slide"
      }
     },
     "source": [
      "Chapter 5  Primitive Tyes"
     ]
    },
    {
     "cell_type": "heading",
     "level": 3,
     "metadata": {
      "slideshow": {
       "slide_type": "subslide"
      }
     },
     "source": [
      "Problem 5.1 : Computing Parity:\n",
      "------\n",
      "<font color = \"blue\">How would you go about computing the parity of a very large number of 64-bit nonnegtive integers?</font>"
     ]
    },
    {
     "cell_type": "code",
     "collapsed": false,
     "input": [
      "#What is Parity?\n",
      "#Parity is defined as the even/odd number of bit 1 in the representation of binary.\n",
      "#e.g. parity(10) is 0, since the number of 1 bits in 10 is 2(even)\n",
      "def parity(num):\n",
      "    result = 0\n",
      "    while (num):\n",
      "        result ^= 1        #Important: += is increment\n",
      "        num &= (num -1)    #do not forget to renew\n",
      "    return result"
     ],
     "language": "python",
     "metadata": {
      "slideshow": {
       "slide_type": "fragment"
      }
     },
     "outputs": [],
     "prompt_number": 16
    },
    {
     "cell_type": "code",
     "collapsed": false,
     "input": [
      "#test case:\n",
      "test = 10\n",
      "print bin(test), parity(test)"
     ],
     "language": "python",
     "metadata": {
      "slideshow": {
       "slide_type": "fragment"
      }
     },
     "outputs": [
      {
       "output_type": "stream",
       "stream": "stdout",
       "text": [
        "0b1010 0\n"
       ]
      }
     ],
     "prompt_number": 22
    },
    {
     "cell_type": "code",
     "collapsed": false,
     "input": [
      "#Note:\n",
      "#x & (x - 1): clear least significant bit\n",
      "#x & ~(x - 1): keep the lowest set bit\n",
      "#x ^ (x >> 1): What the hell is this? (Gray code)!!"
     ],
     "language": "python",
     "metadata": {
      "slideshow": {
       "slide_type": "fragment"
      }
     },
     "outputs": [],
     "prompt_number": 23
    },
    {
     "cell_type": "heading",
     "level": 3,
     "metadata": {
      "slideshow": {
       "slide_type": "subslide"
      }
     },
     "source": [
      "Promblem 5.2 Swap Bits: ------ A 64-bit integer can be viewed as an array of 64 bits, with the bit at index 0 corresponding to the least significant bit, and the bit at index 63 corresponding to the most significant bit. <font color=\"blue\"> Implement code that takes as input a 64-bit integer x and swaps the bits at indices $i$ and $j$.</font>"
     ]
    },
    {
     "cell_type": "code",
     "collapsed": false,
     "input": [
      "#Python does not constrain the bits length of a object, but in C++ does.\n",
      "#Check the data type to use before write the code.\n",
      "def swap(num, i, j):\n",
      "    if num & 1 << i != num & 1 << j :\n",
      "        num ^= (1 << i | 1 << j)        #num^= 1<<i: flip the i bit value\n",
      "    return num"
     ],
     "language": "python",
     "metadata": {
      "slideshow": {
       "slide_type": "fragment"
      }
     },
     "outputs": [],
     "prompt_number": 18
    },
    {
     "cell_type": "code",
     "collapsed": false,
     "input": [
      "#Test case:\n",
      "test = 10\n",
      "i = 4\n",
      "j = 3\n",
      "print bin(test), bin(swap(test, i, j))"
     ],
     "language": "python",
     "metadata": {
      "slideshow": {
       "slide_type": "fragment"
      }
     },
     "outputs": [
      {
       "output_type": "stream",
       "stream": "stdout",
       "text": [
        "0b1010 0b10010\n"
       ]
      }
     ],
     "prompt_number": 20
    },
    {
     "cell_type": "heading",
     "level": 3,
     "metadata": {
      "slideshow": {
       "slide_type": "subslide"
      }
     },
     "source": [
      "Problem 5.3 Bit Reversal: ------ <font color = \"blue\">Write a function that takes a 64-bit integer x and returns a 64-bit interger consisting of the bits of x in reverse order.</font>"
     ]
    },
    {
     "cell_type": "code",
     "collapsed": false,
     "input": [
      "#In python you can do what ever you want, but in cpp can not.\n",
      "#Take care\n",
      "def revers_bits(target):\n",
      "    result = 0\n",
      "    while(target):               #for 64 bits use i in range(64):\n",
      "        result = result << 1\n",
      "        result |= target & 1\n",
      "        target = target >> 1\n",
      "    return result"
     ],
     "language": "python",
     "metadata": {
      "slideshow": {
       "slide_type": "fragment"
      }
     },
     "outputs": [],
     "prompt_number": 10
    },
    {
     "cell_type": "code",
     "collapsed": false,
     "input": [
      "#test case\n",
      "test = 10\n",
      "print bin(test), bin(revers_bits(test))"
     ],
     "language": "python",
     "metadata": {
      "slideshow": {
       "slide_type": "fragment"
      }
     },
     "outputs": [
      {
       "output_type": "stream",
       "stream": "stdout",
       "text": [
        "0b1010 0b101\n"
       ]
      }
     ],
     "prompt_number": 11
    },
    {
     "cell_type": "heading",
     "level": 3,
     "metadata": {
      "slideshow": {
       "slide_type": "subslide"
      }
     },
     "source": [
      "Problem 5.4 Closest Integers with the same weight: ----- Define the number of bits that are set to i in an unsigned 64-bit integer x to be the weight of x. Let $S_k$ donate the set of unsigned 64-bit integers whose weight is k. <font color='blue'> Suppose $x \\in S_k$, and k is not 0 or 64. How would you compute $y \\in S_k$ \\ {x} such that $|y - x|$ is minimun?</font>"
     ]
    },
    {
     "cell_type": "markdown",
     "metadata": {
      "slideshow": {
       "slide_type": "fragment"
      }
     },
     "source": [
      "<font color= \"red\"> \u6682\u65f6\u4e0d\u4f1a</font>"
     ]
    },
    {
     "cell_type": "heading",
     "level": 3,
     "metadata": {
      "slideshow": {
       "slide_type": "subslide"
      }
     },
     "source": [
      "Problem 5.5 The Power set: ----- <font color = \"blue\"> Implement a method that takes as input a set S of **distinct** elements, and prints the power set of S. Print the subsets one per line, with elements separated by commas.</font>"
     ]
    },
    {
     "cell_type": "code",
     "collapsed": false,
     "input": [
      "#use list data type as input\n",
      "#return a list of list\n",
      "from math import log\n",
      "def power_set(target):\n",
      "    result = []\n",
      "    for i in range(2 ** len(target)):\n",
      "        temp = []\n",
      "        while(i):\n",
      "            id = i & ~(i - 1)                   #get last sig bit\n",
      "            s = target[int(log(id, 2))]         #get tie item correspond to id\n",
      "            temp.append(s)\n",
      "            i &= i - 1                          #clear last bit\n",
      "        result.append(temp)\n",
      "        print temp\n",
      "    return result"
     ],
     "language": "python",
     "metadata": {
      "slideshow": {
       "slide_type": "fragment"
      }
     },
     "outputs": [],
     "prompt_number": 25
    },
    {
     "cell_type": "code",
     "collapsed": false,
     "input": [
      "#test case\n",
      "test = [0,1,2,3,4]\n",
      "result = power_set(test)\n",
      "len(result)"
     ],
     "language": "python",
     "metadata": {
      "slideshow": {
       "slide_type": "fragment"
      }
     },
     "outputs": [
      {
       "output_type": "stream",
       "stream": "stdout",
       "text": [
        "[]\n",
        "[0]\n",
        "[1]\n",
        "[0, 1]\n",
        "[2]\n",
        "[0, 2]\n",
        "[1, 2]\n",
        "[0, 1, 2]\n",
        "[3]\n",
        "[0, 3]\n",
        "[1, 3]\n",
        "[0, 1, 3]\n",
        "[2, 3]\n",
        "[0, 2, 3]\n",
        "[1, 2, 3]\n",
        "[0, 1, 2, 3]\n",
        "[4]\n",
        "[0, 4]\n",
        "[1, 4]\n",
        "[0, 1, 4]\n",
        "[2, 4]\n",
        "[0, 2, 4]\n",
        "[1, 2, 4]\n",
        "[0, 1, 2, 4]\n",
        "[3, 4]\n",
        "[0, 3, 4]\n",
        "[1, 3, 4]\n",
        "[0, 1, 3, 4]\n",
        "[2, 3, 4]\n",
        "[0, 2, 3, 4]\n",
        "[1, 2, 3, 4]\n",
        "[0, 1, 2, 3, 4]\n"
       ]
      },
      {
       "metadata": {},
       "output_type": "pyout",
       "prompt_number": 26,
       "text": [
        "32"
       ]
      }
     ],
     "prompt_number": 26
    },
    {
     "cell_type": "heading",
     "level": 3,
     "metadata": {
      "slideshow": {
       "slide_type": "subslide"
      }
     },
     "source": [
      "Problem 5.6 String and integer conversions:------ \"123\" as 123. Your code should handle negative integers. It should throw an exception if the string does not encode an integer. e.g.\"123abc\" is not a valid encoding. <font color=\"blue\"> Implement string/integer inter-conversion functions. Use the following function signatures: String intToString(int x) and int stringToInt(String s)</font>"
     ]
    },
    {
     "cell_type": "markdown",
     "metadata": {
      "slideshow": {
       "slide_type": "fragment"
      }
     },
     "source": [
      "<font color = \"red\">\u6682\u65f6\u4e0d\u4f1a</font>"
     ]
    },
    {
     "cell_type": "heading",
     "level": 3,
     "metadata": {
      "slideshow": {
       "slide_type": "subslide"
      }
     },
     "source": [
      "Problem 5.7 Base Conversion:----- <font color=\"blue\"> Write a function that performs base conversion. Specifically, the input is an integer base $b_1$, a string x, representing an integer x in base $b_1$, and another integer base $b_2$; the output is the string representing the integer x in base $b_2$. Assume $2 \\le b_1, b_2 \\le 16$. Use \"A\" to represent 10, \"B\" for 11,..., and \"F\" for 15</font>"
     ]
    },
    {
     "cell_type": "code",
     "collapsed": false,
     "input": [],
     "language": "python",
     "metadata": {
      "slideshow": {
       "slide_type": "fragment"
      }
     },
     "outputs": []
    },
    {
     "cell_type": "heading",
     "level": 3,
     "metadata": {},
     "source": [
      "!!!!Problem 5.10 Greatest common divisor:----- The greatest common divisor (GCD) of positive integers x and y is the largest integer d such that d | x and d | y, where a | b denotes a divides b, i.e., b mode a == 0. <font color=\"blue\"> Design an algorithm for computing the GCD of two numbers without using multiplication, division or the modulus operators</font>"
     ]
    },
    {
     "cell_type": "code",
     "collapsed": false,
     "input": [],
     "language": "python",
     "metadata": {},
     "outputs": [],
     "prompt_number": 26
    },
    {
     "cell_type": "heading",
     "level": 3,
     "metadata": {},
     "source": [
      "!!!!Problem 5.14 Computing x/y:----- <font color=\"blue\"> Given two positive integers x and y, how would you compute x/y if the only operators you can use are addition, sutraction, and multiplication?</font>"
     ]
    },
    {
     "cell_type": "heading",
     "level": 2,
     "metadata": {},
     "source": [
      "Chapter 6: Arrays and Strings"
     ]
    },
    {
     "cell_type": "heading",
     "level": 3,
     "metadata": {},
     "source": [
      "Problem 6.1: Dutch National Flag:----- [Quick sort](http://en.wikipedia.org/wiki/Quicksort) <font color=\"blue\"> Write a function that takes an array A and an index i into A, and rearranges the elements such that all elements less than A[i] appear first, followed by elements equal to A[i], followed by elements greater than A[i]. Space O(1), time O(|A|)</font>"
     ]
    },
    {
     "cell_type": "code",
     "collapsed": false,
     "input": [
      "def swap(a, i, j):\n",
      "    if i >= len(a) | j >= len(a) :\n",
      "        print \"wrong input!\"\n",
      "    temp = a[i] \n",
      "    a[i] = a[j]\n",
      "    a[j] = temp\n",
      "\n",
      "#input target vector(list) and i, modified list to < target[i], = target[i], > target[i]\n",
      "def dutch_nation_flag(target, i):\n",
      "    pivot = target[i]\n",
      "    small = 0\n",
      "    equal = 0\n",
      "    large = len(target) - 1\n",
      "    while (equal <= large):\n",
      "        if(target[equal] == pivot):\n",
      "            equal += 1\n",
      "        elif (target[equal] < pivot):\n",
      "            swap(target, equal, small)\n",
      "            equal += 1\n",
      "            small += 1\n",
      "        else:\n",
      "            swap(target, equal, large)\n",
      "            large = large - 1"
     ],
     "language": "python",
     "metadata": {},
     "outputs": [],
     "prompt_number": 17
    },
    {
     "cell_type": "code",
     "collapsed": false,
     "input": [
      "#test case:\n",
      "a = [1,2,2,3,3,4,2,1,4,5,6,4,3,1,4,2,1]\n",
      "i = 3\n",
      "print a[3]\n",
      "dutch_nation_flag(a, i)\n",
      "a"
     ],
     "language": "python",
     "metadata": {},
     "outputs": [
      {
       "output_type": "stream",
       "stream": "stdout",
       "text": [
        "3\n"
       ]
      },
      {
       "metadata": {},
       "output_type": "pyout",
       "prompt_number": 20,
       "text": [
        "[1, 2, 2, 1, 2, 1, 2, 1, 3, 3, 3, 4, 6, 4, 5, 4, 4]"
       ]
      }
     ],
     "prompt_number": 20
    },
    {
     "cell_type": "heading",
     "level": 3,
     "metadata": {},
     "source": [
      "Problem 6.2 Lazy Initialization:----- "
     ]
    }
   ],
   "metadata": {}
  }
 ]
}