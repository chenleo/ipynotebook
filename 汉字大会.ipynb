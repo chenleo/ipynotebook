{
 "metadata": {
  "name": ""
 },
 "nbformat": 3,
 "nbformat_minor": 0,
 "worksheets": [
  {
   "cells": [
    {
     "cell_type": "heading",
     "level": 1,
     "metadata": {},
     "source": [
      "\u6c49\u5b57\u542c\u5199\u5927\u4f1a\u6587\u6863"
     ]
    },
    {
     "cell_type": "code",
     "collapsed": false,
     "input": [
      "%pylab inline"
     ],
     "language": "python",
     "metadata": {},
     "outputs": [
      {
       "output_type": "stream",
       "stream": "stdout",
       "text": [
        "Populating the interactive namespace from numpy and matplotlib\n"
       ]
      }
     ],
     "prompt_number": 2
    },
    {
     "cell_type": "markdown",
     "metadata": {},
     "source": [
      "* l\u00e0i h\u00e1 m\u0251\n",
      "    * \u4e24\u6816\u52a8\u7269\uff0c\u4f53\u8868\u6709\u8bb8\u591a\u7599\u7629\uff0c\u5185\u6709\u6bd2\u817a\u3002\n",
      "* \u7b54\u6848\uff1a[\u765e\u86e4\u87c6](http://www.zdic.net/c/e/13d/304612.htm)"
     ]
    },
    {
     "cell_type": "code",
     "collapsed": false,
     "input": [],
     "language": "python",
     "metadata": {},
     "outputs": []
    }
   ],
   "metadata": {}
  }
 ]
}