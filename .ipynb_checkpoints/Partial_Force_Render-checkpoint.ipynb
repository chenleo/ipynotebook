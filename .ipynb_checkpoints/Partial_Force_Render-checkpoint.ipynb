{
 "metadata": {
  "name": ""
 },
 "nbformat": 3,
 "nbformat_minor": 0,
 "worksheets": [
  {
   "cells": [
    {
     "cell_type": "heading",
     "level": 1,
     "metadata": {},
     "source": [
      "Partial Force Render"
     ]
    },
    {
     "cell_type": "markdown",
     "metadata": {},
     "source": [
      "Render trajectory by different colors according to force value loaded on residue."
     ]
    },
    {
     "cell_type": "heading",
     "level": 2,
     "metadata": {},
     "source": [
      "Section 0: Basic uses:"
     ]
    },
    {
     "cell_type": "markdown",
     "metadata": {},
     "source": [
      "* After done the partial force calculation, there are three output file.\n",
      "    * force_bonded.csv                      Vector, Residue bonded force\n",
      "    * force_external.csv                    Abs scaler, Residue force loaded from external molecules\n",
      "    * force_internal.csv                    Abs scaler, Residue force loaded from same molecules\n",
      "* Recommand use force_external.csv to render."
     ]
    },
    {
     "cell_type": "markdown",
     "metadata": {},
     "source": [
      "0.1: Steps:\n",
      "\n",
      "    0. vmd                                                 #start vmd\n",
      "    1. mol load gro *.gro xtc *.xtc                        #loaded *.gro and correspond *.xtc into vmd\n",
      "    2.1. package require partial_force_render\n",
      "    2.2. partial_force_render \"*.csv\"                      #use .csv file to render the whole structure"
     ]
    },
    {
     "cell_type": "markdown",
     "metadata": {},
     "source": [
      "0.2: Display:\n",
      "    \n",
      "    Color map correspond force value, together with a scale bar."
     ]
    },
    {
     "cell_type": "markdown",
     "metadata": {},
     "source": [
      "0.3: Note:\n",
      "    \n",
      "*.csv:   \n",
      "\n",
      "    * File is the output from partial_force calculatiion program.\n",
      "\n",
      "    * The first line is the head (time, residues)\n",
      "\n",
      "    * Start from the second line, is the force value use to render trajcetories.\n",
      "\n",
      "    * Notice the script only checks the number of residue corrspond to main molecule.\n",
      "\n",
      "    * User should take the responsibility to load the right file from certain calculation.\n",
      "\n"
     ]
    },
    {
     "cell_type": "markdown",
     "metadata": {},
     "source": [
      "0.4: Major Patamers: \n",
      "    * color scale method \"RGB\"\n",
      "    * set color_max 1000\n",
      "    * set color_min 0.0"
     ]
    }
   ],
   "metadata": {}
  }
 ]
}