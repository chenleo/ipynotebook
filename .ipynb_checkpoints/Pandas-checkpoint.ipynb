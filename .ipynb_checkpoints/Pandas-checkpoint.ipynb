{
 "metadata": {
  "name": ""
 },
 "nbformat": 3,
 "nbformat_minor": 0,
 "worksheets": [
  {
   "cells": [
    {
     "cell_type": "heading",
     "level": 1,
     "metadata": {},
     "source": [
      "Pandas"
     ]
    },
    {
     "cell_type": "markdown",
     "metadata": {},
     "source": [
      "[Reference](http://pandas.pydata.org/pandas-docs/dev/pandas.pdf)"
     ]
    },
    {
     "cell_type": "heading",
     "level": 2,
     "metadata": {},
     "source": [
      "Chapter 5 Intro to data Structure"
     ]
    },
    {
     "cell_type": "code",
     "collapsed": false,
     "input": [
      "#initialize\n",
      "%matplotlib inline \n",
      "%qtconsole"
     ],
     "language": "python",
     "metadata": {},
     "outputs": [],
     "prompt_number": 1
    },
    {
     "cell_type": "code",
     "collapsed": false,
     "input": [],
     "language": "python",
     "metadata": {},
     "outputs": []
    },
    {
     "cell_type": "code",
     "collapsed": false,
     "input": [
      "import numpy as np\n",
      "import pandas as pd\n",
      "from pandas import DataFrame\n",
      "from pandas import Series\n",
      "from pandas import Timestamp\n",
      "randn = np.random.randn\n",
      "from pandas import *"
     ],
     "language": "python",
     "metadata": {},
     "outputs": [],
     "prompt_number": 2
    },
    {
     "cell_type": "heading",
     "level": 3,
     "metadata": {},
     "source": [
      "5.1 Series"
     ]
    },
    {
     "cell_type": "code",
     "collapsed": false,
     "input": [
      "#s = Series(data, index=index)\n",
      "s = Series(randn(5), index=['a', 'b', 'c', 'd', 'e'])\n",
      "s\n",
      "s.index"
     ],
     "language": "python",
     "metadata": {},
     "outputs": [
      {
       "metadata": {},
       "output_type": "pyout",
       "prompt_number": 3,
       "text": [
        "Index([u'a', u'b', u'c', u'd', u'e'], dtype=object)"
       ]
      }
     ],
     "prompt_number": 3
    },
    {
     "cell_type": "code",
     "collapsed": false,
     "input": [
      "#From dict\n",
      "d = {'a' : 0.0, 'b' : 1.1, 'c' : 2.2 }\n",
      "Series(d)\n",
      "Series(d, index = ['a','b'])\n",
      "Series(d, index = ['a','b','z'])\n",
      "Series(5, index = ['a', 'b', 'c', 'd'])"
     ],
     "language": "python",
     "metadata": {},
     "outputs": [
      {
       "metadata": {},
       "output_type": "pyout",
       "prompt_number": 4,
       "text": [
        "a    5\n",
        "b    5\n",
        "c    5\n",
        "d    5\n",
        "dtype: int64"
       ]
      }
     ],
     "prompt_number": 4
    },
    {
     "cell_type": "heading",
     "level": 4,
     "metadata": {},
     "source": [
      "5.1.1 Series is ndarray-like"
     ]
    },
    {
     "cell_type": "code",
     "collapsed": false,
     "input": [
      "s['a']\n",
      "s[:3]\n",
      "s[[4,3,1]]\n",
      "s[s> s.median()]\n",
      "s>s.median()"
     ],
     "language": "python",
     "metadata": {},
     "outputs": [
      {
       "metadata": {},
       "output_type": "pyout",
       "prompt_number": 64,
       "text": [
        "a     True\n",
        "b     True\n",
        "c    False\n",
        "d    False\n",
        "e    False\n",
        "dtype: bool"
       ]
      }
     ],
     "prompt_number": 64
    },
    {
     "cell_type": "code",
     "collapsed": false,
     "input": [
      "np.exp(s)"
     ],
     "language": "python",
     "metadata": {},
     "outputs": [
      {
       "metadata": {},
       "output_type": "pyout",
       "prompt_number": 62,
       "text": [
        "a    2.760369\n",
        "b    1.487827\n",
        "c    0.183412\n",
        "d    0.583944\n",
        "e    0.603313\n",
        "dtype: float64"
       ]
      }
     ],
     "prompt_number": 62
    },
    {
     "cell_type": "heading",
     "level": 4,
     "metadata": {},
     "source": [
      "5.1.2 Series is dict-like"
     ]
    },
    {
     "cell_type": "code",
     "collapsed": false,
     "input": [
      "s['a'] = 12\n",
      "s"
     ],
     "language": "python",
     "metadata": {},
     "outputs": [
      {
       "metadata": {},
       "output_type": "pyout",
       "prompt_number": 66,
       "text": [
        "a    12.000000\n",
        "b     0.397317\n",
        "c    -1.696023\n",
        "d    -0.537950\n",
        "e    -0.505318\n",
        "dtype: float64"
       ]
      }
     ],
     "prompt_number": 66
    },
    {
     "cell_type": "code",
     "collapsed": false,
     "input": [
      "'ee' in s\n",
      "s['ee']"
     ],
     "language": "python",
     "metadata": {},
     "outputs": [
      {
       "ename": "KeyError",
       "evalue": "'ee'",
       "output_type": "pyerr",
       "traceback": [
        "\u001b[0;31m---------------------------------------------------------------------------\u001b[0m\n\u001b[0;31mKeyError\u001b[0m                                  Traceback (most recent call last)",
        "\u001b[0;32m<ipython-input-68-45038a6cba50>\u001b[0m in \u001b[0;36m<module>\u001b[0;34m()\u001b[0m\n\u001b[1;32m      1\u001b[0m \u001b[0;34m'ee'\u001b[0m \u001b[0;32min\u001b[0m \u001b[0ms\u001b[0m\u001b[0;34m\u001b[0m\u001b[0m\n\u001b[0;32m----> 2\u001b[0;31m \u001b[0ms\u001b[0m\u001b[0;34m[\u001b[0m\u001b[0;34m'ee'\u001b[0m\u001b[0;34m]\u001b[0m\u001b[0;34m\u001b[0m\u001b[0m\n\u001b[0m",
        "\u001b[0;32m/Users/chenchen/anaconda/python.app/Contents/lib/python2.7/site-packages/pandas/core/series.pyc\u001b[0m in \u001b[0;36m__getitem__\u001b[0;34m(self, key)\u001b[0m\n\u001b[1;32m    611\u001b[0m     \u001b[0;32mdef\u001b[0m \u001b[0m__getitem__\u001b[0m\u001b[0;34m(\u001b[0m\u001b[0mself\u001b[0m\u001b[0;34m,\u001b[0m \u001b[0mkey\u001b[0m\u001b[0;34m)\u001b[0m\u001b[0;34m:\u001b[0m\u001b[0;34m\u001b[0m\u001b[0m\n\u001b[1;32m    612\u001b[0m         \u001b[0;32mtry\u001b[0m\u001b[0;34m:\u001b[0m\u001b[0;34m\u001b[0m\u001b[0m\n\u001b[0;32m--> 613\u001b[0;31m             \u001b[0;32mreturn\u001b[0m \u001b[0mself\u001b[0m\u001b[0;34m.\u001b[0m\u001b[0mindex\u001b[0m\u001b[0;34m.\u001b[0m\u001b[0mget_value\u001b[0m\u001b[0;34m(\u001b[0m\u001b[0mself\u001b[0m\u001b[0;34m,\u001b[0m \u001b[0mkey\u001b[0m\u001b[0;34m)\u001b[0m\u001b[0;34m\u001b[0m\u001b[0m\n\u001b[0m\u001b[1;32m    614\u001b[0m         \u001b[0;32mexcept\u001b[0m \u001b[0mInvalidIndexError\u001b[0m\u001b[0;34m:\u001b[0m\u001b[0;34m\u001b[0m\u001b[0m\n\u001b[1;32m    615\u001b[0m             \u001b[0;32mpass\u001b[0m\u001b[0;34m\u001b[0m\u001b[0m\n",
        "\u001b[0;32m/Users/chenchen/anaconda/python.app/Contents/lib/python2.7/site-packages/pandas/core/index.pyc\u001b[0m in \u001b[0;36mget_value\u001b[0;34m(self, series, key)\u001b[0m\n\u001b[1;32m    775\u001b[0m                     \u001b[0;32mraise\u001b[0m \u001b[0mInvalidIndexError\u001b[0m\u001b[0;34m(\u001b[0m\u001b[0mkey\u001b[0m\u001b[0;34m)\u001b[0m\u001b[0;34m\u001b[0m\u001b[0m\n\u001b[1;32m    776\u001b[0m                 \u001b[0;32melse\u001b[0m\u001b[0;34m:\u001b[0m\u001b[0;34m\u001b[0m\u001b[0m\n\u001b[0;32m--> 777\u001b[0;31m                     \u001b[0;32mraise\u001b[0m \u001b[0me1\u001b[0m\u001b[0;34m\u001b[0m\u001b[0m\n\u001b[0m\u001b[1;32m    778\u001b[0m             \u001b[0;32mexcept\u001b[0m \u001b[0mException\u001b[0m\u001b[0;34m:\u001b[0m  \u001b[0;31m# pragma: no cover\u001b[0m\u001b[0;34m\u001b[0m\u001b[0m\n\u001b[1;32m    779\u001b[0m                 \u001b[0;32mraise\u001b[0m \u001b[0me1\u001b[0m\u001b[0;34m\u001b[0m\u001b[0m\n",
        "\u001b[0;31mKeyError\u001b[0m: 'ee'"
       ]
      }
     ],
     "prompt_number": 68
    },
    {
     "cell_type": "code",
     "collapsed": false,
     "input": [
      "s.get('a')\n",
      "s.get('f', np.Inf)"
     ],
     "language": "python",
     "metadata": {},
     "outputs": [
      {
       "metadata": {},
       "output_type": "pyout",
       "prompt_number": 74,
       "text": [
        "inf"
       ]
      }
     ],
     "prompt_number": 74
    },
    {
     "cell_type": "heading",
     "level": 4,
     "metadata": {},
     "source": [
      "5.1.3 Vectorized operations and label alignment with Series"
     ]
    },
    {
     "cell_type": "code",
     "collapsed": false,
     "input": [
      "s + s\n",
      "s*2\n",
      "np.exp(s)\n",
      "s[1:] + s[:-1]"
     ],
     "language": "python",
     "metadata": {},
     "outputs": [
      {
       "metadata": {},
       "output_type": "pyout",
       "prompt_number": 80,
       "text": [
        "a         NaN\n",
        "b    0.794634\n",
        "c   -3.392045\n",
        "d   -1.075901\n",
        "e         NaN\n",
        "dtype: float64"
       ]
      }
     ],
     "prompt_number": 80
    },
    {
     "cell_type": "heading",
     "level": 4,
     "metadata": {},
     "source": [
      "5.1.4 Name attribute"
     ]
    },
    {
     "cell_type": "code",
     "collapsed": false,
     "input": [
      "s = Series(np.random.randn(5), dtype = int32, name = 'whatever')\n",
      "type(s)"
     ],
     "language": "python",
     "metadata": {},
     "outputs": [
      {
       "metadata": {},
       "output_type": "pyout",
       "prompt_number": 85,
       "text": [
        "pandas.core.series.Series"
       ]
      }
     ],
     "prompt_number": 85
    },
    {
     "cell_type": "heading",
     "level": 3,
     "metadata": {},
     "source": [
      "5.2 DataFrame"
     ]
    },
    {
     "cell_type": "markdown",
     "metadata": {},
     "source": [
      "* DataFrame accepts many different kinds of inputs:\n",
      "\n",
      "    * Dict of 1D ndarrays, lists, dists, or Series\n",
      "    * 2-D numpy.ndarray\n",
      "    * Structured or record ndarray\n",
      "    * A Series\n",
      "    * Another DataFrame"
     ]
    },
    {
     "cell_type": "heading",
     "level": 4,
     "metadata": {},
     "source": [
      "5.2.1 From dict of <font color=\"red\">Series </font> or dicts"
     ]
    },
    {
     "cell_type": "code",
     "collapsed": false,
     "input": [
      "d = {'one' : Series([1., 2., 3.], index=['a', 'b', 'c']),\n",
      "     'two' : Series([1., 2., 3., 4.], index=['a', 'b', 'c', 'd'])}"
     ],
     "language": "python",
     "metadata": {},
     "outputs": [],
     "prompt_number": 61
    },
    {
     "cell_type": "code",
     "collapsed": false,
     "input": [
      "df = DataFrame(d)\n",
      "df"
     ],
     "language": "python",
     "metadata": {},
     "outputs": [
      {
       "html": [
        "<div style=\"max-height:1000px;max-width:1500px;overflow:auto;\">\n",
        "<table border=\"1\" class=\"dataframe\">\n",
        "  <thead>\n",
        "    <tr style=\"text-align: right;\">\n",
        "      <th></th>\n",
        "      <th>one</th>\n",
        "      <th>two</th>\n",
        "    </tr>\n",
        "  </thead>\n",
        "  <tbody>\n",
        "    <tr>\n",
        "      <th>a</th>\n",
        "      <td>  1</td>\n",
        "      <td> 1</td>\n",
        "    </tr>\n",
        "    <tr>\n",
        "      <th>b</th>\n",
        "      <td>  2</td>\n",
        "      <td> 2</td>\n",
        "    </tr>\n",
        "    <tr>\n",
        "      <th>c</th>\n",
        "      <td>  3</td>\n",
        "      <td> 3</td>\n",
        "    </tr>\n",
        "    <tr>\n",
        "      <th>d</th>\n",
        "      <td>NaN</td>\n",
        "      <td> 4</td>\n",
        "    </tr>\n",
        "  </tbody>\n",
        "</table>\n",
        "</div>"
       ],
       "metadata": {},
       "output_type": "pyout",
       "prompt_number": 62,
       "text": [
        "   one  two\n",
        "a    1    1\n",
        "b    2    2\n",
        "c    3    3\n",
        "d  NaN    4"
       ]
      }
     ],
     "prompt_number": 62
    },
    {
     "cell_type": "code",
     "collapsed": false,
     "input": [
      "d2 = DataFrame(d, index=['d', 'b', 'a'])\n",
      "d2['one']['d']\n",
      "#d2[1][2]??"
     ],
     "language": "python",
     "metadata": {},
     "outputs": [
      {
       "metadata": {},
       "output_type": "pyout",
       "prompt_number": 24,
       "text": [
        "nan"
       ]
      }
     ],
     "prompt_number": 24
    },
    {
     "cell_type": "code",
     "collapsed": false,
     "input": [
      "df.index\n",
      "df.columns"
     ],
     "language": "python",
     "metadata": {},
     "outputs": [
      {
       "metadata": {},
       "output_type": "pyout",
       "prompt_number": 27,
       "text": [
        "Index([one, two], dtype=object)"
       ]
      }
     ],
     "prompt_number": 27
    },
    {
     "cell_type": "heading",
     "level": 4,
     "metadata": {},
     "source": [
      "5.2.2 From dict of ndarrays /lists"
     ]
    },
    {
     "cell_type": "code",
     "collapsed": false,
     "input": [
      "d = {'one' : [1., 2., 3., 4.],\n",
      "     'two' : [4., 3., 2., 1.]}"
     ],
     "language": "python",
     "metadata": {},
     "outputs": [],
     "prompt_number": 30
    },
    {
     "cell_type": "code",
     "collapsed": false,
     "input": [
      "DataFrame(d, index=['a', 'b', 'c', 'd'])"
     ],
     "language": "python",
     "metadata": {},
     "outputs": [
      {
       "html": [
        "<div style=\"max-height:1000px;max-width:1500px;overflow:auto;\">\n",
        "<table border=\"1\" class=\"dataframe\">\n",
        "  <thead>\n",
        "    <tr style=\"text-align: right;\">\n",
        "      <th></th>\n",
        "      <th>one</th>\n",
        "      <th>two</th>\n",
        "    </tr>\n",
        "  </thead>\n",
        "  <tbody>\n",
        "    <tr>\n",
        "      <th>a</th>\n",
        "      <td> 1</td>\n",
        "      <td> 4</td>\n",
        "    </tr>\n",
        "    <tr>\n",
        "      <th>b</th>\n",
        "      <td> 2</td>\n",
        "      <td> 3</td>\n",
        "    </tr>\n",
        "    <tr>\n",
        "      <th>c</th>\n",
        "      <td> 3</td>\n",
        "      <td> 2</td>\n",
        "    </tr>\n",
        "    <tr>\n",
        "      <th>d</th>\n",
        "      <td> 4</td>\n",
        "      <td> 1</td>\n",
        "    </tr>\n",
        "  </tbody>\n",
        "</table>\n",
        "</div>"
       ],
       "metadata": {},
       "output_type": "pyout",
       "prompt_number": 32,
       "text": [
        "   one  two\n",
        "a    1    4\n",
        "b    2    3\n",
        "c    3    2\n",
        "d    4    1"
       ]
      }
     ],
     "prompt_number": 32
    },
    {
     "cell_type": "heading",
     "level": 4,
     "metadata": {},
     "source": [
      "5.2.3 From structured or record array"
     ]
    },
    {
     "cell_type": "code",
     "collapsed": false,
     "input": [
      "#This case is handled identically to a dict of arrays\n",
      "data = np.zeros((2,), dtype=[('A', 'i4'), ('B', 'f4'),('C','a10')])"
     ],
     "language": "python",
     "metadata": {},
     "outputs": [],
     "prompt_number": 14
    },
    {
     "cell_type": "code",
     "collapsed": false,
     "input": [
      "data[:] = [(1,2.,'Hello'),(2,3.,\"World\")]"
     ],
     "language": "python",
     "metadata": {},
     "outputs": [],
     "prompt_number": 15
    },
    {
     "cell_type": "code",
     "collapsed": false,
     "input": [
      "DataFrame(data)"
     ],
     "language": "python",
     "metadata": {},
     "outputs": [
      {
       "html": [
        "<div style=\"max-height:1000px;max-width:1500px;overflow:auto;\">\n",
        "<table border=\"1\" class=\"dataframe\">\n",
        "  <thead>\n",
        "    <tr style=\"text-align: right;\">\n",
        "      <th></th>\n",
        "      <th>A</th>\n",
        "      <th>B</th>\n",
        "      <th>C</th>\n",
        "    </tr>\n",
        "  </thead>\n",
        "  <tbody>\n",
        "    <tr>\n",
        "      <th>0</th>\n",
        "      <td> 1</td>\n",
        "      <td> 2</td>\n",
        "      <td> Hello</td>\n",
        "    </tr>\n",
        "    <tr>\n",
        "      <th>1</th>\n",
        "      <td> 2</td>\n",
        "      <td> 3</td>\n",
        "      <td> World</td>\n",
        "    </tr>\n",
        "  </tbody>\n",
        "</table>\n",
        "</div>"
       ],
       "metadata": {},
       "output_type": "pyout",
       "prompt_number": 16,
       "text": [
        "   A  B      C\n",
        "0  1  2  Hello\n",
        "1  2  3  World"
       ]
      }
     ],
     "prompt_number": 16
    },
    {
     "cell_type": "code",
     "collapsed": false,
     "input": [
      "DataFrame(data, index=['first', 'second'])"
     ],
     "language": "python",
     "metadata": {},
     "outputs": [
      {
       "html": [
        "<div style=\"max-height:1000px;max-width:1500px;overflow:auto;\">\n",
        "<table border=\"1\" class=\"dataframe\">\n",
        "  <thead>\n",
        "    <tr style=\"text-align: right;\">\n",
        "      <th></th>\n",
        "      <th>A</th>\n",
        "      <th>B</th>\n",
        "      <th>C</th>\n",
        "    </tr>\n",
        "  </thead>\n",
        "  <tbody>\n",
        "    <tr>\n",
        "      <th>first</th>\n",
        "      <td> 1</td>\n",
        "      <td> 2</td>\n",
        "      <td> Hello</td>\n",
        "    </tr>\n",
        "    <tr>\n",
        "      <th>second</th>\n",
        "      <td> 2</td>\n",
        "      <td> 3</td>\n",
        "      <td> World</td>\n",
        "    </tr>\n",
        "  </tbody>\n",
        "</table>\n",
        "</div>"
       ],
       "metadata": {},
       "output_type": "pyout",
       "prompt_number": 22,
       "text": [
        "        A  B      C\n",
        "first   1  2  Hello\n",
        "second  2  3  World"
       ]
      }
     ],
     "prompt_number": 22
    },
    {
     "cell_type": "code",
     "collapsed": false,
     "input": [
      "DataFrame(data,columns=['C','A','B'])"
     ],
     "language": "python",
     "metadata": {},
     "outputs": [
      {
       "html": [
        "<div style=\"max-height:1000px;max-width:1500px;overflow:auto;\">\n",
        "<table border=\"1\" class=\"dataframe\">\n",
        "  <thead>\n",
        "    <tr style=\"text-align: right;\">\n",
        "      <th></th>\n",
        "      <th>C</th>\n",
        "      <th>A</th>\n",
        "      <th>B</th>\n",
        "    </tr>\n",
        "  </thead>\n",
        "  <tbody>\n",
        "    <tr>\n",
        "      <th>0</th>\n",
        "      <td> Hello</td>\n",
        "      <td> 1</td>\n",
        "      <td> 2</td>\n",
        "    </tr>\n",
        "    <tr>\n",
        "      <th>1</th>\n",
        "      <td> World</td>\n",
        "      <td> 2</td>\n",
        "      <td> 3</td>\n",
        "    </tr>\n",
        "  </tbody>\n",
        "</table>\n",
        "</div>"
       ],
       "metadata": {},
       "output_type": "pyout",
       "prompt_number": 24,
       "text": [
        "       C  A  B\n",
        "0  Hello  1  2\n",
        "1  World  2  3"
       ]
      }
     ],
     "prompt_number": 24
    },
    {
     "cell_type": "heading",
     "level": 4,
     "metadata": {},
     "source": [
      "5.2.4 From a list of dicts"
     ]
    },
    {
     "cell_type": "code",
     "collapsed": false,
     "input": [
      "data2 = [{'a':1, 'b':2}, {'a':5,'b':10, 'c':20}]"
     ],
     "language": "python",
     "metadata": {},
     "outputs": [],
     "prompt_number": 25
    },
    {
     "cell_type": "code",
     "collapsed": false,
     "input": [
      "DataFrame(data2, index = ['first','second'])"
     ],
     "language": "python",
     "metadata": {},
     "outputs": [
      {
       "html": [
        "<div style=\"max-height:1000px;max-width:1500px;overflow:auto;\">\n",
        "<table border=\"1\" class=\"dataframe\">\n",
        "  <thead>\n",
        "    <tr style=\"text-align: right;\">\n",
        "      <th></th>\n",
        "      <th>a</th>\n",
        "      <th>b</th>\n",
        "      <th>c</th>\n",
        "    </tr>\n",
        "  </thead>\n",
        "  <tbody>\n",
        "    <tr>\n",
        "      <th>first</th>\n",
        "      <td> 1</td>\n",
        "      <td>  2</td>\n",
        "      <td>NaN</td>\n",
        "    </tr>\n",
        "    <tr>\n",
        "      <th>second</th>\n",
        "      <td> 5</td>\n",
        "      <td> 10</td>\n",
        "      <td> 20</td>\n",
        "    </tr>\n",
        "  </tbody>\n",
        "</table>\n",
        "</div>"
       ],
       "metadata": {},
       "output_type": "pyout",
       "prompt_number": 36,
       "text": [
        "        a   b   c\n",
        "first   1   2 NaN\n",
        "second  5  10  20"
       ]
      }
     ],
     "prompt_number": 36
    },
    {
     "cell_type": "code",
     "collapsed": false,
     "input": [
      "DataFrame(data2, columns=['a','b']) # A selection"
     ],
     "language": "python",
     "metadata": {},
     "outputs": [
      {
       "html": [
        "<div style=\"max-height:1000px;max-width:1500px;overflow:auto;\">\n",
        "<table border=\"1\" class=\"dataframe\">\n",
        "  <thead>\n",
        "    <tr style=\"text-align: right;\">\n",
        "      <th></th>\n",
        "      <th>a</th>\n",
        "      <th>b</th>\n",
        "    </tr>\n",
        "  </thead>\n",
        "  <tbody>\n",
        "    <tr>\n",
        "      <th>0</th>\n",
        "      <td> 1</td>\n",
        "      <td>  2</td>\n",
        "    </tr>\n",
        "    <tr>\n",
        "      <th>1</th>\n",
        "      <td> 5</td>\n",
        "      <td> 10</td>\n",
        "    </tr>\n",
        "  </tbody>\n",
        "</table>\n",
        "</div>"
       ],
       "metadata": {},
       "output_type": "pyout",
       "prompt_number": 37,
       "text": [
        "   a   b\n",
        "0  1   2\n",
        "1  5  10"
       ]
      }
     ],
     "prompt_number": 37
    },
    {
     "cell_type": "heading",
     "level": 4,
     "metadata": {},
     "source": [
      "5.2.5 From a Series"
     ]
    },
    {
     "cell_type": "heading",
     "level": 4,
     "metadata": {},
     "source": [
      "5.2.7 Column Selection, addition, deletion"
     ]
    },
    {
     "cell_type": "code",
     "collapsed": false,
     "input": [
      "df['one']"
     ],
     "language": "python",
     "metadata": {},
     "outputs": [
      {
       "metadata": {},
       "output_type": "pyout",
       "prompt_number": 42,
       "text": [
        "a     1\n",
        "b     2\n",
        "c     3\n",
        "d   NaN\n",
        "Name: one, dtype: float64"
       ]
      }
     ],
     "prompt_number": 42
    },
    {
     "cell_type": "code",
     "collapsed": false,
     "input": [
      "df['three'] = df['one']*df['two']"
     ],
     "language": "python",
     "metadata": {},
     "outputs": [],
     "prompt_number": 43
    },
    {
     "cell_type": "code",
     "collapsed": false,
     "input": [
      "boolindex = df['two']>1\n",
      "boolindex"
     ],
     "language": "python",
     "metadata": {},
     "outputs": [
      {
       "metadata": {},
       "output_type": "pyout",
       "prompt_number": 49,
       "text": [
        "a    False\n",
        "b     True\n",
        "c     True\n",
        "d     True\n",
        "Name: two, dtype: bool"
       ]
      }
     ],
     "prompt_number": 49
    },
    {
     "cell_type": "code",
     "collapsed": false,
     "input": [
      "df[boolindex]"
     ],
     "language": "python",
     "metadata": {},
     "outputs": [
      {
       "html": [
        "<div style=\"max-height:1000px;max-width:1500px;overflow:auto;\">\n",
        "<table border=\"1\" class=\"dataframe\">\n",
        "  <thead>\n",
        "    <tr style=\"text-align: right;\">\n",
        "      <th></th>\n",
        "      <th>one</th>\n",
        "      <th>two</th>\n",
        "      <th>three</th>\n",
        "    </tr>\n",
        "  </thead>\n",
        "  <tbody>\n",
        "    <tr>\n",
        "      <th>b</th>\n",
        "      <td>  2</td>\n",
        "      <td> 2</td>\n",
        "      <td>  4</td>\n",
        "    </tr>\n",
        "    <tr>\n",
        "      <th>c</th>\n",
        "      <td>  3</td>\n",
        "      <td> 3</td>\n",
        "      <td>  9</td>\n",
        "    </tr>\n",
        "    <tr>\n",
        "      <th>d</th>\n",
        "      <td>NaN</td>\n",
        "      <td> 4</td>\n",
        "      <td>NaN</td>\n",
        "    </tr>\n",
        "  </tbody>\n",
        "</table>\n",
        "</div>"
       ],
       "metadata": {},
       "output_type": "pyout",
       "prompt_number": 50,
       "text": [
        "   one  two  three\n",
        "b    2    2      4\n",
        "c    3    3      9\n",
        "d  NaN    4    NaN"
       ]
      }
     ],
     "prompt_number": 50
    },
    {
     "cell_type": "code",
     "collapsed": false,
     "input": [
      "df['b']"
     ],
     "language": "python",
     "metadata": {},
     "outputs": [
      {
       "ename": "KeyError",
       "evalue": "u'no item named b'",
       "output_type": "pyerr",
       "traceback": [
        "\u001b[0;31m---------------------------------------------------------------------------\u001b[0m\n\u001b[0;31mKeyError\u001b[0m                                  Traceback (most recent call last)",
        "\u001b[0;32m<ipython-input-52-f2a266ed0ffd>\u001b[0m in \u001b[0;36m<module>\u001b[0;34m()\u001b[0m\n\u001b[0;32m----> 1\u001b[0;31m \u001b[0mdf\u001b[0m\u001b[0;34m[\u001b[0m\u001b[0;34m'b'\u001b[0m\u001b[0;34m]\u001b[0m\u001b[0;34m\u001b[0m\u001b[0m\n\u001b[0m",
        "\u001b[0;32m/Users/chenchen/anaconda/python.app/Contents/lib/python2.7/site-packages/pandas/core/frame.pyc\u001b[0m in \u001b[0;36m__getitem__\u001b[0;34m(self, key)\u001b[0m\n\u001b[1;32m   1926\u001b[0m         \u001b[0;32melse\u001b[0m\u001b[0;34m:\u001b[0m\u001b[0;34m\u001b[0m\u001b[0m\n\u001b[1;32m   1927\u001b[0m             \u001b[0;31m# get column\u001b[0m\u001b[0;34m\u001b[0m\u001b[0;34m\u001b[0m\u001b[0m\n\u001b[0;32m-> 1928\u001b[0;31m             \u001b[0;32mreturn\u001b[0m \u001b[0mself\u001b[0m\u001b[0;34m.\u001b[0m\u001b[0m_get_item_cache\u001b[0m\u001b[0;34m(\u001b[0m\u001b[0mkey\u001b[0m\u001b[0;34m)\u001b[0m\u001b[0;34m\u001b[0m\u001b[0m\n\u001b[0m\u001b[1;32m   1929\u001b[0m \u001b[0;34m\u001b[0m\u001b[0m\n\u001b[1;32m   1930\u001b[0m     \u001b[0;32mdef\u001b[0m \u001b[0m_getitem_slice\u001b[0m\u001b[0;34m(\u001b[0m\u001b[0mself\u001b[0m\u001b[0;34m,\u001b[0m \u001b[0mkey\u001b[0m\u001b[0;34m)\u001b[0m\u001b[0;34m:\u001b[0m\u001b[0;34m\u001b[0m\u001b[0m\n",
        "\u001b[0;32m/Users/chenchen/anaconda/python.app/Contents/lib/python2.7/site-packages/pandas/core/generic.pyc\u001b[0m in \u001b[0;36m_get_item_cache\u001b[0;34m(self, item)\u001b[0m\n\u001b[1;32m    568\u001b[0m             \u001b[0;32mreturn\u001b[0m \u001b[0mcache\u001b[0m\u001b[0;34m[\u001b[0m\u001b[0mitem\u001b[0m\u001b[0;34m]\u001b[0m\u001b[0;34m\u001b[0m\u001b[0m\n\u001b[1;32m    569\u001b[0m         \u001b[0;32mexcept\u001b[0m \u001b[0mException\u001b[0m\u001b[0;34m:\u001b[0m\u001b[0;34m\u001b[0m\u001b[0m\n\u001b[0;32m--> 570\u001b[0;31m             \u001b[0mvalues\u001b[0m \u001b[0;34m=\u001b[0m \u001b[0mself\u001b[0m\u001b[0;34m.\u001b[0m\u001b[0m_data\u001b[0m\u001b[0;34m.\u001b[0m\u001b[0mget\u001b[0m\u001b[0;34m(\u001b[0m\u001b[0mitem\u001b[0m\u001b[0;34m)\u001b[0m\u001b[0;34m\u001b[0m\u001b[0m\n\u001b[0m\u001b[1;32m    571\u001b[0m             \u001b[0mres\u001b[0m \u001b[0;34m=\u001b[0m \u001b[0mself\u001b[0m\u001b[0;34m.\u001b[0m\u001b[0m_box_item_values\u001b[0m\u001b[0;34m(\u001b[0m\u001b[0mitem\u001b[0m\u001b[0;34m,\u001b[0m \u001b[0mvalues\u001b[0m\u001b[0;34m)\u001b[0m\u001b[0;34m\u001b[0m\u001b[0m\n\u001b[1;32m    572\u001b[0m             \u001b[0mcache\u001b[0m\u001b[0;34m[\u001b[0m\u001b[0mitem\u001b[0m\u001b[0;34m]\u001b[0m \u001b[0;34m=\u001b[0m \u001b[0mres\u001b[0m\u001b[0;34m\u001b[0m\u001b[0m\n",
        "\u001b[0;32m/Users/chenchen/anaconda/python.app/Contents/lib/python2.7/site-packages/pandas/core/internals.pyc\u001b[0m in \u001b[0;36mget\u001b[0;34m(self, item)\u001b[0m\n\u001b[1;32m   1381\u001b[0m \u001b[0;34m\u001b[0m\u001b[0m\n\u001b[1;32m   1382\u001b[0m     \u001b[0;32mdef\u001b[0m \u001b[0mget\u001b[0m\u001b[0;34m(\u001b[0m\u001b[0mself\u001b[0m\u001b[0;34m,\u001b[0m \u001b[0mitem\u001b[0m\u001b[0;34m)\u001b[0m\u001b[0;34m:\u001b[0m\u001b[0;34m\u001b[0m\u001b[0m\n\u001b[0;32m-> 1383\u001b[0;31m         \u001b[0m_\u001b[0m\u001b[0;34m,\u001b[0m \u001b[0mblock\u001b[0m \u001b[0;34m=\u001b[0m \u001b[0mself\u001b[0m\u001b[0;34m.\u001b[0m\u001b[0m_find_block\u001b[0m\u001b[0;34m(\u001b[0m\u001b[0mitem\u001b[0m\u001b[0;34m)\u001b[0m\u001b[0;34m\u001b[0m\u001b[0m\n\u001b[0m\u001b[1;32m   1384\u001b[0m         \u001b[0;32mreturn\u001b[0m \u001b[0mblock\u001b[0m\u001b[0;34m.\u001b[0m\u001b[0mget\u001b[0m\u001b[0;34m(\u001b[0m\u001b[0mitem\u001b[0m\u001b[0;34m)\u001b[0m\u001b[0;34m\u001b[0m\u001b[0m\n\u001b[1;32m   1385\u001b[0m \u001b[0;34m\u001b[0m\u001b[0m\n",
        "\u001b[0;32m/Users/chenchen/anaconda/python.app/Contents/lib/python2.7/site-packages/pandas/core/internals.pyc\u001b[0m in \u001b[0;36m_find_block\u001b[0;34m(self, item)\u001b[0m\n\u001b[1;32m   1523\u001b[0m \u001b[0;34m\u001b[0m\u001b[0m\n\u001b[1;32m   1524\u001b[0m     \u001b[0;32mdef\u001b[0m \u001b[0m_find_block\u001b[0m\u001b[0;34m(\u001b[0m\u001b[0mself\u001b[0m\u001b[0;34m,\u001b[0m \u001b[0mitem\u001b[0m\u001b[0;34m)\u001b[0m\u001b[0;34m:\u001b[0m\u001b[0;34m\u001b[0m\u001b[0m\n\u001b[0;32m-> 1525\u001b[0;31m         \u001b[0mself\u001b[0m\u001b[0;34m.\u001b[0m\u001b[0m_check_have\u001b[0m\u001b[0;34m(\u001b[0m\u001b[0mitem\u001b[0m\u001b[0;34m)\u001b[0m\u001b[0;34m\u001b[0m\u001b[0m\n\u001b[0m\u001b[1;32m   1526\u001b[0m         \u001b[0;32mfor\u001b[0m \u001b[0mi\u001b[0m\u001b[0;34m,\u001b[0m \u001b[0mblock\u001b[0m \u001b[0;32min\u001b[0m \u001b[0menumerate\u001b[0m\u001b[0;34m(\u001b[0m\u001b[0mself\u001b[0m\u001b[0;34m.\u001b[0m\u001b[0mblocks\u001b[0m\u001b[0;34m)\u001b[0m\u001b[0;34m:\u001b[0m\u001b[0;34m\u001b[0m\u001b[0m\n\u001b[1;32m   1527\u001b[0m             \u001b[0;32mif\u001b[0m \u001b[0mitem\u001b[0m \u001b[0;32min\u001b[0m \u001b[0mblock\u001b[0m\u001b[0;34m:\u001b[0m\u001b[0;34m\u001b[0m\u001b[0m\n",
        "\u001b[0;32m/Users/chenchen/anaconda/python.app/Contents/lib/python2.7/site-packages/pandas/core/internals.pyc\u001b[0m in \u001b[0;36m_check_have\u001b[0;34m(self, item)\u001b[0m\n\u001b[1;32m   1530\u001b[0m     \u001b[0;32mdef\u001b[0m \u001b[0m_check_have\u001b[0m\u001b[0;34m(\u001b[0m\u001b[0mself\u001b[0m\u001b[0;34m,\u001b[0m \u001b[0mitem\u001b[0m\u001b[0;34m)\u001b[0m\u001b[0;34m:\u001b[0m\u001b[0;34m\u001b[0m\u001b[0m\n\u001b[1;32m   1531\u001b[0m         \u001b[0;32mif\u001b[0m \u001b[0mitem\u001b[0m \u001b[0;32mnot\u001b[0m \u001b[0;32min\u001b[0m \u001b[0mself\u001b[0m\u001b[0;34m.\u001b[0m\u001b[0mitems\u001b[0m\u001b[0;34m:\u001b[0m\u001b[0;34m\u001b[0m\u001b[0m\n\u001b[0;32m-> 1532\u001b[0;31m             \u001b[0;32mraise\u001b[0m \u001b[0mKeyError\u001b[0m\u001b[0;34m(\u001b[0m\u001b[0;34m'no item named %s'\u001b[0m \u001b[0;34m%\u001b[0m \u001b[0mcom\u001b[0m\u001b[0;34m.\u001b[0m\u001b[0mpprint_thing\u001b[0m\u001b[0;34m(\u001b[0m\u001b[0mitem\u001b[0m\u001b[0;34m)\u001b[0m\u001b[0;34m)\u001b[0m\u001b[0;34m\u001b[0m\u001b[0m\n\u001b[0m\u001b[1;32m   1533\u001b[0m \u001b[0;34m\u001b[0m\u001b[0m\n\u001b[1;32m   1534\u001b[0m     \u001b[0;32mdef\u001b[0m \u001b[0mreindex_axis\u001b[0m\u001b[0;34m(\u001b[0m\u001b[0mself\u001b[0m\u001b[0;34m,\u001b[0m \u001b[0mnew_axis\u001b[0m\u001b[0;34m,\u001b[0m \u001b[0mmethod\u001b[0m\u001b[0;34m=\u001b[0m\u001b[0mNone\u001b[0m\u001b[0;34m,\u001b[0m \u001b[0maxis\u001b[0m\u001b[0;34m=\u001b[0m\u001b[0;36m0\u001b[0m\u001b[0;34m,\u001b[0m \u001b[0mcopy\u001b[0m\u001b[0;34m=\u001b[0m\u001b[0mTrue\u001b[0m\u001b[0;34m)\u001b[0m\u001b[0;34m:\u001b[0m\u001b[0;34m\u001b[0m\u001b[0m\n",
        "\u001b[0;31mKeyError\u001b[0m: u'no item named b'"
       ]
      }
     ],
     "prompt_number": 52
    },
    {
     "cell_type": "code",
     "collapsed": false,
     "input": [
      "del df['two']"
     ],
     "language": "python",
     "metadata": {},
     "outputs": [],
     "prompt_number": 53
    },
    {
     "cell_type": "code",
     "collapsed": false,
     "input": [
      "df"
     ],
     "language": "python",
     "metadata": {},
     "outputs": [
      {
       "html": [
        "<div style=\"max-height:1000px;max-width:1500px;overflow:auto;\">\n",
        "<table border=\"1\" class=\"dataframe\">\n",
        "  <thead>\n",
        "    <tr style=\"text-align: right;\">\n",
        "      <th></th>\n",
        "      <th>one</th>\n",
        "      <th>three</th>\n",
        "    </tr>\n",
        "  </thead>\n",
        "  <tbody>\n",
        "    <tr>\n",
        "      <th>a</th>\n",
        "      <td>  1</td>\n",
        "      <td>  1</td>\n",
        "    </tr>\n",
        "    <tr>\n",
        "      <th>b</th>\n",
        "      <td>  2</td>\n",
        "      <td>  4</td>\n",
        "    </tr>\n",
        "    <tr>\n",
        "      <th>c</th>\n",
        "      <td>  3</td>\n",
        "      <td>  9</td>\n",
        "    </tr>\n",
        "    <tr>\n",
        "      <th>d</th>\n",
        "      <td>NaN</td>\n",
        "      <td>NaN</td>\n",
        "    </tr>\n",
        "  </tbody>\n",
        "</table>\n",
        "</div>"
       ],
       "metadata": {},
       "output_type": "pyout",
       "prompt_number": 54,
       "text": [
        "   one  three\n",
        "a    1      1\n",
        "b    2      4\n",
        "c    3      9\n",
        "d  NaN    NaN"
       ]
      }
     ],
     "prompt_number": 54
    },
    {
     "cell_type": "code",
     "collapsed": false,
     "input": [
      "df['new'] = 1"
     ],
     "language": "python",
     "metadata": {},
     "outputs": [],
     "prompt_number": 55
    },
    {
     "cell_type": "code",
     "collapsed": false,
     "input": [
      "df"
     ],
     "language": "python",
     "metadata": {},
     "outputs": [
      {
       "html": [
        "<div style=\"max-height:1000px;max-width:1500px;overflow:auto;\">\n",
        "<table border=\"1\" class=\"dataframe\">\n",
        "  <thead>\n",
        "    <tr style=\"text-align: right;\">\n",
        "      <th></th>\n",
        "      <th>one</th>\n",
        "      <th>three</th>\n",
        "      <th>new</th>\n",
        "    </tr>\n",
        "  </thead>\n",
        "  <tbody>\n",
        "    <tr>\n",
        "      <th>a</th>\n",
        "      <td>  1</td>\n",
        "      <td>  1</td>\n",
        "      <td> 1</td>\n",
        "    </tr>\n",
        "    <tr>\n",
        "      <th>b</th>\n",
        "      <td>  2</td>\n",
        "      <td>  4</td>\n",
        "      <td> 1</td>\n",
        "    </tr>\n",
        "    <tr>\n",
        "      <th>c</th>\n",
        "      <td>  3</td>\n",
        "      <td>  9</td>\n",
        "      <td> 1</td>\n",
        "    </tr>\n",
        "    <tr>\n",
        "      <th>d</th>\n",
        "      <td>NaN</td>\n",
        "      <td>NaN</td>\n",
        "      <td> 1</td>\n",
        "    </tr>\n",
        "  </tbody>\n",
        "</table>\n",
        "</div>"
       ],
       "metadata": {},
       "output_type": "pyout",
       "prompt_number": 56,
       "text": [
        "   one  three  new\n",
        "a    1      1    1\n",
        "b    2      4    1\n",
        "c    3      9    1\n",
        "d  NaN    NaN    1"
       ]
      }
     ],
     "prompt_number": 56
    },
    {
     "cell_type": "code",
     "collapsed": false,
     "input": [
      "df.ix[3]"
     ],
     "language": "python",
     "metadata": {},
     "outputs": [
      {
       "metadata": {},
       "output_type": "pyout",
       "prompt_number": 59,
       "text": [
        "one     NaN\n",
        "three   NaN\n",
        "new       1\n",
        "Name: d, dtype: float64"
       ]
      }
     ],
     "prompt_number": 59
    },
    {
     "cell_type": "heading",
     "level": 4,
     "metadata": {},
     "source": [
      "5.2.8 Indexing/Selection"
     ]
    },
    {
     "cell_type": "markdown",
     "metadata": {},
     "source": [
      "<tb>\n",
      "|Operation                              |    Syntax                      |    Result\n",
      "|Select column                          | df[col]                        |    Series\n",
      "|Select row by lable                    | df.xs(lable) or df.ix[lable]   |    Series\n",
      "|Select row by location(int)            | df.ix[loc]                     |    Series\n",
      "|Slice rows                             | df[5:10]                       |    DataFrame\n",
      "|Selection rows by boolean vector       | df[bool_vec]                   |    DataFrame\n",
      "</tb>"
     ]
    },
    {
     "cell_type": "code",
     "collapsed": false,
     "input": [
      "df[1]"
     ],
     "language": "python",
     "metadata": {},
     "outputs": [
      {
       "ename": "KeyError",
       "evalue": "u'no item named 1'",
       "output_type": "pyerr",
       "traceback": [
        "\u001b[0;31m---------------------------------------------------------------------------\u001b[0m\n\u001b[0;31mKeyError\u001b[0m                                  Traceback (most recent call last)",
        "\u001b[0;32m<ipython-input-64-dc0ea82142cb>\u001b[0m in \u001b[0;36m<module>\u001b[0;34m()\u001b[0m\n\u001b[0;32m----> 1\u001b[0;31m \u001b[0mdf\u001b[0m\u001b[0;34m[\u001b[0m\u001b[0;36m1\u001b[0m\u001b[0;34m]\u001b[0m\u001b[0;34m\u001b[0m\u001b[0m\n\u001b[0m",
        "\u001b[0;32m/Users/chenchen/anaconda/python.app/Contents/lib/python2.7/site-packages/pandas/core/frame.pyc\u001b[0m in \u001b[0;36m__getitem__\u001b[0;34m(self, key)\u001b[0m\n\u001b[1;32m   1926\u001b[0m         \u001b[0;32melse\u001b[0m\u001b[0;34m:\u001b[0m\u001b[0;34m\u001b[0m\u001b[0m\n\u001b[1;32m   1927\u001b[0m             \u001b[0;31m# get column\u001b[0m\u001b[0;34m\u001b[0m\u001b[0;34m\u001b[0m\u001b[0m\n\u001b[0;32m-> 1928\u001b[0;31m             \u001b[0;32mreturn\u001b[0m \u001b[0mself\u001b[0m\u001b[0;34m.\u001b[0m\u001b[0m_get_item_cache\u001b[0m\u001b[0;34m(\u001b[0m\u001b[0mkey\u001b[0m\u001b[0;34m)\u001b[0m\u001b[0;34m\u001b[0m\u001b[0m\n\u001b[0m\u001b[1;32m   1929\u001b[0m \u001b[0;34m\u001b[0m\u001b[0m\n\u001b[1;32m   1930\u001b[0m     \u001b[0;32mdef\u001b[0m \u001b[0m_getitem_slice\u001b[0m\u001b[0;34m(\u001b[0m\u001b[0mself\u001b[0m\u001b[0;34m,\u001b[0m \u001b[0mkey\u001b[0m\u001b[0;34m)\u001b[0m\u001b[0;34m:\u001b[0m\u001b[0;34m\u001b[0m\u001b[0m\n",
        "\u001b[0;32m/Users/chenchen/anaconda/python.app/Contents/lib/python2.7/site-packages/pandas/core/generic.pyc\u001b[0m in \u001b[0;36m_get_item_cache\u001b[0;34m(self, item)\u001b[0m\n\u001b[1;32m    568\u001b[0m             \u001b[0;32mreturn\u001b[0m \u001b[0mcache\u001b[0m\u001b[0;34m[\u001b[0m\u001b[0mitem\u001b[0m\u001b[0;34m]\u001b[0m\u001b[0;34m\u001b[0m\u001b[0m\n\u001b[1;32m    569\u001b[0m         \u001b[0;32mexcept\u001b[0m \u001b[0mException\u001b[0m\u001b[0;34m:\u001b[0m\u001b[0;34m\u001b[0m\u001b[0m\n\u001b[0;32m--> 570\u001b[0;31m             \u001b[0mvalues\u001b[0m \u001b[0;34m=\u001b[0m \u001b[0mself\u001b[0m\u001b[0;34m.\u001b[0m\u001b[0m_data\u001b[0m\u001b[0;34m.\u001b[0m\u001b[0mget\u001b[0m\u001b[0;34m(\u001b[0m\u001b[0mitem\u001b[0m\u001b[0;34m)\u001b[0m\u001b[0;34m\u001b[0m\u001b[0m\n\u001b[0m\u001b[1;32m    571\u001b[0m             \u001b[0mres\u001b[0m \u001b[0;34m=\u001b[0m \u001b[0mself\u001b[0m\u001b[0;34m.\u001b[0m\u001b[0m_box_item_values\u001b[0m\u001b[0;34m(\u001b[0m\u001b[0mitem\u001b[0m\u001b[0;34m,\u001b[0m \u001b[0mvalues\u001b[0m\u001b[0;34m)\u001b[0m\u001b[0;34m\u001b[0m\u001b[0m\n\u001b[1;32m    572\u001b[0m             \u001b[0mcache\u001b[0m\u001b[0;34m[\u001b[0m\u001b[0mitem\u001b[0m\u001b[0;34m]\u001b[0m \u001b[0;34m=\u001b[0m \u001b[0mres\u001b[0m\u001b[0;34m\u001b[0m\u001b[0m\n",
        "\u001b[0;32m/Users/chenchen/anaconda/python.app/Contents/lib/python2.7/site-packages/pandas/core/internals.pyc\u001b[0m in \u001b[0;36mget\u001b[0;34m(self, item)\u001b[0m\n\u001b[1;32m   1381\u001b[0m \u001b[0;34m\u001b[0m\u001b[0m\n\u001b[1;32m   1382\u001b[0m     \u001b[0;32mdef\u001b[0m \u001b[0mget\u001b[0m\u001b[0;34m(\u001b[0m\u001b[0mself\u001b[0m\u001b[0;34m,\u001b[0m \u001b[0mitem\u001b[0m\u001b[0;34m)\u001b[0m\u001b[0;34m:\u001b[0m\u001b[0;34m\u001b[0m\u001b[0m\n\u001b[0;32m-> 1383\u001b[0;31m         \u001b[0m_\u001b[0m\u001b[0;34m,\u001b[0m \u001b[0mblock\u001b[0m \u001b[0;34m=\u001b[0m \u001b[0mself\u001b[0m\u001b[0;34m.\u001b[0m\u001b[0m_find_block\u001b[0m\u001b[0;34m(\u001b[0m\u001b[0mitem\u001b[0m\u001b[0;34m)\u001b[0m\u001b[0;34m\u001b[0m\u001b[0m\n\u001b[0m\u001b[1;32m   1384\u001b[0m         \u001b[0;32mreturn\u001b[0m \u001b[0mblock\u001b[0m\u001b[0;34m.\u001b[0m\u001b[0mget\u001b[0m\u001b[0;34m(\u001b[0m\u001b[0mitem\u001b[0m\u001b[0;34m)\u001b[0m\u001b[0;34m\u001b[0m\u001b[0m\n\u001b[1;32m   1385\u001b[0m \u001b[0;34m\u001b[0m\u001b[0m\n",
        "\u001b[0;32m/Users/chenchen/anaconda/python.app/Contents/lib/python2.7/site-packages/pandas/core/internals.pyc\u001b[0m in \u001b[0;36m_find_block\u001b[0;34m(self, item)\u001b[0m\n\u001b[1;32m   1523\u001b[0m \u001b[0;34m\u001b[0m\u001b[0m\n\u001b[1;32m   1524\u001b[0m     \u001b[0;32mdef\u001b[0m \u001b[0m_find_block\u001b[0m\u001b[0;34m(\u001b[0m\u001b[0mself\u001b[0m\u001b[0;34m,\u001b[0m \u001b[0mitem\u001b[0m\u001b[0;34m)\u001b[0m\u001b[0;34m:\u001b[0m\u001b[0;34m\u001b[0m\u001b[0m\n\u001b[0;32m-> 1525\u001b[0;31m         \u001b[0mself\u001b[0m\u001b[0;34m.\u001b[0m\u001b[0m_check_have\u001b[0m\u001b[0;34m(\u001b[0m\u001b[0mitem\u001b[0m\u001b[0;34m)\u001b[0m\u001b[0;34m\u001b[0m\u001b[0m\n\u001b[0m\u001b[1;32m   1526\u001b[0m         \u001b[0;32mfor\u001b[0m \u001b[0mi\u001b[0m\u001b[0;34m,\u001b[0m \u001b[0mblock\u001b[0m \u001b[0;32min\u001b[0m \u001b[0menumerate\u001b[0m\u001b[0;34m(\u001b[0m\u001b[0mself\u001b[0m\u001b[0;34m.\u001b[0m\u001b[0mblocks\u001b[0m\u001b[0;34m)\u001b[0m\u001b[0;34m:\u001b[0m\u001b[0;34m\u001b[0m\u001b[0m\n\u001b[1;32m   1527\u001b[0m             \u001b[0;32mif\u001b[0m \u001b[0mitem\u001b[0m \u001b[0;32min\u001b[0m \u001b[0mblock\u001b[0m\u001b[0;34m:\u001b[0m\u001b[0;34m\u001b[0m\u001b[0m\n",
        "\u001b[0;32m/Users/chenchen/anaconda/python.app/Contents/lib/python2.7/site-packages/pandas/core/internals.pyc\u001b[0m in \u001b[0;36m_check_have\u001b[0;34m(self, item)\u001b[0m\n\u001b[1;32m   1530\u001b[0m     \u001b[0;32mdef\u001b[0m \u001b[0m_check_have\u001b[0m\u001b[0;34m(\u001b[0m\u001b[0mself\u001b[0m\u001b[0;34m,\u001b[0m \u001b[0mitem\u001b[0m\u001b[0;34m)\u001b[0m\u001b[0;34m:\u001b[0m\u001b[0;34m\u001b[0m\u001b[0m\n\u001b[1;32m   1531\u001b[0m         \u001b[0;32mif\u001b[0m \u001b[0mitem\u001b[0m \u001b[0;32mnot\u001b[0m \u001b[0;32min\u001b[0m \u001b[0mself\u001b[0m\u001b[0;34m.\u001b[0m\u001b[0mitems\u001b[0m\u001b[0;34m:\u001b[0m\u001b[0;34m\u001b[0m\u001b[0m\n\u001b[0;32m-> 1532\u001b[0;31m             \u001b[0;32mraise\u001b[0m \u001b[0mKeyError\u001b[0m\u001b[0;34m(\u001b[0m\u001b[0;34m'no item named %s'\u001b[0m \u001b[0;34m%\u001b[0m \u001b[0mcom\u001b[0m\u001b[0;34m.\u001b[0m\u001b[0mpprint_thing\u001b[0m\u001b[0;34m(\u001b[0m\u001b[0mitem\u001b[0m\u001b[0;34m)\u001b[0m\u001b[0;34m)\u001b[0m\u001b[0;34m\u001b[0m\u001b[0m\n\u001b[0m\u001b[1;32m   1533\u001b[0m \u001b[0;34m\u001b[0m\u001b[0m\n\u001b[1;32m   1534\u001b[0m     \u001b[0;32mdef\u001b[0m \u001b[0mreindex_axis\u001b[0m\u001b[0;34m(\u001b[0m\u001b[0mself\u001b[0m\u001b[0;34m,\u001b[0m \u001b[0mnew_axis\u001b[0m\u001b[0;34m,\u001b[0m \u001b[0mmethod\u001b[0m\u001b[0;34m=\u001b[0m\u001b[0mNone\u001b[0m\u001b[0;34m,\u001b[0m \u001b[0maxis\u001b[0m\u001b[0;34m=\u001b[0m\u001b[0;36m0\u001b[0m\u001b[0;34m,\u001b[0m \u001b[0mcopy\u001b[0m\u001b[0;34m=\u001b[0m\u001b[0mTrue\u001b[0m\u001b[0;34m)\u001b[0m\u001b[0;34m:\u001b[0m\u001b[0;34m\u001b[0m\u001b[0m\n",
        "\u001b[0;31mKeyError\u001b[0m: u'no item named 1'"
       ]
      }
     ],
     "prompt_number": 64
    },
    {
     "cell_type": "markdown",
     "metadata": {},
     "source": [
      "5.2.9 DataTypes"
     ]
    },
    {
     "cell_type": "code",
     "collapsed": false,
     "input": [
      "df['interger'] = 1\n",
      "df['int32'] = df['interger'].astype('int32')\n",
      "df['float32'] = Series([1.0]*len(df),dtype='float32')\n",
      "df['timestamp'] = Timestamp('20010102')"
     ],
     "language": "python",
     "metadata": {},
     "outputs": [],
     "prompt_number": 75
    },
    {
     "cell_type": "code",
     "collapsed": false,
     "input": [
      "df.dtypes"
     ],
     "language": "python",
     "metadata": {},
     "outputs": [
      {
       "metadata": {},
       "output_type": "pyout",
       "prompt_number": 77,
       "text": [
        "one                 float64\n",
        "two                 float64\n",
        "interger              int64\n",
        "int32                 int32\n",
        "float32             float32\n",
        "timestamp    datetime64[ns]\n",
        "dtype: object"
       ]
      }
     ],
     "prompt_number": 77
    },
    {
     "cell_type": "heading",
     "level": 4,
     "metadata": {},
     "source": [
      "5.2.11 Data alignment and arithmetic"
     ]
    },
    {
     "cell_type": "code",
     "collapsed": false,
     "input": [
      "index_df = date_range('1', periods=10)  #use data range as index, otherwise, Boom!!\n",
      "df = DataFrame(randn(10, 4), index=index_df, columns=['A', 'B', 'C', 'D'])\n",
      "df - df['A']\n",
      "(df.T - df['A']).T"
     ],
     "language": "python",
     "metadata": {},
     "outputs": [
      {
       "output_type": "stream",
       "stream": "stderr",
       "text": [
        "/Users/chenchen/anaconda/lib/python2.7/site-packages/pandas/core/frame.py:3619: FutureWarning: TimeSeries broadcasting along DataFrame index by default is deprecated. Please use DataFrame.<op> to explicitly broadcast arithmetic operations along the index\n",
        "  FutureWarning)\n"
       ]
      },
      {
       "html": [
        "<div style=\"max-height:1000px;max-width:1500px;overflow:auto;\">\n",
        "<table border=\"1\" class=\"dataframe\">\n",
        "  <thead>\n",
        "    <tr style=\"text-align: right;\">\n",
        "      <th></th>\n",
        "      <th>A</th>\n",
        "      <th>B</th>\n",
        "      <th>C</th>\n",
        "      <th>D</th>\n",
        "    </tr>\n",
        "  </thead>\n",
        "  <tbody>\n",
        "    <tr>\n",
        "      <th>2013-11-01</th>\n",
        "      <td> 0</td>\n",
        "      <td> 0.070616</td>\n",
        "      <td> 1.764970</td>\n",
        "      <td> 0.483617</td>\n",
        "    </tr>\n",
        "    <tr>\n",
        "      <th>2013-11-02</th>\n",
        "      <td> 0</td>\n",
        "      <td>-2.154749</td>\n",
        "      <td>-0.160766</td>\n",
        "      <td> 1.531038</td>\n",
        "    </tr>\n",
        "    <tr>\n",
        "      <th>2013-11-03</th>\n",
        "      <td> 0</td>\n",
        "      <td>-0.590357</td>\n",
        "      <td> 0.202836</td>\n",
        "      <td> 1.108110</td>\n",
        "    </tr>\n",
        "    <tr>\n",
        "      <th>2013-11-04</th>\n",
        "      <td> 0</td>\n",
        "      <td>-0.219865</td>\n",
        "      <td>-0.262338</td>\n",
        "      <td>-1.444890</td>\n",
        "    </tr>\n",
        "    <tr>\n",
        "      <th>2013-11-05</th>\n",
        "      <td> 0</td>\n",
        "      <td> 0.258523</td>\n",
        "      <td>-1.696840</td>\n",
        "      <td>-1.297896</td>\n",
        "    </tr>\n",
        "    <tr>\n",
        "      <th>2013-11-06</th>\n",
        "      <td> 0</td>\n",
        "      <td>-1.112081</td>\n",
        "      <td> 0.808770</td>\n",
        "      <td>-1.233935</td>\n",
        "    </tr>\n",
        "    <tr>\n",
        "      <th>2013-11-07</th>\n",
        "      <td> 0</td>\n",
        "      <td> 1.497496</td>\n",
        "      <td>-0.272568</td>\n",
        "      <td> 1.900655</td>\n",
        "    </tr>\n",
        "    <tr>\n",
        "      <th>2013-11-08</th>\n",
        "      <td> 0</td>\n",
        "      <td> 1.618075</td>\n",
        "      <td> 0.784253</td>\n",
        "      <td> 0.442696</td>\n",
        "    </tr>\n",
        "    <tr>\n",
        "      <th>2013-11-09</th>\n",
        "      <td> 0</td>\n",
        "      <td> 0.170048</td>\n",
        "      <td> 1.366825</td>\n",
        "      <td> 0.277063</td>\n",
        "    </tr>\n",
        "    <tr>\n",
        "      <th>2013-11-10</th>\n",
        "      <td> 0</td>\n",
        "      <td> 0.676875</td>\n",
        "      <td> 0.121673</td>\n",
        "      <td>-0.862354</td>\n",
        "    </tr>\n",
        "  </tbody>\n",
        "</table>\n",
        "</div>"
       ],
       "metadata": {},
       "output_type": "pyout",
       "prompt_number": 3,
       "text": [
        "            A         B         C         D\n",
        "2013-11-01  0  0.070616  1.764970  0.483617\n",
        "2013-11-02  0 -2.154749 -0.160766  1.531038\n",
        "2013-11-03  0 -0.590357  0.202836  1.108110\n",
        "2013-11-04  0 -0.219865 -0.262338 -1.444890\n",
        "2013-11-05  0  0.258523 -1.696840 -1.297896\n",
        "2013-11-06  0 -1.112081  0.808770 -1.233935\n",
        "2013-11-07  0  1.497496 -0.272568  1.900655\n",
        "2013-11-08  0  1.618075  0.784253  0.442696\n",
        "2013-11-09  0  0.170048  1.366825  0.277063\n",
        "2013-11-10  0  0.676875  0.121673 -0.862354"
       ]
      }
     ],
     "prompt_number": 3
    },
    {
     "cell_type": "code",
     "collapsed": false,
     "input": [
      "df - df['A']\n",
      "df * 5 + 2\n",
      "1/df\n",
      "df ** 4"
     ],
     "language": "python",
     "metadata": {},
     "outputs": [
      {
       "html": [
        "<div style=\"max-height:1000px;max-width:1500px;overflow:auto;\">\n",
        "<table border=\"1\" class=\"dataframe\">\n",
        "  <thead>\n",
        "    <tr style=\"text-align: right;\">\n",
        "      <th></th>\n",
        "      <th>A</th>\n",
        "      <th>B</th>\n",
        "      <th>C</th>\n",
        "      <th>D</th>\n",
        "    </tr>\n",
        "  </thead>\n",
        "  <tbody>\n",
        "    <tr>\n",
        "      <th>2013-11-01</th>\n",
        "      <td> 8.056042</td>\n",
        "      <td>  6.787938</td>\n",
        "      <td> 0.000041</td>\n",
        "      <td>  2.081309</td>\n",
        "    </tr>\n",
        "    <tr>\n",
        "      <th>2013-11-02</th>\n",
        "      <td> 0.000116</td>\n",
        "      <td> 17.694768</td>\n",
        "      <td> 0.000011</td>\n",
        "      <td>  7.142781</td>\n",
        "    </tr>\n",
        "    <tr>\n",
        "      <th>2013-11-03</th>\n",
        "      <td> 0.000301</td>\n",
        "      <td>  0.271847</td>\n",
        "      <td> 0.000026</td>\n",
        "      <td>  0.908869</td>\n",
        "    </tr>\n",
        "    <tr>\n",
        "      <th>2013-11-04</th>\n",
        "      <td> 0.022124</td>\n",
        "      <td>  0.000756</td>\n",
        "      <td> 0.000231</td>\n",
        "      <td>  1.258766</td>\n",
        "    </tr>\n",
        "    <tr>\n",
        "      <th>2013-11-05</th>\n",
        "      <td> 0.314838</td>\n",
        "      <td>  1.030715</td>\n",
        "      <td> 0.806888</td>\n",
        "      <td>  0.090728</td>\n",
        "    </tr>\n",
        "    <tr>\n",
        "      <th>2013-11-06</th>\n",
        "      <td> 0.000267</td>\n",
        "      <td>  0.938527</td>\n",
        "      <td> 0.769471</td>\n",
        "      <td>  1.496948</td>\n",
        "    </tr>\n",
        "    <tr>\n",
        "      <th>2013-11-07</th>\n",
        "      <td> 0.281678</td>\n",
        "      <td>  0.349674</td>\n",
        "      <td> 1.004335</td>\n",
        "      <td>  1.887639</td>\n",
        "    </tr>\n",
        "    <tr>\n",
        "      <th>2013-11-08</th>\n",
        "      <td> 2.014804</td>\n",
        "      <td>  0.033142</td>\n",
        "      <td> 0.027480</td>\n",
        "      <td>  0.314228</td>\n",
        "    </tr>\n",
        "    <tr>\n",
        "      <th>2013-11-09</th>\n",
        "      <td> 0.019255</td>\n",
        "      <td>  0.001680</td>\n",
        "      <td> 0.977456</td>\n",
        "      <td>  0.000083</td>\n",
        "    </tr>\n",
        "    <tr>\n",
        "      <th>2013-11-10</th>\n",
        "      <td> 2.155483</td>\n",
        "      <td>  0.081802</td>\n",
        "      <td> 1.411590</td>\n",
        "      <td> 18.503734</td>\n",
        "    </tr>\n",
        "  </tbody>\n",
        "</table>\n",
        "</div>"
       ],
       "metadata": {},
       "output_type": "pyout",
       "prompt_number": 7,
       "text": [
        "                   A          B         C          D\n",
        "2013-11-01  8.056042   6.787938  0.000041   2.081309\n",
        "2013-11-02  0.000116  17.694768  0.000011   7.142781\n",
        "2013-11-03  0.000301   0.271847  0.000026   0.908869\n",
        "2013-11-04  0.022124   0.000756  0.000231   1.258766\n",
        "2013-11-05  0.314838   1.030715  0.806888   0.090728\n",
        "2013-11-06  0.000267   0.938527  0.769471   1.496948\n",
        "2013-11-07  0.281678   0.349674  1.004335   1.887639\n",
        "2013-11-08  2.014804   0.033142  0.027480   0.314228\n",
        "2013-11-09  0.019255   0.001680  0.977456   0.000083\n",
        "2013-11-10  2.155483   0.081802  1.411590  18.503734"
       ]
      }
     ],
     "prompt_number": 7
    },
    {
     "cell_type": "heading",
     "level": 4,
     "metadata": {},
     "source": [
      "5.2.12 Transposing"
     ]
    },
    {
     "cell_type": "code",
     "collapsed": false,
     "input": [
      "df[:5]"
     ],
     "language": "python",
     "metadata": {},
     "outputs": [
      {
       "html": [
        "<div style=\"max-height:1000px;max-width:1500px;overflow:auto;\">\n",
        "<table border=\"1\" class=\"dataframe\">\n",
        "  <thead>\n",
        "    <tr style=\"text-align: right;\">\n",
        "      <th></th>\n",
        "      <th>A</th>\n",
        "      <th>B</th>\n",
        "      <th>C</th>\n",
        "      <th>D</th>\n",
        "    </tr>\n",
        "  </thead>\n",
        "  <tbody>\n",
        "    <tr>\n",
        "      <th>2013-11-01</th>\n",
        "      <td>-1.684730</td>\n",
        "      <td>-1.614115</td>\n",
        "      <td> 0.080239</td>\n",
        "      <td>-1.201114</td>\n",
        "    </tr>\n",
        "    <tr>\n",
        "      <th>2013-11-02</th>\n",
        "      <td> 0.103770</td>\n",
        "      <td>-2.050979</td>\n",
        "      <td>-0.056996</td>\n",
        "      <td> 1.634808</td>\n",
        "    </tr>\n",
        "    <tr>\n",
        "      <th>2013-11-03</th>\n",
        "      <td>-0.131716</td>\n",
        "      <td>-0.722073</td>\n",
        "      <td> 0.071120</td>\n",
        "      <td> 0.976394</td>\n",
        "    </tr>\n",
        "    <tr>\n",
        "      <th>2013-11-04</th>\n",
        "      <td> 0.385670</td>\n",
        "      <td> 0.165805</td>\n",
        "      <td> 0.123332</td>\n",
        "      <td>-1.059220</td>\n",
        "    </tr>\n",
        "    <tr>\n",
        "      <th>2013-11-05</th>\n",
        "      <td> 0.749069</td>\n",
        "      <td> 1.007592</td>\n",
        "      <td>-0.947771</td>\n",
        "      <td>-0.548827</td>\n",
        "    </tr>\n",
        "  </tbody>\n",
        "</table>\n",
        "</div>"
       ],
       "metadata": {},
       "output_type": "pyout",
       "prompt_number": 8,
       "text": [
        "                   A         B         C         D\n",
        "2013-11-01 -1.684730 -1.614115  0.080239 -1.201114\n",
        "2013-11-02  0.103770 -2.050979 -0.056996  1.634808\n",
        "2013-11-03 -0.131716 -0.722073  0.071120  0.976394\n",
        "2013-11-04  0.385670  0.165805  0.123332 -1.059220\n",
        "2013-11-05  0.749069  1.007592 -0.947771 -0.548827"
       ]
      }
     ],
     "prompt_number": 8
    },
    {
     "cell_type": "code",
     "collapsed": false,
     "input": [
      "df[:5].T"
     ],
     "language": "python",
     "metadata": {},
     "outputs": [
      {
       "html": [
        "<div style=\"max-height:1000px;max-width:1500px;overflow:auto;\">\n",
        "<table border=\"1\" class=\"dataframe\">\n",
        "  <thead>\n",
        "    <tr style=\"text-align: right;\">\n",
        "      <th></th>\n",
        "      <th>2013-11-01 00:00:00</th>\n",
        "      <th>2013-11-02 00:00:00</th>\n",
        "      <th>2013-11-03 00:00:00</th>\n",
        "      <th>2013-11-04 00:00:00</th>\n",
        "      <th>2013-11-05 00:00:00</th>\n",
        "    </tr>\n",
        "  </thead>\n",
        "  <tbody>\n",
        "    <tr>\n",
        "      <th>A</th>\n",
        "      <td>-1.684730</td>\n",
        "      <td> 0.103770</td>\n",
        "      <td>-0.131716</td>\n",
        "      <td> 0.385670</td>\n",
        "      <td> 0.749069</td>\n",
        "    </tr>\n",
        "    <tr>\n",
        "      <th>B</th>\n",
        "      <td>-1.614115</td>\n",
        "      <td>-2.050979</td>\n",
        "      <td>-0.722073</td>\n",
        "      <td> 0.165805</td>\n",
        "      <td> 1.007592</td>\n",
        "    </tr>\n",
        "    <tr>\n",
        "      <th>C</th>\n",
        "      <td> 0.080239</td>\n",
        "      <td>-0.056996</td>\n",
        "      <td> 0.071120</td>\n",
        "      <td> 0.123332</td>\n",
        "      <td>-0.947771</td>\n",
        "    </tr>\n",
        "    <tr>\n",
        "      <th>D</th>\n",
        "      <td>-1.201114</td>\n",
        "      <td> 1.634808</td>\n",
        "      <td> 0.976394</td>\n",
        "      <td>-1.059220</td>\n",
        "      <td>-0.548827</td>\n",
        "    </tr>\n",
        "  </tbody>\n",
        "</table>\n",
        "</div>"
       ],
       "metadata": {},
       "output_type": "pyout",
       "prompt_number": 9,
       "text": [
        "   2013-11-01  2013-11-02  2013-11-03  2013-11-04  2013-11-05\n",
        "A   -1.684730    0.103770   -0.131716    0.385670    0.749069\n",
        "B   -1.614115   -2.050979   -0.722073    0.165805    1.007592\n",
        "C    0.080239   -0.056996    0.071120    0.123332   -0.947771\n",
        "D   -1.201114    1.634808    0.976394   -1.059220   -0.548827"
       ]
      }
     ],
     "prompt_number": 9
    },
    {
     "cell_type": "heading",
     "level": 4,
     "metadata": {},
     "source": [
      "5.2.13DataFrame Interoperability with NumPy functions"
     ]
    },
    {
     "cell_type": "code",
     "collapsed": false,
     "input": [
      "np.exp(df)"
     ],
     "language": "python",
     "metadata": {},
     "outputs": [
      {
       "html": [
        "<div style=\"max-height:1000px;max-width:1500px;overflow:auto;\">\n",
        "<table border=\"1\" class=\"dataframe\">\n",
        "  <thead>\n",
        "    <tr style=\"text-align: right;\">\n",
        "      <th></th>\n",
        "      <th>A</th>\n",
        "      <th>B</th>\n",
        "      <th>C</th>\n",
        "      <th>D</th>\n",
        "    </tr>\n",
        "  </thead>\n",
        "  <tbody>\n",
        "    <tr>\n",
        "      <th>2013-11-01</th>\n",
        "      <td> 0.185494</td>\n",
        "      <td> 0.199067</td>\n",
        "      <td> 1.083546</td>\n",
        "      <td> 0.300859</td>\n",
        "    </tr>\n",
        "    <tr>\n",
        "      <th>2013-11-02</th>\n",
        "      <td> 1.109346</td>\n",
        "      <td> 0.128609</td>\n",
        "      <td> 0.944598</td>\n",
        "      <td> 5.128475</td>\n",
        "    </tr>\n",
        "    <tr>\n",
        "      <th>2013-11-03</th>\n",
        "      <td> 0.876590</td>\n",
        "      <td> 0.485744</td>\n",
        "      <td> 1.073710</td>\n",
        "      <td> 2.654867</td>\n",
        "    </tr>\n",
        "    <tr>\n",
        "      <th>2013-11-04</th>\n",
        "      <td> 1.470599</td>\n",
        "      <td> 1.180343</td>\n",
        "      <td> 1.131260</td>\n",
        "      <td> 0.346726</td>\n",
        "    </tr>\n",
        "    <tr>\n",
        "      <th>2013-11-05</th>\n",
        "      <td> 2.115030</td>\n",
        "      <td> 2.738997</td>\n",
        "      <td> 0.387604</td>\n",
        "      <td> 0.577627</td>\n",
        "    </tr>\n",
        "    <tr>\n",
        "      <th>2013-11-06</th>\n",
        "      <td> 1.136345</td>\n",
        "      <td> 0.373714</td>\n",
        "      <td> 2.551258</td>\n",
        "      <td> 0.330841</td>\n",
        "    </tr>\n",
        "    <tr>\n",
        "      <th>2013-11-07</th>\n",
        "      <td> 0.482625</td>\n",
        "      <td> 2.157568</td>\n",
        "      <td> 0.367482</td>\n",
        "      <td> 3.228897</td>\n",
        "    </tr>\n",
        "    <tr>\n",
        "      <th>2013-11-08</th>\n",
        "      <td> 0.303795</td>\n",
        "      <td> 1.532153</td>\n",
        "      <td> 0.665545</td>\n",
        "      <td> 0.472978</td>\n",
        "    </tr>\n",
        "    <tr>\n",
        "      <th>2013-11-09</th>\n",
        "      <td> 0.689003</td>\n",
        "      <td> 0.816718</td>\n",
        "      <td> 2.702874</td>\n",
        "      <td> 0.908967</td>\n",
        "    </tr>\n",
        "    <tr>\n",
        "      <th>2013-11-10</th>\n",
        "      <td> 0.297698</td>\n",
        "      <td> 0.585786</td>\n",
        "      <td> 0.336216</td>\n",
        "      <td> 0.125678</td>\n",
        "    </tr>\n",
        "  </tbody>\n",
        "</table>\n",
        "</div>"
       ],
       "metadata": {},
       "output_type": "pyout",
       "prompt_number": 10,
       "text": [
        "                   A         B         C         D\n",
        "2013-11-01  0.185494  0.199067  1.083546  0.300859\n",
        "2013-11-02  1.109346  0.128609  0.944598  5.128475\n",
        "2013-11-03  0.876590  0.485744  1.073710  2.654867\n",
        "2013-11-04  1.470599  1.180343  1.131260  0.346726\n",
        "2013-11-05  2.115030  2.738997  0.387604  0.577627\n",
        "2013-11-06  1.136345  0.373714  2.551258  0.330841\n",
        "2013-11-07  0.482625  2.157568  0.367482  3.228897\n",
        "2013-11-08  0.303795  1.532153  0.665545  0.472978\n",
        "2013-11-09  0.689003  0.816718  2.702874  0.908967\n",
        "2013-11-10  0.297698  0.585786  0.336216  0.125678"
       ]
      }
     ],
     "prompt_number": 10
    },
    {
     "cell_type": "code",
     "collapsed": false,
     "input": [
      "np.asarray(df)"
     ],
     "language": "python",
     "metadata": {},
     "outputs": [
      {
       "metadata": {},
       "output_type": "pyout",
       "prompt_number": 11,
       "text": [
        "array([[-1.68473046, -1.61411495,  0.08023923, -1.20111378],\n",
        "       [ 0.10377037, -2.05097901, -0.05699605,  1.63480831],\n",
        "       [-0.13171584, -0.72207297,  0.07112033,  0.97639441],\n",
        "       [ 0.38567009,  0.16580471,  0.12333169, -1.05922022],\n",
        "       [ 0.74906882,  1.00759175, -0.94777076, -0.54882724],\n",
        "       [ 0.12781657, -0.98426416,  0.93658673, -1.10611851],\n",
        "       [-0.72851447,  0.76898165, -1.0010821 ,  1.1721406 ],\n",
        "       [-1.1914016 ,  0.42667381, -0.40714827, -0.74870594],\n",
        "       [-0.37250927, -0.20246151,  0.99431559, -0.09544651],\n",
        "       [-1.21167503, -0.53480017, -1.09000165, -2.07402908]])"
       ]
      }
     ],
     "prompt_number": 11
    },
    {
     "cell_type": "code",
     "collapsed": false,
     "input": [
      "df.T.dot(df)"
     ],
     "language": "python",
     "metadata": {},
     "outputs": [
      {
       "html": [
        "<div style=\"max-height:1000px;max-width:1500px;overflow:auto;\">\n",
        "<table border=\"1\" class=\"dataframe\">\n",
        "  <thead>\n",
        "    <tr style=\"text-align: right;\">\n",
        "      <th></th>\n",
        "      <th>A</th>\n",
        "      <th>B</th>\n",
        "      <th>C</th>\n",
        "      <th>D</th>\n",
        "    </tr>\n",
        "  </thead>\n",
        "  <tbody>\n",
        "    <tr>\n",
        "      <th>A</th>\n",
        "      <td> 7.149707</td>\n",
        "      <td>  2.949391</td>\n",
        "      <td> 1.471583</td>\n",
        "      <td>  3.690284</td>\n",
        "    </tr>\n",
        "    <tr>\n",
        "      <th>B</th>\n",
        "      <td> 2.949391</td>\n",
        "      <td> 10.445165</td>\n",
        "      <td>-2.482248</td>\n",
        "      <td> -0.048738</td>\n",
        "    </tr>\n",
        "    <tr>\n",
        "      <th>C</th>\n",
        "      <td> 1.471583</td>\n",
        "      <td> -2.482248</td>\n",
        "      <td> 5.150122</td>\n",
        "      <td>  0.530655</td>\n",
        "    </tr>\n",
        "    <tr>\n",
        "      <th>D</th>\n",
        "      <td> 3.690284</td>\n",
        "      <td> -0.048738</td>\n",
        "      <td> 0.530655</td>\n",
        "      <td> 13.960456</td>\n",
        "    </tr>\n",
        "  </tbody>\n",
        "</table>\n",
        "</div>"
       ],
       "metadata": {},
       "output_type": "pyout",
       "prompt_number": 13,
       "text": [
        "          A          B         C          D\n",
        "A  7.149707   2.949391  1.471583   3.690284\n",
        "B  2.949391  10.445165 -2.482248  -0.048738\n",
        "C  1.471583  -2.482248  5.150122   0.530655\n",
        "D  3.690284  -0.048738  0.530655  13.960456"
       ]
      }
     ],
     "prompt_number": 13
    },
    {
     "cell_type": "code",
     "collapsed": false,
     "input": [
      "s1 = Series(np.arange(5,10))\n",
      "s1.dot(s1)"
     ],
     "language": "python",
     "metadata": {},
     "outputs": [
      {
       "metadata": {},
       "output_type": "pyout",
       "prompt_number": 14,
       "text": [
        "255"
       ]
      }
     ],
     "prompt_number": 14
    },
    {
     "cell_type": "heading",
     "level": 4,
     "metadata": {},
     "source": [
      "5.2.14 Consol Display"
     ]
    },
    {
     "cell_type": "code",
     "collapsed": false,
     "input": [
      "#baseball = read_csv('a_large_data_set.csv')\n",
      "#print baseball (only have summary)\n",
      "#print baseball.ix[-20:, :12].to_string() represant as a tabulate formate"
     ],
     "language": "python",
     "metadata": {},
     "outputs": [],
     "prompt_number": 15
    },
    {
     "cell_type": "code",
     "collapsed": false,
     "input": [
      "DataFrame(randn(3,12))"
     ],
     "language": "python",
     "metadata": {},
     "outputs": [
      {
       "html": [
        "<pre>\n",
        "&ltclass 'pandas.core.frame.DataFrame'&gt\n",
        "Int64Index: 3 entries, 0 to 2\n",
        "Data columns (total 12 columns):\n",
        "0     3  non-null values\n",
        "1     3  non-null values\n",
        "2     3  non-null values\n",
        "3     3  non-null values\n",
        "4     3  non-null values\n",
        "5     3  non-null values\n",
        "6     3  non-null values\n",
        "7     3  non-null values\n",
        "8     3  non-null values\n",
        "9     3  non-null values\n",
        "10    3  non-null values\n",
        "11    3  non-null values\n",
        "dtypes: float64(12)\n",
        "</pre>"
       ],
       "metadata": {},
       "output_type": "pyout",
       "prompt_number": 21,
       "text": [
        "<class 'pandas.core.frame.DataFrame'>\n",
        "Int64Index: 3 entries, 0 to 2\n",
        "Data columns (total 12 columns):\n",
        "0     3  non-null values\n",
        "1     3  non-null values\n",
        "2     3  non-null values\n",
        "3     3  non-null values\n",
        "4     3  non-null values\n",
        "5     3  non-null values\n",
        "6     3  non-null values\n",
        "7     3  non-null values\n",
        "8     3  non-null values\n",
        "9     3  non-null values\n",
        "10    3  non-null values\n",
        "11    3  non-null values\n",
        "dtypes: float64(12)"
       ]
      }
     ],
     "prompt_number": 21
    },
    {
     "cell_type": "code",
     "collapsed": false,
     "input": [
      "df.C"
     ],
     "language": "python",
     "metadata": {},
     "outputs": [
      {
       "metadata": {},
       "output_type": "pyout",
       "prompt_number": 24,
       "text": [
        "2013-11-01    0.080239\n",
        "2013-11-02   -0.056996\n",
        "2013-11-03    0.071120\n",
        "2013-11-04    0.123332\n",
        "2013-11-05   -0.947771\n",
        "2013-11-06    0.936587\n",
        "2013-11-07   -1.001082\n",
        "2013-11-08   -0.407148\n",
        "2013-11-09    0.994316\n",
        "2013-11-10   -1.090002\n",
        "Freq: D, Name: C, dtype: float64"
       ]
      }
     ],
     "prompt_number": 24
    },
    {
     "cell_type": "heading",
     "level": 3,
     "metadata": {},
     "source": [
      "5.3 Panel"
     ]
    },
    {
     "cell_type": "code",
     "collapsed": false,
     "input": [],
     "language": "python",
     "metadata": {},
     "outputs": []
    }
   ],
   "metadata": {}
  }
 ]
}