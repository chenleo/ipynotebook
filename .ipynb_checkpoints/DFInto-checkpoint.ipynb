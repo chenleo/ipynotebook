{
 "metadata": {
  "name": ""
 },
 "nbformat": 3,
 "nbformat_minor": 0,
 "worksheets": [
  {
   "cells": [
    {
     "cell_type": "code",
     "collapsed": false,
     "input": [
      "from pandas import *"
     ],
     "language": "python",
     "metadata": {},
     "outputs": [],
     "prompt_number": 7
    },
    {
     "cell_type": "code",
     "collapsed": false,
     "input": [
      "# create a numpy array of 12 rows x 4 columns\n",
      "temp = random.randint(100, size = (12,4))"
     ],
     "language": "python",
     "metadata": {},
     "outputs": [],
     "prompt_number": 8
    },
    {
     "cell_type": "code",
     "collapsed": false,
     "input": [
      "temp"
     ],
     "language": "python",
     "metadata": {},
     "outputs": [
      {
       "output_type": "pyout",
       "prompt_number": 9,
       "text": [
        "array([[79, 92, 58, 65],\n",
        "       [39, 47, 92, 37],\n",
        "       [79, 22, 66, 53],\n",
        "       [57, 22, 30, 55],\n",
        "       [96, 32, 17,  4],\n",
        "       [53, 31, 12, 96],\n",
        "       [94, 69, 14, 79],\n",
        "       [56, 56, 28, 12],\n",
        "       [ 0, 57,  7, 11],\n",
        "       [32, 58, 86,  5],\n",
        "       [64, 98, 53, 22],\n",
        "       [39, 95, 80, 14]])"
       ]
      }
     ],
     "prompt_number": 9
    },
    {
     "cell_type": "code",
     "collapsed": false,
     "input": [
      "#Youtube\n",
      "from IPython.display import YouTubeVideo\n",
      "start_point = 7 #start seconds\n",
      "#YouTubeVideo('EckWHa1QvDU', start = 190) #\u590d\u8d5b\n",
      "#YouTubeVideo('qCRdaRyAoMM',start=190) #\u534a\u51b3\u8d5b\n",
      "#YouTubeVideo('NNUzJ2rhw2k',start = 182) #\u5468\u6770\u4f26 \u6597\u7434\n",
      "#YouTubeVideo('aJDak07xSkg', start = 7) #Mac tini\n",
      "#YouTubeVideo('iYWzMvlj2RQ') #Nvidia vs Linux \n",
      "#YouTubeVideo('7tHc9xWhFH4') #Haydn - Emperor Quartet Mvt.2"
     ],
     "language": "python",
     "metadata": {},
     "outputs": []
    }
   ],
   "metadata": {}
  }
 ]
}