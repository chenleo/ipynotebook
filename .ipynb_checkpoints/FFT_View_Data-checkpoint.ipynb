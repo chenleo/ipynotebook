{
 "metadata": {
  "name": ""
 },
 "nbformat": 3,
 "nbformat_minor": 0,
 "worksheets": [
  {
   "cells": [
    {
     "cell_type": "heading",
     "level": 1,
     "metadata": {
      "slideshow": {
       "slide_type": "slide"
      }
     },
     "source": [
      "Data Analyze Using FFT"
     ]
    },
    {
     "cell_type": "markdown",
     "metadata": {
      "slideshow": {
       "slide_type": "notes"
      }
     },
     "source": [
      "<center>**<font color=\"gray\">A data analysis scheme no one interested in.</font>**</center>"
     ]
    },
    {
     "cell_type": "code",
     "collapsed": false,
     "input": [
      "#For author\n",
      "%qtconsole"
     ],
     "language": "python",
     "metadata": {
      "slideshow": {
       "slide_type": "skip"
      }
     },
     "outputs": [],
     "prompt_number": 1
    },
    {
     "cell_type": "code",
     "collapsed": false,
     "input": [
      "#Reader starts from here\n",
      "%pylab inline\n",
      "import pandas as pd\n",
      "import numpy as np"
     ],
     "language": "python",
     "metadata": {},
     "outputs": [
      {
       "output_type": "stream",
       "stream": "stdout",
       "text": [
        "Populating the interactive namespace from numpy and matplotlib\n"
       ]
      }
     ],
     "prompt_number": 1
    },
    {
     "cell_type": "heading",
     "level": 2,
     "metadata": {
      "slideshow": {
       "slide_type": "slide"
      }
     },
     "source": [
      "Section 0: Introduction"
     ]
    },
    {
     "cell_type": "markdown",
     "metadata": {
      "slideshow": {
       "slide_type": "subslide"
      }
     },
     "source": [
      "* When we do experiment, and generate data. Our raw data is mostly time dependent signal: $\\vec{I}(t)$\n",
      "* What we would like to know from data, mainly is:\n",
      "<br>\n",
      "<font color=\"red\">\n",
      "    * What happened? What is that? (How to describe the certain event; I = ?)\n",
      "    * When does that happened? (And t = ?)\n",
      "</font>\n",
      "</br>\n",
      "* Ideally, with perfect measurement methods, we can achieve above information even by using our naked eye. However, we all know most of time it will not be possible.\n",
      "* First, let's make a basic review to see how difficult is that."
     ]
    },
    {
     "cell_type": "heading",
     "level": 3,
     "metadata": {},
     "source": [
      "0.1 Time v.s. Frequency Representation"
     ]
    },
    {
     "cell_type": "markdown",
     "metadata": {},
     "source": [
      "* For any time domain signal, $\\vec{I}(t)$, to transform it into frequency domain, one can simply apply the function fft to it, without any idea what does that mean:\n",
      "\n",
      "<center>$\\vec{F}(\\omega) = fft(\\vec{I}(t))$</center>\n",
      "\n",
      "* Of course, fft is reversible (ifft stands for inverse fft):\n",
      "\n",
      "<center> $\\vec{I}(t) = ifft(\\vec{F}(\\omega))$</center>\n",
      "\n",
      "* These two representations discribe the same data. the same as <font color=\"blue\">*Prof. Dr. J\u00f6rg Langowski*</font> and <font color=\"red\">*Chief of B040 in DKFZ*</font> represent same person."
     ]
    },
    {
     "cell_type": "heading",
     "level": 3,
     "metadata": {},
     "source": [
      "0.2 Gaussian form wave pack: <font color = \"blue\">*the simplest representation of single event*</font>"
     ]
    },
    {
     "cell_type": "markdown",
     "metadata": {},
     "source": [
      "* Normalized gaussian distribution, should be the simplest way to describe individual event. \n",
      "* The general form of Gaussian is:\n",
      "<center>$I(t) = Ae^{-{ (t-\\tau)^2 \\over 2\\sigma^2}} + D$</center>\n",
      "* Then, a Gaussian shape event can be discribed as:\n",
      "    * How does it look like:\n",
      "        * Height A\n",
      "        * Width $\\sigma$\n",
      "    * When does it happened?\n",
      "        * Time $\\tau$\n",
      "    * What else?\n",
      "        * Offset D"
     ]
    },
    {
     "cell_type": "markdown",
     "metadata": {},
     "source": [
      "* For the simplest case, let's take look at the frequency spectrom.\n",
      "* We plot Time domain representation first, then the abslute applitude of Frequency representation.\n",
      "* Change <font color=\"blue\"> W </font> to see what will happe.\n",
      "* **<font color=\"grey\">(Wider in time domain, then shaper in frequency domain)</font>**"
     ]
    },
    {
     "cell_type": "code",
     "collapsed": false,
     "input": [
      "# plot wave pack and fft wave pack\n",
      "# change w and rerun\n",
      "N = 128       #data length\n",
      "A = 1          #amplitude\n",
      "W = 72.0       #Width, W > 0, and .0 is required\n",
      "t = arange(-N/2+1,N/2)\n",
      "data = A*exp(-t**2/W)\n",
      "\n",
      "figure(1)\n",
      "subplot(2,1,1)\n",
      "plot(t, data)\n",
      "legend([\"Time Domain\"])\n",
      "subplot(2,1,2)\n",
      "plot(t, fftshift(abs(fft.fft(data))),'r')\n",
      "legend([\"Fourier Domain\"])"
     ],
     "language": "python",
     "metadata": {},
     "outputs": [
      {
       "metadata": {},
       "output_type": "pyout",
       "prompt_number": 83,
       "text": [
        "<matplotlib.legend.Legend at 0x10e0d5710>"
       ]
      },
      {
       "metadata": {},
       "output_type": "display_data",
       "png": "[encoded data removed]",
       "text": [
        "<matplotlib.figure.Figure at 0x10dd66b90>"
       ]
      }
     ],
     "prompt_number": 83
    },
    {
     "cell_type": "markdown",
     "metadata": {},
     "source": [
      "* "
     ]
    },
    {
     "cell_type": "code",
     "collapsed": false,
     "input": [
      "test=arange(1,3)\n",
      "exp(-test ** 2)\n",
      "len(t)"
     ],
     "language": "python",
     "metadata": {},
     "outputs": [
      {
       "metadata": {},
       "output_type": "pyout",
       "prompt_number": 47,
       "text": [
        "1023"
       ]
      }
     ],
     "prompt_number": 47
    },
    {
     "cell_type": "heading",
     "level": 2,
     "metadata": {},
     "source": [
      "Section 1: Global FFT"
     ]
    },
    {
     "cell_type": "code",
     "collapsed": false,
     "input": [
      "exp(-10/10)"
     ],
     "language": "python",
     "metadata": {},
     "outputs": [
      {
       "metadata": {},
       "output_type": "pyout",
       "prompt_number": 32,
       "text": [
        "0.36787944117144233"
       ]
      }
     ],
     "prompt_number": 32
    },
    {
     "cell_type": "heading",
     "level": 2,
     "metadata": {},
     "source": [
      "Section 2: Local FFT"
     ]
    },
    {
     "cell_type": "code",
     "collapsed": false,
     "input": [],
     "language": "python",
     "metadata": {},
     "outputs": [],
     "prompt_number": 3
    },
    {
     "cell_type": "code",
     "collapsed": false,
     "input": [],
     "language": "python",
     "metadata": {},
     "outputs": [],
     "prompt_number": 3
    },
    {
     "cell_type": "code",
     "collapsed": false,
     "input": [],
     "language": "python",
     "metadata": {},
     "outputs": [],
     "prompt_number": 3
    },
    {
     "cell_type": "code",
     "collapsed": false,
     "input": [],
     "language": "python",
     "metadata": {},
     "outputs": [],
     "prompt_number": 3
    },
    {
     "cell_type": "code",
     "collapsed": false,
     "input": [],
     "language": "python",
     "metadata": {},
     "outputs": [],
     "prompt_number": 3
    },
    {
     "cell_type": "code",
     "collapsed": false,
     "input": [],
     "language": "python",
     "metadata": {},
     "outputs": [],
     "prompt_number": 3
    },
    {
     "cell_type": "code",
     "collapsed": false,
     "input": [],
     "language": "python",
     "metadata": {},
     "outputs": [],
     "prompt_number": 3
    },
    {
     "cell_type": "heading",
     "level": 2,
     "metadata": {},
     "source": [
      "Section 3: Local FFT inreversable"
     ]
    },
    {
     "cell_type": "code",
     "collapsed": false,
     "input": [
      "#Calculate Auto-correlation function based on fft\n",
      "#only support 1D\n",
      "#for cross correlation, in optimisation\n",
      "#input data suggest to be numpy.ndarray(1d) or pandas.core.series.Series\n",
      "def acf_fft(data):\n",
      "    \"\"\" Series or 1darray ---> Series \n",
      "        Calculate the auto correlation function of data\n",
      "    \"\"\"\n",
      "    data_mean = data.mean()\n",
      "    fft_data = np.fft.fft(data)\n",
      "    acf = ifft(fft_data.__mul__(fft_data.conj())/fft_data[0])/data_mean - 1;\n",
      "    acf = acf.real[0:int(len(acf)/2)]\n",
      "    return acf"
     ],
     "language": "python",
     "metadata": {
      "slideshow": {
       "slide_type": "skip"
      }
     },
     "outputs": [],
     "prompt_number": 3
    },
    {
     "cell_type": "code",
     "collapsed": false,
     "input": [
      "##Initialize for test case\n",
      "#Data Length\n",
      "N = 1000\n",
      "\n",
      "#Offset:\n",
      "A = 1\n"
     ],
     "language": "python",
     "metadata": {
      "slideshow": {
       "slide_type": "skip"
      }
     },
     "outputs": [],
     "prompt_number": 78
    },
    {
     "cell_type": "code",
     "collapsed": false,
     "input": [
      "#figure(1) constant data\n",
      "data1 = A * np.ones(N)\n",
      "figure(1)\n",
      "title(\"ACF Constant\")\n",
      "subplot(3,1,1)\n",
      "plot(data1)\n",
      "subplot(3,1,2)\n",
      "plot(fftshift(abs(fft.fft(data1))),'rx')\n",
      "subplot(3,1,3)\n",
      "plot(acf_fft(data1),'bx')"
     ],
     "language": "python",
     "metadata": {
      "slideshow": {
       "slide_type": "fragment"
      }
     },
     "outputs": [
      {
       "metadata": {},
       "output_type": "pyout",
       "prompt_number": 81,
       "text": [
        "[<matplotlib.lines.Line2D at 0x106ea57d0>]"
       ]
      },
      {
       "metadata": {},
       "output_type": "display_data",
       "png": "[encoded data removed]",
       "text": [
        "<matplotlib.figure.Figure at 0x107a73b90>"
       ]
      }
     ],
     "prompt_number": 81
    },
    {
     "cell_type": "code",
     "collapsed": false,
     "input": [
      "#figure(2): white noise:\n",
      "data2 = A * randn(N)\n",
      "figure(2)\n",
      "title(\"ACF White Noise\")\n",
      "subplot(3,1,1)\n",
      "plot(data2)\n",
      "subplot(3,1,2)\n",
      "Todo:"
     ],
     "language": "python",
     "metadata": {},
     "outputs": [
      {
       "metadata": {},
       "output_type": "pyout",
       "prompt_number": 83,
       "text": [
        "[<matplotlib.lines.Line2D at 0x108b54990>]"
       ]
      },
      {
       "metadata": {},
       "output_type": "display_data",
       "png": "[encoded data removed]",
       "text": [
        "<matplotlib.figure.Figure at 0x108b39fd0>"
       ]
      }
     ],
     "prompt_number": 83
    },
    {
     "cell_type": "code",
     "collapsed": false,
     "input": [
      "figure(1)\n",
      "subplot(3,1,1)"
     ],
     "language": "python",
     "metadata": {
      "slideshow": {
       "slide_type": "fragment"
      }
     },
     "outputs": [
      {
       "metadata": {},
       "output_type": "pyout",
       "prompt_number": 15,
       "text": [
        "<matplotlib.axes.AxesSubplot at 0x3ae1890>"
       ]
      },
      {
       "metadata": {},
       "output_type": "display_data",
       "png": "[encoded data removed]",
       "text": [
        "<matplotlib.figure.Figure at 0x3ae19d0>"
       ]
      }
     ],
     "prompt_number": 15
    },
    {
     "cell_type": "code",
     "collapsed": false,
     "input": [
      "ceil(12.3)"
     ],
     "language": "python",
     "metadata": {},
     "outputs": [
      {
       "metadata": {},
       "output_type": "pyout",
       "prompt_number": 15,
       "text": [
        "13.0"
       ]
      }
     ],
     "prompt_number": 15
    },
    {
     "cell_type": "code",
     "collapsed": false,
     "input": [],
     "language": "python",
     "metadata": {},
     "outputs": [],
     "prompt_number": 15
    },
    {
     "cell_type": "code",
     "collapsed": false,
     "input": [],
     "language": "python",
     "metadata": {},
     "outputs": [],
     "prompt_number": 15
    },
    {
     "cell_type": "code",
     "collapsed": false,
     "input": [],
     "language": "python",
     "metadata": {},
     "outputs": [],
     "prompt_number": 15
    },
    {
     "cell_type": "code",
     "collapsed": false,
     "input": [],
     "language": "python",
     "metadata": {},
     "outputs": [],
     "prompt_number": 15
    },
    {
     "cell_type": "code",
     "collapsed": false,
     "input": [],
     "language": "python",
     "metadata": {},
     "outputs": [],
     "prompt_number": 15
    },
    {
     "cell_type": "code",
     "collapsed": false,
     "input": [],
     "language": "python",
     "metadata": {},
     "outputs": [],
     "prompt_number": 15
    },
    {
     "cell_type": "code",
     "collapsed": false,
     "input": [],
     "language": "python",
     "metadata": {},
     "outputs": [],
     "prompt_number": 15
    },
    {
     "cell_type": "code",
     "collapsed": false,
     "input": [],
     "language": "python",
     "metadata": {},
     "outputs": [],
     "prompt_number": 15
    },
    {
     "cell_type": "code",
     "collapsed": false,
     "input": [],
     "language": "python",
     "metadata": {},
     "outputs": [],
     "prompt_number": 15
    },
    {
     "cell_type": "code",
     "collapsed": false,
     "input": [],
     "language": "python",
     "metadata": {},
     "outputs": [],
     "prompt_number": 15
    },
    {
     "cell_type": "code",
     "collapsed": false,
     "input": [],
     "language": "python",
     "metadata": {},
     "outputs": [],
     "prompt_number": 15
    },
    {
     "cell_type": "code",
     "collapsed": false,
     "input": [],
     "language": "python",
     "metadata": {},
     "outputs": [],
     "prompt_number": 15
    },
    {
     "cell_type": "code",
     "collapsed": false,
     "input": [],
     "language": "python",
     "metadata": {},
     "outputs": [],
     "prompt_number": 15
    },
    {
     "cell_type": "code",
     "collapsed": false,
     "input": [],
     "language": "python",
     "metadata": {},
     "outputs": [],
     "prompt_number": 15
    },
    {
     "cell_type": "code",
     "collapsed": false,
     "input": [],
     "language": "python",
     "metadata": {},
     "outputs": [],
     "prompt_number": 15
    },
    {
     "cell_type": "code",
     "collapsed": false,
     "input": [],
     "language": "python",
     "metadata": {},
     "outputs": [],
     "prompt_number": 15
    },
    {
     "cell_type": "code",
     "collapsed": false,
     "input": [],
     "language": "python",
     "metadata": {},
     "outputs": []
    },
    {
     "cell_type": "code",
     "collapsed": false,
     "input": [
      "from IPython.display import YouTubeVideo\n",
      "start_point = 0 #start seconds\n",
      "#YouTubeVideo('EckWHa1QvDU', start = start_point) #\u590d\u8d5b\n",
      "#YouTubeVideo('qCRdaRyAoMM',start=start_point) #\u534a\u51b3\u8d5b\n",
      "#YouTubeVideo('NNUzJ2rhw2k') #\u5468\u6770\u4f26 \u6597\u7434\n",
      "#YouTubeVideo('aJDak07xSkg') #Mac tini\n",
      "YouTubeVideo('iYWzMvlj2RQ') #Nvidia vs Linux "
     ],
     "language": "python",
     "metadata": {},
     "outputs": [
      {
       "html": [
        "\n",
        "        <iframe\n",
        "            width=\"400\"\n",
        "            height=300\"\n",
        "            src=\"http://www.youtube.com/embed/iYWzMvlj2RQ\"\n",
        "            frameborder=\"0\"\n",
        "            allowfullscreen\n",
        "        ></iframe>\n",
        "        "
       ],
       "metadata": {},
       "output_type": "pyout",
       "prompt_number": 84,
       "text": [
        "<IPython.lib.display.YouTubeVideo at 0x10b2550d0>"
       ]
      }
     ],
     "prompt_number": 84
    },
    {
     "cell_type": "code",
     "collapsed": false,
     "input": [
      "whos"
     ],
     "language": "python",
     "metadata": {},
     "outputs": [
      {
       "output_type": "stream",
       "stream": "stdout",
       "text": [
        "Variable       Type      Data/Info\n",
        "----------------------------------\n",
        "YouTubeVideo   type      <class 'IPython.lib.display.YouTubeVideo'>\n",
        "pd             module    <module 'pandas' from '/U<...>ges/pandas/__init__.pyc'>\n",
        "start_point    int       0\n"
       ]
      }
     ],
     "prompt_number": 6
    },
    {
     "cell_type": "code",
     "collapsed": false,
     "input": [],
     "language": "python",
     "metadata": {},
     "outputs": [
      {
       "ename": "NameError",
       "evalue": "name 'ipython' is not defined",
       "output_type": "pyerr",
       "traceback": [
        "\u001b[0;31m---------------------------------------------------------------------------\u001b[0m\n\u001b[0;31mNameError\u001b[0m                                 Traceback (most recent call last)",
        "\u001b[0;32m<ipython-input-13-72dbff75bfbf>\u001b[0m in \u001b[0;36m<module>\u001b[0;34m()\u001b[0m\n\u001b[0;32m----> 1\u001b[0;31m \u001b[0mipython\u001b[0m\u001b[0;34m.\u001b[0m\u001b[0m__version__\u001b[0m\u001b[0;34m\u001b[0m\u001b[0m\n\u001b[0m",
        "\u001b[0;31mNameError\u001b[0m: name 'ipython' is not defined"
       ]
      }
     ],
     "prompt_number": 13
    },
    {
     "cell_type": "code",
     "collapsed": false,
     "input": [],
     "language": "python",
     "metadata": {},
     "outputs": []
    }
   ],
   "metadata": {}
  }
 ]
}