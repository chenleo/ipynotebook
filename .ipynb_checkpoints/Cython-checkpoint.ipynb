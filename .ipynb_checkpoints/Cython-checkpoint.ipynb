{
 "metadata": {
  "name": ""
 },
 "nbformat": 3,
 "nbformat_minor": 0,
 "worksheets": [
  {
   "cells": [
    {
     "cell_type": "heading",
     "level": 1,
     "metadata": {
      "slideshow": {
       "slide_type": "slide"
      }
     },
     "source": [
      "Cython Tutorial"
     ]
    },
    {
     "cell_type": "markdown",
     "metadata": {
      "slideshow": {
       "slide_type": "notes"
      }
     },
     "source": [
      "* Reference:\n",
      "    * Cython Tutorial Release 2011\n",
      "    * Cython Tutorial Release 0.15pre"
     ]
    },
    {
     "cell_type": "code",
     "collapsed": false,
     "input": [
      "#initialize\n",
      "%matplotlib inline\n",
      "%qtconsole"
     ],
     "language": "python",
     "metadata": {
      "slideshow": {
       "slide_type": "skip"
      }
     },
     "outputs": [],
     "prompt_number": 1
    },
    {
     "cell_type": "heading",
     "level": 2,
     "metadata": {},
     "source": [
      "1 Normal python style"
     ]
    },
    {
     "cell_type": "markdown",
     "metadata": {},
     "source": [
      "* Write file gravity.py\n",
      "* cp gravity.py to gravity_cy.pyx"
     ]
    },
    {
     "cell_type": "code",
     "collapsed": false,
     "input": [
      "%%writefile cython/gravity.py\n",
      "#gravity.py\n",
      "from math import sqrt\n",
      "\n",
      "class Planet(object):\n",
      "    def __init__(self):\n",
      "        # Some initial position and velocity\n",
      "        self.x = 1.0\n",
      "        self.y = 0.0\n",
      "        self.z = 0.0\n",
      "        self.vx = 0.0\n",
      "        self.vy = 0.5\n",
      "        self.vz = 0.0\n",
      "        \n",
      "        # Some mass\n",
      "        self.m = 1.0\n",
      "        \n",
      "def single_step(planet, dt):\n",
      "    \"\"\" Make a single time step \"\"\"\n",
      "    \n",
      "    # compute Force: gravity towards origin\n",
      "    distance = sqrt(planet.x ** 2 + planet.y ** 2 + planet.z ** 2)\n",
      "    Fx = -planet.x / distance ** 3\n",
      "    Fy = -planet.y / distance ** 3\n",
      "    Fz = -planet.z / distance ** 3\n",
      "    \n",
      "    # Time step position, according to velocity\n",
      "    planet.x += dt * planet.vx\n",
      "    planet.y += dt * planet.vy\n",
      "    planet.z += dt * planet.vz\n",
      "    \n",
      "    # Time step velocity, according to force and mass\n",
      "    planet.vx += dt * Fx / planet.m\n",
      "    planet.vy += dt * Fy / planet.m\n",
      "    planet.vz += dt * Fz / planet.m\n",
      "    \n",
      "def step_time(planet, time_span, n_steps):\n",
      "    \"\"\"Make a number of time steps forward \"\"\"\n",
      "    \n",
      "    dt = time_span / n_steps\n",
      "    for j in xrange(n_steps):\n",
      "        single_step(planet, dt)"
     ],
     "language": "python",
     "metadata": {},
     "outputs": [
      {
       "output_type": "stream",
       "stream": "stdout",
       "text": [
        "Writing cython/gravity.py\n"
       ]
      }
     ],
     "prompt_number": 16
    },
    {
     "cell_type": "code",
     "collapsed": false,
     "input": [
      "!cp cython/gravity.py cython/gravity_cy.pyx"
     ],
     "language": "python",
     "metadata": {},
     "outputs": [],
     "prompt_number": 28
    },
    {
     "cell_type": "markdown",
     "metadata": {},
     "source": [
      "* Write setup.py"
     ]
    },
    {
     "cell_type": "code",
     "collapsed": false,
     "input": [
      "%%writefile cython/setup.py\n",
      "from distutils.core import setup\n",
      "from distutils.extension import Extension\n",
      "from Cython.Distutils import build_ext\n",
      "\n",
      "setup(\n",
      "      cmdclass = {'build_ext': build_ext},\n",
      "      ext_modules = [Extension(\"gravity_cy\",\n",
      "                               [\"gravity_cy.pyx\"],\n",
      "                    ),\n",
      "])"
     ],
     "language": "python",
     "metadata": {},
     "outputs": [
      {
       "output_type": "stream",
       "stream": "stdout",
       "text": [
        "Writing cython/setup.py\n"
       ]
      }
     ],
     "prompt_number": 29
    },
    {
     "cell_type": "code",
     "collapsed": false,
     "input": [
      "#Then run command in normal shell\n",
      "#   $ python setup.py build\n",
      "#   or\n",
      "#   $ python setup.py build_ext -i"
     ],
     "language": "python",
     "metadata": {},
     "outputs": [],
     "prompt_number": 37
    },
    {
     "cell_type": "heading",
     "level": 2,
     "metadata": {},
     "source": [
      "2 Type declarations in cython"
     ]
    },
    {
     "cell_type": "markdown",
     "metadata": {},
     "source": [
      "* Syntax\n",
      "\n",
      "    * **<font color=\"green\">def</font>** some_function (some_type some_parameter):\n",
      "        * **<font color=\"green\">cdef</font> <font color=\"red\">another_type</font>** variable\n",
      "        * ..."
     ]
    },
    {
     "cell_type": "code",
     "collapsed": false,
     "input": [
      "%load cython/gravity_cy.pyx"
     ],
     "language": "python",
     "metadata": {},
     "outputs": [],
     "prompt_number": 40
    },
    {
     "cell_type": "code",
     "collapsed": false,
     "input": [
      "#gravity.py\n",
      "from math import sqrt\n",
      "\n",
      "class Planet(object):\n",
      "    def __init__(self):\n",
      "        # Some initial position and velocity\n",
      "        self.x = 1.0\n",
      "        self.y = 0.0\n",
      "        self.z = 0.0\n",
      "        self.vx = 0.0\n",
      "        self.vy = 0.5\n",
      "        self.vz = 0.0\n",
      "        \n",
      "        # Some mass\n",
      "        self.m = 1.0\n",
      "        \n",
      "def single_step(planet, dt):\n",
      "    \"\"\" Make a single time step \"\"\"\n",
      "    \n",
      "    # compute Force: gravity towards origin\n",
      "    distance = sqrt(planet.x ** 2 + planet.y ** 2 + planet.z ** 2)\n",
      "    Fx = -planet.x / distance ** 3\n",
      "    Fy = -planet.y / distance ** 3\n",
      "    Fz = -planet.z / distance ** 3\n",
      "    \n",
      "    # Time step position, according to velocity\n",
      "    planet.x += dt * planet.vx\n",
      "    planet.y += dt * planet.vy\n",
      "    planet.z += dt * planet.vz\n",
      "    \n",
      "    # Time step velocity, according to force and mass\n",
      "    planet.vx += dt * Fx / planet.m\n",
      "    planet.vy += dt * Fy / planet.m\n",
      "    planet.vz += dt * Fz / planet.m\n",
      "    \n",
      "def step_time(planet, time_span, n_steps):\n",
      "    \"\"\"Make a number of time steps forward \"\"\"\n",
      "    \n",
      "    dt = time_span / n_steps\n",
      "    for j in xrange(n_steps):\n",
      "        single_step(planet, dt)"
     ],
     "language": "python",
     "metadata": {},
     "outputs": []
    },
    {
     "cell_type": "code",
     "collapsed": false,
     "input": [],
     "language": "python",
     "metadata": {},
     "outputs": []
    }
   ],
   "metadata": {}
  }
 ]
}