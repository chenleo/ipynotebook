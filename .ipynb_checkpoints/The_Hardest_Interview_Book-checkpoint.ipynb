{
 "metadata": {
  "name": ""
 },
 "nbformat": 3,
 "nbformat_minor": 0,
 "worksheets": [
  {
   "cells": [
    {
     "cell_type": "heading",
     "level": 1,
     "metadata": {},
     "source": [
      "The Hardest Coding Cook Book"
     ]
    },
    {
     "cell_type": "code",
     "collapsed": false,
     "input": [
      "%qtconsole"
     ],
     "language": "python",
     "metadata": {},
     "outputs": [],
     "prompt_number": 1
    },
    {
     "cell_type": "heading",
     "level": 2,
     "metadata": {},
     "source": [
      "Chapter 5  Primitive Tyes"
     ]
    },
    {
     "cell_type": "heading",
     "level": 3,
     "metadata": {},
     "source": [
      "Problem 5.1 : Computing Parity:\n",
      "------\n",
      "<font color = \"blue\">How would you go about computing the parity of a very large number of 64-bit nonnegtive integers?</font>"
     ]
    },
    {
     "cell_type": "code",
     "collapsed": false,
     "input": [
      "#What is Parity?\n",
      "#Parity is defined as the even/odd number of bit 1 in the representation of binary.\n",
      "#e.g. parity(10) is 0, since the number of 1 bits in 10 is 2(even)\n",
      "def parity(num):\n",
      "    result = 0\n",
      "    while (num):\n",
      "        result ^= 1        #Important: += is increment\n",
      "        num &= (num -1)    #do not forget to renew\n",
      "    return result"
     ],
     "language": "python",
     "metadata": {},
     "outputs": [],
     "prompt_number": 16
    },
    {
     "cell_type": "code",
     "collapsed": false,
     "input": [
      "#test case:\n",
      "test = 10\n",
      "print bin(test), parity(test)"
     ],
     "language": "python",
     "metadata": {},
     "outputs": [
      {
       "output_type": "stream",
       "stream": "stdout",
       "text": [
        "0b1010 0\n"
       ]
      }
     ],
     "prompt_number": 22
    },
    {
     "cell_type": "code",
     "collapsed": false,
     "input": [
      "#Note:\n",
      "#x & (x - 1): clear least significant bit\n",
      "#x & ~(x - 1): keep the lowest set bit\n",
      "#x ^ (x >> 1): What the hell is this? (Gray code)!!"
     ],
     "language": "python",
     "metadata": {},
     "outputs": [],
     "prompt_number": 23
    },
    {
     "cell_type": "heading",
     "level": 3,
     "metadata": {},
     "source": [
      "Promblem 5.2 Swap Bits: ------ A 64-bit integer can be viewed as an array of 64 bits, with the bit at index 0 corresponding to the least significant bit, and the bit at index 63 corresponding to the most significant bit. <font color=\"blue\"> Implement code that takes as input a 64-bit integer x and swaps the bits at indices $i$ and $j$.</font>"
     ]
    },
    {
     "cell_type": "code",
     "collapsed": false,
     "input": [
      "#Python does not constrain the bits length of a object, but in C++ does.\n",
      "#Check the data type to use before write the code.\n",
      "def swap(num, i, j):\n",
      "    if num & 1 << i != num & 1 << j :\n",
      "        num ^= (1 << i | 1 << j)        #num^= 1<<i: flip the i bit value\n",
      "    return num"
     ],
     "language": "python",
     "metadata": {},
     "outputs": [],
     "prompt_number": 18
    },
    {
     "cell_type": "code",
     "collapsed": false,
     "input": [
      "#Test case:\n",
      "test = 10\n",
      "i = 4\n",
      "j = 3\n",
      "print bin(test), bin(swap(test, i, j))"
     ],
     "language": "python",
     "metadata": {},
     "outputs": [
      {
       "output_type": "stream",
       "stream": "stdout",
       "text": [
        "0b1010 0b10010\n"
       ]
      }
     ],
     "prompt_number": 20
    },
    {
     "cell_type": "code",
     "collapsed": false,
     "input": [],
     "language": "python",
     "metadata": {},
     "outputs": []
    }
   ],
   "metadata": {}
  }
 ]
}