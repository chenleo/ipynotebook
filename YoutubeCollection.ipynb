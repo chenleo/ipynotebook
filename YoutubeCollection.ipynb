{
 "metadata": {
  "name": ""
 },
 "nbformat": 3,
 "nbformat_minor": 0,
 "worksheets": [
  {
   "cells": [
    {
     "cell_type": "markdown",
     "metadata": {},
     "source": [
      "<h1>Collection of Youtube</h1>"
     ]
    },
    {
     "cell_type": "code",
     "collapsed": false,
     "input": [
      "from IPython.display import YouTubeVideo"
     ],
     "language": "python",
     "metadata": {},
     "outputs": [],
     "prompt_number": 1
    },
    {
     "cell_type": "code",
     "collapsed": false,
     "input": [
      "#YouTubeVideo('EckWHa1QvDU', start = 190) #\u590d\u8d5b\n",
      "YouTubeVideo('qCRdaRyAoMM',start=190) #\u534a\u51b3\u8d5b\n",
      "#YouTubeVideo('NNUzJ2rhw2k',start = 182) #\u5468\u6770\u4f26 \u6597\u7434\n",
      "#YouTubeVideo('aJDak07xSkg', start = 7) #Mac tini\n",
      "#YouTubeVideo('iYWzMvlj2RQ', start = 25) #Nvidia vs Linux \n",
      "#YouTubeVideo('7tHc9xWhFH4') #Haydn - Emperor Quartet Mvt.2"
     ],
     "language": "python",
     "metadata": {},
     "outputs": [
      {
       "html": [
        "\n",
        "        <iframe\n",
        "            width=\"400\"\n",
        "            height=300\"\n",
        "            src=\"http://www.youtube.com/embed/qCRdaRyAoMM?start=190\"\n",
        "            frameborder=\"0\"\n",
        "            allowfullscreen\n",
        "        ></iframe>\n",
        "        "
       ],
       "metadata": {},
       "output_type": "pyout",
       "prompt_number": 6,
       "text": [
        "<IPython.lib.display.YouTubeVideo at 0x5fb47f0>"
       ]
      }
     ],
     "prompt_number": 6
    },
    {
     "cell_type": "code",
     "collapsed": false,
     "input": [
      "YouTubeVideo(\"6YDl3vafIjs\") #\u52a0\u52d2\u6bd4\u6d77\u76d7 David Garrett"
     ],
     "language": "python",
     "metadata": {},
     "outputs": [
      {
       "html": [
        "\n",
        "        <iframe\n",
        "            width=\"400\"\n",
        "            height=300\"\n",
        "            src=\"http://www.youtube.com/embed/6YDl3vafIjs\"\n",
        "            frameborder=\"0\"\n",
        "            allowfullscreen\n",
        "        ></iframe>\n",
        "        "
       ],
       "metadata": {},
       "output_type": "pyout",
       "prompt_number": 50,
       "text": [
        "<IPython.lib.display.YouTubeVideo at 0x102549b90>"
       ]
      }
     ],
     "prompt_number": 50
    },
    {
     "cell_type": "code",
     "collapsed": false,
     "input": [
      "#Bach Solo 1001 - 1006\n",
      "#YouTubeVideo(\"V8K19_4WhUA\") #1001 1/2\n",
      "#YouTubeVideo(\"mQoA2CYnMXs\") #1001 2/2\n",
      "YouTubeVideo(\"6V6yWQp4XWM\") #demo OF IV Pestro\n",
      "\n",
      "#YouTubeVideo(\"AfgtlTKPKMI\") #1002 1/2\n",
      "#YouTubeVideo(\"\") #1002 2/2"
     ],
     "language": "python",
     "metadata": {},
     "outputs": [
      {
       "html": [
        "\n",
        "        <iframe\n",
        "            width=\"400\"\n",
        "            height=300\"\n",
        "            src=\"http://www.youtube.com/embed/6V6yWQp4XWM\"\n",
        "            frameborder=\"0\"\n",
        "            allowfullscreen\n",
        "        ></iframe>\n",
        "        "
       ],
       "metadata": {},
       "output_type": "pyout",
       "prompt_number": 2,
       "text": [
        "<IPython.lib.display.YouTubeVideo at 0x5fb44e0>"
       ]
      }
     ],
     "prompt_number": 2
    },
    {
     "cell_type": "code",
     "collapsed": false,
     "input": [
      "#\u4e1c\u65b9\u7cfb\u5217 ZUN\u539f\u7248\n",
      "YouTubeVideo(\"RleHd8seJEc\") #\u3010\u6771\u65b9\u539f\u66f2touhou\u3011\u5e7d\u970a\u697d\u56e3\u3000\uff5e Phantom Ensemble\n",
      "#YouTubeVideo(\"jbDOYdjsO8A\") #\u3010\u6771\u65b9\u539f\u66f2\u3011\u61d0\u304b\u3057\u304d\u6771\u65b9\u306e\u8840\u3000\uff5e Old World\n",
      "#YouTubeVideo(\"ETTk83qis0w\") #Mokou's Theme - Reach for the Moon, Immortal Smoke(\u817e\u539f\u59b9\u8679)\n",
      "#YouTubeVideo(\"HRQiuLLyOxs\") #\"\u5e7d\u96c5\u306b\u54b2\u304b\u305b\u3001\u58a8\u67d3\u306e\u685c\"\"\u30dc\u30fc\u30c0\u30fc\u30aa\u30d6\u30e9\u30a4\u30d5\"\n",
      "#YouTubeVideo(\"TIZ-8xWK7g4\") #\u604b\u8272\u30de\u30b9\u30bf\u30fc\u30b9\u30d1\u30fc\u30af\uff08Mastar spark of love color\uff09\n",
      "#YouTubeVideo(\"v8sFNknCh2w\") #\u5c11\u5973\u7dba\u60f3\u66f2\u3000\uff5e Dream Battle - Rock Remix\n",
      "#YouTubeVideo(\"lVwstM4vZC8\") #Alice's Theme - Doll Judgment\n",
      "#YouTubeVideo(\"KLU4_EWFdwE\") #Touhou4 \u6771\u65b9 [Piano] Bad Apple!!\n",
      "\n",
      "#YouTubeVideo(\"oqoa_YsvbkE\") #\u3010\u6771\u65b9\u5730\u970a\u6bbf\u3011\uff5e \u5c11\u5973\u3055\u3068\u308a\u3000\uff5e3rd eye"
     ],
     "language": "python",
     "metadata": {},
     "outputs": [
      {
       "html": [
        "\n",
        "        <iframe\n",
        "            width=\"400\"\n",
        "            height=300\"\n",
        "            src=\"http://www.youtube.com/embed/RleHd8seJEc\"\n",
        "            frameborder=\"0\"\n",
        "            allowfullscreen\n",
        "        ></iframe>\n",
        "        "
       ],
       "metadata": {},
       "output_type": "pyout",
       "prompt_number": 11,
       "text": [
        "<IPython.lib.display.YouTubeVideo at 0x5f47320>"
       ]
      }
     ],
     "prompt_number": 11
    },
    {
     "cell_type": "code",
     "collapsed": false,
     "input": [
      "#\u4e1c\u65b9\u7cfb\u5217 \u5e72\u74e2\u7881\u7248\n",
      "\n",
      "#YouTubeVideo(\"gpdA-pSVhCc\") #\u5e72\u74e2\u7881 \u205e\u205e \u970a\u77e5\u306e\u592a\u967d\u4fe1\u4ef0 -Nuclear Fusion- Hardcore.edt\n",
      "#YouTubeVideo(\"BPr9DeDWQwA\") #\u6771\u65b911 [Trance\u30a2\u30ec\u30f3\u30b8] // \u5c11\u5973\u3055\u3068\u308a -3rd eye-\n",
      "#YouTubeVideo(\"r97XfbNs1MU\") #\u6771\u65b911 [HappyCore\u30a2\u30ec\u30f3\u30b8] // \u6b7b\u4f53\u65c5\u884c -Be of good cheer!-\n",
      "#YouTubeVideo(\"unxCOGKiLRY\") #\u4e1c\u65b911\uff1a\u30a8\u30cd\u30eb\u30ae\u30fc\u9ece\u660e\uff5e\u5730\u970a\u9054\u306e\u5e30\u5b85 Medley.edt\n",
      "YouTubeVideo(\"8tOaYmel5Ek\") #\u4e1c\u65b911: \u65e7\u5730\u7344\u8857\u9053\u3092\u884c\u304f Dance.edt\n",
      "#YouTubeVideo(\"TwlcvGaJf6s\") #!\u4e1c\u65b911\uff1a\u30e9\u30b9\u30c8\u30ea\u30e2\u30fc\u30c8 Electro.edt\n",
      "#YouTubeVideo(\"gifdNKUl6P4\") #\u4e1c\u65b911\uff1a \u30cf\u30fc\u30c8\u30d5\u30a7\u30eb\u30c8\u30d5\u30a1\u30f3\u30b7\u30fc Trance.edt\n",
      "\n",
      "#YouTubeVideo(\"LdZTFGmw3Eg\") #\u4e1c\u65b912\uff1a\u4e07\u5e74\u7f6e\u304d\u5098\u306b\u3054\u6ce8\u610f\u3092 -Festive extended\n",
      "\n",
      "#YouTubeVideo(\"KyVymOSfcGw\") #\u5c0f\u3055\u306a\u5c0f\u3055\u306a\u8ce2\u5c06 - Nostalgic extended (Short Version) \n",
      "#YouTubeVideo(\"FO1F3w6Ei2c\") #\u3010\u6771\u65b9\u661f\u84ee\u8239\u3011\u6625\u306e\u6e4a\u306b-Cosmic extended\u3010\u30a2\u30ec\u30f3\u30b8\u3011\n",
      "\n",
      "#YouTubeVideo(\"EyWjDLkfEEk\") # \u6771\u65b9\u5730\u970a\u6bbf \u300e\u30cf\u30fc\u30c8\u30d5\u30a7\u30eb\u30c8\u30d5\u30a1\u30f3\u30b7\u30fc\u300f\u30a2\u30ec\u30f3\u30b8\u3010\u5e72\u74e2\u7881\u3011\n",
      "\n",
      "#YouTubeVideo(\"KZK7r6bLYE0\") #\u6771\u65b911 [Asiafolk/Trance\u30a2\u30ec\u30f3\u30b8] // \u5ec3\u7344\u30e9\u30e9\u30d0\u30a4 "
     ],
     "language": "python",
     "metadata": {},
     "outputs": [
      {
       "html": [
        "\n",
        "        <iframe\n",
        "            width=\"400\"\n",
        "            height=300\"\n",
        "            src=\"http://www.youtube.com/embed/8tOaYmel5Ek\"\n",
        "            frameborder=\"0\"\n",
        "            allowfullscreen\n",
        "        ></iframe>\n",
        "        "
       ],
       "metadata": {},
       "output_type": "pyout",
       "prompt_number": 3,
       "text": [
        "<IPython.lib.display.YouTubeVideo at 0x5fb4668>"
       ]
      }
     ],
     "prompt_number": 3
    },
    {
     "cell_type": "code",
     "collapsed": false,
     "input": [
      "#outers\n",
      "YouTubeVideo(\"y3VVJE1lEtU\") #\u3010\u6771\u65b9\u30a2\u30ec\u30f3\u30b8\u3011\u7af9\u53d6\u98db\u7fd4\u3000\u707c\u51ac\u8d6b\u591c-\u5f10\u5f0f-"
     ],
     "language": "python",
     "metadata": {},
     "outputs": [
      {
       "html": [
        "\n",
        "        <iframe\n",
        "            width=\"400\"\n",
        "            height=300\"\n",
        "            src=\"http://www.youtube.com/embed/y3VVJE1lEtU\"\n",
        "            frameborder=\"0\"\n",
        "            allowfullscreen\n",
        "        ></iframe>\n",
        "        "
       ],
       "metadata": {},
       "output_type": "pyout",
       "prompt_number": 4,
       "text": [
        "<IPython.lib.display.YouTubeVideo at 0x102549090>"
       ]
      }
     ],
     "prompt_number": 4
    },
    {
     "cell_type": "code",
     "collapsed": false,
     "input": [
      "#\u4e1c\u65b9\u957f\u7248\n",
      "#YouTubeVideo(\"ZaP-hPRxcZ0\") #\u3010\u4f5c\u696d\u7528BGM\u3011\u6771\u65b9\u539f\u66f2\u30e1\u30c9\u30ec\u30fc \u795e\u66f2\u96c6(\u7d05\u9b54\u90f7\u301c\u795e\u970a\u5edf\uff09\n",
      "#YouTubeVideo(\"IdJ67WZA8IY\") #\u3010\u4f5c\u696d\u7528BGM\u3011\u6771\u65b9\u539f\u66f2\u30e1\u30c9\u30ec\u30fc \u795e\u66f2\u96c6(\u7d05\u9b54\u90f7\u301c\u795e\u970a\u5edf\uff09\u7b2c\u4e8c\u5f3e\n",
      "#YouTubeVideo(\"0GOA3kvP3Lg\") #Touhou 06 / \u6771\u65b9\u7d05\u9b54\u90f7\u3000\uff5e the Embodiment of Scarlet Devil OST\n",
      "#YouTubeVideo(\"pTEiwb9KxQY\") #\u3010\u4f5c\u696d\u7528BGM\u3011\u6771\u65b9\u8403\u5922\u60f3\u3000\uff5e Immaterial and Missing Power\u3010\u539f\u66f2\u30e1\u30c9\u30ec\u30fc\u3011\n",
      "#YouTubeVideo(\"8--xm4NxeyQ\") #\u3010\u4f5c\u696d\u7528BGM\u3011\u6771\u65b9\u5730\u970a\u6bbf\u3000\uff5e Subterranean Animism\u3010\u539f\u66f2\u30e1\u30c9\u30ec\u30fc\u3011\n",
      "#YouTubeVideo(\"mb2A_MyKmlk\") #Touhou 13 / \u6771\u65b9\u795e\u970a\u5edf\u3000\uff5e Ten Desires OST\n",
      "YouTubeVideo(\"BdFiHmcn8iE\") #\u3010\u4f5c\u696d\u7528BGM\u3011\u6771\u65b9\u8f1d\u91dd\u57ce\u539f\u66f2\u30e1\u30c9\u30ec\u30fc"
     ],
     "language": "python",
     "metadata": {},
     "outputs": [
      {
       "html": [
        "\n",
        "        <iframe\n",
        "            width=\"400\"\n",
        "            height=300\"\n",
        "            src=\"http://www.youtube.com/embed/BdFiHmcn8iE\"\n",
        "            frameborder=\"0\"\n",
        "            allowfullscreen\n",
        "        ></iframe>\n",
        "        "
       ],
       "metadata": {},
       "output_type": "pyout",
       "prompt_number": 7,
       "text": [
        "<IPython.lib.display.YouTubeVideo at 0x5fb4b38>"
       ]
      }
     ],
     "prompt_number": 7
    },
    {
     "cell_type": "code",
     "collapsed": false,
     "input": [],
     "language": "python",
     "metadata": {},
     "outputs": []
    },
    {
     "cell_type": "code",
     "collapsed": false,
     "input": [],
     "language": "python",
     "metadata": {},
     "outputs": []
    }
   ],
   "metadata": {}
  }
 ]
}