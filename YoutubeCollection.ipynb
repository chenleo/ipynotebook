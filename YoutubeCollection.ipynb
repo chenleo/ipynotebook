{
 "metadata": {
  "name": ""
 },
 "nbformat": 3,
 "nbformat_minor": 0,
 "worksheets": [
  {
   "cells": [
    {
     "cell_type": "markdown",
     "metadata": {},
     "source": [
      "<h1>Collection of Youtube</h1>"
     ]
    },
    {
     "cell_type": "code",
     "collapsed": false,
     "input": [
      "from IPython.display import YouTubeVideo"
     ],
     "language": "python",
     "metadata": {},
     "outputs": [],
     "prompt_number": 1
    },
    {
     "cell_type": "code",
     "collapsed": false,
     "input": [
      "#\u4e1c\u65b9\u7cfb\u5217 \u5e72\u74e2\u7881\u7248\n",
      "#YouTubeVideo(\"unxCOGKiLRY\") #\u4e1c\u65b911\uff1a\u30a8\u30cd\u30eb\u30ae\u30fc\u9ece\u660e\uff5e\u5730\u970a\u9054\u306e\u5e30\u5b85 Medley.edt\n",
      "#YouTubeVideo(\"8tOaYmel5Ek\") #\u4e1c\u65b911: \u65e7\u5730\u7344\u8857\u9053\u3092\u884c\u304f Dance.edt\n",
      "#YouTubeVideo(\"TwlcvGaJf6s\") #\u4e1c\u65b911\uff1a\u30e9\u30b9\u30c8\u30ea\u30e2\u30fc\u30c8 Electro.edt\n",
      "#YouTubeVideo(\"gifdNKUl6P4\") #\u4e1c\u65b911\uff1a \u30cf\u30fc\u30c8\u30d5\u30a7\u30eb\u30c8\u30d5\u30a1\u30f3\u30b7\u30fc Trance.edt\n",
      "\n",
      "#YouTubeVideo(\"LdZTFGmw3Eg\") #\u4e1c\u65b912\uff1a\u4e07\u5e74\u7f6e\u304d\u5098\u306b\u3054\u6ce8\u610f\u3092 -Festive extended\n",
      "\n",
      "YouTubeVideo(\"KyVymOSfcGw\") #\u5c0f\u3055\u306a\u5c0f\u3055\u306a\u8ce2\u5c06 - Nostalgic extended (Short Version) "
     ],
     "language": "python",
     "metadata": {},
     "outputs": [
      {
       "html": [
        "\n",
        "        <iframe\n",
        "            width=\"400\"\n",
        "            height=300\"\n",
        "            src=\"http://www.youtube.com/embed/KyVymOSfcGw\"\n",
        "            frameborder=\"0\"\n",
        "            allowfullscreen\n",
        "        ></iframe>\n",
        "        "
       ],
       "metadata": {},
       "output_type": "pyout",
       "prompt_number": 8,
       "text": [
        "<IPython.lib.display.YouTubeVideo at 0x102e2d210>"
       ]
      }
     ],
     "prompt_number": 8
    },
    {
     "cell_type": "code",
     "collapsed": false,
     "input": [],
     "language": "python",
     "metadata": {},
     "outputs": []
    }
   ],
   "metadata": {}
  }
 ]
}