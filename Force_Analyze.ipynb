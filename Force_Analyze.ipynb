{
 "metadata": {
  "name": "Force_Analyze"
 },
 "nbformat": 3,
 "nbformat_minor": 0,
 "worksheets": [
  {
   "cells": [
    {
     "cell_type": "heading",
     "level": 1,
     "metadata": {},
     "source": [
      "Force Analyze"
     ]
    },
    {
     "cell_type": "code",
     "collapsed": false,
     "input": [
      "#initialize.\n",
      "%pylab inline\n",
      "%qtconsole"
     ],
     "language": "python",
     "metadata": {},
     "outputs": [
      {
       "output_type": "stream",
       "stream": "stdout",
       "text": [
        "\n",
        "Welcome to pylab, a matplotlib-based Python environment [backend: module://IPython.zmq.pylab.backend_inline].\n",
        "For more information, type 'help(pylab)'.\n"
       ]
      }
     ],
     "prompt_number": 2
    },
    {
     "cell_type": "heading",
     "level": 2,
     "metadata": {},
     "source": [
      "-1. Introduction"
     ]
    },
    {
     "cell_type": "markdown",
     "metadata": {},
     "source": [
      "Force is the main reason that drives the molecular dynamic simulation. It was calculated every simuatlion step, in the use of updating coordinate of simulation structure. \n",
      "\n",
      "For a standard simulation procedure, from a certain pdb structure to simulation result, including the following steps:\n",
      "\n",
      "1. <h3>Descript the structure to make simulation program understandable:</h3>\n",
      "\n",
      "    1. Choose a certain Force Field, including the Atom discription(<font color=\"red\">**mass, charge**</font>), <font color=\"green\">bonded force</font>(<font color=\"red\">**bonds, pairs for nb14, angles, and dihedrals X2**</font>) and <font color=\"green\">nonbonded force</font> (<font color=\"red\">**vdw and coul**</font>)\n",
      "\n",
      "    2. Add water and salts.\n",
      "\n",
      "    3. for implicit solvent add other artificial effects\n",
      "\n",
      "2. <h3>Do Energy minimization.</h3>\n",
      "\n",
      "    1. To avoid force between particle and particle that larger than 1000 force unit (*$kJ\\cdot mol^{-1}\\cdot nm^{-1}$*)\n",
      "\n",
      "        1. As for:\n",
      "\n",
      "            $1kJ = 1000 N\\cdot m$\n",
      "\n",
      "            $1nm = 10 ^ {-9} m$\n",
      "\n",
      "            $1mol = 6.022\\cdot 10 ^ {-23}$ uintless\n",
      "            \n",
      "        2. So that, for 1 force unit:\n",
      "          \n",
      "            $1kJ\\cdot mol^{-1}\\cdot nm^{-1} = 1000 N \\cdot m \\div (6.022\\cdot 10 ^ {-23} \\cdot 10 ^ {-9} m) = 1.66 \\cdot 10^{-12}N = 1.66pN (picoNewton)$\n",
      "\n",
      "3. <h3>Main MD loop:</h3>\n",
      "    \n",
      "    1. while (steps < Set_to_simulation_steps)\n",
      "\n",
      "        {\n",
      "\n",
      "        dd_partition_system();\n",
      "\n",
      "        **<font color=\"green\">do_force();</font>**\n",
      "        \n",
      "        write_traj();\n",
      "\n",
      "        update();\n",
      "        \n",
      "        steps++;\n",
      "        \n",
      "        }\n",
      "\n",
      "    2. inside the loop, the steps do_force() calculate the forces and update the trajectory:\n",
      "\n",
      "        do_force()\n",
      "\n",
      "        {\n",
      "\n",
      "        dd_move_x();\n",
      "\n",
      "        <font color = \"red\">do_ns();</font>\n",
      "\n",
      "        <font color = \"green\">do_force_lowlevel();</font>\n",
      "\n",
      "        dd_move_f();\n",
      "\n",
      "        calc_viral();\n",
      "\n",
      "        anything else;\n",
      "\n",
      "        }\n",
      "\n",
      "    3. do_force_lowlevel(): The real scheme to calculate force, include:\n",
      "        \n",
      "        do_force_lowlevel()\n",
      "\n",
      "        {\n",
      "    \n",
      "        do_walls();  //calc forces and viral for walls\n",
      "\n",
      "        <font color = \"red\">do_nonbonded();</font>  //calc forces and viral from nonbonded interaction\n",
      "\n",
      "        <font color = \"red\">calc_bonds();</font>  //calc bonds\n",
      "\n",
      "        }\n",
      "\n",
      "4. <h3>finished and analyse result:</h3>\n",
      "    \n",
      "    since the function do_nonbonded() and cals_bonds() were merged forces together, the force analyse for each frame should seperate them.\n"
     ]
    },
    {
     "cell_type": "heading",
     "level": 2,
     "metadata": {},
     "source": [
      "0. Methods:"
     ]
    },
    {
     "cell_type": "markdown",
     "metadata": {},
     "source": [
      "* Basic Consideration:\n",
      "    \n",
      "    * F(total) = F(bonded) + F(nonbonded)\n",
      "\n",
      "        * For a single molecule, sum(F(bonded)) = 0;\n",
      "\n",
      "        * then: F(nonbonded) = F(total) - F(bonded)\n",
      "\n",
      "            1 If only need to know the force that loaded on molecules (globaly), then only bonded force is needed to be calculated out.\n",
      "\n",
      "            2 Pairwise force??\n",
      "\n",
      "                As: F(total) = F(internal) + F(external)\n",
      "\n",
      "                sum(F(internal)) == 0\n",
      "           \n",
      "                F(external) = ??(try: Should over write ns()? //or use an OO search type) ==> modified nblists afterwards\n",
      "        \n",
      "\n",
      "* Include:\n",
      "    \n",
      "    * Bonded (cals_bonds(): run sequencially, not so difficult)\n",
      "\n",
      "        * As the calculation is atomic based, first calculate the bonded force for each atom, then sequncially binned to resiedue.\n",
      "        \n",
      "            (To check: A-B-C F(A) + F(C) == F(B)? ) \n",
      "\n",
      "    * Nonbonded (do_nonbonded.c and in kernel. Different kernels, merged, seperatable?)\n",
      "\n",
      "        * elec (short and long, no PME)\n",
      "\n",
      "        * vdw (should exclude nb internal. How?) //==> use two nblist to store internal and external nblists.\n",
      "\n",
      "* Method:\n",
      "    \n",
      "    * If only bonded force included, the world will be happy. Simply used the build in function clac_bonds.\n",
      "\n",
      "    * To eveluate the nonbonded force, modification of kernel is not possible. \n",
      "        * The Brute force way is to write a method for all force(vdw and Coul) that include, and loop all of them. (Worst way, nb14 also affect)\n",
      "        * Improvement will be using the ns() (with different cut off?)\n",
      "        \n",
      "            However, severial problems will occurs:\n",
      "                \n",
      "                1 nb14 \n",
      "        \n",
      "                    Not included in nb_kernel, dumped into bounded. (mostly zeros)\n",
      "                \n",
      "                2 internal v.s external? (for DNA internal should define as Double Helix.)\n",
      "\n",
      "                    F = F(internal_bond) + F(internal_nonbonded) + F(external_nonbonded) ~ 0. (Can not be achieved since PME, water and ions are gone, the md external will never be the same with analyze external)"
     ]
    },
    {
     "cell_type": "code",
     "collapsed": false,
     "input": [],
     "language": "python",
     "metadata": {},
     "outputs": [],
     "prompt_number": 2
    },
    {
     "cell_type": "heading",
     "level": 2,
     "metadata": {},
     "source": [
      "1 Old PF eveluate"
     ]
    },
    {
     "cell_type": "markdown",
     "metadata": {},
     "source": [
      "* <h3>What can do?</h3>\n",
      "    * Pairwise force calculation, <font color = \"red\">(only)</font> support 1 slection or 2 selections (1 selection can be one molecule or some atoms, or some residues, whatever), and calculate forces acording to particle(atom) and residue map\n",
      "\n",
      "        * For 1 selection:\n",
      "            * bonded_force\n",
      "            * nonbonded_force\n",
      "            * nb14\n",
      "\n",
      "\n",
      "        * For 2 selections:\n",
      "            * Bonded_force (meaningless)      //to check for the parameter setting\n",
      "            * Nonbonded_force \n",
      "            * nb14                            //to check for the parameter setting"
     ]
    },
    {
     "cell_type": "markdown",
     "metadata": {},
     "source": [
      "* <h3>Not convience:</h3>\n",
      "    * Take a system with 4 protein molecules for example (for nucleosome has 1 dsDNA and 8 protein proteins.)\n",
      "        * for 2 selections scheme, $ {2\\choose4} =6$,\n",
      "        * which means, should change scripts 6 times, and run 6 times.\n",
      "        * for nucleosome, should do that for $ {2\\choose9} = 36$ times, for each combination\n",
      "    * of course, can do 1 selection for the whole structure, and render it into a colorful picture.\n",
      "        * But it includes(at least) for nonbonded forces, internal and external.\n",
      "        * Can be Conflicted. F(internal) = - F(external)"
     ]
    },
    {
     "cell_type": "heading",
     "level": 2,
     "metadata": {},
     "source": [
      "2 Reconstruct Old PF"
     ]
    },
    {
     "cell_type": "markdown",
     "metadata": {},
     "source": [
      "* Brute force test for 2 selections\n",
      "* Looping through index and sum F_coul and F_vdw\n",
      "    * Use the all to all kernal\n",
      "    * For small systems works fine, but not for nucleosome."
     ]
    },
    {
     "cell_type": "heading",
     "level": 2,
     "metadata": {},
     "source": [
      "3 New PF structure"
     ]
    },
    {
     "cell_type": "markdown",
     "metadata": {},
     "source": [
      "* Rely on nblist (cutoff setting), \n",
      "    * Modified it according to selection, and seperated nblists !!!\n",
      "\n",
      "* input: \n",
      "    * -s *.tpr <font color=\"red\">(included simulation setup, and topology which is needed)</font>\n",
      "    * -f *.xtc or *.trr <font color=\"red\">(simulation result, with coordinates)</font>\n",
      "    * -n *.ndx <font color=\"gray\">(not support yet)</font>\n",
      "\n",
      "* output: \n",
      "\n",
      "    * *bonded.trr:     bonded force for each frame/atoms\n",
      "    * *internal.trr:   internal nonbonded force for each frame/atoms\n",
      "    * *external.trr:   external nonbonded force for each frame/atoms\n",
      "    * *bonded.csv:     residue bonded force sequencially, should include index(Rn - Rn+1), n in [0, maxresidu_number_in_mol]\n",
      "    * *internal.csv:   residue based (for each residue number) internal force (for DNA include double-helix, for Protein define as each subunit)\n",
      "    * *external.csv:   <font color=\"green\">residue based (for DNA exclude double-helix) this is going to use for render in movie</font>"
     ]
    },
    {
     "cell_type": "heading",
     "level": 2,
     "metadata": {},
     "source": [
      "4 Other to consider"
     ]
    },
    {
     "cell_type": "code",
     "collapsed": false,
     "input": [
      "#nb14? \n",
      "    #in principle should be included into bonded."
     ],
     "language": "python",
     "metadata": {},
     "outputs": [],
     "prompt_number": 3
    },
    {
     "cell_type": "code",
     "collapsed": false,
     "input": [
      "#PME?\n",
      "    #should not include, check old version"
     ],
     "language": "python",
     "metadata": {},
     "outputs": [],
     "prompt_number": 4
    },
    {
     "cell_type": "heading",
     "level": 2,
     "metadata": {},
     "source": [
      "5 Controls"
     ]
    },
    {
     "cell_type": "heading",
     "level": 3,
     "metadata": {},
     "source": [
      "5.1 Old PF"
     ]
    },
    {
     "cell_type": "code",
     "collapsed": false,
     "input": [
      "#old PF\n",
      "#Tune the setting of the PME in *.mdp file for old PF for 2 selections"
     ],
     "language": "python",
     "metadata": {},
     "outputs": [],
     "prompt_number": 6
    },
    {
     "cell_type": "heading",
     "level": 3,
     "metadata": {},
     "source": [
      "5.2 New PF"
     ]
    },
    {
     "cell_type": "code",
     "collapsed": false,
     "input": [
      "#1 all force:\n",
      "# reference to simulation result directly."
     ],
     "language": "python",
     "metadata": {},
     "outputs": [],
     "prompt_number": 7
    },
    {
     "cell_type": "heading",
     "level": 2,
     "metadata": {},
     "source": [
      "6 Technical details"
     ]
    },
    {
     "cell_type": "heading",
     "level": 3,
     "metadata": {},
     "source": [
      "6.1 Over write ns()"
     ]
    },
    {
     "cell_type": "code",
     "collapsed": false,
     "input": [
      "# The most difficult part!!!!!!!\n",
      "# since max exclusion No. is 32, can not set exclusion to external mols.\n",
      "# Only can do : \n",
      "    # if (a_i.mol == a_j.mol) continue; // mol define DNA_1 + DNA_2\n",
      "    # how???????????"
     ],
     "language": "python",
     "metadata": {},
     "outputs": [],
     "prompt_number": 10
    },
    {
     "cell_type": "code",
     "collapsed": false,
     "input": [],
     "language": "python",
     "metadata": {},
     "outputs": []
    },
    {
     "cell_type": "heading",
     "level": 2,
     "metadata": {},
     "source": [
      "N: Artifects"
     ]
    },
    {
     "cell_type": "heading",
     "level": 3,
     "metadata": {},
     "source": [
      "N.1 Simulation time step consideration:"
     ]
    },
    {
     "cell_type": "code",
     "collapsed": false,
     "input": [],
     "language": "python",
     "metadata": {},
     "outputs": [
      {
       "output_type": "pyout",
       "prompt_number": 1,
       "text": [
        "17"
       ]
      }
     ],
     "prompt_number": 1
    },
    {
     "cell_type": "code",
     "collapsed": false,
     "input": [],
     "language": "python",
     "metadata": {},
     "outputs": []
    }
   ],
   "metadata": {}
  }
 ]
}