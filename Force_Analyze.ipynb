{
 "metadata": {
  "name": ""
 },
 "nbformat": 3,
 "nbformat_minor": 0,
 "worksheets": [
  {
   "cells": [
    {
     "cell_type": "markdown",
     "metadata": {
      "slideshow": {
       "slide_type": "slide"
      }
     },
     "source": [
      "<h1><center>Molecule Dynamic Simulation of nucleosome under Tension and Force Distribution Analyze</h1></center>\n",
      "<h3><center>Chen Chen</center></h3>\n",
      "<center>Supervised by: Prof. Dr. J\u00f6rg Langowski</center>\n",
      "<center>Co-operator: Dr. Frauke Gr\u00e4te</center>\n",
      "<center>Mentor: Dr. Senbo Xiao</center>"
     ]
    },
    {
     "cell_type": "code",
     "collapsed": false,
     "input": [
      "#initialize.http://127.0.0.1:8889/notebooks/Force_Analyze.ipynb#\n",
      "%autosave 120\n",
      "%pylab inline\n",
      "%qtconsole"
     ],
     "language": "python",
     "metadata": {
      "slideshow": {
       "slide_type": "skip"
      }
     },
     "outputs": [
      {
       "javascript": [
        "IPython.notebook.set_autosave_interval(120000)"
       ],
       "metadata": {},
       "output_type": "display_data"
      },
      {
       "output_type": "stream",
       "stream": "stdout",
       "text": [
        "Autosaving every 120 seconds\n",
        "Populating the interactive namespace from numpy and matplotlib"
       ]
      },
      {
       "output_type": "stream",
       "stream": "stdout",
       "text": [
        "\n"
       ]
      }
     ],
     "prompt_number": 4
    },
    {
     "cell_type": "code",
     "collapsed": false,
     "input": [
      "#Other initilize\n",
      "from IPython.display import HTML, Image"
     ],
     "language": "python",
     "metadata": {
      "slideshow": {
       "slide_type": "skip"
      }
     },
     "outputs": [],
     "prompt_number": 2
    },
    {
     "cell_type": "code",
     "collapsed": false,
     "input": [
      "#change working directory\n",
      "import os\n",
      "working_directory = \"/var/run/media/chen/Simulation/Simulation/100mM_1000f_vs_100f\"\n",
      "os.chdir(working_directory)"
     ],
     "language": "python",
     "metadata": {
      "slideshow": {
       "slide_type": "skip"
      }
     },
     "outputs": [],
     "prompt_number": 2
    },
    {
     "cell_type": "code",
     "collapsed": false,
     "input": [
      "#Other initialize\n",
      "import pandas as pd\n",
      "import numpy as np"
     ],
     "language": "python",
     "metadata": {
      "slideshow": {
       "slide_type": "skip"
      }
     },
     "outputs": [
      {
       "output_type": "stream",
       "stream": "stdout",
       "text": [
        "\n",
        "Caching the list of root modules, please wait!\n",
        "(This will only be done once - type '%rehashx' to reset cache!)\n",
        "\n"
       ]
      }
     ],
     "prompt_number": 2
    },
    {
     "cell_type": "markdown",
     "metadata": {
      "slideshow": {
       "slide_type": "slide"
      }
     },
     "source": [
      "<h1>Outline</h1>"
     ]
    },
    {
     "cell_type": "markdown",
     "metadata": {
      "slideshow": {
       "slide_type": "fragment"
      }
     },
     "source": [
      "* Introduction \n",
      "    * Molecular Dynamics (based on Gromacs-5.0dev)\n",
      "    * Discription of nucleosome"
     ]
    },
    {
     "cell_type": "markdown",
     "metadata": {
      "slideshow": {
       "slide_type": "fragment"
      }
     },
     "source": [
      "* Force Calculation\n",
      "    * During Simulation\n",
      "    * Force re-calculate from trajectory"
     ]
    },
    {
     "cell_type": "markdown",
     "metadata": {
      "slideshow": {
       "slide_type": "fragment"
      }
     },
     "source": [
      "* Data Analysis: a demo example\n",
      "    * Render in VMD\n",
      "    * Off-line data plot"
     ]
    },
    {
     "cell_type": "markdown",
     "metadata": {
      "slideshow": {
       "slide_type": "fragment"
      }
     },
     "source": [
      "* Summary and Outlook\n",
      "    * Possible improvement\n",
      "    * Personal imagination of MD package"
     ]
    },
    {
     "cell_type": "markdown",
     "metadata": {
      "slideshow": {
       "slide_type": "slide"
      }
     },
     "source": [
      "<h2>Introduction:</h2>\n",
      "\n",
      "* Molecular Dynamics (based on Gromacs-5.0dev)\n",
      "* Discription of nucleosome"
     ]
    },
    {
     "cell_type": "markdown",
     "metadata": {
      "slideshow": {
       "slide_type": "subslide"
      }
     },
     "source": [
      "<h3>Molecule Dynamics Simulation</h3>"
     ]
    },
    {
     "cell_type": "code",
     "collapsed": false,
     "input": [
      "#Typical Flow Chart of MD Simulation steps in Gromacs.\n",
      "Image(\"gromacs_flow_chart.png\")"
     ],
     "language": "python",
     "metadata": {
      "slideshow": {
       "slide_type": "fragment"
      }
     },
     "outputs": [
      {
       "metadata": {},
       "output_type": "pyout",
       "png": "[encoded data removed]",
       "prompt_number": 6,
       "text": [
        "<IPython.core.display.Image at 0x102755c10>"
       ]
      }
     ],
     "prompt_number": 6
    },
    {
     "cell_type": "markdown",
     "metadata": {
      "slideshow": {
       "slide_type": "subslide"
      }
     },
     "source": [
      "<h3>Description of Nucleosome</h3>"
     ]
    },
    {
     "cell_type": "code",
     "collapsed": false,
     "input": [
      "#The nucleosome that we familiar with\n",
      "Image(url = \"http://upload.wikimedia.org/wikipedia/commons/d/d9/Nucleosome_1KX5_colour_coded.png\")"
     ],
     "language": "python",
     "metadata": {
      "slideshow": {
       "slide_type": "fragment"
      }
     },
     "outputs": [
      {
       "html": [
        "<img src=\"http://upload.wikimedia.org/wikipedia/commons/d/d9/Nucleosome_1KX5_colour_coded.png\"/>"
       ],
       "metadata": {},
       "output_type": "pyout",
       "prompt_number": 8,
       "text": [
        "<IPython.core.display.Image at 0x102755b10>"
       ]
      }
     ],
     "prompt_number": 8
    },
    {
     "cell_type": "markdown",
     "metadata": {
      "slideshow": {
       "slide_type": "notes"
      }
     },
     "source": [
      "The crystal structure of the nucleosome core particle consisting of <font color=\"yellow\">H2A</font> , <font color=\"red\">H2B</font> , <font color=\"blue\">H3</font> and <font color=\"green\">H4</font> core histones, and DNA. The view is from the top through the superhelical axis."
     ]
    },
    {
     "cell_type": "markdown",
     "metadata": {
      "slideshow": {
       "slide_type": "subslide"
      }
     },
     "source": [
      "<h3>Description of nucleosome (in Gromacs) on different scales</h3>"
     ]
    },
    {
     "cell_type": "markdown",
     "metadata": {
      "slideshow": {
       "slide_type": "fragment"
      }
     },
     "source": [
      "* System:\n",
      "    * 1 Nucleosome"
     ]
    },
    {
     "cell_type": "markdown",
     "metadata": {
      "slideshow": {
       "slide_type": "fragment"
      }
     },
     "source": [
      "* Molecules:\n",
      "    * 8 histone subunits\n",
      "    * 2 DNA single strand"
     ]
    },
    {
     "cell_type": "markdown",
     "metadata": {
      "slideshow": {
       "slide_type": "fragment"
      }
     },
     "source": [
      "* Residues:\n",
      "    * 1306 residues\n",
      "        * 974 for Histone (with tails)\n",
      "        * 332 for DNA (147 core base pairs + 19 extra)"
     ]
    },
    {
     "cell_type": "markdown",
     "metadata": {
      "slideshow": {
       "slide_type": "fragment"
      }
     },
     "source": [
      "* Atoms:\n",
      "    * 26305 atoms"
     ]
    },
    {
     "cell_type": "markdown",
     "metadata": {
      "slideshow": {
       "slide_type": "subslide"
      }
     },
     "source": [
      "<h4>System:</h4>"
     ]
    },
    {
     "cell_type": "code",
     "collapsed": false,
     "input": [
      "#VMD as Conformation"
     ],
     "language": "python",
     "metadata": {},
     "outputs": []
    },
    {
     "cell_type": "markdown",
     "metadata": {
      "slideshow": {
       "slide_type": "subslide"
      }
     },
     "source": [
      "<h4>Mols (In VMD: Fragment)</h4>"
     ]
    },
    {
     "cell_type": "code",
     "collapsed": false,
     "input": [
      "#VMD as Fragment"
     ],
     "language": "python",
     "metadata": {
      "slideshow": {
       "slide_type": "fragment"
      }
     },
     "outputs": [],
     "prompt_number": 8
    },
    {
     "cell_type": "code",
     "collapsed": false,
     "input": [
      "#Expected~\n",
      "Image(url=\"http://www.accessexcellence.org/RC/VL/GG/images/nucleosome.gif\")"
     ],
     "language": "python",
     "metadata": {
      "slideshow": {
       "slide_type": "fragment"
      }
     },
     "outputs": [
      {
       "html": [
        "<img src=\"http://www.accessexcellence.org/RC/VL/GG/images/nucleosome.gif\"/>"
       ],
       "metadata": {},
       "output_type": "pyout",
       "prompt_number": 11,
       "text": [
        "<IPython.core.display.Image at 0x102755dd0>"
       ]
      }
     ],
     "prompt_number": 11
    },
    {
     "cell_type": "markdown",
     "metadata": {},
     "source": [
      "* Initial purpose is to simulate the butterfly effect, but may not came true in next N years."
     ]
    },
    {
     "cell_type": "markdown",
     "metadata": {
      "slideshow": {
       "slide_type": "subslide"
      }
     },
     "source": [
      "<h4>Residues</h4>"
     ]
    },
    {
     "cell_type": "code",
     "collapsed": false,
     "input": [
      "# VMD resid"
     ],
     "language": "python",
     "metadata": {},
     "outputs": [],
     "prompt_number": 12
    },
    {
     "cell_type": "markdown",
     "metadata": {
      "slideshow": {
       "slide_type": "subslide"
      }
     },
     "source": [
      "<h4>Basic assumption of Molecular Dynamics Simulation</h4>"
     ]
    },
    {
     "cell_type": "markdown",
     "metadata": {
      "slideshow": {
       "slide_type": "fragment"
      }
     },
     "source": [
      "* Simulations are classical:\n",
      "    * For a system of N interacting <font color=\"red\">atoms</font>:\n",
      "        * $m_i {\\partial^2 \\vec{r}_i \\over \\partial t^2} = \\vec{F}_i, i = 1...N$\n",
      "    * Forces are negative derivatives of a potential function V:\n",
      "        * $\\vec{F}_i = - {\\partial V \\over \\partial \\vec{r}_i}$"
     ]
    },
    {
     "cell_type": "markdown",
     "metadata": {
      "slideshow": {
       "slide_type": "fragment"
      }
     },
     "source": [
      "* Electrons are in the ground state"
     ]
    },
    {
     "cell_type": "markdown",
     "metadata": {
      "slideshow": {
       "slide_type": "fragment"
      }
     },
     "source": [
      "* Force Fields are approximate"
     ]
    },
    {
     "cell_type": "markdown",
     "metadata": {
      "slideshow": {
       "slide_type": "fragment"
      }
     },
     "source": [
      "* Pair-additive: (apart from long-range Coulomb forces)\n",
      "    * $\\vec{F}_{ij} = -\\vec{F}_{ji}$"
     ]
    },
    {
     "cell_type": "markdown",
     "metadata": {
      "slideshow": {
       "slide_type": "fragment"
      }
     },
     "source": [
      "* Long-range interactions are cut off"
     ]
    },
    {
     "cell_type": "markdown",
     "metadata": {
      "slideshow": {
       "slide_type": "fragment"
      }
     },
     "source": [
      "* Boundary conditions are unnatural\n",
      "    * \"Crowded\" environment"
     ]
    },
    {
     "cell_type": "markdown",
     "metadata": {},
     "source": [
      "<h3>We can not simulate nucleosome in vaccum!</h3>"
     ]
    },
    {
     "cell_type": "code",
     "collapsed": false,
     "input": [
      "#Nucleosome Boom!"
     ],
     "language": "python",
     "metadata": {},
     "outputs": [],
     "prompt_number": 14
    },
    {
     "cell_type": "markdown",
     "metadata": {
      "slideshow": {
       "slide_type": "slide"
      }
     },
     "source": [
      "<h3>Force Calculation</h3>"
     ]
    },
    {
     "cell_type": "markdown",
     "metadata": {
      "slideshow": {
       "slide_type": "fragment"
      }
     },
     "source": [
      "* Force is the main reason that drives the molecular dynamic simulation. \n",
      "    * It was calculated every simuatlion step.\n",
      "    * In using of updating coordinate of simulation structure.\n",
      "    * Using redused uint:\n",
      "        * $kJ\\cdot mol^{-1}\\cdot nm^{-1}$\n",
      "        * $1 kJ\\cdot mol^{-1}\\cdot nm^{-1}$        \n",
      "            * $= 1000 N \\cdot m \\div (6.022\\cdot 10 ^ {-23} \\cdot 10 ^ {-9} m)$\n",
      "            * $= 1.66 \\cdot 10^{-12}N = 1.66pN (picoNewton)$"
     ]
    },
    {
     "cell_type": "markdown",
     "metadata": {
      "slideshow": {
       "slide_type": "subslide"
      }
     },
     "source": [
      "<h4> Force Categories:</h4>"
     ]
    },
    {
     "cell_type": "markdown",
     "metadata": {
      "slideshow": {
       "slide_type": "fragment"
      }
     },
     "source": [
      "* Bonded Force: (Very Short range, List in topology file)\n",
      "    * Bonds (2 atoms)\n",
      "    * Angle (3 atoms)\n",
      "    * Proper Dihedrals (4 atoms)\n",
      "    * improper Dihedrales (4 atoms)\n",
      "    * nb14 (exclusion)"
     ]
    },
    {
     "cell_type": "markdown",
     "metadata": {
      "slideshow": {
       "slide_type": "fragment"
      }
     },
     "source": [
      "* Nonbonded Force: (Cut off and Correctness)\n",
      "    * Lennard-Jones (Short range)\n",
      "    * Coulomb (Long range)"
     ]
    },
    {
     "cell_type": "markdown",
     "metadata": {
      "slideshow": {
       "slide_type": "subslide"
      }
     },
     "source": [
      "<h4>Bonded Force</h4>"
     ]
    },
    {
     "cell_type": "code",
     "collapsed": false,
     "input": [
      "#Bonded force\n",
      "Image(\"bonded_force.png\")"
     ],
     "language": "python",
     "metadata": {
      "slideshow": {
       "slide_type": "fragment"
      }
     },
     "outputs": [
      {
       "metadata": {},
       "output_type": "pyout",
       "png": "[encoded data removed]",
       "prompt_number": 16,
       "text": [
        "<IPython.core.display.Image at 0x102755ed0>"
       ]
      }
     ],
     "prompt_number": 16
    },
    {
     "cell_type": "markdown",
     "metadata": {
      "slideshow": {
       "slide_type": "notes"
      }
     },
     "source": [
      "* Force palys the fundamental role in all biological processes. All biological motion, from cellular motility, to translation and replication of DNA, is driven by molecular-scale forces. To study the mechanical propreties of single nucleosome, we performed force spectroscopy simulation of our system. By loading certain force on the end of DNA linker, we can study the internal dynamic property. Such as: how does nucleosme keep stable when perturbation happenes? Which domain contributes most to stabilization?\n",
      "* Figure 1: Fragment representation:\n",
      "    * Nucleosome can be viewed as a DNA - Protein binding system: a double helix DNA wrapped 1.75 turns around 8 histone subunts, 10 molecule fragments in total. This image shows intermediate simulation step by loading force on both end of DNA. Different color represent different molecule fragments.\n",
      "* Figure 2: Force representation:\n",
      "    * From simulation trajectories we can calculate interactive force between DNA and histone, and color them according to force value on residue level. This figure shows the force representation of the same state as figure 1.\n",
      "* Figure 3: Force value plot(optional):\n",
      "    * We can do force analyze for certain residue we interested in, for example, plot the force as a time signal.\n",
      "    "
     ]
    },
    {
     "cell_type": "code",
     "collapsed": false,
     "input": [],
     "language": "python",
     "metadata": {},
     "outputs": []
    },
    {
     "cell_type": "markdown",
     "metadata": {
      "slideshow": {
       "slide_type": "fragment"
      }
     },
     "source": [
      "* Force is the main reason that drives the molecular dynamic simulation. It was calculated every simuatlion step, in the use of updating coordinate of simulation structure. \n",
      "\n",
      "* For a standard simulation procedure, from a certain pdb structure to simulation result, including the following steps:"
     ]
    },
    {
     "cell_type": "heading",
     "level": 2,
     "metadata": {
      "slideshow": {
       "slide_type": "fragment"
      }
     },
     "source": [
      "-1.1 Descript the structure to make simulation program understandable:"
     ]
    },
    {
     "cell_type": "markdown",
     "metadata": {
      "slideshow": {
       "slide_type": "fragment"
      }
     },
     "source": [
      "* Choose a certain Force Field, including the Atom discription(<font color=\"red\">**mass, charge**</font>), <font color=\"green\">bonded force</font>(<font color=\"red\">**bonds, pairs for nb14, angles, and dihedrals X2**</font>) and <font color=\"green\">nonbonded force</font> (<font color=\"red\">**vdw and coulomb**</font>)\n",
      "\n",
      "* Add water and salts.\n",
      "\n",
      "* for implicit solvent add other artificial effects"
     ]
    },
    {
     "cell_type": "heading",
     "level": 3,
     "metadata": {
      "slideshow": {
       "slide_type": "fragment"
      }
     },
     "source": [
      "-1.2 Do Energy minimization"
     ]
    },
    {
     "cell_type": "markdown",
     "metadata": {
      "slideshow": {
       "slide_type": "fragment"
      }
     },
     "source": [
      "* To avoid force between particle and particle that larger than 1000 force unit (*$kJ\\cdot mol^{-1}\\cdot nm^{-1}$*)\n",
      "\n",
      "    * As for:\n",
      "\n",
      "        * $1kJ = 1000 N\\cdot m$\n",
      "\n",
      "        * $1nm = 10 ^ {-9} m$\n",
      "\n",
      "        * $1mol = 6.022\\cdot 10 ^ {-23}$ uintless\n",
      "        \n",
      "    * So that, for 1 force unit:\n",
      "      \n",
      "        * $1kJ\\cdot mol^{-1}\\cdot nm^{-1} = 1000 N \\cdot m \\div (6.022\\cdot 10 ^ {-23} \\cdot 10 ^ {-9} m) = 1.66 \\cdot 10^{-12}N = 1.66pN (picoNewton)$"
     ]
    },
    {
     "cell_type": "heading",
     "level": 3,
     "metadata": {
      "slideshow": {
       "slide_type": "fragment"
      }
     },
     "source": [
      "-1.3 Main MD Loop:"
     ]
    },
    {
     "cell_type": "markdown",
     "metadata": {},
     "source": [
      "* while (steps < Set_to_simulation_steps)\n",
      "\n",
      "    * {\n",
      "\n",
      "        * dd_partition_system();\n",
      "\n",
      "        * **<font color=\"green\">do_force();</font>**\n",
      "    \n",
      "        * write_traj();\n",
      "\n",
      "        * update();\n",
      "    \n",
      "        * steps++;\n",
      "    \n",
      "    * }"
     ]
    },
    {
     "cell_type": "markdown",
     "metadata": {},
     "source": [
      "* inside the loop, the steps do_force() calculate the forces and update the trajectory:\n",
      "\n",
      "    * do_force()\n",
      "\n",
      "    * {\n",
      "\n",
      "        * dd_move_x();\n",
      "\n",
      "        * **<font color = \"red\">do_ns();</font>**\n",
      "\n",
      "        * **<font color = \"green\">do_force_lowlevel();</font>**\n",
      "\n",
      "        * dd_move_f();\n",
      "\n",
      "        * calc_viral();\n",
      "\n",
      "        * anything else;\n",
      "\n",
      "    * }"
     ]
    },
    {
     "cell_type": "markdown",
     "metadata": {},
     "source": [
      "* do_force_lowlevel(): The core scheme to calculate force, include:\n",
      "    \n",
      "    * do_force_lowlevel()\n",
      "\n",
      "    * {\n",
      "\n",
      "        * do_walls();  //calc forces and viral for walls\n",
      "\n",
      "        * **<font color = \"red\">do_nonbonded();</font>**  //calc forces and viral from nonbonded interaction\n",
      "\n",
      "        * **<font color = \"red\">calc_bonds();</font>**  //calc bonds\n",
      "\n",
      "    * }"
     ]
    },
    {
     "cell_type": "heading",
     "level": 3,
     "metadata": {
      "slideshow": {
       "slide_type": "subslide"
      }
     },
     "source": [
      "-1.4 Finish MD and Force Distribution Analyzse"
     ]
    },
    {
     "cell_type": "markdown",
     "metadata": {},
     "source": [
      "* since the function do_nonbonded() and cals_bonds() were merged forces together, the force analyse for each frame should seperate them.\n"
     ]
    },
    {
     "cell_type": "heading",
     "level": 2,
     "metadata": {},
     "source": [
      "0. Methods:"
     ]
    },
    {
     "cell_type": "markdown",
     "metadata": {},
     "source": [
      "* Basic Consideration:\n",
      "    \n",
      "    * F(total) = F(bonded) + F(nonbonded)\n",
      "\n",
      "        * For a single molecule, sum(F(bonded)) = 0; sum(F(nonbonded)) = 0\n",
      "\n",
      "        * then: F(nonbonded) = F(total) - F(bonded)\n",
      "\n",
      "            1 If only need to know the force that loaded on molecules (globaly), then only bonded force is needed to be calculated out.\n",
      "\n",
      "            2 Pairwise force??\n",
      "\n",
      "                ToDo: explain detail or redifine //As: F(total) = F(internal) + F(external)\n",
      "\n",
      "                sum(F(internal)) == 0\n",
      "           \n",
      "                F(external) = ??(try: Should over write ns()? //or use an OO search type) ==> modified nblists afterwards\n",
      "    * Force(total) = F(bonded) + F(internal) + F(external)\n",
      "         \n",
      "\n",
      "* Include:\n",
      "    \n",
      "    * Bonded (cals_bonds(): run sequencially, not so difficult)\n",
      "\n",
      "        * As the calculation is atomic based, first calculate the bonded force for each atom, then sequncially binned to resiedue.\n",
      "        \n",
      "            (To check: A-B-C F(A) + F(C) == F(B)? ) \n",
      "\n",
      "    * Nonbonded (do_nonbonded.c and in kernel. Different kernels, merged, seperatable?)\n",
      "\n",
      "        * elec (short and long, no PME)\n",
      "\n",
      "        * vdw (should exclude nb internal. How?) //==> use two nblist to store internal and external nblists.\n",
      "\n",
      "* Method:\n",
      "    \n",
      "    * If only bonded force included, the world will be happy. Simply used the build in function clac_bonds.\n",
      "\n",
      "    * To eveluate the nonbonded force, modification of kernel is not possible. \n",
      "        * The Brute force way is to write a method for all force(vdw and Coul) that include, and loop all of them. (Worst way, nb14 also affect)\n",
      "        * Improvement will be using the ns() (with different cut off?)\n",
      "        \n",
      "            However, severial problems will occurs:\n",
      "                \n",
      "                1 nb14 \n",
      "        \n",
      "                    Not included in nb_kernel, dumped into bounded. (mostly zeros)\n",
      "                \n",
      "                2 internal v.s external? (for DNA internal should define as Double Helix.)\n",
      "\n",
      "                    F = F(internal_bond) + F(internal_nonbonded) + F(external_nonbonded) ~ 0. (Can not be achieved since PME, water and ions are gone, the md external will never be the same with analyze external)"
     ]
    },
    {
     "cell_type": "code",
     "collapsed": false,
     "input": [],
     "language": "python",
     "metadata": {},
     "outputs": [],
     "prompt_number": 2
    },
    {
     "cell_type": "heading",
     "level": 2,
     "metadata": {},
     "source": [
      "1 Old PF eveluate"
     ]
    },
    {
     "cell_type": "markdown",
     "metadata": {},
     "source": [
      "* <h3>What can do?</h3>\n",
      "    * Pairwise force calculation, <font color = \"red\">(only)</font> support 1 slection or 2 selections (1 selection can be one molecule or some atoms, or some residues, whatever), and calculate forces acording to particle(atom) and residue map\n",
      "\n",
      "        * For 1 selection:\n",
      "            * bonded_force\n",
      "            * nonbonded_force\n",
      "            * nb14\n",
      "\n",
      "\n",
      "        * For 2 selections:\n",
      "            * Bonded_force (most time meaningless)      //to check for the parameter setting\n",
      "            * Nonbonded_force \n",
      "            * nb14                            //to check for the parameter setting"
     ]
    },
    {
     "cell_type": "markdown",
     "metadata": {},
     "source": [
      "* <h3>Not convience:</h3>\n",
      "    * Take a system with 4 protein molecules for example (for nucleosome has 1 dsDNA and 8 protein proteins.)\n",
      "        * For 2 selections scheme, $ C{2\\choose4} =6$,\n",
      "        * which means, should change scripts 6 times, and run 6 times.\n",
      "        * for nucleosome, should do that for $ C{2\\choose9} = 36$ times, for each combination\n",
      "    * of course, can do 1 selection for the whole structure, and render it into a colorful picture.\n",
      "        * But it includes(at least) for nonbonded forces, internal and external.\n",
      "        * Can be Conflicted. F(internal) = - F(external)"
     ]
    },
    {
     "cell_type": "heading",
     "level": 2,
     "metadata": {},
     "source": [
      "2 Reconstruct Old PF"
     ]
    },
    {
     "cell_type": "markdown",
     "metadata": {},
     "source": [
      "* Brute force test for 2 selections\n",
      "* Looping through index and sum F_coul and F_vdw\n",
      "    * Use the all to all kernal\n",
      "    * For small systems works fine, but not for nucleosome.\n",
      "    \n",
      "* Can use the nbkernal All_vs_all"
     ]
    },
    {
     "cell_type": "heading",
     "level": 2,
     "metadata": {},
     "source": [
      "3 New PF <font color=\"red\">(short for *Partial Force*, not *Pairwise Force*)</font>structure"
     ]
    },
    {
     "cell_type": "markdown",
     "metadata": {},
     "source": [
      "* Gromacs Version: 5.0-dev\n",
      "    * New version is (somehow) C++ style, which is possible to do OO, and easy to reuse code\n",
      "* Rely on nblist (cutoff setting), \n",
      "    * Modified it according to selection, and seperated nblists !!!\n",
      "\n",
      "* input: \n",
      "    * -s *.tpr <font color=\"red\">(included simulation setup, and topology which is crucial)</font>\n",
      "    * -f *.xtc or *.trr <font color=\"red\">(simulation result, with coordinates)</font>\n",
      "    * -n *.ndx <font color=\"gray\">(not support yet)</font>\n",
      "\n",
      "* output: \n",
      "\n",
      "    * *bonded.trr:     bonded force for each frame/atoms(optional)\n",
      "    * *internal.trr:   internal nonbonded force for each frame/atoms(optional)\n",
      "    * *external.trr:   external nonbonded force for each frame/atoms(optional)\n",
      "    * <font color=\"red\">*bonded.csv:</font>     residue bonded force sequencially, should include index(Rn - Rn+1), n in [0, maxresidu_number_in_mol] \n",
      "    * <font color=\"red\">*internal.csv:</font>   residue based (for each residue number) internal force (for DNA include double-helix, for Protein define as each subunit)\n",
      "    * **<font color=\"red\">*external.csv:</font>   <font color=\"green\">residue based (for DNA exclude double-helix) this is going to use for render in VMD movie</font>**"
     ]
    },
    {
     "cell_type": "heading",
     "level": 3,
     "metadata": {},
     "source": [
      "3.1 Working Flows:"
     ]
    },
    {
     "cell_type": "markdown",
     "metadata": {},
     "source": [
      "* Principle:\n",
      "    * Keep all the function as it was. Do not modify the Basic API\n",
      "\n",
      "* Steps:\n",
      "    * Read in tpr file\n",
      "    * Generate atom\n",
      "    * for each frame in xtc file:\n",
      "        * calculate force and save"
     ]
    },
    {
     "cell_type": "heading",
     "level": 4,
     "metadata": {},
     "source": [
      "3.2 Corrnetness test: "
     ]
    },
    {
     "cell_type": "heading",
     "level": 4,
     "metadata": {},
     "source": [
      "3.2.1 Sum of force should be zero."
     ]
    },
    {
     "cell_type": "markdown",
     "metadata": {},
     "source": [
      "* For a system with 1708 Atoms, mistakes: (Float point round up problems)\n",
      "    * Bonded force: ~ 0.1%\n",
      "    * Internal: ~0.7%\n",
      "    * External: ~0.03%\n",
      "    * !! REMEMBER to clean the force after one circle\n",
      "* **ToDo**: output all the summed and max value,then know the ratio of real mistake "
     ]
    },
    {
     "cell_type": "heading",
     "level": 4,
     "metadata": {},
     "source": [
      "3.2.1 Others"
     ]
    },
    {
     "cell_type": "heading",
     "level": 3,
     "metadata": {},
     "source": [
      "3.3 Example:"
     ]
    },
    {
     "cell_type": "code",
     "collapsed": false,
     "input": [
      "os.listdir(working_directory)"
     ],
     "language": "python",
     "metadata": {},
     "outputs": [
      {
       "metadata": {},
       "output_type": "pyout",
       "prompt_number": 5,
       "text": [
        "['#md.log.1#',\n",
        " '#md.log.2#',\n",
        " 'force_bonded.csv',\n",
        " 'force_bonded_100mM_1000f_4ns.csv',\n",
        " 'force_external.csv',\n",
        " 'force_external_100mM_1000f_4ns.csv',\n",
        " 'force_internal.csv',\n",
        " 'force_internal_100mM_1000f_4ns.csv',\n",
        " 'md.log',\n",
        " 'nucleosome_forpf.tpr',\n",
        " 'nucleosome_vs_0mM_30nm_0_topull_100f_20ns.xtc',\n",
        " 'nucleosome_vs_0_20ns_30nm_1000mM_reset_70f_27ns.xtc',\n",
        " 'nucleosome_vs_0_30nm_1000mM_1000f_pull4ns.xtc',\n",
        " 'nucleosome_vs_0_30nm_100mM_1000f_4ns.xtc',\n",
        " 'nucleosome_vs_0_30nm_100mM_100f_20ns.xtc',\n",
        " 'nucleosome_vs_100mM_30nm_0_topull_100f_20ns.xtc',\n",
        " 'nucleosome_vs_30nm_1000mM_50f_50ns.xtc',\n",
        " 'nucleosome_vs_30nm_1000mM_90f_50ns.xtc']"
       ]
      }
     ],
     "prompt_number": 5
    },
    {
     "cell_type": "code",
     "collapsed": false,
     "input": [
      "fm = pd.read_csv('force_external_)\n",
      "cl=fm.columns"
     ],
     "language": "python",
     "metadata": {},
     "outputs": [],
     "prompt_number": 9
    },
    {
     "cell_type": "code",
     "collapsed": false,
     "input": [
      "dt = fm[cl[0]]"
     ],
     "language": "python",
     "metadata": {},
     "outputs": [
      {
       "ename": "NameError",
       "evalue": "name 'fm' is not defined",
       "output_type": "pyerr",
       "traceback": [
        "\u001b[1;31m---------------------------------------------------------------------------\u001b[0m\n\u001b[1;31mNameError\u001b[0m                                 Traceback (most recent call last)",
        "\u001b[1;32m<ipython-input-1-881476a13128>\u001b[0m in \u001b[0;36m<module>\u001b[1;34m()\u001b[0m\n\u001b[1;32m----> 1\u001b[1;33m \u001b[0mdt\u001b[0m \u001b[1;33m=\u001b[0m \u001b[0mfm\u001b[0m\u001b[1;33m[\u001b[0m\u001b[0mcl\u001b[0m\u001b[1;33m[\u001b[0m\u001b[1;36m0\u001b[0m\u001b[1;33m]\u001b[0m\u001b[1;33m]\u001b[0m\u001b[1;33m\u001b[0m\u001b[0m\n\u001b[0m",
        "\u001b[1;31mNameError\u001b[0m: name 'fm' is not defined"
       ]
      }
     ],
     "prompt_number": 1
    },
    {
     "cell_type": "code",
     "collapsed": false,
     "input": [
      "df = fm[cl[491]]\n",
      "a = plot(dt, df)"
     ],
     "language": "python",
     "metadata": {},
     "outputs": [
      {
       "metadata": {},
       "output_type": "display_data",
       "png": "[encoded data removed]",
       "text": [
        "<matplotlib.figure.Figure at 0x46f7fd0>"
       ]
      }
     ],
     "prompt_number": 29
    },
    {
     "cell_type": "code",
     "collapsed": false,
     "input": [
      "max(df)\n",
      "cl[491]"
     ],
     "language": "python",
     "metadata": {},
     "outputs": [
      {
       "metadata": {},
       "output_type": "pyout",
       "prompt_number": 31,
       "text": [
        "'491-LYS'"
       ]
      }
     ],
     "prompt_number": 31
    },
    {
     "cell_type": "heading",
     "level": 2,
     "metadata": {},
     "source": [
      "4 Other to consider"
     ]
    },
    {
     "cell_type": "markdown",
     "metadata": {},
     "source": [
      "* nb14? \n",
      "    * in principle should be included into bonded."
     ]
    },
    {
     "cell_type": "markdown",
     "metadata": {},
     "source": [
      "* Vsite:\n",
      "    * Take care, the atom index list may not corresipond, somehow should be check carefully."
     ]
    },
    {
     "cell_type": "markdown",
     "metadata": {},
     "source": [
      "* PME?\n",
      "    * should not include, check old version"
     ]
    },
    {
     "cell_type": "heading",
     "level": 2,
     "metadata": {},
     "source": [
      "5 Controls"
     ]
    },
    {
     "cell_type": "heading",
     "level": 3,
     "metadata": {},
     "source": [
      "5.1 Old PF"
     ]
    },
    {
     "cell_type": "markdown",
     "metadata": {},
     "source": [
      "* Old PF\n",
      "* Tune the setting of the PME in *.mdp file for old PF for 2 selections"
     ]
    },
    {
     "cell_type": "heading",
     "level": 3,
     "metadata": {},
     "source": [
      "5.2 New PF"
     ]
    },
    {
     "cell_type": "markdown",
     "metadata": {},
     "source": [
      "* 1 all force:\n",
      "    * Reference to simulation result directly. (check if use the same kernal)"
     ]
    },
    {
     "cell_type": "heading",
     "level": 2,
     "metadata": {},
     "source": [
      "6 Technical details"
     ]
    },
    {
     "cell_type": "heading",
     "level": 3,
     "metadata": {},
     "source": [
      "6.1 Modified the nblist"
     ]
    },
    {
     "cell_type": "markdown",
     "metadata": {},
     "source": [
      "* The most difficult part!!!!!!!\n",
      "    * since MAX exclusion No. is 32, can not set exclusion to external mols.\n",
      "    * Only can do : \n",
      "        * if (a_i.mol == a_j.mol) continue; // mol define DNA_1 + DNA_2\n",
      "        * how?\n",
      "         \n",
      "* The structure of nblist:\n",
      "    * For atom i = N, N in range(0, max_index)\n",
      "        * ij in range(ij[N], ij[N+1])\n",
      "        * jlist[ij], do something for i and jlist[ij];\n",
      "        \n",
      "        \n",
      "* Between ns() and do_nonbonded(), Resize the ij, and jlist:\n",
      "    * Algorithm:\n",
      "        * for i in range(0, max_index): //from 1 nblist to 2 nblist\n",
      "            * for ij in range(ij[i], ij[N+1]):\n",
      "                * if (jlist[ij].mol == i.mol):\n",
      "                    * put ij in list_internal\n",
      "                * else:\n",
      "                    * put ij in list_external\n",
      "    * After that:\n",
      "        * set nblist_external = list_external; \n",
      "        * set nblist_internal = list_internal;\n",
      "* do_nonbonded(): save f(internal) and f_long(external) seperately\n",
      "* calc_bond(): save f(bond)\n",
      "* save each frame residue based data as csv format.\n",
      "                    \n",
      "* !!!Take care of the virtual site force"
     ]
    },
    {
     "cell_type": "heading",
     "level": 4,
     "metadata": {},
     "source": [
      "6.1.0 Data Structure of t_nblist"
     ]
    },
    {
     "cell_type": "markdown",
     "metadata": {},
     "source": [
      "* Data Structure of t_nblist:\n",
      "    * int igeometry; // The type of list(atom, water, etc.)\n",
      "    * int elec; // Coulomb loop type index for kernals\n",
      "    * int ielecmod; //Coulomb modifier (e.g. switch/shift) <font color=\"gray\">what the hell</font>\n",
      "    * int ivdw; //VdW loop type index for kernels\n",
      "    * int ivdwmod; //VdW modifier (e.g. switch/shift)\n",
      "    * int type; //Type of interaction, listed in gmx_nblist_interaction_type\n",
      "    * int nri, maxnri; //Current/max number of i particles\n",
      "    * int nrj, maxnrj; //Current/max number of j particles\n",
      "    * int maxlen; //maxnr of j atoms for a single i atom\n",
      "    * int* iinr; //The i-elements\n",
      "    * int* iinr_end; // the end atom only with enlist CG;\n",
      "    * int* gid; // Index in energy arrays\n",
      "    * int* shift; // Shift vector index;\n",
      "    * int* jindex; //index in jjnr\n",
      "    * int* jjnr; //The j-atom list\n",
      "    * int* jjnr_end; //The end atom, only with enltypeCG\n",
      "    * t_excl* excl; //Exclustions, only with enltypeCG\n",
      "\n",
      "    * void* kernelptr_vf;\n",
      "    * void* kernelptr_v;\n",
      "    * void* kernelptr_f;\n",
      "    * int simd_padding_width;\n",
      "    \n",
      "         * For atom I =  nblist->iinr[N] (0 <= N < nblist->nri) there can be\n",
      "         * several neighborlists (N's), for different energy groups (gid) and\n",
      "         * different shifts (shift).\n",
      "         * For corresponding J atoms for each list start at:\n",
      "         * nblist->jjnr[JI]\n",
      "         * with nblist->jindex[N] <= JI < nblist->jindex[N+1]\n",
      "         *\n",
      "         * enlist is of the form enlistUNIT1_UNIT2:\n",
      "         * UNIT ATOM:  there is one atom: iinr[N] or jjnr[JI]\n",
      "         * UNIT SPC:   there are 3 atoms: iinr[N],iinr[N]+1,iinr[N]+2, jjnr analog.\n",
      "         * UNIT TIP4P: there are 4 atoms: iinr[N],...,iinr[N]+3, jjnr analog.\n",
      "         * UNIT CG:    there are N atoms: iinr[N],...,iinr_end[N]-1, jjnr analog.\n",
      "         *\n",
      "         * Clear?"
     ]
    },
    {
     "cell_type": "heading",
     "level": 4,
     "metadata": {},
     "source": [
      "6.1.1 How to use official nb()?"
     ]
    },
    {
     "cell_type": "markdown",
     "metadata": {},
     "source": [
      "* According the rule of no breaking basic API, which means, no modification of origin code is allowed, what can we do?\n",
      "    * Notice inside nb_kernal_*, there is a check for valid atom.\n",
      "    * Seperate the *jjnr may not really matter. (may waste of 8*iinr)\n",
      "    * Do_nobonded() twice.\n",
      "    "
     ]
    },
    {
     "cell_type": "markdown",
     "metadata": {},
     "source": [
      "* Also, should deeply understand the data structure of gmx_mtop_t\n",
      "    * char **name; // Name of the topology\n",
      "    * gmx_ffparams_t ffparams; // force field parameters.\n",
      "    * int nmoltype; //How many mols in the topology?\n",
      "    * gmx_moltype_t *moltype; //each moltype de"
     ]
    },
    {
     "cell_type": "heading",
     "level": 2,
     "metadata": {},
     "source": [
      "7. Render in vmd"
     ]
    },
    {
     "cell_type": "heading",
     "level": 3,
     "metadata": {},
     "source": [
      "7.1 in tcl"
     ]
    },
    {
     "cell_type": "code",
     "collapsed": false,
     "input": [],
     "language": "python",
     "metadata": {},
     "outputs": []
    },
    {
     "cell_type": "heading",
     "level": 2,
     "metadata": {},
     "source": [
      "N: Anything else?"
     ]
    },
    {
     "cell_type": "heading",
     "level": 3,
     "metadata": {},
     "source": [
      "N.1 Simulation time step consideration:"
     ]
    },
    {
     "cell_type": "heading",
     "level": 4,
     "metadata": {},
     "source": [
      "N.1.1 Sample Rate:"
     ]
    },
    {
     "cell_type": "markdown",
     "metadata": {},
     "source": [
      "* Suppose for a system with the fast frequency $\\omega_{max}$\n",
      "    * To achieve the full percise, the sample frequency $\\omega_{sample} = 2\\omega_{max}$ (Twice fast)"
     ]
    },
    {
     "cell_type": "heading",
     "level": 3,
     "metadata": {},
     "source": [
      "N.2 Pulling time steps:"
     ]
    },
    {
     "cell_type": "markdown",
     "metadata": {},
     "source": [
      "* When do a pulling simulation, the frequency of unit that has been loaded force, is going to increase.\n",
      "    * A similar example is tune violin, high $\\vec{T}$ ~ hige $\\omega$\n",
      "\n",
      "* Consider a simple Harmonic Oscillator, with out external force or friction:\n",
      "    * Basic force formular:\n",
      "        * $\\vec{F} = -kx$\n",
      "    * Apply the second Newton's Law:\n",
      "        * $\\vec{F} = m\\vec{a} =-kx $\n",
      "    * Then:\n",
      "        * $m\\ddot{x} + kx = 0$\n",
      "    * Analyze by using Laplase transform:\n",
      "        * $L(m\\ddot{x} + kx) = 0$"
     ]
    },
    {
     "cell_type": "heading",
     "level": 3,
     "metadata": {},
     "source": [
      "N.3 Number of backup files limitation"
     ]
    },
    {
     "cell_type": "markdown",
     "metadata": {},
     "source": [
      "* If backup file number over 100, the function of back up file will not work"
     ]
    },
    {
     "cell_type": "heading",
     "level": 3,
     "metadata": {},
     "source": [
      "N.4 "
     ]
    },
    {
     "cell_type": "code",
     "collapsed": false,
     "input": [
      "Image(url=\"http://ww3.sinaimg.cn/bmiddle/61e8a1fdjw1ebcpe8vqghg203z03zq3h.gif\")"
     ],
     "language": "python",
     "metadata": {},
     "outputs": [
      {
       "html": [
        "<img src=\"http://ww3.sinaimg.cn/bmiddle/61e8a1fdjw1ebcpe8vqghg203z03zq3h.gif\"/>"
       ],
       "metadata": {},
       "output_type": "pyout",
       "prompt_number": 13,
       "text": [
        "<IPython.core.display.Image at 0x102755950>"
       ]
      }
     ],
     "prompt_number": 13
    },
    {
     "cell_type": "code",
     "collapsed": false,
     "input": [],
     "language": "python",
     "metadata": {},
     "outputs": []
    }
   ],
   "metadata": {}
  }
 ]
}