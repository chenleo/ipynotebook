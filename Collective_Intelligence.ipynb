{
 "metadata": {
  "name": ""
 },
 "nbformat": 3,
 "nbformat_minor": 0,
 "worksheets": [
  {
   "cells": [
    {
     "cell_type": "code",
     "collapsed": false,
     "input": [
      "%%HTML\n",
      "<style>\n",
      "div.cell {\n",
      "    background-color: rgba(255,200,255,0.85);  \n",
      "    font-family: Georgia, Cursive;\n",
      "    font-size: 120%;\n",
      "    border-radius: 10px;\n",
      "}\n",
      "\n",
      ".MathJax_Display {\n",
      "    text-align: center;\n",
      "}\n",
      "\n",
      "\n",
      "body {\n",
      "    background-color: #AAFFFF;\n",
      "    background-image: url('https://raw.github.com/chenleo/Resource/master/Images/FirstKiss1600X1200.jpg');\n",
      "    background-size: cover;\n",
      "    background-repeat: no-repeat;\n",
      "    background--attachment: fixed;\n",
      "}\n",
      "</style>"
     ],
     "language": "python",
     "metadata": {},
     "outputs": [
      {
       "html": [
        "<style>\n",
        "div.cell {\n",
        "    background-color: rgba(255,200,255,0.85);  \n",
        "    font-family: Georgia, Cursive;\n",
        "    font-size: 120%;\n",
        "    border-radius: 10px;\n",
        "}\n",
        "\n",
        ".MathJax_Display {\n",
        "    text-align: center;\n",
        "}\n",
        "\n",
        "\n",
        "body {\n",
        "    background-color: #AAFFFF;\n",
        "    background-image: url('https://raw.github.com/chenleo/Resource/master/Images/FirstKiss1600X1200.jpg');\n",
        "    background-size: cover;\n",
        "    background-repeat: no-repeat;\n",
        "    background--attachment: fixed;\n",
        "}\n",
        "</style>"
       ],
       "metadata": {},
       "output_type": "display_data",
       "text": [
        "<IPython.core.display.HTML at 0x7c9d160>"
       ]
      }
     ],
     "prompt_number": 1
    },
    {
     "cell_type": "markdown",
     "metadata": {},
     "source": [
      "<h1>Collective Intelligence</h1>"
     ]
    },
    {
     "cell_type": "markdown",
     "metadata": {},
     "source": [
      "* [Resource:](https://github.com/maverickmw/programming-collective-intelligence-code)"
     ]
    },
    {
     "cell_type": "code",
     "collapsed": false,
     "input": [
      "import os\n",
      "import sys"
     ],
     "language": "python",
     "metadata": {},
     "outputs": [],
     "prompt_number": 1
    },
    {
     "cell_type": "code",
     "collapsed": false,
     "input": [
      "%qtconsole"
     ],
     "language": "python",
     "metadata": {},
     "outputs": [],
     "prompt_number": 2
    },
    {
     "cell_type": "code",
     "collapsed": false,
     "input": [
      "sys.version\n",
      "#ipython-2.7 notebook (in office)"
     ],
     "language": "python",
     "metadata": {},
     "outputs": [
      {
       "metadata": {},
       "output_type": "pyout",
       "prompt_number": 3,
       "text": [
        "'2.7.6 (default, Nov 12 2013, 13:10:34) \\n[GCC 4.2.1 (Apple Inc. build 5666) (dot 3)]'"
       ]
      }
     ],
     "prompt_number": 3
    },
    {
     "cell_type": "code",
     "collapsed": false,
     "input": [
      "pwd"
     ],
     "language": "python",
     "metadata": {},
     "outputs": [
      {
       "metadata": {},
       "output_type": "pyout",
       "prompt_number": 4,
       "text": [
        "u'/Users/chenchen/Documents/git/ipynotebook'"
       ]
      }
     ],
     "prompt_number": 4
    },
    {
     "cell_type": "code",
     "collapsed": false,
     "input": [
      "os.chdir(\"../programming-collective-intelligence-code/\")"
     ],
     "language": "python",
     "metadata": {},
     "outputs": [],
     "prompt_number": 6
    },
    {
     "cell_type": "code",
     "collapsed": false,
     "input": [
      "pwd"
     ],
     "language": "python",
     "metadata": {},
     "outputs": [
      {
       "metadata": {},
       "output_type": "pyout",
       "prompt_number": 7,
       "text": [
        "u'/Users/chenchen/Documents/git/programming-collective-intelligence-code'"
       ]
      }
     ],
     "prompt_number": 7
    },
    {
     "cell_type": "code",
     "collapsed": false,
     "input": [
      "%timeit 1+1"
     ],
     "language": "python",
     "metadata": {},
     "outputs": [
      {
       "output_type": "stream",
       "stream": "stdout",
       "text": [
        "10000000 loops, best of 3: 36 ns per loop\n"
       ]
      }
     ],
     "prompt_number": 8
    },
    {
     "cell_type": "markdown",
     "metadata": {},
     "source": [
      "<h2>Chapter 2: Making Recoomendations</h2>"
     ]
    },
    {
     "cell_type": "code",
     "collapsed": false,
     "input": [
      "os.chdir(\"chapter2/\")"
     ],
     "language": "python",
     "metadata": {},
     "outputs": [],
     "prompt_number": 9
    },
    {
     "cell_type": "code",
     "collapsed": false,
     "input": [
      "!ls"
     ],
     "language": "python",
     "metadata": {},
     "outputs": [
      {
       "output_type": "stream",
       "stream": "stdout",
       "text": [
        "deliciousrec.py     pydelicious.py      recommendations.py  recommendations.pyc\r\n"
       ]
      }
     ],
     "prompt_number": 10
    },
    {
     "cell_type": "code",
     "collapsed": false,
     "input": [
      "from recommendations import critics\n",
      "import recommendations"
     ],
     "language": "python",
     "metadata": {},
     "outputs": [],
     "prompt_number": 11
    },
    {
     "cell_type": "markdown",
     "metadata": {},
     "source": [
      "<h3>Finding Similar Users</h3>\n",
      "\n",
      "* Euclidean distance \n",
      "* Pearson Collelation"
     ]
    },
    {
     "cell_type": "markdown",
     "metadata": {},
     "source": [
      "<h4>Euclidean Distance</h4>"
     ]
    },
    {
     "cell_type": "markdown",
     "metadata": {},
     "source": [
      "<h3><center> $Dist(P,Q) = {1 \\over {1+\\sum{(Q_i - P_i)^2}}}$</center> </h3>"
     ]
    },
    {
     "cell_type": "markdown",
     "metadata": {},
     "source": [
      "* Dist = 1: same\n",
      "* Dist = 0: different"
     ]
    },
    {
     "cell_type": "code",
     "collapsed": false,
     "input": [
      "people = critics.keys()\n",
      "print people"
     ],
     "language": "python",
     "metadata": {},
     "outputs": [
      {
       "output_type": "stream",
       "stream": "stdout",
       "text": [
        "['Jack Matthews', 'Mick LaSalle', 'Claudia Puig', 'Lisa Rose', 'Toby', 'Gene Seymour', 'Michael Phillips']\n"
       ]
      }
     ],
     "prompt_number": 16
    },
    {
     "cell_type": "code",
     "collapsed": false,
     "input": [
      "recommendations.sim_distance(critics, people[3], people[5])"
     ],
     "language": "python",
     "metadata": {},
     "outputs": [
      {
       "metadata": {},
       "output_type": "pyout",
       "prompt_number": 17,
       "text": [
        "0.14814814814814814"
       ]
      }
     ],
     "prompt_number": 17
    },
    {
     "cell_type": "markdown",
     "metadata": {},
     "source": [
      "<h4>Person Correlation Score</h4>"
     ]
    },
    {
     "cell_type": "code",
     "collapsed": false,
     "input": [],
     "language": "python",
     "metadata": {},
     "outputs": []
    }
   ],
   "metadata": {}
  }
 ]
}