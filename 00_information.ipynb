{
 "metadata": {
  "name": "",
  "signature": "sha256:64539dc7bc4fd1d323df379f77abcbeacfe5e963e656630ce12c1f89945f7395"
 },
 "nbformat": 3,
 "nbformat_minor": 0,
 "worksheets": [
  {
   "cells": [
    {
     "cell_type": "markdown",
     "metadata": {},
     "source": [
      "Todo:\n",
      "=====\n",
      "\n",
      "> Movie for masked and filtered FCS\n",
      "> t3r script\n",
      "\n",
      "Guest Account:\n",
      "------\n",
      "\n",
      "g-guest15\n",
      "poxigula\n",
      "\n",
      "Launch Server:\n",
      "----\n",
      "\n",
      "python -m SimpleHTTPServer 8000\n",
      "\n",
      "Conda environment\n",
      "------\n",
      "source activate ipydev"
     ]
    },
    {
     "cell_type": "code",
     "collapsed": false,
     "input": [],
     "language": "python",
     "metadata": {},
     "outputs": [],
     "trusted": true
    }
   ],
   "metadata": {}
  }
 ]
}