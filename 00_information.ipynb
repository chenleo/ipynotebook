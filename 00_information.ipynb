{
 "metadata": {
  "celltoolbar": "Slideshow",
  "name": "",
  "signature": "sha256:4097456d88366011358b6224c76a7109baaac2721d89ecd0eef9cfbec176aa7d"
 },
 "nbformat": 3,
 "nbformat_minor": 0,
 "worksheets": [
  {
   "cells": [
    {
     "cell_type": "markdown",
     "metadata": {},
     "source": [
      "Todo:\n",
      "=====\n",
      "\n",
      "> Movie for masked and filtered FCS\n",
      "> t3r script\n",
      "\n",
      "Guest Account:\n",
      "------\n",
      "\n",
      "- User Name: g-guest15\n",
      "- Pass: poxigula\n",
      "\n",
      "Launch Server:\n",
      "----\n",
      "\n",
      "python -m SimpleHTTPServer 8000\n",
      "\n",
      "Conda environment\n",
      "------\n",
      "source activate ipydev"
     ]
    },
    {
     "cell_type": "code",
     "collapsed": false,
     "input": [
      "import IPython"
     ],
     "language": "python",
     "metadata": {},
     "outputs": [],
     "prompt_number": 1
    },
    {
     "cell_type": "code",
     "collapsed": false,
     "input": [
      "IPython.version_info"
     ],
     "language": "python",
     "metadata": {},
     "outputs": [
      {
       "metadata": {},
       "output_type": "pyout",
       "prompt_number": 3,
       "text": [
        "(2, 0, 0, 'dev')"
       ]
      }
     ],
     "prompt_number": 3
    },
    {
     "cell_type": "code",
     "collapsed": false,
     "input": [],
     "language": "python",
     "metadata": {},
     "outputs": []
    }
   ],
   "metadata": {}
  }
 ]
}