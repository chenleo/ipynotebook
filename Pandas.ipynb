{
 "metadata": {
  "name": ""
 },
 "nbformat": 3,
 "nbformat_minor": 0,
 "worksheets": [
  {
   "cells": [
    {
     "cell_type": "heading",
     "level": 1,
     "metadata": {},
     "source": [
      "Pandas"
     ]
    },
    {
     "cell_type": "markdown",
     "metadata": {},
     "source": [
      "[Reference](http://pandas.pydata.org/pandas-docs/dev/pandas.pdf)"
     ]
    },
    {
     "cell_type": "heading",
     "level": 2,
     "metadata": {},
     "source": [
      "Chapter 5 Intro to data Structure"
     ]
    },
    {
     "cell_type": "code",
     "collapsed": false,
     "input": [
      "#initialize\n",
      "%matplotlib inline \n",
      "%qtconsole"
     ],
     "language": "python",
     "metadata": {},
     "outputs": [],
     "prompt_number": 1
    },
    {
     "cell_type": "code",
     "collapsed": false,
     "input": [],
     "language": "python",
     "metadata": {},
     "outputs": []
    },
    {
     "cell_type": "code",
     "collapsed": false,
     "input": [
      "import numpy as np\n",
      "import pandas as pd\n",
      "from pandas import DataFrame\n",
      "from pandas import Series\n",
      "from pandas import Timestamp\n",
      "randn = np.random.randn\n",
      "from pandas import *"
     ],
     "language": "python",
     "metadata": {},
     "outputs": [],
     "prompt_number": 2
    },
    {
     "cell_type": "heading",
     "level": 3,
     "metadata": {},
     "source": [
      "5.1 Series"
     ]
    },
    {
     "cell_type": "code",
     "collapsed": false,
     "input": [
      "#s = Series(data, index=index)\n",
      "s = Series(randn(5), index=['a', 'b', 'c', 'd', 'e'])\n",
      "s\n",
      "s.index"
     ],
     "language": "python",
     "metadata": {},
     "outputs": [
      {
       "metadata": {},
       "output_type": "pyout",
       "prompt_number": 3,
       "text": [
        "Index([u'a', u'b', u'c', u'd', u'e'], dtype=object)"
       ]
      }
     ],
     "prompt_number": 3
    },
    {
     "cell_type": "code",
     "collapsed": false,
     "input": [
      "#From dict\n",
      "d = {'a' : 0.0, 'b' : 1.1, 'c' : 2.2 }\n",
      "Series(d)\n",
      "Series(d, index = ['a','b'])\n",
      "Series(d, index = ['a','b','z'])\n",
      "Series(5, index = ['a', 'b', 'c', 'd'])"
     ],
     "language": "python",
     "metadata": {},
     "outputs": [
      {
       "metadata": {},
       "output_type": "pyout",
       "prompt_number": 4,
       "text": [
        "a    5\n",
        "b    5\n",
        "c    5\n",
        "d    5\n",
        "dtype: int64"
       ]
      }
     ],
     "prompt_number": 4
    },
    {
     "cell_type": "heading",
     "level": 4,
     "metadata": {},
     "source": [
      "5.1.1 Series is ndarray-like"
     ]
    },
    {
     "cell_type": "code",
     "collapsed": false,
     "input": [
      "s['a']\n",
      "s[:3]\n",
      "s[[4,3,1]]\n",
      "s[s> s.median()]\n",
      "s>s.median()"
     ],
     "language": "python",
     "metadata": {},
     "outputs": [
      {
       "metadata": {},
       "output_type": "pyout",
       "prompt_number": 64,
       "text": [
        "a     True\n",
        "b     True\n",
        "c    False\n",
        "d    False\n",
        "e    False\n",
        "dtype: bool"
       ]
      }
     ],
     "prompt_number": 64
    },
    {
     "cell_type": "code",
     "collapsed": false,
     "input": [
      "np.exp(s)"
     ],
     "language": "python",
     "metadata": {},
     "outputs": [
      {
       "metadata": {},
       "output_type": "pyout",
       "prompt_number": 62,
       "text": [
        "a    2.760369\n",
        "b    1.487827\n",
        "c    0.183412\n",
        "d    0.583944\n",
        "e    0.603313\n",
        "dtype: float64"
       ]
      }
     ],
     "prompt_number": 62
    },
    {
     "cell_type": "heading",
     "level": 4,
     "metadata": {},
     "source": [
      "5.1.2 Series is dict-like"
     ]
    },
    {
     "cell_type": "code",
     "collapsed": false,
     "input": [
      "s['a'] = 12\n",
      "s"
     ],
     "language": "python",
     "metadata": {},
     "outputs": [
      {
       "metadata": {},
       "output_type": "pyout",
       "prompt_number": 66,
       "text": [
        "a    12.000000\n",
        "b     0.397317\n",
        "c    -1.696023\n",
        "d    -0.537950\n",
        "e    -0.505318\n",
        "dtype: float64"
       ]
      }
     ],
     "prompt_number": 66
    },
    {
     "cell_type": "code",
     "collapsed": false,
     "input": [
      "'ee' in s\n",
      "s['ee']"
     ],
     "language": "python",
     "metadata": {},
     "outputs": [
      {
       "ename": "KeyError",
       "evalue": "'ee'",
       "output_type": "pyerr",
       "traceback": [
        "\u001b[0;31m---------------------------------------------------------------------------\u001b[0m\n\u001b[0;31mKeyError\u001b[0m                                  Traceback (most recent call last)",
        "\u001b[0;32m<ipython-input-68-45038a6cba50>\u001b[0m in \u001b[0;36m<module>\u001b[0;34m()\u001b[0m\n\u001b[1;32m      1\u001b[0m \u001b[0;34m'ee'\u001b[0m \u001b[0;32min\u001b[0m \u001b[0ms\u001b[0m\u001b[0;34m\u001b[0m\u001b[0m\n\u001b[0;32m----> 2\u001b[0;31m \u001b[0ms\u001b[0m\u001b[0;34m[\u001b[0m\u001b[0;34m'ee'\u001b[0m\u001b[0;34m]\u001b[0m\u001b[0;34m\u001b[0m\u001b[0m\n\u001b[0m",
        "\u001b[0;32m/Users/chenchen/anaconda/python.app/Contents/lib/python2.7/site-packages/pandas/core/series.pyc\u001b[0m in \u001b[0;36m__getitem__\u001b[0;34m(self, key)\u001b[0m\n\u001b[1;32m    611\u001b[0m     \u001b[0;32mdef\u001b[0m \u001b[0m__getitem__\u001b[0m\u001b[0;34m(\u001b[0m\u001b[0mself\u001b[0m\u001b[0;34m,\u001b[0m \u001b[0mkey\u001b[0m\u001b[0;34m)\u001b[0m\u001b[0;34m:\u001b[0m\u001b[0;34m\u001b[0m\u001b[0m\n\u001b[1;32m    612\u001b[0m         \u001b[0;32mtry\u001b[0m\u001b[0;34m:\u001b[0m\u001b[0;34m\u001b[0m\u001b[0m\n\u001b[0;32m--> 613\u001b[0;31m             \u001b[0;32mreturn\u001b[0m \u001b[0mself\u001b[0m\u001b[0;34m.\u001b[0m\u001b[0mindex\u001b[0m\u001b[0;34m.\u001b[0m\u001b[0mget_value\u001b[0m\u001b[0;34m(\u001b[0m\u001b[0mself\u001b[0m\u001b[0;34m,\u001b[0m \u001b[0mkey\u001b[0m\u001b[0;34m)\u001b[0m\u001b[0;34m\u001b[0m\u001b[0m\n\u001b[0m\u001b[1;32m    614\u001b[0m         \u001b[0;32mexcept\u001b[0m \u001b[0mInvalidIndexError\u001b[0m\u001b[0;34m:\u001b[0m\u001b[0;34m\u001b[0m\u001b[0m\n\u001b[1;32m    615\u001b[0m             \u001b[0;32mpass\u001b[0m\u001b[0;34m\u001b[0m\u001b[0m\n",
        "\u001b[0;32m/Users/chenchen/anaconda/python.app/Contents/lib/python2.7/site-packages/pandas/core/index.pyc\u001b[0m in \u001b[0;36mget_value\u001b[0;34m(self, series, key)\u001b[0m\n\u001b[1;32m    775\u001b[0m                     \u001b[0;32mraise\u001b[0m \u001b[0mInvalidIndexError\u001b[0m\u001b[0;34m(\u001b[0m\u001b[0mkey\u001b[0m\u001b[0;34m)\u001b[0m\u001b[0;34m\u001b[0m\u001b[0m\n\u001b[1;32m    776\u001b[0m                 \u001b[0;32melse\u001b[0m\u001b[0;34m:\u001b[0m\u001b[0;34m\u001b[0m\u001b[0m\n\u001b[0;32m--> 777\u001b[0;31m                     \u001b[0;32mraise\u001b[0m \u001b[0me1\u001b[0m\u001b[0;34m\u001b[0m\u001b[0m\n\u001b[0m\u001b[1;32m    778\u001b[0m             \u001b[0;32mexcept\u001b[0m \u001b[0mException\u001b[0m\u001b[0;34m:\u001b[0m  \u001b[0;31m# pragma: no cover\u001b[0m\u001b[0;34m\u001b[0m\u001b[0m\n\u001b[1;32m    779\u001b[0m                 \u001b[0;32mraise\u001b[0m \u001b[0me1\u001b[0m\u001b[0;34m\u001b[0m\u001b[0m\n",
        "\u001b[0;31mKeyError\u001b[0m: 'ee'"
       ]
      }
     ],
     "prompt_number": 68
    },
    {
     "cell_type": "code",
     "collapsed": false,
     "input": [
      "s.get('a')\n",
      "s.get('f', np.Inf)"
     ],
     "language": "python",
     "metadata": {},
     "outputs": [
      {
       "metadata": {},
       "output_type": "pyout",
       "prompt_number": 74,
       "text": [
        "inf"
       ]
      }
     ],
     "prompt_number": 74
    },
    {
     "cell_type": "heading",
     "level": 4,
     "metadata": {},
     "source": [
      "5.1.3 Vectorized operations and label alignment with Series"
     ]
    },
    {
     "cell_type": "code",
     "collapsed": false,
     "input": [
      "s + s\n",
      "s*2\n",
      "np.exp(s)\n",
      "s[1:] + s[:-1]"
     ],
     "language": "python",
     "metadata": {},
     "outputs": [
      {
       "metadata": {},
       "output_type": "pyout",
       "prompt_number": 80,
       "text": [
        "a         NaN\n",
        "b    0.794634\n",
        "c   -3.392045\n",
        "d   -1.075901\n",
        "e         NaN\n",
        "dtype: float64"
       ]
      }
     ],
     "prompt_number": 80
    },
    {
     "cell_type": "heading",
     "level": 4,
     "metadata": {},
     "source": [
      "5.1.4 Name attribute"
     ]
    },
    {
     "cell_type": "code",
     "collapsed": false,
     "input": [
      "s = Series(np.random.randn(5), dtype = int32, name = 'whatever')\n",
      "type(s)"
     ],
     "language": "python",
     "metadata": {},
     "outputs": [
      {
       "metadata": {},
       "output_type": "pyout",
       "prompt_number": 85,
       "text": [
        "pandas.core.series.Series"
       ]
      }
     ],
     "prompt_number": 85
    },
    {
     "cell_type": "heading",
     "level": 3,
     "metadata": {},
     "source": [
      "5.2 DataFrame"
     ]
    },
    {
     "cell_type": "markdown",
     "metadata": {},
     "source": [
      "* DataFrame accepts many different kinds of inputs:\n",
      "\n",
      "    * Dict of 1D ndarrays, lists, dists, or Series\n",
      "    * 2-D numpy.ndarray\n",
      "    * Structured or record ndarray\n",
      "    * A Series\n",
      "    * Another DataFrame"
     ]
    },
    {
     "cell_type": "heading",
     "level": 4,
     "metadata": {},
     "source": [
      "5.2.1 From dict of <font color=\"red\">Series </font> or dicts"
     ]
    },
    {
     "cell_type": "code",
     "collapsed": false,
     "input": [
      "d = {'one' : Series([1., 2., 3.], index=['a', 'b', 'c']),\n",
      "     'two' : Series([1., 2., 3., 4.], index=['a', 'b', 'c', 'd'])}"
     ],
     "language": "python",
     "metadata": {},
     "outputs": [],
     "prompt_number": 61
    },
    {
     "cell_type": "code",
     "collapsed": false,
     "input": [
      "df = DataFrame(d)\n",
      "df"
     ],
     "language": "python",
     "metadata": {},
     "outputs": [
      {
       "html": [
        "<div style=\"max-height:1000px;max-width:1500px;overflow:auto;\">\n",
        "<table border=\"1\" class=\"dataframe\">\n",
        "  <thead>\n",
        "    <tr style=\"text-align: right;\">\n",
        "      <th></th>\n",
        "      <th>one</th>\n",
        "      <th>two</th>\n",
        "    </tr>\n",
        "  </thead>\n",
        "  <tbody>\n",
        "    <tr>\n",
        "      <th>a</th>\n",
        "      <td>  1</td>\n",
        "      <td> 1</td>\n",
        "    </tr>\n",
        "    <tr>\n",
        "      <th>b</th>\n",
        "      <td>  2</td>\n",
        "      <td> 2</td>\n",
        "    </tr>\n",
        "    <tr>\n",
        "      <th>c</th>\n",
        "      <td>  3</td>\n",
        "      <td> 3</td>\n",
        "    </tr>\n",
        "    <tr>\n",
        "      <th>d</th>\n",
        "      <td>NaN</td>\n",
        "      <td> 4</td>\n",
        "    </tr>\n",
        "  </tbody>\n",
        "</table>\n",
        "</div>"
       ],
       "metadata": {},
       "output_type": "pyout",
       "prompt_number": 62,
       "text": [
        "   one  two\n",
        "a    1    1\n",
        "b    2    2\n",
        "c    3    3\n",
        "d  NaN    4"
       ]
      }
     ],
     "prompt_number": 62
    },
    {
     "cell_type": "code",
     "collapsed": false,
     "input": [
      "d2 = DataFrame(d, index=['d', 'b', 'a'])\n",
      "d2['one']['d']\n",
      "#d2[1][2]??"
     ],
     "language": "python",
     "metadata": {},
     "outputs": [
      {
       "metadata": {},
       "output_type": "pyout",
       "prompt_number": 24,
       "text": [
        "nan"
       ]
      }
     ],
     "prompt_number": 24
    },
    {
     "cell_type": "code",
     "collapsed": false,
     "input": [
      "df.index\n",
      "df.columns"
     ],
     "language": "python",
     "metadata": {},
     "outputs": [
      {
       "metadata": {},
       "output_type": "pyout",
       "prompt_number": 27,
       "text": [
        "Index([one, two], dtype=object)"
       ]
      }
     ],
     "prompt_number": 27
    },
    {
     "cell_type": "heading",
     "level": 4,
     "metadata": {},
     "source": [
      "5.2.2 From dict of ndarrays /lists"
     ]
    },
    {
     "cell_type": "code",
     "collapsed": false,
     "input": [
      "d = {'one' : [1., 2., 3., 4.],\n",
      "     'two' : [4., 3., 2., 1.]}"
     ],
     "language": "python",
     "metadata": {},
     "outputs": [],
     "prompt_number": 30
    },
    {
     "cell_type": "code",
     "collapsed": false,
     "input": [
      "DataFrame(d, index=['a', 'b', 'c', 'd'])"
     ],
     "language": "python",
     "metadata": {},
     "outputs": [
      {
       "html": [
        "<div style=\"max-height:1000px;max-width:1500px;overflow:auto;\">\n",
        "<table border=\"1\" class=\"dataframe\">\n",
        "  <thead>\n",
        "    <tr style=\"text-align: right;\">\n",
        "      <th></th>\n",
        "      <th>one</th>\n",
        "      <th>two</th>\n",
        "    </tr>\n",
        "  </thead>\n",
        "  <tbody>\n",
        "    <tr>\n",
        "      <th>a</th>\n",
        "      <td> 1</td>\n",
        "      <td> 4</td>\n",
        "    </tr>\n",
        "    <tr>\n",
        "      <th>b</th>\n",
        "      <td> 2</td>\n",
        "      <td> 3</td>\n",
        "    </tr>\n",
        "    <tr>\n",
        "      <th>c</th>\n",
        "      <td> 3</td>\n",
        "      <td> 2</td>\n",
        "    </tr>\n",
        "    <tr>\n",
        "      <th>d</th>\n",
        "      <td> 4</td>\n",
        "      <td> 1</td>\n",
        "    </tr>\n",
        "  </tbody>\n",
        "</table>\n",
        "</div>"
       ],
       "metadata": {},
       "output_type": "pyout",
       "prompt_number": 32,
       "text": [
        "   one  two\n",
        "a    1    4\n",
        "b    2    3\n",
        "c    3    2\n",
        "d    4    1"
       ]
      }
     ],
     "prompt_number": 32
    },
    {
     "cell_type": "heading",
     "level": 4,
     "metadata": {},
     "source": [
      "5.2.3 From structured or record array"
     ]
    },
    {
     "cell_type": "code",
     "collapsed": false,
     "input": [
      "#This case is handled identically to a dict of arrays\n",
      "data = np.zeros((2,), dtype=[('A', 'i4'), ('B', 'f4'),('C','a10')])"
     ],
     "language": "python",
     "metadata": {},
     "outputs": [],
     "prompt_number": 14
    },
    {
     "cell_type": "code",
     "collapsed": false,
     "input": [
      "data[:] = [(1,2.,'Hello'),(2,3.,\"World\")]"
     ],
     "language": "python",
     "metadata": {},
     "outputs": [],
     "prompt_number": 15
    },
    {
     "cell_type": "code",
     "collapsed": false,
     "input": [
      "DataFrame(data)"
     ],
     "language": "python",
     "metadata": {},
     "outputs": [
      {
       "html": [
        "<div style=\"max-height:1000px;max-width:1500px;overflow:auto;\">\n",
        "<table border=\"1\" class=\"dataframe\">\n",
        "  <thead>\n",
        "    <tr style=\"text-align: right;\">\n",
        "      <th></th>\n",
        "      <th>A</th>\n",
        "      <th>B</th>\n",
        "      <th>C</th>\n",
        "    </tr>\n",
        "  </thead>\n",
        "  <tbody>\n",
        "    <tr>\n",
        "      <th>0</th>\n",
        "      <td> 1</td>\n",
        "      <td> 2</td>\n",
        "      <td> Hello</td>\n",
        "    </tr>\n",
        "    <tr>\n",
        "      <th>1</th>\n",
        "      <td> 2</td>\n",
        "      <td> 3</td>\n",
        "      <td> World</td>\n",
        "    </tr>\n",
        "  </tbody>\n",
        "</table>\n",
        "</div>"
       ],
       "metadata": {},
       "output_type": "pyout",
       "prompt_number": 16,
       "text": [
        "   A  B      C\n",
        "0  1  2  Hello\n",
        "1  2  3  World"
       ]
      }
     ],
     "prompt_number": 16
    },
    {
     "cell_type": "code",
     "collapsed": false,
     "input": [
      "DataFrame(data, index=['first', 'second'])"
     ],
     "language": "python",
     "metadata": {},
     "outputs": [
      {
       "html": [
        "<div style=\"max-height:1000px;max-width:1500px;overflow:auto;\">\n",
        "<table border=\"1\" class=\"dataframe\">\n",
        "  <thead>\n",
        "    <tr style=\"text-align: right;\">\n",
        "      <th></th>\n",
        "      <th>A</th>\n",
        "      <th>B</th>\n",
        "      <th>C</th>\n",
        "    </tr>\n",
        "  </thead>\n",
        "  <tbody>\n",
        "    <tr>\n",
        "      <th>first</th>\n",
        "      <td> 1</td>\n",
        "      <td> 2</td>\n",
        "      <td> Hello</td>\n",
        "    </tr>\n",
        "    <tr>\n",
        "      <th>second</th>\n",
        "      <td> 2</td>\n",
        "      <td> 3</td>\n",
        "      <td> World</td>\n",
        "    </tr>\n",
        "  </tbody>\n",
        "</table>\n",
        "</div>"
       ],
       "metadata": {},
       "output_type": "pyout",
       "prompt_number": 22,
       "text": [
        "        A  B      C\n",
        "first   1  2  Hello\n",
        "second  2  3  World"
       ]
      }
     ],
     "prompt_number": 22
    },
    {
     "cell_type": "code",
     "collapsed": false,
     "input": [
      "DataFrame(data,columns=['C','A','B'])"
     ],
     "language": "python",
     "metadata": {},
     "outputs": [
      {
       "html": [
        "<div style=\"max-height:1000px;max-width:1500px;overflow:auto;\">\n",
        "<table border=\"1\" class=\"dataframe\">\n",
        "  <thead>\n",
        "    <tr style=\"text-align: right;\">\n",
        "      <th></th>\n",
        "      <th>C</th>\n",
        "      <th>A</th>\n",
        "      <th>B</th>\n",
        "    </tr>\n",
        "  </thead>\n",
        "  <tbody>\n",
        "    <tr>\n",
        "      <th>0</th>\n",
        "      <td> Hello</td>\n",
        "      <td> 1</td>\n",
        "      <td> 2</td>\n",
        "    </tr>\n",
        "    <tr>\n",
        "      <th>1</th>\n",
        "      <td> World</td>\n",
        "      <td> 2</td>\n",
        "      <td> 3</td>\n",
        "    </tr>\n",
        "  </tbody>\n",
        "</table>\n",
        "</div>"
       ],
       "metadata": {},
       "output_type": "pyout",
       "prompt_number": 24,
       "text": [
        "       C  A  B\n",
        "0  Hello  1  2\n",
        "1  World  2  3"
       ]
      }
     ],
     "prompt_number": 24
    },
    {
     "cell_type": "heading",
     "level": 4,
     "metadata": {},
     "source": [
      "5.2.4 From a list of dicts"
     ]
    },
    {
     "cell_type": "code",
     "collapsed": false,
     "input": [
      "data2 = [{'a':1, 'b':2}, {'a':5,'b':10, 'c':20}]"
     ],
     "language": "python",
     "metadata": {},
     "outputs": [],
     "prompt_number": 25
    },
    {
     "cell_type": "code",
     "collapsed": false,
     "input": [
      "DataFrame(data2, index = ['first','second'])"
     ],
     "language": "python",
     "metadata": {},
     "outputs": [
      {
       "html": [
        "<div style=\"max-height:1000px;max-width:1500px;overflow:auto;\">\n",
        "<table border=\"1\" class=\"dataframe\">\n",
        "  <thead>\n",
        "    <tr style=\"text-align: right;\">\n",
        "      <th></th>\n",
        "      <th>a</th>\n",
        "      <th>b</th>\n",
        "      <th>c</th>\n",
        "    </tr>\n",
        "  </thead>\n",
        "  <tbody>\n",
        "    <tr>\n",
        "      <th>first</th>\n",
        "      <td> 1</td>\n",
        "      <td>  2</td>\n",
        "      <td>NaN</td>\n",
        "    </tr>\n",
        "    <tr>\n",
        "      <th>second</th>\n",
        "      <td> 5</td>\n",
        "      <td> 10</td>\n",
        "      <td> 20</td>\n",
        "    </tr>\n",
        "  </tbody>\n",
        "</table>\n",
        "</div>"
       ],
       "metadata": {},
       "output_type": "pyout",
       "prompt_number": 36,
       "text": [
        "        a   b   c\n",
        "first   1   2 NaN\n",
        "second  5  10  20"
       ]
      }
     ],
     "prompt_number": 36
    },
    {
     "cell_type": "code",
     "collapsed": false,
     "input": [
      "DataFrame(data2, columns=['a','b']) # A selection"
     ],
     "language": "python",
     "metadata": {},
     "outputs": [
      {
       "html": [
        "<div style=\"max-height:1000px;max-width:1500px;overflow:auto;\">\n",
        "<table border=\"1\" class=\"dataframe\">\n",
        "  <thead>\n",
        "    <tr style=\"text-align: right;\">\n",
        "      <th></th>\n",
        "      <th>a</th>\n",
        "      <th>b</th>\n",
        "    </tr>\n",
        "  </thead>\n",
        "  <tbody>\n",
        "    <tr>\n",
        "      <th>0</th>\n",
        "      <td> 1</td>\n",
        "      <td>  2</td>\n",
        "    </tr>\n",
        "    <tr>\n",
        "      <th>1</th>\n",
        "      <td> 5</td>\n",
        "      <td> 10</td>\n",
        "    </tr>\n",
        "  </tbody>\n",
        "</table>\n",
        "</div>"
       ],
       "metadata": {},
       "output_type": "pyout",
       "prompt_number": 37,
       "text": [
        "   a   b\n",
        "0  1   2\n",
        "1  5  10"
       ]
      }
     ],
     "prompt_number": 37
    },
    {
     "cell_type": "heading",
     "level": 4,
     "metadata": {},
     "source": [
      "5.2.5 From a Series"
     ]
    },
    {
     "cell_type": "heading",
     "level": 4,
     "metadata": {},
     "source": [
      "5.2.7 Column Selection, addition, deletion"
     ]
    },
    {
     "cell_type": "code",
     "collapsed": false,
     "input": [
      "df['one']"
     ],
     "language": "python",
     "metadata": {},
     "outputs": [
      {
       "metadata": {},
       "output_type": "pyout",
       "prompt_number": 42,
       "text": [
        "a     1\n",
        "b     2\n",
        "c     3\n",
        "d   NaN\n",
        "Name: one, dtype: float64"
       ]
      }
     ],
     "prompt_number": 42
    },
    {
     "cell_type": "code",
     "collapsed": false,
     "input": [
      "df['three'] = df['one']*df['two']"
     ],
     "language": "python",
     "metadata": {},
     "outputs": [],
     "prompt_number": 43
    },
    {
     "cell_type": "code",
     "collapsed": false,
     "input": [
      "boolindex = df['two']>1\n",
      "boolindex"
     ],
     "language": "python",
     "metadata": {},
     "outputs": [
      {
       "metadata": {},
       "output_type": "pyout",
       "prompt_number": 49,
       "text": [
        "a    False\n",
        "b     True\n",
        "c     True\n",
        "d     True\n",
        "Name: two, dtype: bool"
       ]
      }
     ],
     "prompt_number": 49
    },
    {
     "cell_type": "code",
     "collapsed": false,
     "input": [
      "df[boolindex]"
     ],
     "language": "python",
     "metadata": {},
     "outputs": [
      {
       "html": [
        "<div style=\"max-height:1000px;max-width:1500px;overflow:auto;\">\n",
        "<table border=\"1\" class=\"dataframe\">\n",
        "  <thead>\n",
        "    <tr style=\"text-align: right;\">\n",
        "      <th></th>\n",
        "      <th>one</th>\n",
        "      <th>two</th>\n",
        "      <th>three</th>\n",
        "    </tr>\n",
        "  </thead>\n",
        "  <tbody>\n",
        "    <tr>\n",
        "      <th>b</th>\n",
        "      <td>  2</td>\n",
        "      <td> 2</td>\n",
        "      <td>  4</td>\n",
        "    </tr>\n",
        "    <tr>\n",
        "      <th>c</th>\n",
        "      <td>  3</td>\n",
        "      <td> 3</td>\n",
        "      <td>  9</td>\n",
        "    </tr>\n",
        "    <tr>\n",
        "      <th>d</th>\n",
        "      <td>NaN</td>\n",
        "      <td> 4</td>\n",
        "      <td>NaN</td>\n",
        "    </tr>\n",
        "  </tbody>\n",
        "</table>\n",
        "</div>"
       ],
       "metadata": {},
       "output_type": "pyout",
       "prompt_number": 50,
       "text": [
        "   one  two  three\n",
        "b    2    2      4\n",
        "c    3    3      9\n",
        "d  NaN    4    NaN"
       ]
      }
     ],
     "prompt_number": 50
    },
    {
     "cell_type": "code",
     "collapsed": false,
     "input": [
      "df['b']"
     ],
     "language": "python",
     "metadata": {},
     "outputs": [
      {
       "ename": "KeyError",
       "evalue": "u'no item named b'",
       "output_type": "pyerr",
       "traceback": [
        "\u001b[0;31m---------------------------------------------------------------------------\u001b[0m\n\u001b[0;31mKeyError\u001b[0m                                  Traceback (most recent call last)",
        "\u001b[0;32m<ipython-input-52-f2a266ed0ffd>\u001b[0m in \u001b[0;36m<module>\u001b[0;34m()\u001b[0m\n\u001b[0;32m----> 1\u001b[0;31m \u001b[0mdf\u001b[0m\u001b[0;34m[\u001b[0m\u001b[0;34m'b'\u001b[0m\u001b[0;34m]\u001b[0m\u001b[0;34m\u001b[0m\u001b[0m\n\u001b[0m",
        "\u001b[0;32m/Users/chenchen/anaconda/python.app/Contents/lib/python2.7/site-packages/pandas/core/frame.pyc\u001b[0m in \u001b[0;36m__getitem__\u001b[0;34m(self, key)\u001b[0m\n\u001b[1;32m   1926\u001b[0m         \u001b[0;32melse\u001b[0m\u001b[0;34m:\u001b[0m\u001b[0;34m\u001b[0m\u001b[0m\n\u001b[1;32m   1927\u001b[0m             \u001b[0;31m# get column\u001b[0m\u001b[0;34m\u001b[0m\u001b[0;34m\u001b[0m\u001b[0m\n\u001b[0;32m-> 1928\u001b[0;31m             \u001b[0;32mreturn\u001b[0m \u001b[0mself\u001b[0m\u001b[0;34m.\u001b[0m\u001b[0m_get_item_cache\u001b[0m\u001b[0;34m(\u001b[0m\u001b[0mkey\u001b[0m\u001b[0;34m)\u001b[0m\u001b[0;34m\u001b[0m\u001b[0m\n\u001b[0m\u001b[1;32m   1929\u001b[0m \u001b[0;34m\u001b[0m\u001b[0m\n\u001b[1;32m   1930\u001b[0m     \u001b[0;32mdef\u001b[0m \u001b[0m_getitem_slice\u001b[0m\u001b[0;34m(\u001b[0m\u001b[0mself\u001b[0m\u001b[0;34m,\u001b[0m \u001b[0mkey\u001b[0m\u001b[0;34m)\u001b[0m\u001b[0;34m:\u001b[0m\u001b[0;34m\u001b[0m\u001b[0m\n",
        "\u001b[0;32m/Users/chenchen/anaconda/python.app/Contents/lib/python2.7/site-packages/pandas/core/generic.pyc\u001b[0m in \u001b[0;36m_get_item_cache\u001b[0;34m(self, item)\u001b[0m\n\u001b[1;32m    568\u001b[0m             \u001b[0;32mreturn\u001b[0m \u001b[0mcache\u001b[0m\u001b[0;34m[\u001b[0m\u001b[0mitem\u001b[0m\u001b[0;34m]\u001b[0m\u001b[0;34m\u001b[0m\u001b[0m\n\u001b[1;32m    569\u001b[0m         \u001b[0;32mexcept\u001b[0m \u001b[0mException\u001b[0m\u001b[0;34m:\u001b[0m\u001b[0;34m\u001b[0m\u001b[0m\n\u001b[0;32m--> 570\u001b[0;31m             \u001b[0mvalues\u001b[0m \u001b[0;34m=\u001b[0m \u001b[0mself\u001b[0m\u001b[0;34m.\u001b[0m\u001b[0m_data\u001b[0m\u001b[0;34m.\u001b[0m\u001b[0mget\u001b[0m\u001b[0;34m(\u001b[0m\u001b[0mitem\u001b[0m\u001b[0;34m)\u001b[0m\u001b[0;34m\u001b[0m\u001b[0m\n\u001b[0m\u001b[1;32m    571\u001b[0m             \u001b[0mres\u001b[0m \u001b[0;34m=\u001b[0m \u001b[0mself\u001b[0m\u001b[0;34m.\u001b[0m\u001b[0m_box_item_values\u001b[0m\u001b[0;34m(\u001b[0m\u001b[0mitem\u001b[0m\u001b[0;34m,\u001b[0m \u001b[0mvalues\u001b[0m\u001b[0;34m)\u001b[0m\u001b[0;34m\u001b[0m\u001b[0m\n\u001b[1;32m    572\u001b[0m             \u001b[0mcache\u001b[0m\u001b[0;34m[\u001b[0m\u001b[0mitem\u001b[0m\u001b[0;34m]\u001b[0m \u001b[0;34m=\u001b[0m \u001b[0mres\u001b[0m\u001b[0;34m\u001b[0m\u001b[0m\n",
        "\u001b[0;32m/Users/chenchen/anaconda/python.app/Contents/lib/python2.7/site-packages/pandas/core/internals.pyc\u001b[0m in \u001b[0;36mget\u001b[0;34m(self, item)\u001b[0m\n\u001b[1;32m   1381\u001b[0m \u001b[0;34m\u001b[0m\u001b[0m\n\u001b[1;32m   1382\u001b[0m     \u001b[0;32mdef\u001b[0m \u001b[0mget\u001b[0m\u001b[0;34m(\u001b[0m\u001b[0mself\u001b[0m\u001b[0;34m,\u001b[0m \u001b[0mitem\u001b[0m\u001b[0;34m)\u001b[0m\u001b[0;34m:\u001b[0m\u001b[0;34m\u001b[0m\u001b[0m\n\u001b[0;32m-> 1383\u001b[0;31m         \u001b[0m_\u001b[0m\u001b[0;34m,\u001b[0m \u001b[0mblock\u001b[0m \u001b[0;34m=\u001b[0m \u001b[0mself\u001b[0m\u001b[0;34m.\u001b[0m\u001b[0m_find_block\u001b[0m\u001b[0;34m(\u001b[0m\u001b[0mitem\u001b[0m\u001b[0;34m)\u001b[0m\u001b[0;34m\u001b[0m\u001b[0m\n\u001b[0m\u001b[1;32m   1384\u001b[0m         \u001b[0;32mreturn\u001b[0m \u001b[0mblock\u001b[0m\u001b[0;34m.\u001b[0m\u001b[0mget\u001b[0m\u001b[0;34m(\u001b[0m\u001b[0mitem\u001b[0m\u001b[0;34m)\u001b[0m\u001b[0;34m\u001b[0m\u001b[0m\n\u001b[1;32m   1385\u001b[0m \u001b[0;34m\u001b[0m\u001b[0m\n",
        "\u001b[0;32m/Users/chenchen/anaconda/python.app/Contents/lib/python2.7/site-packages/pandas/core/internals.pyc\u001b[0m in \u001b[0;36m_find_block\u001b[0;34m(self, item)\u001b[0m\n\u001b[1;32m   1523\u001b[0m \u001b[0;34m\u001b[0m\u001b[0m\n\u001b[1;32m   1524\u001b[0m     \u001b[0;32mdef\u001b[0m \u001b[0m_find_block\u001b[0m\u001b[0;34m(\u001b[0m\u001b[0mself\u001b[0m\u001b[0;34m,\u001b[0m \u001b[0mitem\u001b[0m\u001b[0;34m)\u001b[0m\u001b[0;34m:\u001b[0m\u001b[0;34m\u001b[0m\u001b[0m\n\u001b[0;32m-> 1525\u001b[0;31m         \u001b[0mself\u001b[0m\u001b[0;34m.\u001b[0m\u001b[0m_check_have\u001b[0m\u001b[0;34m(\u001b[0m\u001b[0mitem\u001b[0m\u001b[0;34m)\u001b[0m\u001b[0;34m\u001b[0m\u001b[0m\n\u001b[0m\u001b[1;32m   1526\u001b[0m         \u001b[0;32mfor\u001b[0m \u001b[0mi\u001b[0m\u001b[0;34m,\u001b[0m \u001b[0mblock\u001b[0m \u001b[0;32min\u001b[0m \u001b[0menumerate\u001b[0m\u001b[0;34m(\u001b[0m\u001b[0mself\u001b[0m\u001b[0;34m.\u001b[0m\u001b[0mblocks\u001b[0m\u001b[0;34m)\u001b[0m\u001b[0;34m:\u001b[0m\u001b[0;34m\u001b[0m\u001b[0m\n\u001b[1;32m   1527\u001b[0m             \u001b[0;32mif\u001b[0m \u001b[0mitem\u001b[0m \u001b[0;32min\u001b[0m \u001b[0mblock\u001b[0m\u001b[0;34m:\u001b[0m\u001b[0;34m\u001b[0m\u001b[0m\n",
        "\u001b[0;32m/Users/chenchen/anaconda/python.app/Contents/lib/python2.7/site-packages/pandas/core/internals.pyc\u001b[0m in \u001b[0;36m_check_have\u001b[0;34m(self, item)\u001b[0m\n\u001b[1;32m   1530\u001b[0m     \u001b[0;32mdef\u001b[0m \u001b[0m_check_have\u001b[0m\u001b[0;34m(\u001b[0m\u001b[0mself\u001b[0m\u001b[0;34m,\u001b[0m \u001b[0mitem\u001b[0m\u001b[0;34m)\u001b[0m\u001b[0;34m:\u001b[0m\u001b[0;34m\u001b[0m\u001b[0m\n\u001b[1;32m   1531\u001b[0m         \u001b[0;32mif\u001b[0m \u001b[0mitem\u001b[0m \u001b[0;32mnot\u001b[0m \u001b[0;32min\u001b[0m \u001b[0mself\u001b[0m\u001b[0;34m.\u001b[0m\u001b[0mitems\u001b[0m\u001b[0;34m:\u001b[0m\u001b[0;34m\u001b[0m\u001b[0m\n\u001b[0;32m-> 1532\u001b[0;31m             \u001b[0;32mraise\u001b[0m \u001b[0mKeyError\u001b[0m\u001b[0;34m(\u001b[0m\u001b[0;34m'no item named %s'\u001b[0m \u001b[0;34m%\u001b[0m \u001b[0mcom\u001b[0m\u001b[0;34m.\u001b[0m\u001b[0mpprint_thing\u001b[0m\u001b[0;34m(\u001b[0m\u001b[0mitem\u001b[0m\u001b[0;34m)\u001b[0m\u001b[0;34m)\u001b[0m\u001b[0;34m\u001b[0m\u001b[0m\n\u001b[0m\u001b[1;32m   1533\u001b[0m \u001b[0;34m\u001b[0m\u001b[0m\n\u001b[1;32m   1534\u001b[0m     \u001b[0;32mdef\u001b[0m \u001b[0mreindex_axis\u001b[0m\u001b[0;34m(\u001b[0m\u001b[0mself\u001b[0m\u001b[0;34m,\u001b[0m \u001b[0mnew_axis\u001b[0m\u001b[0;34m,\u001b[0m \u001b[0mmethod\u001b[0m\u001b[0;34m=\u001b[0m\u001b[0mNone\u001b[0m\u001b[0;34m,\u001b[0m \u001b[0maxis\u001b[0m\u001b[0;34m=\u001b[0m\u001b[0;36m0\u001b[0m\u001b[0;34m,\u001b[0m \u001b[0mcopy\u001b[0m\u001b[0;34m=\u001b[0m\u001b[0mTrue\u001b[0m\u001b[0;34m)\u001b[0m\u001b[0;34m:\u001b[0m\u001b[0;34m\u001b[0m\u001b[0m\n",
        "\u001b[0;31mKeyError\u001b[0m: u'no item named b'"
       ]
      }
     ],
     "prompt_number": 52
    },
    {
     "cell_type": "code",
     "collapsed": false,
     "input": [
      "del df['two']"
     ],
     "language": "python",
     "metadata": {},
     "outputs": [],
     "prompt_number": 53
    },
    {
     "cell_type": "code",
     "collapsed": false,
     "input": [
      "df"
     ],
     "language": "python",
     "metadata": {},
     "outputs": [
      {
       "html": [
        "<div style=\"max-height:1000px;max-width:1500px;overflow:auto;\">\n",
        "<table border=\"1\" class=\"dataframe\">\n",
        "  <thead>\n",
        "    <tr style=\"text-align: right;\">\n",
        "      <th></th>\n",
        "      <th>one</th>\n",
        "      <th>three</th>\n",
        "    </tr>\n",
        "  </thead>\n",
        "  <tbody>\n",
        "    <tr>\n",
        "      <th>a</th>\n",
        "      <td>  1</td>\n",
        "      <td>  1</td>\n",
        "    </tr>\n",
        "    <tr>\n",
        "      <th>b</th>\n",
        "      <td>  2</td>\n",
        "      <td>  4</td>\n",
        "    </tr>\n",
        "    <tr>\n",
        "      <th>c</th>\n",
        "      <td>  3</td>\n",
        "      <td>  9</td>\n",
        "    </tr>\n",
        "    <tr>\n",
        "      <th>d</th>\n",
        "      <td>NaN</td>\n",
        "      <td>NaN</td>\n",
        "    </tr>\n",
        "  </tbody>\n",
        "</table>\n",
        "</div>"
       ],
       "metadata": {},
       "output_type": "pyout",
       "prompt_number": 54,
       "text": [
        "   one  three\n",
        "a    1      1\n",
        "b    2      4\n",
        "c    3      9\n",
        "d  NaN    NaN"
       ]
      }
     ],
     "prompt_number": 54
    },
    {
     "cell_type": "code",
     "collapsed": false,
     "input": [
      "df['new'] = 1"
     ],
     "language": "python",
     "metadata": {},
     "outputs": [],
     "prompt_number": 55
    },
    {
     "cell_type": "code",
     "collapsed": false,
     "input": [
      "df"
     ],
     "language": "python",
     "metadata": {},
     "outputs": [
      {
       "html": [
        "<div style=\"max-height:1000px;max-width:1500px;overflow:auto;\">\n",
        "<table border=\"1\" class=\"dataframe\">\n",
        "  <thead>\n",
        "    <tr style=\"text-align: right;\">\n",
        "      <th></th>\n",
        "      <th>one</th>\n",
        "      <th>three</th>\n",
        "      <th>new</th>\n",
        "    </tr>\n",
        "  </thead>\n",
        "  <tbody>\n",
        "    <tr>\n",
        "      <th>a</th>\n",
        "      <td>  1</td>\n",
        "      <td>  1</td>\n",
        "      <td> 1</td>\n",
        "    </tr>\n",
        "    <tr>\n",
        "      <th>b</th>\n",
        "      <td>  2</td>\n",
        "      <td>  4</td>\n",
        "      <td> 1</td>\n",
        "    </tr>\n",
        "    <tr>\n",
        "      <th>c</th>\n",
        "      <td>  3</td>\n",
        "      <td>  9</td>\n",
        "      <td> 1</td>\n",
        "    </tr>\n",
        "    <tr>\n",
        "      <th>d</th>\n",
        "      <td>NaN</td>\n",
        "      <td>NaN</td>\n",
        "      <td> 1</td>\n",
        "    </tr>\n",
        "  </tbody>\n",
        "</table>\n",
        "</div>"
       ],
       "metadata": {},
       "output_type": "pyout",
       "prompt_number": 56,
       "text": [
        "   one  three  new\n",
        "a    1      1    1\n",
        "b    2      4    1\n",
        "c    3      9    1\n",
        "d  NaN    NaN    1"
       ]
      }
     ],
     "prompt_number": 56
    },
    {
     "cell_type": "code",
     "collapsed": false,
     "input": [
      "df.ix[3]"
     ],
     "language": "python",
     "metadata": {},
     "outputs": [
      {
       "metadata": {},
       "output_type": "pyout",
       "prompt_number": 59,
       "text": [
        "one     NaN\n",
        "three   NaN\n",
        "new       1\n",
        "Name: d, dtype: float64"
       ]
      }
     ],
     "prompt_number": 59
    },
    {
     "cell_type": "heading",
     "level": 4,
     "metadata": {},
     "source": [
      "5.2.8 Indexing/Selection"
     ]
    },
    {
     "cell_type": "markdown",
     "metadata": {},
     "source": [
      "<tb>\n",
      "|Operation                              |    Syntax                      |    Result\n",
      "|Select column                          | df[col]                        |    Series\n",
      "|Select row by lable                    | df.xs(lable) or df.ix[lable]   |    Series\n",
      "|Select row by location(int)            | df.ix[loc]                     |    Series\n",
      "|Slice rows                             | df[5:10]                       |    DataFrame\n",
      "|Selection rows by boolean vector       | df[bool_vec]                   |    DataFrame\n",
      "</tb>"
     ]
    },
    {
     "cell_type": "code",
     "collapsed": false,
     "input": [
      "df[1]"
     ],
     "language": "python",
     "metadata": {},
     "outputs": [
      {
       "ename": "KeyError",
       "evalue": "u'no item named 1'",
       "output_type": "pyerr",
       "traceback": [
        "\u001b[0;31m---------------------------------------------------------------------------\u001b[0m\n\u001b[0;31mKeyError\u001b[0m                                  Traceback (most recent call last)",
        "\u001b[0;32m<ipython-input-64-dc0ea82142cb>\u001b[0m in \u001b[0;36m<module>\u001b[0;34m()\u001b[0m\n\u001b[0;32m----> 1\u001b[0;31m \u001b[0mdf\u001b[0m\u001b[0;34m[\u001b[0m\u001b[0;36m1\u001b[0m\u001b[0;34m]\u001b[0m\u001b[0;34m\u001b[0m\u001b[0m\n\u001b[0m",
        "\u001b[0;32m/Users/chenchen/anaconda/python.app/Contents/lib/python2.7/site-packages/pandas/core/frame.pyc\u001b[0m in \u001b[0;36m__getitem__\u001b[0;34m(self, key)\u001b[0m\n\u001b[1;32m   1926\u001b[0m         \u001b[0;32melse\u001b[0m\u001b[0;34m:\u001b[0m\u001b[0;34m\u001b[0m\u001b[0m\n\u001b[1;32m   1927\u001b[0m             \u001b[0;31m# get column\u001b[0m\u001b[0;34m\u001b[0m\u001b[0;34m\u001b[0m\u001b[0m\n\u001b[0;32m-> 1928\u001b[0;31m             \u001b[0;32mreturn\u001b[0m \u001b[0mself\u001b[0m\u001b[0;34m.\u001b[0m\u001b[0m_get_item_cache\u001b[0m\u001b[0;34m(\u001b[0m\u001b[0mkey\u001b[0m\u001b[0;34m)\u001b[0m\u001b[0;34m\u001b[0m\u001b[0m\n\u001b[0m\u001b[1;32m   1929\u001b[0m \u001b[0;34m\u001b[0m\u001b[0m\n\u001b[1;32m   1930\u001b[0m     \u001b[0;32mdef\u001b[0m \u001b[0m_getitem_slice\u001b[0m\u001b[0;34m(\u001b[0m\u001b[0mself\u001b[0m\u001b[0;34m,\u001b[0m \u001b[0mkey\u001b[0m\u001b[0;34m)\u001b[0m\u001b[0;34m:\u001b[0m\u001b[0;34m\u001b[0m\u001b[0m\n",
        "\u001b[0;32m/Users/chenchen/anaconda/python.app/Contents/lib/python2.7/site-packages/pandas/core/generic.pyc\u001b[0m in \u001b[0;36m_get_item_cache\u001b[0;34m(self, item)\u001b[0m\n\u001b[1;32m    568\u001b[0m             \u001b[0;32mreturn\u001b[0m \u001b[0mcache\u001b[0m\u001b[0;34m[\u001b[0m\u001b[0mitem\u001b[0m\u001b[0;34m]\u001b[0m\u001b[0;34m\u001b[0m\u001b[0m\n\u001b[1;32m    569\u001b[0m         \u001b[0;32mexcept\u001b[0m \u001b[0mException\u001b[0m\u001b[0;34m:\u001b[0m\u001b[0;34m\u001b[0m\u001b[0m\n\u001b[0;32m--> 570\u001b[0;31m             \u001b[0mvalues\u001b[0m \u001b[0;34m=\u001b[0m \u001b[0mself\u001b[0m\u001b[0;34m.\u001b[0m\u001b[0m_data\u001b[0m\u001b[0;34m.\u001b[0m\u001b[0mget\u001b[0m\u001b[0;34m(\u001b[0m\u001b[0mitem\u001b[0m\u001b[0;34m)\u001b[0m\u001b[0;34m\u001b[0m\u001b[0m\n\u001b[0m\u001b[1;32m    571\u001b[0m             \u001b[0mres\u001b[0m \u001b[0;34m=\u001b[0m \u001b[0mself\u001b[0m\u001b[0;34m.\u001b[0m\u001b[0m_box_item_values\u001b[0m\u001b[0;34m(\u001b[0m\u001b[0mitem\u001b[0m\u001b[0;34m,\u001b[0m \u001b[0mvalues\u001b[0m\u001b[0;34m)\u001b[0m\u001b[0;34m\u001b[0m\u001b[0m\n\u001b[1;32m    572\u001b[0m             \u001b[0mcache\u001b[0m\u001b[0;34m[\u001b[0m\u001b[0mitem\u001b[0m\u001b[0;34m]\u001b[0m \u001b[0;34m=\u001b[0m \u001b[0mres\u001b[0m\u001b[0;34m\u001b[0m\u001b[0m\n",
        "\u001b[0;32m/Users/chenchen/anaconda/python.app/Contents/lib/python2.7/site-packages/pandas/core/internals.pyc\u001b[0m in \u001b[0;36mget\u001b[0;34m(self, item)\u001b[0m\n\u001b[1;32m   1381\u001b[0m \u001b[0;34m\u001b[0m\u001b[0m\n\u001b[1;32m   1382\u001b[0m     \u001b[0;32mdef\u001b[0m \u001b[0mget\u001b[0m\u001b[0;34m(\u001b[0m\u001b[0mself\u001b[0m\u001b[0;34m,\u001b[0m \u001b[0mitem\u001b[0m\u001b[0;34m)\u001b[0m\u001b[0;34m:\u001b[0m\u001b[0;34m\u001b[0m\u001b[0m\n\u001b[0;32m-> 1383\u001b[0;31m         \u001b[0m_\u001b[0m\u001b[0;34m,\u001b[0m \u001b[0mblock\u001b[0m \u001b[0;34m=\u001b[0m \u001b[0mself\u001b[0m\u001b[0;34m.\u001b[0m\u001b[0m_find_block\u001b[0m\u001b[0;34m(\u001b[0m\u001b[0mitem\u001b[0m\u001b[0;34m)\u001b[0m\u001b[0;34m\u001b[0m\u001b[0m\n\u001b[0m\u001b[1;32m   1384\u001b[0m         \u001b[0;32mreturn\u001b[0m \u001b[0mblock\u001b[0m\u001b[0;34m.\u001b[0m\u001b[0mget\u001b[0m\u001b[0;34m(\u001b[0m\u001b[0mitem\u001b[0m\u001b[0;34m)\u001b[0m\u001b[0;34m\u001b[0m\u001b[0m\n\u001b[1;32m   1385\u001b[0m \u001b[0;34m\u001b[0m\u001b[0m\n",
        "\u001b[0;32m/Users/chenchen/anaconda/python.app/Contents/lib/python2.7/site-packages/pandas/core/internals.pyc\u001b[0m in \u001b[0;36m_find_block\u001b[0;34m(self, item)\u001b[0m\n\u001b[1;32m   1523\u001b[0m \u001b[0;34m\u001b[0m\u001b[0m\n\u001b[1;32m   1524\u001b[0m     \u001b[0;32mdef\u001b[0m \u001b[0m_find_block\u001b[0m\u001b[0;34m(\u001b[0m\u001b[0mself\u001b[0m\u001b[0;34m,\u001b[0m \u001b[0mitem\u001b[0m\u001b[0;34m)\u001b[0m\u001b[0;34m:\u001b[0m\u001b[0;34m\u001b[0m\u001b[0m\n\u001b[0;32m-> 1525\u001b[0;31m         \u001b[0mself\u001b[0m\u001b[0;34m.\u001b[0m\u001b[0m_check_have\u001b[0m\u001b[0;34m(\u001b[0m\u001b[0mitem\u001b[0m\u001b[0;34m)\u001b[0m\u001b[0;34m\u001b[0m\u001b[0m\n\u001b[0m\u001b[1;32m   1526\u001b[0m         \u001b[0;32mfor\u001b[0m \u001b[0mi\u001b[0m\u001b[0;34m,\u001b[0m \u001b[0mblock\u001b[0m \u001b[0;32min\u001b[0m \u001b[0menumerate\u001b[0m\u001b[0;34m(\u001b[0m\u001b[0mself\u001b[0m\u001b[0;34m.\u001b[0m\u001b[0mblocks\u001b[0m\u001b[0;34m)\u001b[0m\u001b[0;34m:\u001b[0m\u001b[0;34m\u001b[0m\u001b[0m\n\u001b[1;32m   1527\u001b[0m             \u001b[0;32mif\u001b[0m \u001b[0mitem\u001b[0m \u001b[0;32min\u001b[0m \u001b[0mblock\u001b[0m\u001b[0;34m:\u001b[0m\u001b[0;34m\u001b[0m\u001b[0m\n",
        "\u001b[0;32m/Users/chenchen/anaconda/python.app/Contents/lib/python2.7/site-packages/pandas/core/internals.pyc\u001b[0m in \u001b[0;36m_check_have\u001b[0;34m(self, item)\u001b[0m\n\u001b[1;32m   1530\u001b[0m     \u001b[0;32mdef\u001b[0m \u001b[0m_check_have\u001b[0m\u001b[0;34m(\u001b[0m\u001b[0mself\u001b[0m\u001b[0;34m,\u001b[0m \u001b[0mitem\u001b[0m\u001b[0;34m)\u001b[0m\u001b[0;34m:\u001b[0m\u001b[0;34m\u001b[0m\u001b[0m\n\u001b[1;32m   1531\u001b[0m         \u001b[0;32mif\u001b[0m \u001b[0mitem\u001b[0m \u001b[0;32mnot\u001b[0m \u001b[0;32min\u001b[0m \u001b[0mself\u001b[0m\u001b[0;34m.\u001b[0m\u001b[0mitems\u001b[0m\u001b[0;34m:\u001b[0m\u001b[0;34m\u001b[0m\u001b[0m\n\u001b[0;32m-> 1532\u001b[0;31m             \u001b[0;32mraise\u001b[0m \u001b[0mKeyError\u001b[0m\u001b[0;34m(\u001b[0m\u001b[0;34m'no item named %s'\u001b[0m \u001b[0;34m%\u001b[0m \u001b[0mcom\u001b[0m\u001b[0;34m.\u001b[0m\u001b[0mpprint_thing\u001b[0m\u001b[0;34m(\u001b[0m\u001b[0mitem\u001b[0m\u001b[0;34m)\u001b[0m\u001b[0;34m)\u001b[0m\u001b[0;34m\u001b[0m\u001b[0m\n\u001b[0m\u001b[1;32m   1533\u001b[0m \u001b[0;34m\u001b[0m\u001b[0m\n\u001b[1;32m   1534\u001b[0m     \u001b[0;32mdef\u001b[0m \u001b[0mreindex_axis\u001b[0m\u001b[0;34m(\u001b[0m\u001b[0mself\u001b[0m\u001b[0;34m,\u001b[0m \u001b[0mnew_axis\u001b[0m\u001b[0;34m,\u001b[0m \u001b[0mmethod\u001b[0m\u001b[0;34m=\u001b[0m\u001b[0mNone\u001b[0m\u001b[0;34m,\u001b[0m \u001b[0maxis\u001b[0m\u001b[0;34m=\u001b[0m\u001b[0;36m0\u001b[0m\u001b[0;34m,\u001b[0m \u001b[0mcopy\u001b[0m\u001b[0;34m=\u001b[0m\u001b[0mTrue\u001b[0m\u001b[0;34m)\u001b[0m\u001b[0;34m:\u001b[0m\u001b[0;34m\u001b[0m\u001b[0m\n",
        "\u001b[0;31mKeyError\u001b[0m: u'no item named 1'"
       ]
      }
     ],
     "prompt_number": 64
    },
    {
     "cell_type": "markdown",
     "metadata": {},
     "source": [
      "5.2.9 DataTypes"
     ]
    },
    {
     "cell_type": "code",
     "collapsed": false,
     "input": [
      "df['interger'] = 1\n",
      "df['int32'] = df['interger'].astype('int32')\n",
      "df['float32'] = Series([1.0]*len(df),dtype='float32')\n",
      "df['timestamp'] = Timestamp('20010102')"
     ],
     "language": "python",
     "metadata": {},
     "outputs": [],
     "prompt_number": 75
    },
    {
     "cell_type": "code",
     "collapsed": false,
     "input": [
      "df.dtypes"
     ],
     "language": "python",
     "metadata": {},
     "outputs": [
      {
       "metadata": {},
       "output_type": "pyout",
       "prompt_number": 77,
       "text": [
        "one                 float64\n",
        "two                 float64\n",
        "interger              int64\n",
        "int32                 int32\n",
        "float32             float32\n",
        "timestamp    datetime64[ns]\n",
        "dtype: object"
       ]
      }
     ],
     "prompt_number": 77
    },
    {
     "cell_type": "heading",
     "level": 4,
     "metadata": {},
     "source": [
      "5.2.11 Data alignment and arithmetic"
     ]
    },
    {
     "cell_type": "code",
     "collapsed": false,
     "input": [
      "index_df = date_range('1', periods=10)  #use data range as index, otherwise, Boom!!\n",
      "df = DataFrame(randn(10, 4), index=index_df, columns=['A', 'B', 'C', 'D'])\n",
      "df - df['A']\n",
      "(df.T - df['A']).T"
     ],
     "language": "python",
     "metadata": {},
     "outputs": [
      {
       "output_type": "stream",
       "stream": "stderr",
       "text": [
        "/Users/chenchen/anaconda/lib/python2.7/site-packages/pandas/core/frame.py:3619: FutureWarning: TimeSeries broadcasting along DataFrame index by default is deprecated. Please use DataFrame.<op> to explicitly broadcast arithmetic operations along the index\n",
        "  FutureWarning)\n"
       ]
      },
      {
       "html": [
        "<div style=\"max-height:1000px;max-width:1500px;overflow:auto;\">\n",
        "<table border=\"1\" class=\"dataframe\">\n",
        "  <thead>\n",
        "    <tr style=\"text-align: right;\">\n",
        "      <th></th>\n",
        "      <th>A</th>\n",
        "      <th>B</th>\n",
        "      <th>C</th>\n",
        "      <th>D</th>\n",
        "    </tr>\n",
        "  </thead>\n",
        "  <tbody>\n",
        "    <tr>\n",
        "      <th>2013-11-01</th>\n",
        "      <td> 0</td>\n",
        "      <td> 0.070616</td>\n",
        "      <td> 1.764970</td>\n",
        "      <td> 0.483617</td>\n",
        "    </tr>\n",
        "    <tr>\n",
        "      <th>2013-11-02</th>\n",
        "      <td> 0</td>\n",
        "      <td>-2.154749</td>\n",
        "      <td>-0.160766</td>\n",
        "      <td> 1.531038</td>\n",
        "    </tr>\n",
        "    <tr>\n",
        "      <th>2013-11-03</th>\n",
        "      <td> 0</td>\n",
        "      <td>-0.590357</td>\n",
        "      <td> 0.202836</td>\n",
        "      <td> 1.108110</td>\n",
        "    </tr>\n",
        "    <tr>\n",
        "      <th>2013-11-04</th>\n",
        "      <td> 0</td>\n",
        "      <td>-0.219865</td>\n",
        "      <td>-0.262338</td>\n",
        "      <td>-1.444890</td>\n",
        "    </tr>\n",
        "    <tr>\n",
        "      <th>2013-11-05</th>\n",
        "      <td> 0</td>\n",
        "      <td> 0.258523</td>\n",
        "      <td>-1.696840</td>\n",
        "      <td>-1.297896</td>\n",
        "    </tr>\n",
        "    <tr>\n",
        "      <th>2013-11-06</th>\n",
        "      <td> 0</td>\n",
        "      <td>-1.112081</td>\n",
        "      <td> 0.808770</td>\n",
        "      <td>-1.233935</td>\n",
        "    </tr>\n",
        "    <tr>\n",
        "      <th>2013-11-07</th>\n",
        "      <td> 0</td>\n",
        "      <td> 1.497496</td>\n",
        "      <td>-0.272568</td>\n",
        "      <td> 1.900655</td>\n",
        "    </tr>\n",
        "    <tr>\n",
        "      <th>2013-11-08</th>\n",
        "      <td> 0</td>\n",
        "      <td> 1.618075</td>\n",
        "      <td> 0.784253</td>\n",
        "      <td> 0.442696</td>\n",
        "    </tr>\n",
        "    <tr>\n",
        "      <th>2013-11-09</th>\n",
        "      <td> 0</td>\n",
        "      <td> 0.170048</td>\n",
        "      <td> 1.366825</td>\n",
        "      <td> 0.277063</td>\n",
        "    </tr>\n",
        "    <tr>\n",
        "      <th>2013-11-10</th>\n",
        "      <td> 0</td>\n",
        "      <td> 0.676875</td>\n",
        "      <td> 0.121673</td>\n",
        "      <td>-0.862354</td>\n",
        "    </tr>\n",
        "  </tbody>\n",
        "</table>\n",
        "</div>"
       ],
       "metadata": {},
       "output_type": "pyout",
       "prompt_number": 3,
       "text": [
        "            A         B         C         D\n",
        "2013-11-01  0  0.070616  1.764970  0.483617\n",
        "2013-11-02  0 -2.154749 -0.160766  1.531038\n",
        "2013-11-03  0 -0.590357  0.202836  1.108110\n",
        "2013-11-04  0 -0.219865 -0.262338 -1.444890\n",
        "2013-11-05  0  0.258523 -1.696840 -1.297896\n",
        "2013-11-06  0 -1.112081  0.808770 -1.233935\n",
        "2013-11-07  0  1.497496 -0.272568  1.900655\n",
        "2013-11-08  0  1.618075  0.784253  0.442696\n",
        "2013-11-09  0  0.170048  1.366825  0.277063\n",
        "2013-11-10  0  0.676875  0.121673 -0.862354"
       ]
      }
     ],
     "prompt_number": 3
    },
    {
     "cell_type": "code",
     "collapsed": false,
     "input": [
      "df - df['A']\n",
      "df * 5 + 2\n",
      "1/df\n",
      "df ** 4"
     ],
     "language": "python",
     "metadata": {},
     "outputs": [
      {
       "html": [
        "<div style=\"max-height:1000px;max-width:1500px;overflow:auto;\">\n",
        "<table border=\"1\" class=\"dataframe\">\n",
        "  <thead>\n",
        "    <tr style=\"text-align: right;\">\n",
        "      <th></th>\n",
        "      <th>A</th>\n",
        "      <th>B</th>\n",
        "      <th>C</th>\n",
        "      <th>D</th>\n",
        "    </tr>\n",
        "  </thead>\n",
        "  <tbody>\n",
        "    <tr>\n",
        "      <th>2013-11-01</th>\n",
        "      <td> 8.056042</td>\n",
        "      <td>  6.787938</td>\n",
        "      <td> 0.000041</td>\n",
        "      <td>  2.081309</td>\n",
        "    </tr>\n",
        "    <tr>\n",
        "      <th>2013-11-02</th>\n",
        "      <td> 0.000116</td>\n",
        "      <td> 17.694768</td>\n",
        "      <td> 0.000011</td>\n",
        "      <td>  7.142781</td>\n",
        "    </tr>\n",
        "    <tr>\n",
        "      <th>2013-11-03</th>\n",
        "      <td> 0.000301</td>\n",
        "      <td>  0.271847</td>\n",
        "      <td> 0.000026</td>\n",
        "      <td>  0.908869</td>\n",
        "    </tr>\n",
        "    <tr>\n",
        "      <th>2013-11-04</th>\n",
        "      <td> 0.022124</td>\n",
        "      <td>  0.000756</td>\n",
        "      <td> 0.000231</td>\n",
        "      <td>  1.258766</td>\n",
        "    </tr>\n",
        "    <tr>\n",
        "      <th>2013-11-05</th>\n",
        "      <td> 0.314838</td>\n",
        "      <td>  1.030715</td>\n",
        "      <td> 0.806888</td>\n",
        "      <td>  0.090728</td>\n",
        "    </tr>\n",
        "    <tr>\n",
        "      <th>2013-11-06</th>\n",
        "      <td> 0.000267</td>\n",
        "      <td>  0.938527</td>\n",
        "      <td> 0.769471</td>\n",
        "      <td>  1.496948</td>\n",
        "    </tr>\n",
        "    <tr>\n",
        "      <th>2013-11-07</th>\n",
        "      <td> 0.281678</td>\n",
        "      <td>  0.349674</td>\n",
        "      <td> 1.004335</td>\n",
        "      <td>  1.887639</td>\n",
        "    </tr>\n",
        "    <tr>\n",
        "      <th>2013-11-08</th>\n",
        "      <td> 2.014804</td>\n",
        "      <td>  0.033142</td>\n",
        "      <td> 0.027480</td>\n",
        "      <td>  0.314228</td>\n",
        "    </tr>\n",
        "    <tr>\n",
        "      <th>2013-11-09</th>\n",
        "      <td> 0.019255</td>\n",
        "      <td>  0.001680</td>\n",
        "      <td> 0.977456</td>\n",
        "      <td>  0.000083</td>\n",
        "    </tr>\n",
        "    <tr>\n",
        "      <th>2013-11-10</th>\n",
        "      <td> 2.155483</td>\n",
        "      <td>  0.081802</td>\n",
        "      <td> 1.411590</td>\n",
        "      <td> 18.503734</td>\n",
        "    </tr>\n",
        "  </tbody>\n",
        "</table>\n",
        "</div>"
       ],
       "metadata": {},
       "output_type": "pyout",
       "prompt_number": 7,
       "text": [
        "                   A          B         C          D\n",
        "2013-11-01  8.056042   6.787938  0.000041   2.081309\n",
        "2013-11-02  0.000116  17.694768  0.000011   7.142781\n",
        "2013-11-03  0.000301   0.271847  0.000026   0.908869\n",
        "2013-11-04  0.022124   0.000756  0.000231   1.258766\n",
        "2013-11-05  0.314838   1.030715  0.806888   0.090728\n",
        "2013-11-06  0.000267   0.938527  0.769471   1.496948\n",
        "2013-11-07  0.281678   0.349674  1.004335   1.887639\n",
        "2013-11-08  2.014804   0.033142  0.027480   0.314228\n",
        "2013-11-09  0.019255   0.001680  0.977456   0.000083\n",
        "2013-11-10  2.155483   0.081802  1.411590  18.503734"
       ]
      }
     ],
     "prompt_number": 7
    },
    {
     "cell_type": "heading",
     "level": 4,
     "metadata": {},
     "source": [
      "5.2.12 Transposing"
     ]
    },
    {
     "cell_type": "code",
     "collapsed": false,
     "input": [
      "df[:5]"
     ],
     "language": "python",
     "metadata": {},
     "outputs": [
      {
       "html": [
        "<div style=\"max-height:1000px;max-width:1500px;overflow:auto;\">\n",
        "<table border=\"1\" class=\"dataframe\">\n",
        "  <thead>\n",
        "    <tr style=\"text-align: right;\">\n",
        "      <th></th>\n",
        "      <th>A</th>\n",
        "      <th>B</th>\n",
        "      <th>C</th>\n",
        "      <th>D</th>\n",
        "    </tr>\n",
        "  </thead>\n",
        "  <tbody>\n",
        "    <tr>\n",
        "      <th>2013-11-01</th>\n",
        "      <td>-1.684730</td>\n",
        "      <td>-1.614115</td>\n",
        "      <td> 0.080239</td>\n",
        "      <td>-1.201114</td>\n",
        "    </tr>\n",
        "    <tr>\n",
        "      <th>2013-11-02</th>\n",
        "      <td> 0.103770</td>\n",
        "      <td>-2.050979</td>\n",
        "      <td>-0.056996</td>\n",
        "      <td> 1.634808</td>\n",
        "    </tr>\n",
        "    <tr>\n",
        "      <th>2013-11-03</th>\n",
        "      <td>-0.131716</td>\n",
        "      <td>-0.722073</td>\n",
        "      <td> 0.071120</td>\n",
        "      <td> 0.976394</td>\n",
        "    </tr>\n",
        "    <tr>\n",
        "      <th>2013-11-04</th>\n",
        "      <td> 0.385670</td>\n",
        "      <td> 0.165805</td>\n",
        "      <td> 0.123332</td>\n",
        "      <td>-1.059220</td>\n",
        "    </tr>\n",
        "    <tr>\n",
        "      <th>2013-11-05</th>\n",
        "      <td> 0.749069</td>\n",
        "      <td> 1.007592</td>\n",
        "      <td>-0.947771</td>\n",
        "      <td>-0.548827</td>\n",
        "    </tr>\n",
        "  </tbody>\n",
        "</table>\n",
        "</div>"
       ],
       "metadata": {},
       "output_type": "pyout",
       "prompt_number": 8,
       "text": [
        "                   A         B         C         D\n",
        "2013-11-01 -1.684730 -1.614115  0.080239 -1.201114\n",
        "2013-11-02  0.103770 -2.050979 -0.056996  1.634808\n",
        "2013-11-03 -0.131716 -0.722073  0.071120  0.976394\n",
        "2013-11-04  0.385670  0.165805  0.123332 -1.059220\n",
        "2013-11-05  0.749069  1.007592 -0.947771 -0.548827"
       ]
      }
     ],
     "prompt_number": 8
    },
    {
     "cell_type": "code",
     "collapsed": false,
     "input": [
      "df[:5].T"
     ],
     "language": "python",
     "metadata": {},
     "outputs": [
      {
       "html": [
        "<div style=\"max-height:1000px;max-width:1500px;overflow:auto;\">\n",
        "<table border=\"1\" class=\"dataframe\">\n",
        "  <thead>\n",
        "    <tr style=\"text-align: right;\">\n",
        "      <th></th>\n",
        "      <th>2013-11-01 00:00:00</th>\n",
        "      <th>2013-11-02 00:00:00</th>\n",
        "      <th>2013-11-03 00:00:00</th>\n",
        "      <th>2013-11-04 00:00:00</th>\n",
        "      <th>2013-11-05 00:00:00</th>\n",
        "    </tr>\n",
        "  </thead>\n",
        "  <tbody>\n",
        "    <tr>\n",
        "      <th>A</th>\n",
        "      <td>-1.684730</td>\n",
        "      <td> 0.103770</td>\n",
        "      <td>-0.131716</td>\n",
        "      <td> 0.385670</td>\n",
        "      <td> 0.749069</td>\n",
        "    </tr>\n",
        "    <tr>\n",
        "      <th>B</th>\n",
        "      <td>-1.614115</td>\n",
        "      <td>-2.050979</td>\n",
        "      <td>-0.722073</td>\n",
        "      <td> 0.165805</td>\n",
        "      <td> 1.007592</td>\n",
        "    </tr>\n",
        "    <tr>\n",
        "      <th>C</th>\n",
        "      <td> 0.080239</td>\n",
        "      <td>-0.056996</td>\n",
        "      <td> 0.071120</td>\n",
        "      <td> 0.123332</td>\n",
        "      <td>-0.947771</td>\n",
        "    </tr>\n",
        "    <tr>\n",
        "      <th>D</th>\n",
        "      <td>-1.201114</td>\n",
        "      <td> 1.634808</td>\n",
        "      <td> 0.976394</td>\n",
        "      <td>-1.059220</td>\n",
        "      <td>-0.548827</td>\n",
        "    </tr>\n",
        "  </tbody>\n",
        "</table>\n",
        "</div>"
       ],
       "metadata": {},
       "output_type": "pyout",
       "prompt_number": 9,
       "text": [
        "   2013-11-01  2013-11-02  2013-11-03  2013-11-04  2013-11-05\n",
        "A   -1.684730    0.103770   -0.131716    0.385670    0.749069\n",
        "B   -1.614115   -2.050979   -0.722073    0.165805    1.007592\n",
        "C    0.080239   -0.056996    0.071120    0.123332   -0.947771\n",
        "D   -1.201114    1.634808    0.976394   -1.059220   -0.548827"
       ]
      }
     ],
     "prompt_number": 9
    },
    {
     "cell_type": "heading",
     "level": 4,
     "metadata": {},
     "source": [
      "5.2.13DataFrame Interoperability with NumPy functions"
     ]
    },
    {
     "cell_type": "code",
     "collapsed": false,
     "input": [
      "np.exp(df)"
     ],
     "language": "python",
     "metadata": {},
     "outputs": [
      {
       "html": [
        "<div style=\"max-height:1000px;max-width:1500px;overflow:auto;\">\n",
        "<table border=\"1\" class=\"dataframe\">\n",
        "  <thead>\n",
        "    <tr style=\"text-align: right;\">\n",
        "      <th></th>\n",
        "      <th>A</th>\n",
        "      <th>B</th>\n",
        "      <th>C</th>\n",
        "      <th>D</th>\n",
        "    </tr>\n",
        "  </thead>\n",
        "  <tbody>\n",
        "    <tr>\n",
        "      <th>2013-11-01</th>\n",
        "      <td> 0.185494</td>\n",
        "      <td> 0.199067</td>\n",
        "      <td> 1.083546</td>\n",
        "      <td> 0.300859</td>\n",
        "    </tr>\n",
        "    <tr>\n",
        "      <th>2013-11-02</th>\n",
        "      <td> 1.109346</td>\n",
        "      <td> 0.128609</td>\n",
        "      <td> 0.944598</td>\n",
        "      <td> 5.128475</td>\n",
        "    </tr>\n",
        "    <tr>\n",
        "      <th>2013-11-03</th>\n",
        "      <td> 0.876590</td>\n",
        "      <td> 0.485744</td>\n",
        "      <td> 1.073710</td>\n",
        "      <td> 2.654867</td>\n",
        "    </tr>\n",
        "    <tr>\n",
        "      <th>2013-11-04</th>\n",
        "      <td> 1.470599</td>\n",
        "      <td> 1.180343</td>\n",
        "      <td> 1.131260</td>\n",
        "      <td> 0.346726</td>\n",
        "    </tr>\n",
        "    <tr>\n",
        "      <th>2013-11-05</th>\n",
        "      <td> 2.115030</td>\n",
        "      <td> 2.738997</td>\n",
        "      <td> 0.387604</td>\n",
        "      <td> 0.577627</td>\n",
        "    </tr>\n",
        "    <tr>\n",
        "      <th>2013-11-06</th>\n",
        "      <td> 1.136345</td>\n",
        "      <td> 0.373714</td>\n",
        "      <td> 2.551258</td>\n",
        "      <td> 0.330841</td>\n",
        "    </tr>\n",
        "    <tr>\n",
        "      <th>2013-11-07</th>\n",
        "      <td> 0.482625</td>\n",
        "      <td> 2.157568</td>\n",
        "      <td> 0.367482</td>\n",
        "      <td> 3.228897</td>\n",
        "    </tr>\n",
        "    <tr>\n",
        "      <th>2013-11-08</th>\n",
        "      <td> 0.303795</td>\n",
        "      <td> 1.532153</td>\n",
        "      <td> 0.665545</td>\n",
        "      <td> 0.472978</td>\n",
        "    </tr>\n",
        "    <tr>\n",
        "      <th>2013-11-09</th>\n",
        "      <td> 0.689003</td>\n",
        "      <td> 0.816718</td>\n",
        "      <td> 2.702874</td>\n",
        "      <td> 0.908967</td>\n",
        "    </tr>\n",
        "    <tr>\n",
        "      <th>2013-11-10</th>\n",
        "      <td> 0.297698</td>\n",
        "      <td> 0.585786</td>\n",
        "      <td> 0.336216</td>\n",
        "      <td> 0.125678</td>\n",
        "    </tr>\n",
        "  </tbody>\n",
        "</table>\n",
        "</div>"
       ],
       "metadata": {},
       "output_type": "pyout",
       "prompt_number": 10,
       "text": [
        "                   A         B         C         D\n",
        "2013-11-01  0.185494  0.199067  1.083546  0.300859\n",
        "2013-11-02  1.109346  0.128609  0.944598  5.128475\n",
        "2013-11-03  0.876590  0.485744  1.073710  2.654867\n",
        "2013-11-04  1.470599  1.180343  1.131260  0.346726\n",
        "2013-11-05  2.115030  2.738997  0.387604  0.577627\n",
        "2013-11-06  1.136345  0.373714  2.551258  0.330841\n",
        "2013-11-07  0.482625  2.157568  0.367482  3.228897\n",
        "2013-11-08  0.303795  1.532153  0.665545  0.472978\n",
        "2013-11-09  0.689003  0.816718  2.702874  0.908967\n",
        "2013-11-10  0.297698  0.585786  0.336216  0.125678"
       ]
      }
     ],
     "prompt_number": 10
    },
    {
     "cell_type": "code",
     "collapsed": false,
     "input": [
      "np.asarray(df)"
     ],
     "language": "python",
     "metadata": {},
     "outputs": [
      {
       "metadata": {},
       "output_type": "pyout",
       "prompt_number": 11,
       "text": [
        "array([[-1.68473046, -1.61411495,  0.08023923, -1.20111378],\n",
        "       [ 0.10377037, -2.05097901, -0.05699605,  1.63480831],\n",
        "       [-0.13171584, -0.72207297,  0.07112033,  0.97639441],\n",
        "       [ 0.38567009,  0.16580471,  0.12333169, -1.05922022],\n",
        "       [ 0.74906882,  1.00759175, -0.94777076, -0.54882724],\n",
        "       [ 0.12781657, -0.98426416,  0.93658673, -1.10611851],\n",
        "       [-0.72851447,  0.76898165, -1.0010821 ,  1.1721406 ],\n",
        "       [-1.1914016 ,  0.42667381, -0.40714827, -0.74870594],\n",
        "       [-0.37250927, -0.20246151,  0.99431559, -0.09544651],\n",
        "       [-1.21167503, -0.53480017, -1.09000165, -2.07402908]])"
       ]
      }
     ],
     "prompt_number": 11
    },
    {
     "cell_type": "code",
     "collapsed": false,
     "input": [
      "df.T.dot(df)"
     ],
     "language": "python",
     "metadata": {},
     "outputs": [
      {
       "html": [
        "<div style=\"max-height:1000px;max-width:1500px;overflow:auto;\">\n",
        "<table border=\"1\" class=\"dataframe\">\n",
        "  <thead>\n",
        "    <tr style=\"text-align: right;\">\n",
        "      <th></th>\n",
        "      <th>A</th>\n",
        "      <th>B</th>\n",
        "      <th>C</th>\n",
        "      <th>D</th>\n",
        "    </tr>\n",
        "  </thead>\n",
        "  <tbody>\n",
        "    <tr>\n",
        "      <th>A</th>\n",
        "      <td> 7.149707</td>\n",
        "      <td>  2.949391</td>\n",
        "      <td> 1.471583</td>\n",
        "      <td>  3.690284</td>\n",
        "    </tr>\n",
        "    <tr>\n",
        "      <th>B</th>\n",
        "      <td> 2.949391</td>\n",
        "      <td> 10.445165</td>\n",
        "      <td>-2.482248</td>\n",
        "      <td> -0.048738</td>\n",
        "    </tr>\n",
        "    <tr>\n",
        "      <th>C</th>\n",
        "      <td> 1.471583</td>\n",
        "      <td> -2.482248</td>\n",
        "      <td> 5.150122</td>\n",
        "      <td>  0.530655</td>\n",
        "    </tr>\n",
        "    <tr>\n",
        "      <th>D</th>\n",
        "      <td> 3.690284</td>\n",
        "      <td> -0.048738</td>\n",
        "      <td> 0.530655</td>\n",
        "      <td> 13.960456</td>\n",
        "    </tr>\n",
        "  </tbody>\n",
        "</table>\n",
        "</div>"
       ],
       "metadata": {},
       "output_type": "pyout",
       "prompt_number": 13,
       "text": [
        "          A          B         C          D\n",
        "A  7.149707   2.949391  1.471583   3.690284\n",
        "B  2.949391  10.445165 -2.482248  -0.048738\n",
        "C  1.471583  -2.482248  5.150122   0.530655\n",
        "D  3.690284  -0.048738  0.530655  13.960456"
       ]
      }
     ],
     "prompt_number": 13
    },
    {
     "cell_type": "code",
     "collapsed": false,
     "input": [
      "s1 = Series(np.arange(5,10))\n",
      "s1.dot(s1)"
     ],
     "language": "python",
     "metadata": {},
     "outputs": [
      {
       "metadata": {},
       "output_type": "pyout",
       "prompt_number": 14,
       "text": [
        "255"
       ]
      }
     ],
     "prompt_number": 14
    },
    {
     "cell_type": "heading",
     "level": 4,
     "metadata": {},
     "source": [
      "5.2.14 Consol Display"
     ]
    },
    {
     "cell_type": "code",
     "collapsed": false,
     "input": [
      "#baseball = read_csv('a_large_data_set.csv')\n",
      "#print baseball (only have summary)\n",
      "#print baseball.ix[-20:, :12].to_string() represant as a tabulate formate"
     ],
     "language": "python",
     "metadata": {},
     "outputs": [],
     "prompt_number": 15
    },
    {
     "cell_type": "code",
     "collapsed": false,
     "input": [
      "DataFrame(randn(3,12))"
     ],
     "language": "python",
     "metadata": {},
     "outputs": [
      {
       "html": [
        "<pre>\n",
        "&ltclass 'pandas.core.frame.DataFrame'&gt\n",
        "Int64Index: 3 entries, 0 to 2\n",
        "Data columns (total 12 columns):\n",
        "0     3  non-null values\n",
        "1     3  non-null values\n",
        "2     3  non-null values\n",
        "3     3  non-null values\n",
        "4     3  non-null values\n",
        "5     3  non-null values\n",
        "6     3  non-null values\n",
        "7     3  non-null values\n",
        "8     3  non-null values\n",
        "9     3  non-null values\n",
        "10    3  non-null values\n",
        "11    3  non-null values\n",
        "dtypes: float64(12)\n",
        "</pre>"
       ],
       "metadata": {},
       "output_type": "pyout",
       "prompt_number": 21,
       "text": [
        "<class 'pandas.core.frame.DataFrame'>\n",
        "Int64Index: 3 entries, 0 to 2\n",
        "Data columns (total 12 columns):\n",
        "0     3  non-null values\n",
        "1     3  non-null values\n",
        "2     3  non-null values\n",
        "3     3  non-null values\n",
        "4     3  non-null values\n",
        "5     3  non-null values\n",
        "6     3  non-null values\n",
        "7     3  non-null values\n",
        "8     3  non-null values\n",
        "9     3  non-null values\n",
        "10    3  non-null values\n",
        "11    3  non-null values\n",
        "dtypes: float64(12)"
       ]
      }
     ],
     "prompt_number": 21
    },
    {
     "cell_type": "code",
     "collapsed": false,
     "input": [
      "df.C"
     ],
     "language": "python",
     "metadata": {},
     "outputs": [
      {
       "metadata": {},
       "output_type": "pyout",
       "prompt_number": 24,
       "text": [
        "2013-11-01    0.080239\n",
        "2013-11-02   -0.056996\n",
        "2013-11-03    0.071120\n",
        "2013-11-04    0.123332\n",
        "2013-11-05   -0.947771\n",
        "2013-11-06    0.936587\n",
        "2013-11-07   -1.001082\n",
        "2013-11-08   -0.407148\n",
        "2013-11-09    0.994316\n",
        "2013-11-10   -1.090002\n",
        "Freq: D, Name: C, dtype: float64"
       ]
      }
     ],
     "prompt_number": 24
    },
    {
     "cell_type": "heading",
     "level": 3,
     "metadata": {},
     "source": [
      "5.3 Panel : 3D Data"
     ]
    },
    {
     "cell_type": "heading",
     "level": 2,
     "metadata": {},
     "source": [
      "Chapter Six: Essential Basic Functionality"
     ]
    },
    {
     "cell_type": "heading",
     "level": 3,
     "metadata": {},
     "source": [
      "6.1 Head and Tail"
     ]
    },
    {
     "cell_type": "code",
     "collapsed": false,
     "input": [
      "long_series = Series(randn(1000))\n",
      "long_series.head()\n",
      "long_series.tail(3)"
     ],
     "language": "python",
     "metadata": {},
     "outputs": [
      {
       "metadata": {},
       "output_type": "pyout",
       "prompt_number": 30,
       "text": [
        "997    1.102883\n",
        "998   -0.304486\n",
        "999    0.998342\n",
        "dtype: float64"
       ]
      }
     ],
     "prompt_number": 30
    },
    {
     "cell_type": "code",
     "collapsed": false,
     "input": [
      "long_series.values"
     ],
     "language": "python",
     "metadata": {},
     "outputs": [
      {
       "metadata": {},
       "output_type": "pyout",
       "prompt_number": 31,
       "text": [
        "array([ -3.95479420e-01,   3.95351576e-01,  -1.05477971e-03,\n",
        "        -2.98289315e-01,  -1.76640736e-01,  -2.93180444e-01,\n",
        "         1.76606294e-01,   1.31408647e+00,   9.08637592e-01,\n",
        "        -5.54981923e-02,   6.00557709e-01,  -9.02418597e-01,\n",
        "         2.11381072e+00,   2.79139439e-01,  -1.44065271e+00,\n",
        "         6.83479921e-01,  -1.58464471e+00,   1.13228263e+00,\n",
        "        -6.59204228e-01,  -1.05618589e+00,   9.95448690e-01,\n",
        "        -1.56980391e+00,  -8.36863004e-01,  -1.39268142e+00,\n",
        "        -1.01295432e+00,  -1.41547588e+00,   1.28977199e+00,\n",
        "         5.41159807e-01,   1.28077706e+00,  -3.69763295e-01,\n",
        "        -1.73196527e+00,   3.59586407e-01,  -2.33806675e-01,\n",
        "         3.03336367e-01,  -4.19586458e-01,   1.61058307e+00,\n",
        "         3.35859314e-01,   4.85981290e-01,   4.99150690e-01,\n",
        "         4.29108139e-01,  -1.16858673e+00,   4.30668121e-01,\n",
        "        -9.04380633e-01,   4.13195376e-01,  -3.48471295e-01,\n",
        "        -9.09892405e-01,   8.24655702e-01,  -2.53995606e+00,\n",
        "         9.64280634e-01,  -1.66547552e+00,   7.59529941e-01,\n",
        "        -9.10281676e-01,  -1.34058658e+00,   1.60456069e+00,\n",
        "        -2.57217989e+00,  -1.59635928e-01,   8.08456742e-01,\n",
        "         7.11814789e-01,  -1.42840602e+00,  -3.97099738e-01,\n",
        "         5.58878395e-01,   9.98117599e-01,  -5.74732585e-01,\n",
        "        -1.13545190e+00,  -4.21334677e-01,  -1.73305653e+00,\n",
        "         1.96611114e-01,   1.83498923e+00,   4.18098825e-01,\n",
        "         5.31023429e-01,  -1.47813614e+00,   5.57525448e-01,\n",
        "        -3.80507944e-01,   7.01765812e-01,   8.50874306e-01,\n",
        "        -2.67632314e-01,  -6.24642772e-01,   1.88410342e-01,\n",
        "         9.51349854e-01,   8.12122485e-01,   4.06832029e-01,\n",
        "         3.13508252e-01,   1.03485149e+00,   4.56732663e-01,\n",
        "        -2.31850561e-01,  -2.51919123e-01,   3.89597908e-01,\n",
        "         1.22985635e+00,   1.72664198e-01,  -1.39571318e+00,\n",
        "        -2.69866662e+00,  -6.86169452e-01,  -2.38614408e+00,\n",
        "        -1.40613487e+00,   6.76992275e-01,  -6.57292304e-01,\n",
        "         1.35387636e+00,  -1.27668937e-01,  -9.69386610e-01,\n",
        "        -8.73839353e-01,   5.18653544e-01,  -1.11465025e+00,\n",
        "         1.12060278e+00,  -1.24197652e+00,  -1.55839455e-01,\n",
        "        -7.61976533e-03,  -1.00280634e+00,  -1.81164693e+00,\n",
        "        -7.71798533e-01,  -2.20652918e-01,  -2.48856893e-01,\n",
        "         2.87819609e-01,  -8.21003988e-01,   9.69522373e-01,\n",
        "         8.99743368e-01,  -5.71561971e-02,   6.05644542e-01,\n",
        "         1.16430424e+00,   2.79021100e-01,  -4.74647677e-01,\n",
        "         6.99437429e-01,   4.90227173e-01,  -1.82855756e-01,\n",
        "         2.59761652e+00,   1.95984224e+00,   7.99122582e-01,\n",
        "         1.39415531e+00,  -2.08596312e+00,  -5.46929227e-01,\n",
        "        -2.88922216e+00,   9.43219222e-01,  -6.65450690e-02,\n",
        "        -5.16600184e-01,   1.05030970e+00,   1.98018215e+00,\n",
        "         5.97910734e-02,   2.33273618e+00,  -1.80234601e+00,\n",
        "         9.39311569e-01,   5.05893897e-01,  -1.93746924e-01,\n",
        "        -2.13498524e-01,  -6.40720920e-01,   1.04997939e+00,\n",
        "         2.32902965e+00,   4.07672588e-01,   5.65380082e-01,\n",
        "         5.31253181e-01,   7.96324144e-01,   6.23617989e-01,\n",
        "        -7.17705287e-01,   5.48889558e-01,  -9.35613019e-01,\n",
        "         1.17598349e+00,  -8.27223174e-02,   5.07004239e-01,\n",
        "         6.35241152e-01,   7.29418259e-02,  -1.31845866e+00,\n",
        "        -1.52907211e+00,   2.39566995e-01,  -1.02654477e+00,\n",
        "         2.63021114e-01,  -5.25100754e-01,   2.82153809e-01,\n",
        "        -8.16408786e-01,  -3.53153735e-01,   1.23548113e+00,\n",
        "         9.51101921e-01,   1.05758302e+00,   7.16362997e-01,\n",
        "        -7.59195983e-01,  -1.86884015e-01,  -1.04611603e+00,\n",
        "        -6.93540031e-01,  -7.67543515e-01,   1.85849020e+00,\n",
        "        -1.98441468e+00,  -2.13286057e-01,  -1.06989530e+00,\n",
        "         4.11969351e-03,  -2.16419965e-01,   1.08733376e+00,\n",
        "         2.19181089e-01,  -6.35298473e-01,  -5.78947395e-01,\n",
        "         1.62610986e-01,   5.91484629e-03,   9.31314098e-01,\n",
        "        -8.66673033e-02,  -7.03934701e-01,  -2.57892167e+00,\n",
        "        -2.67333383e+00,  -7.53671036e-01,  -2.78474336e-01,\n",
        "        -2.44966461e+00,   5.70787793e-01,   4.92857543e-01,\n",
        "        -1.09306621e+00,  -1.48216744e+00,   8.79720221e-01,\n",
        "         1.77630103e+00,  -2.11960279e-01,   1.34808233e+00,\n",
        "         2.02475135e+00,   1.52007212e+00,  -1.60810990e-01,\n",
        "         6.06929321e-02,  -2.85971742e+00,  -3.51499777e-01,\n",
        "        -3.13323479e-02,   1.68131911e+00,  -8.52163063e-01,\n",
        "        -3.25876236e-01,  -2.21244028e+00,   4.25010947e-01,\n",
        "         4.65693917e-01,   6.13456930e-01,  -1.44683837e+00,\n",
        "         1.53364626e+00,   1.33365289e+00,  -1.75674526e+00,\n",
        "         1.25327109e+00,   6.87925464e-01,  -7.82789833e-01,\n",
        "         6.74979909e-01,  -3.97796182e-01,   4.68236806e-01,\n",
        "        -2.46821954e+00,  -2.99797005e+00,   4.14631290e-01,\n",
        "         1.53294767e+00,  -1.54888908e+00,   5.27979535e-01,\n",
        "         5.71654229e-01,   2.75488931e-01,  -1.48516810e+00,\n",
        "        -2.04231618e+00,   1.53877182e-01,   1.39989382e-01,\n",
        "        -1.43127362e+00,   2.19386481e+00,   3.01446489e-01,\n",
        "         1.41579237e+00,   6.22684863e-01,   5.41269702e-01,\n",
        "        -1.28230736e-01,   1.87531560e-01,   2.25711096e-01,\n",
        "         5.65562359e-01,  -3.51148866e-01,  -1.18832550e+00,\n",
        "        -9.01303217e-01,  -5.47429369e-02,  -5.14823497e-01,\n",
        "         5.84550895e-01,   4.28837640e-01,   1.16385086e-01,\n",
        "         1.14325513e+00,  -2.36819247e-01,  -1.47238716e-01,\n",
        "        -3.50564027e-01,   6.90199740e-01,  -1.08620584e+00,\n",
        "         1.19208375e+00,  -2.14495690e-01,   4.17322771e-01,\n",
        "         4.40575395e-01,   1.09855241e-01,  -2.67860420e-01,\n",
        "        -7.73557247e-01,  -3.87251034e-01,   6.92186151e-01,\n",
        "         6.74648266e-01,   1.33629415e-01,   9.66625338e-01,\n",
        "        -1.23923912e+00,   2.11642125e-01,   7.27866531e-01,\n",
        "         1.08104945e+00,  -3.41562350e-01,   2.81393089e+00,\n",
        "        -8.66459625e-01,  -1.51977711e+00,   1.36695241e+00,\n",
        "        -7.97627802e-01,   1.84650334e+00,  -1.29691754e+00,\n",
        "         1.33922625e-01,   6.77640968e-01,   5.19263678e-01,\n",
        "        -1.25015571e-02,   4.46497324e-01,  -1.37380721e-01,\n",
        "         1.49509646e+00,  -1.81185616e-01,   1.20693334e+00,\n",
        "         4.84685627e-01,  -2.68110341e-01,  -2.64974187e-01,\n",
        "        -7.26895568e-01,  -1.54319273e+00,  -6.54064165e-01,\n",
        "         3.64719039e-01,  -4.42719208e-01,  -5.54124147e-01,\n",
        "         3.04058108e-01,  -2.66997361e-02,  -1.33608938e+00,\n",
        "        -2.61013705e-01,  -4.17622919e-01,   1.72155252e-01,\n",
        "        -3.31091083e-01,   8.42839164e-01,   8.50871228e-01,\n",
        "        -1.60369590e-01,  -6.22308669e-01,  -1.63751469e-02,\n",
        "         4.08473984e-01,  -3.43599812e-01,   4.09925623e-02,\n",
        "         1.01578628e+00,   1.59452268e+00,   5.08432597e-01,\n",
        "        -6.65876174e-01,   1.64681677e+00,   1.01576990e-01,\n",
        "        -8.64312823e-01,  -1.86847166e+00,   1.09249896e+00,\n",
        "         8.37803838e-01,   2.91093653e-01,   9.69772259e-02,\n",
        "        -1.43755789e-01,  -1.98883034e+00,   1.02938366e+00,\n",
        "        -1.53542827e+00,  -6.32340400e-01,   1.48552434e+00,\n",
        "        -3.23896038e-01,  -4.23231297e-01,   7.01257686e-01,\n",
        "        -4.50756962e-02,   8.18987782e-01,  -3.90267720e-01,\n",
        "        -1.08478005e+00,  -1.19280981e+00,   5.83230816e-01,\n",
        "         1.16532123e+00,   5.60532639e-01,  -6.59611575e-01,\n",
        "        -4.49769021e-01,  -1.27138511e+00,  -6.38193556e-01,\n",
        "        -4.28453117e-01,   7.53655996e-01,   8.72981217e-01,\n",
        "        -2.80125540e-01,  -1.96583787e+00,   1.80439640e+00,\n",
        "        -2.85245962e-01,  -3.37773878e-01,  -4.46175281e-01,\n",
        "        -3.54884299e-01,   9.38179431e-01,  -1.50279253e-01,\n",
        "        -4.64008090e-01,   2.94625756e-01,   8.64245654e-01,\n",
        "         2.09381522e-01,   4.35769835e-01,  -7.99745119e-01,\n",
        "         1.11713495e+00,  -1.62337615e-02,   4.74592989e-01,\n",
        "        -1.00073936e-01,  -6.84039764e-01,   1.12553251e+00,\n",
        "        -2.45598469e-01,  -6.36526431e-02,   4.74088257e-01,\n",
        "        -5.27023007e-02,   4.49913289e-01,  -8.07898487e-01,\n",
        "        -1.40260774e+00,  -5.94021698e-01,  -1.41773892e+00,\n",
        "         3.76832124e-01,   6.69292679e-03,   6.33143405e-01,\n",
        "         9.06053696e-01,  -4.05291054e-01,  -1.06454101e+00,\n",
        "         1.01867126e+00,  -9.69858798e-01,   3.40641695e-01,\n",
        "         1.08094005e+00,  -1.05094008e+00,  -4.59246114e-01,\n",
        "         1.59033113e-01,  -1.15968984e+00,   5.81303191e-01,\n",
        "        -1.10745892e+00,   1.09143488e+00,  -1.78678084e+00,\n",
        "         9.04775824e-01,  -6.39160311e-01,   7.14780988e-02,\n",
        "        -4.65117017e-01,   1.81590348e+00,   1.92801876e+00,\n",
        "        -3.15478593e-01,   2.73330176e+00,   1.63796129e-01,\n",
        "         6.24978690e-01,   1.15088049e+00,   3.05589871e-01,\n",
        "         1.36318621e+00,  -1.70946595e-01,   5.19240042e-01,\n",
        "        -2.87853802e-01,  -8.26863394e-01,  -6.03844119e-02,\n",
        "        -4.86758087e-01,   9.88248651e-01,  -2.84994934e-01,\n",
        "        -3.56254557e-02,   2.28067999e+00,   1.14585549e+00,\n",
        "         6.83398512e-01,  -4.02388884e-01,  -4.58763140e-01,\n",
        "         1.32580113e+00,  -4.03652695e-01,  -1.44175772e+00,\n",
        "        -1.36415918e+00,   7.19623772e-01,   1.21767101e+00,\n",
        "         1.19594356e+00,  -1.40795063e+00,   1.79608113e+00,\n",
        "         4.92127559e-01,   1.17928894e-01,  -5.64588859e-01,\n",
        "        -4.82173716e-01,  -4.96037847e-01,  -5.85655568e-01,\n",
        "         9.66858586e-01,  -1.08448004e+00,  -1.53995630e+00,\n",
        "        -1.26433838e+00,  -3.89218142e-01,   6.51549266e-01,\n",
        "        -6.35380787e-01,  -4.90145479e-01,  -7.98722876e-01,\n",
        "         8.49931573e-01,  -1.70244593e-01,  -3.94931134e-01,\n",
        "         2.58922350e-01,   2.71434110e-01,  -3.86992520e-02,\n",
        "         8.42543389e-01,   2.75379902e-01,   5.90868358e-01,\n",
        "        -3.24926025e-01,  -1.51908490e-01,  -1.16703029e+00,\n",
        "        -1.05717186e-01,   7.44115982e-01,   1.51985609e-01,\n",
        "        -4.85376189e-01,  -5.85590773e-01,  -8.59359568e-01,\n",
        "         2.83550764e-01,   1.84706625e+00,   4.53154226e-02,\n",
        "         3.41062786e-01,   5.57209784e-01,  -3.97875405e-01,\n",
        "         1.57591084e-01,   2.02216444e-01,  -1.98205019e+00,\n",
        "         1.28718968e-01,   1.28295558e+00,   1.12768488e+00,\n",
        "        -1.70797644e+00,   7.74219638e-01,   1.93855605e-01,\n",
        "        -1.25117124e-02,   7.63595210e-02,   4.27365372e-01,\n",
        "        -4.77875609e-01,  -2.10550226e+00,   4.99865421e-01,\n",
        "         1.31339117e+00,   9.02698421e-01,  -1.08278078e-01,\n",
        "        -1.35413797e+00,   6.88710762e-01,  -1.45070577e+00,\n",
        "         9.58076580e-03,   1.00088375e+00,  -3.45072399e-03,\n",
        "         2.95845115e-01,   6.64351480e-01,   1.50010981e-01,\n",
        "         4.93471051e-01,   1.15326372e+00,   1.06932054e-01,\n",
        "         6.50284193e-01,   2.24659963e-01,   1.04807516e+00,\n",
        "        -8.71788383e-01,   1.32734710e+00,   4.91056735e-01,\n",
        "         4.66428780e-01,  -5.78804173e-01,   1.30131460e+00,\n",
        "        -3.57669795e-01,   1.90395531e+00,   1.68464160e-01,\n",
        "         1.81511194e-01,   9.00200141e-01,  -4.78799395e-01,\n",
        "         2.98196208e-01,  -8.26215565e-01,   1.72738427e-01,\n",
        "         4.14102043e-01,  -1.88942199e+00,   5.98114803e-03,\n",
        "        -1.09538253e+00,  -1.52902018e+00,   1.11922288e+00,\n",
        "         1.03255078e+00,   6.67326551e-01,  -1.75282794e+00,\n",
        "        -4.95497347e-01,  -9.99349970e-01,  -1.72762287e+00,\n",
        "         7.32135381e-01,   7.85810142e-01,  -1.40251198e+00,\n",
        "        -8.19317508e-02,  -1.52078246e-01,  -3.06972476e-01,\n",
        "         1.27984254e-01,   8.56498446e-01,  -5.19586138e-02,\n",
        "         3.42596175e-01,  -6.65293354e-01,  -1.38782747e+00,\n",
        "        -4.18909252e-01,   1.42804724e+00,   3.40468980e-01,\n",
        "        -1.73704588e+00,  -2.27944754e-01,  -7.70256875e-01,\n",
        "         1.18978413e+00,   1.40339662e+00,  -4.61020134e-01,\n",
        "        -7.07823278e-01,   1.30918935e-01,  -1.27944683e-01,\n",
        "         9.43067769e-01,   1.29135910e+00,  -5.42806387e-01,\n",
        "         4.93147884e-01,  -3.63723938e-01,   1.14694038e+00,\n",
        "        -6.40353668e-02,  -1.72570260e+00,  -2.10572661e-01,\n",
        "        -9.80213823e-01,  -7.87356470e-01,   7.05067684e-01,\n",
        "        -2.99746825e-01,   1.26968069e+00,   5.90732571e-01,\n",
        "         1.77918453e+00,  -3.40983519e-01,  -9.64740076e-01,\n",
        "        -1.90027734e+00,   5.80607425e-01,   1.04565551e+00,\n",
        "        -5.97301410e-02,  -6.83608429e-01,  -9.62321149e-01,\n",
        "        -7.05246957e-01,   6.98697731e-01,   3.37962204e-01,\n",
        "         2.28691167e-01,  -1.17158978e+00,  -1.94980456e-01,\n",
        "        -9.68714610e-01,  -9.47655390e-02,  -1.86947872e+00,\n",
        "        -1.78428583e+00,  -1.38489399e+00,  -1.51321558e+00,\n",
        "         9.56961317e-02,   9.21472088e-01,   1.63167847e-01,\n",
        "         1.54633005e+00,  -9.68421135e-02,   9.32009600e-01,\n",
        "         2.65969681e-01,  -2.21363812e-01,   2.44331298e-01,\n",
        "         3.34935789e-01,   3.05996472e-01,   1.63852971e-01,\n",
        "        -1.37623040e-02,   1.95111752e+00,   1.71010869e+00,\n",
        "         4.51887864e-01,   2.51130432e+00,  -1.25539503e+00,\n",
        "         3.62373514e-01,   4.18765021e-01,  -8.08734251e-01,\n",
        "         1.20686367e+00,   4.25339097e-01,  -1.01563174e-01,\n",
        "         8.14709639e-01,   1.74379834e-01,  -9.94266480e-01,\n",
        "         8.85765347e-01,  -1.73206404e+00,  -7.25523991e-01,\n",
        "         6.98868911e-01,  -3.60893319e-01,  -9.54328269e-02,\n",
        "        -6.16950341e-01,   7.86630120e-02,  -1.76726111e+00,\n",
        "        -6.07748622e-01,  -5.79420817e-01,  -1.13754966e+00,\n",
        "        -1.39938794e-02,   1.10740101e+00,  -1.72280789e+00,\n",
        "         7.98067393e-01,  -3.09102836e-01,  -1.55161927e+00,\n",
        "        -6.08854070e-01,  -5.77586719e-01,  -1.32368930e+00,\n",
        "         1.13913955e+00,  -1.35283708e+00,  -1.90213410e+00,\n",
        "         2.87613242e+00,  -1.54455043e+00,   2.21044779e+00,\n",
        "        -3.67966821e-01,   7.25363538e-01,  -1.50364811e+00,\n",
        "        -3.66662694e-01,   1.09744458e+00,  -2.06114597e-01,\n",
        "        -1.04422931e-01,   4.55673607e-01,  -9.28783067e-01,\n",
        "        -8.09331048e-01,  -4.66923357e-01,   2.79966682e-01,\n",
        "         1.40104039e+00,   2.59498675e-01,   2.80119575e-01,\n",
        "        -8.43845939e-01,  -2.04918622e+00,   1.39284661e+00,\n",
        "         5.86072688e-01,   5.35587426e-01,   7.98223125e-01,\n",
        "         9.31926558e-02,   5.12865482e-01,   1.00639102e+00,\n",
        "         1.18173382e+00,   5.19137048e-01,   4.91899630e-01,\n",
        "         2.64981385e-01,   1.22584011e+00,  -3.46329812e-01,\n",
        "        -1.13692667e+00,   2.86674468e-01,  -8.07220952e-01,\n",
        "        -1.24816769e+00,  -8.57778073e-01,   1.66275405e+00,\n",
        "        -1.85094584e-01,  -2.05909105e+00,  -1.41781804e+00,\n",
        "         5.76339535e-01,   1.71601247e+00,   1.39848532e-01,\n",
        "        -8.32999850e-02,  -7.29776942e-02,   2.44254100e+00,\n",
        "         1.90703605e-01,   1.62450693e+00,   2.71943100e+00,\n",
        "        -9.73588477e-03,   9.43652998e-01,  -1.97072312e+00,\n",
        "        -7.27278899e-02,   1.45404098e+00,   7.15061660e-01,\n",
        "        -2.86758695e-01,   1.39319540e+00,   2.90010412e-02,\n",
        "        -8.06323004e-02,   3.03520709e-01,  -2.28526923e+00,\n",
        "        -7.70952349e-02,   2.49946784e-01,  -1.04906845e+00,\n",
        "         1.35778432e-01,   7.69808423e-01,   8.55422782e-02,\n",
        "         3.55167704e-01,  -1.84286787e+00,  -1.26887497e-01,\n",
        "         1.22272533e-01,   1.52634745e+00,   6.84279630e-01,\n",
        "         7.78317843e-01,  -2.27225488e+00,  -3.21238307e-01,\n",
        "        -1.62566130e-01,  -1.14137264e+00,  -2.33546717e+00,\n",
        "        -7.06221745e-01,  -2.90001035e+00,   5.15662030e-01,\n",
        "         7.38972653e-01,   1.62435734e+00,   8.81697714e-01,\n",
        "         1.20592683e+00,   6.50129233e-01,  -3.57238651e-01,\n",
        "         9.08822535e-01,   2.88127422e-01,  -9.56085908e-01,\n",
        "         4.25819761e-01,   1.38998709e+00,   7.14148571e-01,\n",
        "        -1.84009869e-01,  -1.03821982e+00,  -7.15336062e-01,\n",
        "         9.02550629e-01,   3.75867105e-01,   1.69985538e+00,\n",
        "        -1.68520475e+00,   1.56034886e+00,  -5.57533523e-01,\n",
        "        -1.98386424e-01,   8.29307761e-01,   1.00464422e+00,\n",
        "         2.34515388e-01,  -2.03754583e+00,  -1.31617829e+00,\n",
        "         5.08679296e-01,  -2.01509224e+00,   1.03143936e+00,\n",
        "        -2.67125460e-02,   1.88525978e+00,   8.22816893e-02,\n",
        "         1.78839561e+00,  -4.75672705e-01,  -6.32506833e-01,\n",
        "        -1.26847486e+00,  -4.67486208e-01,   6.81349370e-01,\n",
        "         2.69765330e-02,  -1.49089335e+00,   1.71293633e+00,\n",
        "         5.07622163e-01,  -3.95142405e-01,   3.01969004e+00,\n",
        "         4.14657063e-01,   5.75161233e-01,  -1.66478679e-01,\n",
        "         3.28562690e-01,  -1.85573012e+00,   1.40261254e-01,\n",
        "         8.56790000e-01,  -1.34348443e-01,  -5.70883708e-01,\n",
        "         1.67383855e+00,  -6.85258839e-01,   2.64788552e-01,\n",
        "        -2.99195480e-01,   1.16693601e+00,   1.72110268e-01,\n",
        "         8.87929078e-01,  -1.11939350e+00,  -8.03999184e-01,\n",
        "         1.60296489e-01,   5.04095595e-01,  -1.65994198e+00,\n",
        "        -3.63735435e-01,  -1.72426327e+00,  -7.29196123e-01,\n",
        "         4.05893372e-01,   6.10520850e-01,  -7.04184575e-01,\n",
        "        -2.89391341e-01,  -3.46373899e-01,  -9.23173260e-01,\n",
        "         1.00187315e+00,  -4.75347670e-01,   6.42188909e-01,\n",
        "        -3.38852748e-01,   6.29212539e-01,  -4.00940461e-01,\n",
        "        -6.01693504e-01,   9.31812942e-02,  -1.15020234e-01,\n",
        "         5.69670170e-01,   3.24889430e-01,   1.84225021e+00,\n",
        "        -1.65341868e+00,   1.20890027e+00,  -1.06249747e+00,\n",
        "         1.65428796e+00,  -2.31307747e+00,   8.45475089e-02,\n",
        "         8.89913661e-01,  -1.16585769e+00,   2.00800935e-01,\n",
        "         5.14288960e-02,   1.04054400e+00,  -1.09309419e+00,\n",
        "        -8.72198436e-01,  -9.19259189e-01,  -1.32528667e-01,\n",
        "         3.77933978e-01,  -1.99173616e+00,   3.23379624e-01,\n",
        "        -4.95161411e-03,   5.46791095e-01,  -1.91860457e+00,\n",
        "         8.95858789e-01,   1.44359710e+00,  -1.68960031e+00,\n",
        "        -1.90169971e+00,  -5.68734928e-01,   1.49063056e+00,\n",
        "        -3.40831128e-01,   4.51958517e-01,   4.49871106e-01,\n",
        "        -1.34495106e+00,  -2.15325130e-01,  -8.53926764e-01,\n",
        "         4.76476853e-01,   1.08069079e+00,   6.83192034e-01,\n",
        "         5.59634397e-01,  -1.20056124e+00,   1.32031431e+00,\n",
        "         4.61351566e-02,   1.78983393e+00,  -2.09935496e-01,\n",
        "         1.82273469e-02,  -9.13380430e-01,  -6.41921517e-01,\n",
        "        -7.59794465e-01,   7.39811786e-01,  -1.84142645e-01,\n",
        "        -1.06436980e+00,   1.19547419e+00,   8.50375550e-01,\n",
        "         9.32130196e-01,  -1.23692461e+00,  -2.50922849e-01,\n",
        "        -1.36786768e+00,  -6.40609333e-01,  -8.66210859e-01,\n",
        "         1.00388778e+00,  -1.26562906e+00,   1.09793332e+00,\n",
        "         1.26565317e+00,  -2.48329967e+00,   2.53093497e-01,\n",
        "         1.04821984e+00,  -1.72420808e-01,   1.13722305e+00,\n",
        "         1.90923550e+00,  -8.63971820e-01,   4.20882925e-02,\n",
        "         3.24370090e-01,   7.41203599e-01,   5.56766460e-01,\n",
        "         3.44603703e-01,  -1.04770716e+00,  -2.27018641e-01,\n",
        "         1.05174788e+00,   3.02754672e-01,  -8.14052389e-02,\n",
        "        -1.97225144e+00,  -7.12864044e-01,  -3.31211535e-01,\n",
        "        -2.60049005e-01,   1.68268616e+00,  -1.53529059e+00,\n",
        "        -7.90349583e-01,  -8.07328679e-01,   1.09301818e+00,\n",
        "         1.98827010e+00,  -3.82858115e-02,   1.50901016e+00,\n",
        "        -4.80353987e-01,  -4.94984674e-01,  -4.26016617e-01,\n",
        "         1.72274795e+00,  -2.64282022e+00,  -1.49080493e-01,\n",
        "        -8.34137834e-02,   7.61750238e-01,   1.29856219e+00,\n",
        "        -9.72947059e-02,  -4.37940901e-01,   3.79456883e-01,\n",
        "        -1.10296687e+00,   1.80582101e+00,   3.49360104e-01,\n",
        "        -1.70451690e-01,   1.55481297e+00,   2.39090510e-01,\n",
        "        -7.52425841e-01,   1.75335652e+00,   1.27442514e+00,\n",
        "         7.82696107e-01,  -1.40635319e-01,   1.07533575e+00,\n",
        "        -1.11606982e-01,  -4.76760277e-01,  -1.38164998e+00,\n",
        "         6.62021608e-02,   5.12895965e-01,  -9.34168274e-01,\n",
        "        -1.14887814e+00,  -2.57707054e-01,   1.00884590e+00,\n",
        "        -5.82309761e-01,   7.62682622e-01,  -1.14856970e+00,\n",
        "         1.38114772e+00,   6.48447689e-01,  -1.88990059e-01,\n",
        "        -1.57760292e+00,  -3.34180469e-01,   4.22713190e-01,\n",
        "        -3.00832051e-01,   4.74684578e-01,  -4.81883089e-01,\n",
        "         5.86867727e-02,   1.57422273e+00,  -1.99523436e+00,\n",
        "        -2.14278216e-02,   7.85119511e-01,  -6.39022071e-01,\n",
        "         1.05713427e+00,   5.90841741e-01,   1.08349745e+00,\n",
        "         5.24134689e-01,  -1.04773548e-01,  -3.89545935e-02,\n",
        "         9.04597709e-01,   1.11542479e-01,   5.35158529e-01,\n",
        "         5.13944969e-02,  -2.16060749e-01,  -1.49555469e+00,\n",
        "        -2.79319656e+00,   8.74976743e-02,  -7.64561518e-01,\n",
        "         7.63020426e-01,   3.32897123e-01,   5.28771166e-02,\n",
        "        -2.50631090e-01,  -2.67949637e-01,  -6.90473252e-01,\n",
        "         1.22729338e+00,   1.08995370e+00,  -3.19344206e-01,\n",
        "         2.44042423e+00,   1.90403107e-01,   5.06495242e-01,\n",
        "         7.93570531e-01,   4.84142665e-01,   3.27854287e+00,\n",
        "        -8.43243723e-02,  -7.05900460e-01,   7.24788586e-01,\n",
        "         4.76857699e-01,   1.10288277e+00,  -3.04486415e-01,\n",
        "         9.98342115e-01])"
       ]
      }
     ],
     "prompt_number": 31
    },
    {
     "cell_type": "heading",
     "level": 3,
     "metadata": {},
     "source": [
      "6.4 Descriptive Statistics"
     ]
    },
    {
     "cell_type": "code",
     "collapsed": false,
     "input": [
      "df"
     ],
     "language": "python",
     "metadata": {},
     "outputs": [
      {
       "html": [
        "<div style=\"max-height:1000px;max-width:1500px;overflow:auto;\">\n",
        "<table border=\"1\" class=\"dataframe\">\n",
        "  <thead>\n",
        "    <tr style=\"text-align: right;\">\n",
        "      <th></th>\n",
        "      <th>A</th>\n",
        "      <th>B</th>\n",
        "      <th>C</th>\n",
        "      <th>D</th>\n",
        "    </tr>\n",
        "  </thead>\n",
        "  <tbody>\n",
        "    <tr>\n",
        "      <th>2013-11-01</th>\n",
        "      <td>-1.684730</td>\n",
        "      <td>-1.614115</td>\n",
        "      <td> 0.080239</td>\n",
        "      <td>-1.201114</td>\n",
        "    </tr>\n",
        "    <tr>\n",
        "      <th>2013-11-02</th>\n",
        "      <td> 0.103770</td>\n",
        "      <td>-2.050979</td>\n",
        "      <td>-0.056996</td>\n",
        "      <td> 1.634808</td>\n",
        "    </tr>\n",
        "    <tr>\n",
        "      <th>2013-11-03</th>\n",
        "      <td>-0.131716</td>\n",
        "      <td>-0.722073</td>\n",
        "      <td> 0.071120</td>\n",
        "      <td> 0.976394</td>\n",
        "    </tr>\n",
        "    <tr>\n",
        "      <th>2013-11-04</th>\n",
        "      <td> 0.385670</td>\n",
        "      <td> 0.165805</td>\n",
        "      <td> 0.123332</td>\n",
        "      <td>-1.059220</td>\n",
        "    </tr>\n",
        "    <tr>\n",
        "      <th>2013-11-05</th>\n",
        "      <td> 0.749069</td>\n",
        "      <td> 1.007592</td>\n",
        "      <td>-0.947771</td>\n",
        "      <td>-0.548827</td>\n",
        "    </tr>\n",
        "    <tr>\n",
        "      <th>2013-11-06</th>\n",
        "      <td> 0.127817</td>\n",
        "      <td>-0.984264</td>\n",
        "      <td> 0.936587</td>\n",
        "      <td>-1.106119</td>\n",
        "    </tr>\n",
        "    <tr>\n",
        "      <th>2013-11-07</th>\n",
        "      <td>-0.728514</td>\n",
        "      <td> 0.768982</td>\n",
        "      <td>-1.001082</td>\n",
        "      <td> 1.172141</td>\n",
        "    </tr>\n",
        "    <tr>\n",
        "      <th>2013-11-08</th>\n",
        "      <td>-1.191402</td>\n",
        "      <td> 0.426674</td>\n",
        "      <td>-0.407148</td>\n",
        "      <td>-0.748706</td>\n",
        "    </tr>\n",
        "    <tr>\n",
        "      <th>2013-11-09</th>\n",
        "      <td>-0.372509</td>\n",
        "      <td>-0.202462</td>\n",
        "      <td> 0.994316</td>\n",
        "      <td>-0.095447</td>\n",
        "    </tr>\n",
        "    <tr>\n",
        "      <th>2013-11-10</th>\n",
        "      <td>-1.211675</td>\n",
        "      <td>-0.534800</td>\n",
        "      <td>-1.090002</td>\n",
        "      <td>-2.074029</td>\n",
        "    </tr>\n",
        "  </tbody>\n",
        "</table>\n",
        "</div>"
       ],
       "metadata": {},
       "output_type": "pyout",
       "prompt_number": 33,
       "text": [
        "                   A         B         C         D\n",
        "2013-11-01 -1.684730 -1.614115  0.080239 -1.201114\n",
        "2013-11-02  0.103770 -2.050979 -0.056996  1.634808\n",
        "2013-11-03 -0.131716 -0.722073  0.071120  0.976394\n",
        "2013-11-04  0.385670  0.165805  0.123332 -1.059220\n",
        "2013-11-05  0.749069  1.007592 -0.947771 -0.548827\n",
        "2013-11-06  0.127817 -0.984264  0.936587 -1.106119\n",
        "2013-11-07 -0.728514  0.768982 -1.001082  1.172141\n",
        "2013-11-08 -1.191402  0.426674 -0.407148 -0.748706\n",
        "2013-11-09 -0.372509 -0.202462  0.994316 -0.095447\n",
        "2013-11-10 -1.211675 -0.534800 -1.090002 -2.074029"
       ]
      }
     ],
     "prompt_number": 33
    },
    {
     "cell_type": "code",
     "collapsed": false,
     "input": [
      "df.mean(0)"
     ],
     "language": "python",
     "metadata": {},
     "outputs": [
      {
       "metadata": {},
       "output_type": "pyout",
       "prompt_number": 37,
       "text": [
        "A   -0.395422\n",
        "B   -0.373964\n",
        "C   -0.129741\n",
        "D   -0.305012\n",
        "dtype: float64"
       ]
      }
     ],
     "prompt_number": 37
    },
    {
     "cell_type": "code",
     "collapsed": false,
     "input": [
      "df.mean(1)"
     ],
     "language": "python",
     "metadata": {},
     "outputs": [
      {
       "metadata": {},
       "output_type": "pyout",
       "prompt_number": 38,
       "text": [
        "2013-11-01   -1.104930\n",
        "2013-11-02   -0.092349\n",
        "2013-11-03    0.048431\n",
        "2013-11-04   -0.096103\n",
        "2013-11-05    0.065016\n",
        "2013-11-06   -0.256495\n",
        "2013-11-07    0.052881\n",
        "2013-11-08   -0.480146\n",
        "2013-11-09    0.080975\n",
        "2013-11-10   -1.227626\n",
        "Freq: D, dtype: float64"
       ]
      }
     ],
     "prompt_number": 38
    },
    {
     "cell_type": "code",
     "collapsed": false,
     "input": [
      "df.sum(0, skipna=True)"
     ],
     "language": "python",
     "metadata": {},
     "outputs": [
      {
       "metadata": {},
       "output_type": "pyout",
       "prompt_number": 39,
       "text": [
        "A   -3.954221\n",
        "B   -3.739641\n",
        "C   -1.297405\n",
        "D   -3.050118\n",
        "dtype: float64"
       ]
      }
     ],
     "prompt_number": 39
    },
    {
     "cell_type": "code",
     "collapsed": false,
     "input": [
      "df.std()"
     ],
     "language": "python",
     "metadata": {},
     "outputs": [
      {
       "metadata": {},
       "output_type": "pyout",
       "prompt_number": 42,
       "text": [
        "A    0.787833\n",
        "B    1.002590\n",
        "C    0.743998\n",
        "D    1.203243\n",
        "dtype: float64"
       ]
      }
     ],
     "prompt_number": 42
    },
    {
     "cell_type": "code",
     "collapsed": false,
     "input": [
      "df.cumsum()"
     ],
     "language": "python",
     "metadata": {},
     "outputs": [
      {
       "html": [
        "<div style=\"max-height:1000px;max-width:1500px;overflow:auto;\">\n",
        "<table border=\"1\" class=\"dataframe\">\n",
        "  <thead>\n",
        "    <tr style=\"text-align: right;\">\n",
        "      <th></th>\n",
        "      <th>A</th>\n",
        "      <th>B</th>\n",
        "      <th>C</th>\n",
        "      <th>D</th>\n",
        "    </tr>\n",
        "  </thead>\n",
        "  <tbody>\n",
        "    <tr>\n",
        "      <th>2013-11-01</th>\n",
        "      <td>-1.684730</td>\n",
        "      <td>-1.614115</td>\n",
        "      <td> 0.080239</td>\n",
        "      <td>-1.201114</td>\n",
        "    </tr>\n",
        "    <tr>\n",
        "      <th>2013-11-02</th>\n",
        "      <td>-1.580960</td>\n",
        "      <td>-3.665094</td>\n",
        "      <td> 0.023243</td>\n",
        "      <td> 0.433695</td>\n",
        "    </tr>\n",
        "    <tr>\n",
        "      <th>2013-11-03</th>\n",
        "      <td>-1.712676</td>\n",
        "      <td>-4.387167</td>\n",
        "      <td> 0.094364</td>\n",
        "      <td> 1.410089</td>\n",
        "    </tr>\n",
        "    <tr>\n",
        "      <th>2013-11-04</th>\n",
        "      <td>-1.327006</td>\n",
        "      <td>-4.221362</td>\n",
        "      <td> 0.217695</td>\n",
        "      <td> 0.350869</td>\n",
        "    </tr>\n",
        "    <tr>\n",
        "      <th>2013-11-05</th>\n",
        "      <td>-0.577937</td>\n",
        "      <td>-3.213770</td>\n",
        "      <td>-0.730076</td>\n",
        "      <td>-0.197959</td>\n",
        "    </tr>\n",
        "    <tr>\n",
        "      <th>2013-11-06</th>\n",
        "      <td>-0.450120</td>\n",
        "      <td>-4.198035</td>\n",
        "      <td> 0.206511</td>\n",
        "      <td>-1.304077</td>\n",
        "    </tr>\n",
        "    <tr>\n",
        "      <th>2013-11-07</th>\n",
        "      <td>-1.178635</td>\n",
        "      <td>-3.429053</td>\n",
        "      <td>-0.794571</td>\n",
        "      <td>-0.131936</td>\n",
        "    </tr>\n",
        "    <tr>\n",
        "      <th>2013-11-08</th>\n",
        "      <td>-2.370037</td>\n",
        "      <td>-3.002379</td>\n",
        "      <td>-1.201719</td>\n",
        "      <td>-0.880642</td>\n",
        "    </tr>\n",
        "    <tr>\n",
        "      <th>2013-11-09</th>\n",
        "      <td>-2.742546</td>\n",
        "      <td>-3.204841</td>\n",
        "      <td>-0.207404</td>\n",
        "      <td>-0.976089</td>\n",
        "    </tr>\n",
        "    <tr>\n",
        "      <th>2013-11-10</th>\n",
        "      <td>-3.954221</td>\n",
        "      <td>-3.739641</td>\n",
        "      <td>-1.297405</td>\n",
        "      <td>-3.050118</td>\n",
        "    </tr>\n",
        "  </tbody>\n",
        "</table>\n",
        "</div>"
       ],
       "metadata": {},
       "output_type": "pyout",
       "prompt_number": 46,
       "text": [
        "                   A         B         C         D\n",
        "2013-11-01 -1.684730 -1.614115  0.080239 -1.201114\n",
        "2013-11-02 -1.580960 -3.665094  0.023243  0.433695\n",
        "2013-11-03 -1.712676 -4.387167  0.094364  1.410089\n",
        "2013-11-04 -1.327006 -4.221362  0.217695  0.350869\n",
        "2013-11-05 -0.577937 -3.213770 -0.730076 -0.197959\n",
        "2013-11-06 -0.450120 -4.198035  0.206511 -1.304077\n",
        "2013-11-07 -1.178635 -3.429053 -0.794571 -0.131936\n",
        "2013-11-08 -2.370037 -3.002379 -1.201719 -0.880642\n",
        "2013-11-09 -2.742546 -3.204841 -0.207404 -0.976089\n",
        "2013-11-10 -3.954221 -3.739641 -1.297405 -3.050118"
       ]
      }
     ],
     "prompt_number": 46
    },
    {
     "cell_type": "markdown",
     "metadata": {},
     "source": [
      "* Other function:\n",
      "    * count\n",
      "    * sum\n",
      "    * mean\n",
      "    * median\n",
      "    * min\n",
      "    * max\n",
      "    * abs\n",
      "    * prod\n",
      "    * std\n",
      "    * var\n",
      "    * skew\n",
      "    * kurt\n",
      "    * quantile\n",
      "    * cumsum\n",
      "    * cumprod\n",
      "    * cummax\n",
      "    * cummin"
     ]
    },
    {
     "cell_type": "code",
     "collapsed": false,
     "input": [
      "long_series.describe()"
     ],
     "language": "python",
     "metadata": {},
     "outputs": [
      {
       "metadata": {},
       "output_type": "pyout",
       "prompt_number": 48,
       "text": [
        "count    1000.000000\n",
        "mean        0.012889\n",
        "std         1.017901\n",
        "min        -2.997970\n",
        "25%        -0.633205\n",
        "50%         0.048765\n",
        "75%         0.693814\n",
        "max         3.278543\n",
        "dtype: float64"
       ]
      }
     ],
     "prompt_number": 48
    },
    {
     "cell_type": "code",
     "collapsed": false,
     "input": [
      "long_series.idxmax()"
     ],
     "language": "python",
     "metadata": {},
     "outputs": [
      {
       "metadata": {},
       "output_type": "pyout",
       "prompt_number": 49,
       "text": [
        "992"
       ]
      }
     ],
     "prompt_number": 49
    },
    {
     "cell_type": "code",
     "collapsed": false,
     "input": [
      "long_series.idxmin()"
     ],
     "language": "python",
     "metadata": {},
     "outputs": [
      {
       "metadata": {},
       "output_type": "pyout",
       "prompt_number": 50,
       "text": [
        "229"
       ]
      }
     ],
     "prompt_number": 50
    },
    {
     "cell_type": "code",
     "collapsed": false,
     "input": [
      "long_series.ix[229]"
     ],
     "language": "python",
     "metadata": {},
     "outputs": [
      {
       "metadata": {},
       "output_type": "pyout",
       "prompt_number": 52,
       "text": [
        "-2.9979700475667403"
       ]
      }
     ],
     "prompt_number": 52
    },
    {
     "cell_type": "code",
     "collapsed": false,
     "input": [
      "df.idxmax(axis=1)"
     ],
     "language": "python",
     "metadata": {},
     "outputs": [
      {
       "metadata": {},
       "output_type": "pyout",
       "prompt_number": 56,
       "text": [
        "2013-11-01    C\n",
        "2013-11-02    D\n",
        "2013-11-03    D\n",
        "2013-11-04    A\n",
        "2013-11-05    B\n",
        "2013-11-06    C\n",
        "2013-11-07    D\n",
        "2013-11-08    B\n",
        "2013-11-09    C\n",
        "2013-11-10    B\n",
        "Freq: D, dtype: object"
       ]
      }
     ],
     "prompt_number": 56
    },
    {
     "cell_type": "code",
     "collapsed": false,
     "input": [
      "df.apply(np.mean)"
     ],
     "language": "python",
     "metadata": {},
     "outputs": [
      {
       "metadata": {},
       "output_type": "pyout",
       "prompt_number": 57,
       "text": [
        "A   -0.395422\n",
        "B   -0.373964\n",
        "C   -0.129741\n",
        "D   -0.305012\n",
        "dtype: float64"
       ]
      }
     ],
     "prompt_number": 57
    },
    {
     "cell_type": "heading",
     "level": 3,
     "metadata": {},
     "source": [
      "6.6 Reindexing and altering lables"
     ]
    },
    {
     "cell_type": "heading",
     "level": 2,
     "metadata": {},
     "source": [
      "Chapter 7 Indexing and Selecting"
     ]
    },
    {
     "cell_type": "heading",
     "level": 1,
     "metadata": {},
     "source": [
      "7.1 Basics"
     ]
    },
    {
     "cell_type": "code",
     "collapsed": false,
     "input": [
      "df = DataFrame(randn(8,4), index=range(1, 9), columns=range(1,9,2))"
     ],
     "language": "python",
     "metadata": {},
     "outputs": [],
     "prompt_number": 65
    },
    {
     "cell_type": "code",
     "collapsed": false,
     "input": [
      "df.ix[1]"
     ],
     "language": "python",
     "metadata": {},
     "outputs": [
      {
       "metadata": {},
       "output_type": "pyout",
       "prompt_number": 66,
       "text": [
        "1    0.718618\n",
        "3   -0.597387\n",
        "5   -1.231868\n",
        "7    1.122448\n",
        "Name: 1, dtype: float64"
       ]
      }
     ],
     "prompt_number": 66
    },
    {
     "cell_type": "code",
     "collapsed": false,
     "input": [
      "df"
     ],
     "language": "python",
     "metadata": {},
     "outputs": [
      {
       "html": [
        "<div style=\"max-height:1000px;max-width:1500px;overflow:auto;\">\n",
        "<table border=\"1\" class=\"dataframe\">\n",
        "  <thead>\n",
        "    <tr style=\"text-align: right;\">\n",
        "      <th></th>\n",
        "      <th>1</th>\n",
        "      <th>3</th>\n",
        "      <th>5</th>\n",
        "      <th>7</th>\n",
        "    </tr>\n",
        "  </thead>\n",
        "  <tbody>\n",
        "    <tr>\n",
        "      <th>1</th>\n",
        "      <td> 0.718618</td>\n",
        "      <td>-0.597387</td>\n",
        "      <td>-1.231868</td>\n",
        "      <td> 1.122448</td>\n",
        "    </tr>\n",
        "    <tr>\n",
        "      <th>2</th>\n",
        "      <td> 0.427829</td>\n",
        "      <td>-0.903850</td>\n",
        "      <td> 0.666879</td>\n",
        "      <td> 1.836270</td>\n",
        "    </tr>\n",
        "    <tr>\n",
        "      <th>3</th>\n",
        "      <td> 0.202233</td>\n",
        "      <td> 1.554029</td>\n",
        "      <td>-0.127751</td>\n",
        "      <td> 0.814677</td>\n",
        "    </tr>\n",
        "    <tr>\n",
        "      <th>4</th>\n",
        "      <td> 0.568951</td>\n",
        "      <td> 1.646502</td>\n",
        "      <td>-1.925555</td>\n",
        "      <td>-2.665528</td>\n",
        "    </tr>\n",
        "    <tr>\n",
        "      <th>5</th>\n",
        "      <td> 0.576323</td>\n",
        "      <td> 0.986997</td>\n",
        "      <td>-1.285871</td>\n",
        "      <td> 2.839785</td>\n",
        "    </tr>\n",
        "    <tr>\n",
        "      <th>6</th>\n",
        "      <td> 0.321969</td>\n",
        "      <td> 0.081332</td>\n",
        "      <td> 0.813703</td>\n",
        "      <td> 0.785385</td>\n",
        "    </tr>\n",
        "    <tr>\n",
        "      <th>7</th>\n",
        "      <td> 0.487467</td>\n",
        "      <td> 1.266642</td>\n",
        "      <td> 0.171523</td>\n",
        "      <td> 0.995347</td>\n",
        "    </tr>\n",
        "    <tr>\n",
        "      <th>8</th>\n",
        "      <td>-0.151233</td>\n",
        "      <td>-0.779178</td>\n",
        "      <td>-0.465204</td>\n",
        "      <td>-0.505634</td>\n",
        "    </tr>\n",
        "  </tbody>\n",
        "</table>\n",
        "</div>"
       ],
       "metadata": {},
       "output_type": "pyout",
       "prompt_number": 67,
       "text": [
        "          1         3         5         7\n",
        "1  0.718618 -0.597387 -1.231868  1.122448\n",
        "2  0.427829 -0.903850  0.666879  1.836270\n",
        "3  0.202233  1.554029 -0.127751  0.814677\n",
        "4  0.568951  1.646502 -1.925555 -2.665528\n",
        "5  0.576323  0.986997 -1.285871  2.839785\n",
        "6  0.321969  0.081332  0.813703  0.785385\n",
        "7  0.487467  1.266642  0.171523  0.995347\n",
        "8 -0.151233 -0.779178 -0.465204 -0.505634"
       ]
      }
     ],
     "prompt_number": 67
    },
    {
     "cell_type": "code",
     "collapsed": false,
     "input": [
      "df.index=range(8)"
     ],
     "language": "python",
     "metadata": {},
     "outputs": [],
     "prompt_number": 68
    },
    {
     "cell_type": "code",
     "collapsed": false,
     "input": [
      "df"
     ],
     "language": "python",
     "metadata": {},
     "outputs": [
      {
       "html": [
        "<div style=\"max-height:1000px;max-width:1500px;overflow:auto;\">\n",
        "<table border=\"1\" class=\"dataframe\">\n",
        "  <thead>\n",
        "    <tr style=\"text-align: right;\">\n",
        "      <th></th>\n",
        "      <th>1</th>\n",
        "      <th>3</th>\n",
        "      <th>5</th>\n",
        "      <th>7</th>\n",
        "    </tr>\n",
        "  </thead>\n",
        "  <tbody>\n",
        "    <tr>\n",
        "      <th>0</th>\n",
        "      <td> 0.718618</td>\n",
        "      <td>-0.597387</td>\n",
        "      <td>-1.231868</td>\n",
        "      <td> 1.122448</td>\n",
        "    </tr>\n",
        "    <tr>\n",
        "      <th>1</th>\n",
        "      <td> 0.427829</td>\n",
        "      <td>-0.903850</td>\n",
        "      <td> 0.666879</td>\n",
        "      <td> 1.836270</td>\n",
        "    </tr>\n",
        "    <tr>\n",
        "      <th>2</th>\n",
        "      <td> 0.202233</td>\n",
        "      <td> 1.554029</td>\n",
        "      <td>-0.127751</td>\n",
        "      <td> 0.814677</td>\n",
        "    </tr>\n",
        "    <tr>\n",
        "      <th>3</th>\n",
        "      <td> 0.568951</td>\n",
        "      <td> 1.646502</td>\n",
        "      <td>-1.925555</td>\n",
        "      <td>-2.665528</td>\n",
        "    </tr>\n",
        "    <tr>\n",
        "      <th>4</th>\n",
        "      <td> 0.576323</td>\n",
        "      <td> 0.986997</td>\n",
        "      <td>-1.285871</td>\n",
        "      <td> 2.839785</td>\n",
        "    </tr>\n",
        "    <tr>\n",
        "      <th>5</th>\n",
        "      <td> 0.321969</td>\n",
        "      <td> 0.081332</td>\n",
        "      <td> 0.813703</td>\n",
        "      <td> 0.785385</td>\n",
        "    </tr>\n",
        "    <tr>\n",
        "      <th>6</th>\n",
        "      <td> 0.487467</td>\n",
        "      <td> 1.266642</td>\n",
        "      <td> 0.171523</td>\n",
        "      <td> 0.995347</td>\n",
        "    </tr>\n",
        "    <tr>\n",
        "      <th>7</th>\n",
        "      <td>-0.151233</td>\n",
        "      <td>-0.779178</td>\n",
        "      <td>-0.465204</td>\n",
        "      <td>-0.505634</td>\n",
        "    </tr>\n",
        "  </tbody>\n",
        "</table>\n",
        "</div>"
       ],
       "metadata": {},
       "output_type": "pyout",
       "prompt_number": 69,
       "text": [
        "          1         3         5         7\n",
        "0  0.718618 -0.597387 -1.231868  1.122448\n",
        "1  0.427829 -0.903850  0.666879  1.836270\n",
        "2  0.202233  1.554029 -0.127751  0.814677\n",
        "3  0.568951  1.646502 -1.925555 -2.665528\n",
        "4  0.576323  0.986997 -1.285871  2.839785\n",
        "5  0.321969  0.081332  0.813703  0.785385\n",
        "6  0.487467  1.266642  0.171523  0.995347\n",
        "7 -0.151233 -0.779178 -0.465204 -0.505634"
       ]
      }
     ],
     "prompt_number": 69
    },
    {
     "cell_type": "code",
     "collapsed": false,
     "input": [],
     "language": "python",
     "metadata": {},
     "outputs": []
    }
   ],
   "metadata": {}
  }
 ]
}