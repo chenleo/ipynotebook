{
 "metadata": {
  "name": ""
 },
 "nbformat": 3,
 "nbformat_minor": 0,
 "worksheets": [
  {
   "cells": [
    {
     "cell_type": "heading",
     "level": 1,
     "metadata": {},
     "source": [
      "Pandas"
     ]
    },
    {
     "cell_type": "markdown",
     "metadata": {},
     "source": [
      "[Reference](http://pandas.pydata.org/pandas-docs/dev/pandas.pdf)"
     ]
    },
    {
     "cell_type": "heading",
     "level": 2,
     "metadata": {},
     "source": [
      "Chapter 5 Intro to data Structure"
     ]
    },
    {
     "cell_type": "code",
     "collapsed": false,
     "input": [
      "#initialize\n",
      "%matplotlib inline \n",
      "%qtconsole"
     ],
     "language": "python",
     "metadata": {},
     "outputs": [],
     "prompt_number": 1
    },
    {
     "cell_type": "code",
     "collapsed": false,
     "input": [],
     "language": "python",
     "metadata": {},
     "outputs": []
    },
    {
     "cell_type": "code",
     "collapsed": false,
     "input": [
      "import numpy as np\n",
      "import pandas as pd\n",
      "from pandas import DataFrame\n",
      "from pandas import Series\n",
      "from pandas import Timestamp\n",
      "randn = np.random.randn\n",
      "from pandas import *"
     ],
     "language": "python",
     "metadata": {},
     "outputs": [],
     "prompt_number": 2
    },
    {
     "cell_type": "heading",
     "level": 3,
     "metadata": {},
     "source": [
      "5.1 Series"
     ]
    },
    {
     "cell_type": "code",
     "collapsed": false,
     "input": [
      "#s = Series(data, index=index)\n",
      "s = Series(randn(5), index=['a', 'b', 'c', 'd', 'e'])\n",
      "s\n",
      "s.index"
     ],
     "language": "python",
     "metadata": {},
     "outputs": [
      {
       "metadata": {},
       "output_type": "pyout",
       "prompt_number": 3,
       "text": [
        "Index([u'a', u'b', u'c', u'd', u'e'], dtype=object)"
       ]
      }
     ],
     "prompt_number": 3
    },
    {
     "cell_type": "code",
     "collapsed": false,
     "input": [
      "#From dict\n",
      "d = {'a' : 0.0, 'b' : 1.1, 'c' : 2.2 }\n",
      "Series(d)\n",
      "Series(d, index = ['a','b'])\n",
      "Series(d, index = ['a','b','z'])\n",
      "Series(5, index = ['a', 'b', 'c', 'd'])"
     ],
     "language": "python",
     "metadata": {},
     "outputs": [
      {
       "metadata": {},
       "output_type": "pyout",
       "prompt_number": 4,
       "text": [
        "a    5\n",
        "b    5\n",
        "c    5\n",
        "d    5\n",
        "dtype: int64"
       ]
      }
     ],
     "prompt_number": 4
    },
    {
     "cell_type": "heading",
     "level": 4,
     "metadata": {},
     "source": [
      "5.1.1 Series is ndarray-like"
     ]
    },
    {
     "cell_type": "code",
     "collapsed": false,
     "input": [
      "s['a']\n",
      "s[:3]\n",
      "s[[4,3,1]]\n",
      "s[s> s.median()]\n",
      "s>s.median()"
     ],
     "language": "python",
     "metadata": {},
     "outputs": [
      {
       "metadata": {},
       "output_type": "pyout",
       "prompt_number": 64,
       "text": [
        "a     True\n",
        "b     True\n",
        "c    False\n",
        "d    False\n",
        "e    False\n",
        "dtype: bool"
       ]
      }
     ],
     "prompt_number": 64
    },
    {
     "cell_type": "code",
     "collapsed": false,
     "input": [
      "np.exp(s)"
     ],
     "language": "python",
     "metadata": {},
     "outputs": [
      {
       "metadata": {},
       "output_type": "pyout",
       "prompt_number": 62,
       "text": [
        "a    2.760369\n",
        "b    1.487827\n",
        "c    0.183412\n",
        "d    0.583944\n",
        "e    0.603313\n",
        "dtype: float64"
       ]
      }
     ],
     "prompt_number": 62
    },
    {
     "cell_type": "heading",
     "level": 4,
     "metadata": {},
     "source": [
      "5.1.2 Series is dict-like"
     ]
    },
    {
     "cell_type": "code",
     "collapsed": false,
     "input": [
      "s['a'] = 12\n",
      "s"
     ],
     "language": "python",
     "metadata": {},
     "outputs": [
      {
       "metadata": {},
       "output_type": "pyout",
       "prompt_number": 66,
       "text": [
        "a    12.000000\n",
        "b     0.397317\n",
        "c    -1.696023\n",
        "d    -0.537950\n",
        "e    -0.505318\n",
        "dtype: float64"
       ]
      }
     ],
     "prompt_number": 66
    },
    {
     "cell_type": "code",
     "collapsed": false,
     "input": [
      "'ee' in s\n",
      "s['ee']"
     ],
     "language": "python",
     "metadata": {},
     "outputs": [
      {
       "ename": "KeyError",
       "evalue": "'ee'",
       "output_type": "pyerr",
       "traceback": [
        "\u001b[0;31m---------------------------------------------------------------------------\u001b[0m\n\u001b[0;31mKeyError\u001b[0m                                  Traceback (most recent call last)",
        "\u001b[0;32m<ipython-input-68-45038a6cba50>\u001b[0m in \u001b[0;36m<module>\u001b[0;34m()\u001b[0m\n\u001b[1;32m      1\u001b[0m \u001b[0;34m'ee'\u001b[0m \u001b[0;32min\u001b[0m \u001b[0ms\u001b[0m\u001b[0;34m\u001b[0m\u001b[0m\n\u001b[0;32m----> 2\u001b[0;31m \u001b[0ms\u001b[0m\u001b[0;34m[\u001b[0m\u001b[0;34m'ee'\u001b[0m\u001b[0;34m]\u001b[0m\u001b[0;34m\u001b[0m\u001b[0m\n\u001b[0m",
        "\u001b[0;32m/Users/chenchen/anaconda/python.app/Contents/lib/python2.7/site-packages/pandas/core/series.pyc\u001b[0m in \u001b[0;36m__getitem__\u001b[0;34m(self, key)\u001b[0m\n\u001b[1;32m    611\u001b[0m     \u001b[0;32mdef\u001b[0m \u001b[0m__getitem__\u001b[0m\u001b[0;34m(\u001b[0m\u001b[0mself\u001b[0m\u001b[0;34m,\u001b[0m \u001b[0mkey\u001b[0m\u001b[0;34m)\u001b[0m\u001b[0;34m:\u001b[0m\u001b[0;34m\u001b[0m\u001b[0m\n\u001b[1;32m    612\u001b[0m         \u001b[0;32mtry\u001b[0m\u001b[0;34m:\u001b[0m\u001b[0;34m\u001b[0m\u001b[0m\n\u001b[0;32m--> 613\u001b[0;31m             \u001b[0;32mreturn\u001b[0m \u001b[0mself\u001b[0m\u001b[0;34m.\u001b[0m\u001b[0mindex\u001b[0m\u001b[0;34m.\u001b[0m\u001b[0mget_value\u001b[0m\u001b[0;34m(\u001b[0m\u001b[0mself\u001b[0m\u001b[0;34m,\u001b[0m \u001b[0mkey\u001b[0m\u001b[0;34m)\u001b[0m\u001b[0;34m\u001b[0m\u001b[0m\n\u001b[0m\u001b[1;32m    614\u001b[0m         \u001b[0;32mexcept\u001b[0m \u001b[0mInvalidIndexError\u001b[0m\u001b[0;34m:\u001b[0m\u001b[0;34m\u001b[0m\u001b[0m\n\u001b[1;32m    615\u001b[0m             \u001b[0;32mpass\u001b[0m\u001b[0;34m\u001b[0m\u001b[0m\n",
        "\u001b[0;32m/Users/chenchen/anaconda/python.app/Contents/lib/python2.7/site-packages/pandas/core/index.pyc\u001b[0m in \u001b[0;36mget_value\u001b[0;34m(self, series, key)\u001b[0m\n\u001b[1;32m    775\u001b[0m                     \u001b[0;32mraise\u001b[0m \u001b[0mInvalidIndexError\u001b[0m\u001b[0;34m(\u001b[0m\u001b[0mkey\u001b[0m\u001b[0;34m)\u001b[0m\u001b[0;34m\u001b[0m\u001b[0m\n\u001b[1;32m    776\u001b[0m                 \u001b[0;32melse\u001b[0m\u001b[0;34m:\u001b[0m\u001b[0;34m\u001b[0m\u001b[0m\n\u001b[0;32m--> 777\u001b[0;31m                     \u001b[0;32mraise\u001b[0m \u001b[0me1\u001b[0m\u001b[0;34m\u001b[0m\u001b[0m\n\u001b[0m\u001b[1;32m    778\u001b[0m             \u001b[0;32mexcept\u001b[0m \u001b[0mException\u001b[0m\u001b[0;34m:\u001b[0m  \u001b[0;31m# pragma: no cover\u001b[0m\u001b[0;34m\u001b[0m\u001b[0m\n\u001b[1;32m    779\u001b[0m                 \u001b[0;32mraise\u001b[0m \u001b[0me1\u001b[0m\u001b[0;34m\u001b[0m\u001b[0m\n",
        "\u001b[0;31mKeyError\u001b[0m: 'ee'"
       ]
      }
     ],
     "prompt_number": 68
    },
    {
     "cell_type": "code",
     "collapsed": false,
     "input": [
      "s.get('a')\n",
      "s.get('f', np.Inf)"
     ],
     "language": "python",
     "metadata": {},
     "outputs": [
      {
       "metadata": {},
       "output_type": "pyout",
       "prompt_number": 74,
       "text": [
        "inf"
       ]
      }
     ],
     "prompt_number": 74
    },
    {
     "cell_type": "heading",
     "level": 4,
     "metadata": {},
     "source": [
      "5.1.3 Vectorized operations and label alignment with Series"
     ]
    },
    {
     "cell_type": "code",
     "collapsed": false,
     "input": [
      "s + s\n",
      "s*2\n",
      "np.exp(s)\n",
      "s[1:] + s[:-1]"
     ],
     "language": "python",
     "metadata": {},
     "outputs": [
      {
       "metadata": {},
       "output_type": "pyout",
       "prompt_number": 80,
       "text": [
        "a         NaN\n",
        "b    0.794634\n",
        "c   -3.392045\n",
        "d   -1.075901\n",
        "e         NaN\n",
        "dtype: float64"
       ]
      }
     ],
     "prompt_number": 80
    },
    {
     "cell_type": "heading",
     "level": 4,
     "metadata": {},
     "source": [
      "5.1.4 Name attribute"
     ]
    },
    {
     "cell_type": "code",
     "collapsed": false,
     "input": [
      "s = Series(np.random.randn(5), dtype = int32, name = 'whatever')\n",
      "type(s)"
     ],
     "language": "python",
     "metadata": {},
     "outputs": [
      {
       "metadata": {},
       "output_type": "pyout",
       "prompt_number": 85,
       "text": [
        "pandas.core.series.Series"
       ]
      }
     ],
     "prompt_number": 85
    },
    {
     "cell_type": "heading",
     "level": 3,
     "metadata": {},
     "source": [
      "5.2 DataFrame"
     ]
    },
    {
     "cell_type": "markdown",
     "metadata": {},
     "source": [
      "* DataFrame accepts many different kinds of inputs:\n",
      "\n",
      "    * Dict of 1D ndarrays, lists, dists, or Series\n",
      "    * 2-D numpy.ndarray\n",
      "    * Structured or record ndarray\n",
      "    * A Series\n",
      "    * Another DataFrame"
     ]
    },
    {
     "cell_type": "heading",
     "level": 4,
     "metadata": {},
     "source": [
      "5.2.1 From dict of <font color=\"red\">Series </font> or dicts"
     ]
    },
    {
     "cell_type": "code",
     "collapsed": false,
     "input": [
      "d = {'one' : Series([1., 2., 3.], index=['a', 'b', 'c']),\n",
      "     'two' : Series([1., 2., 3., 4.], index=['a', 'b', 'c', 'd'])}"
     ],
     "language": "python",
     "metadata": {},
     "outputs": [],
     "prompt_number": 61
    },
    {
     "cell_type": "code",
     "collapsed": false,
     "input": [
      "df = DataFrame(d)\n",
      "df"
     ],
     "language": "python",
     "metadata": {},
     "outputs": [
      {
       "html": [
        "<div style=\"max-height:1000px;max-width:1500px;overflow:auto;\">\n",
        "<table border=\"1\" class=\"dataframe\">\n",
        "  <thead>\n",
        "    <tr style=\"text-align: right;\">\n",
        "      <th></th>\n",
        "      <th>one</th>\n",
        "      <th>two</th>\n",
        "    </tr>\n",
        "  </thead>\n",
        "  <tbody>\n",
        "    <tr>\n",
        "      <th>a</th>\n",
        "      <td>  1</td>\n",
        "      <td> 1</td>\n",
        "    </tr>\n",
        "    <tr>\n",
        "      <th>b</th>\n",
        "      <td>  2</td>\n",
        "      <td> 2</td>\n",
        "    </tr>\n",
        "    <tr>\n",
        "      <th>c</th>\n",
        "      <td>  3</td>\n",
        "      <td> 3</td>\n",
        "    </tr>\n",
        "    <tr>\n",
        "      <th>d</th>\n",
        "      <td>NaN</td>\n",
        "      <td> 4</td>\n",
        "    </tr>\n",
        "  </tbody>\n",
        "</table>\n",
        "</div>"
       ],
       "metadata": {},
       "output_type": "pyout",
       "prompt_number": 62,
       "text": [
        "   one  two\n",
        "a    1    1\n",
        "b    2    2\n",
        "c    3    3\n",
        "d  NaN    4"
       ]
      }
     ],
     "prompt_number": 62
    },
    {
     "cell_type": "code",
     "collapsed": false,
     "input": [
      "d2 = DataFrame(d, index=['d', 'b', 'a'])\n",
      "d2['one']['d']\n",
      "#d2[1][2]??"
     ],
     "language": "python",
     "metadata": {},
     "outputs": [
      {
       "metadata": {},
       "output_type": "pyout",
       "prompt_number": 24,
       "text": [
        "nan"
       ]
      }
     ],
     "prompt_number": 24
    },
    {
     "cell_type": "code",
     "collapsed": false,
     "input": [
      "df.index\n",
      "df.columns"
     ],
     "language": "python",
     "metadata": {},
     "outputs": [
      {
       "metadata": {},
       "output_type": "pyout",
       "prompt_number": 27,
       "text": [
        "Index([one, two], dtype=object)"
       ]
      }
     ],
     "prompt_number": 27
    },
    {
     "cell_type": "heading",
     "level": 4,
     "metadata": {},
     "source": [
      "5.2.2 From dict of ndarrays /lists"
     ]
    },
    {
     "cell_type": "code",
     "collapsed": false,
     "input": [
      "d = {'one' : [1., 2., 3., 4.],\n",
      "     'two' : [4., 3., 2., 1.]}"
     ],
     "language": "python",
     "metadata": {},
     "outputs": [],
     "prompt_number": 30
    },
    {
     "cell_type": "code",
     "collapsed": false,
     "input": [
      "DataFrame(d, index=['a', 'b', 'c', 'd'])"
     ],
     "language": "python",
     "metadata": {},
     "outputs": [
      {
       "html": [
        "<div style=\"max-height:1000px;max-width:1500px;overflow:auto;\">\n",
        "<table border=\"1\" class=\"dataframe\">\n",
        "  <thead>\n",
        "    <tr style=\"text-align: right;\">\n",
        "      <th></th>\n",
        "      <th>one</th>\n",
        "      <th>two</th>\n",
        "    </tr>\n",
        "  </thead>\n",
        "  <tbody>\n",
        "    <tr>\n",
        "      <th>a</th>\n",
        "      <td> 1</td>\n",
        "      <td> 4</td>\n",
        "    </tr>\n",
        "    <tr>\n",
        "      <th>b</th>\n",
        "      <td> 2</td>\n",
        "      <td> 3</td>\n",
        "    </tr>\n",
        "    <tr>\n",
        "      <th>c</th>\n",
        "      <td> 3</td>\n",
        "      <td> 2</td>\n",
        "    </tr>\n",
        "    <tr>\n",
        "      <th>d</th>\n",
        "      <td> 4</td>\n",
        "      <td> 1</td>\n",
        "    </tr>\n",
        "  </tbody>\n",
        "</table>\n",
        "</div>"
       ],
       "metadata": {},
       "output_type": "pyout",
       "prompt_number": 32,
       "text": [
        "   one  two\n",
        "a    1    4\n",
        "b    2    3\n",
        "c    3    2\n",
        "d    4    1"
       ]
      }
     ],
     "prompt_number": 32
    },
    {
     "cell_type": "heading",
     "level": 4,
     "metadata": {},
     "source": [
      "5.2.3 From structured or record array"
     ]
    },
    {
     "cell_type": "code",
     "collapsed": false,
     "input": [
      "#This case is handled identically to a dict of arrays\n",
      "data = np.zeros((2,), dtype=[('A', 'i4'), ('B', 'f4'),('C','a10')])"
     ],
     "language": "python",
     "metadata": {},
     "outputs": [],
     "prompt_number": 14
    },
    {
     "cell_type": "code",
     "collapsed": false,
     "input": [
      "data[:] = [(1,2.,'Hello'),(2,3.,\"World\")]"
     ],
     "language": "python",
     "metadata": {},
     "outputs": [],
     "prompt_number": 15
    },
    {
     "cell_type": "code",
     "collapsed": false,
     "input": [
      "DataFrame(data)"
     ],
     "language": "python",
     "metadata": {},
     "outputs": [
      {
       "html": [
        "<div style=\"max-height:1000px;max-width:1500px;overflow:auto;\">\n",
        "<table border=\"1\" class=\"dataframe\">\n",
        "  <thead>\n",
        "    <tr style=\"text-align: right;\">\n",
        "      <th></th>\n",
        "      <th>A</th>\n",
        "      <th>B</th>\n",
        "      <th>C</th>\n",
        "    </tr>\n",
        "  </thead>\n",
        "  <tbody>\n",
        "    <tr>\n",
        "      <th>0</th>\n",
        "      <td> 1</td>\n",
        "      <td> 2</td>\n",
        "      <td> Hello</td>\n",
        "    </tr>\n",
        "    <tr>\n",
        "      <th>1</th>\n",
        "      <td> 2</td>\n",
        "      <td> 3</td>\n",
        "      <td> World</td>\n",
        "    </tr>\n",
        "  </tbody>\n",
        "</table>\n",
        "</div>"
       ],
       "metadata": {},
       "output_type": "pyout",
       "prompt_number": 16,
       "text": [
        "   A  B      C\n",
        "0  1  2  Hello\n",
        "1  2  3  World"
       ]
      }
     ],
     "prompt_number": 16
    },
    {
     "cell_type": "code",
     "collapsed": false,
     "input": [
      "DataFrame(data, index=['first', 'second'])"
     ],
     "language": "python",
     "metadata": {},
     "outputs": [
      {
       "html": [
        "<div style=\"max-height:1000px;max-width:1500px;overflow:auto;\">\n",
        "<table border=\"1\" class=\"dataframe\">\n",
        "  <thead>\n",
        "    <tr style=\"text-align: right;\">\n",
        "      <th></th>\n",
        "      <th>A</th>\n",
        "      <th>B</th>\n",
        "      <th>C</th>\n",
        "    </tr>\n",
        "  </thead>\n",
        "  <tbody>\n",
        "    <tr>\n",
        "      <th>first</th>\n",
        "      <td> 1</td>\n",
        "      <td> 2</td>\n",
        "      <td> Hello</td>\n",
        "    </tr>\n",
        "    <tr>\n",
        "      <th>second</th>\n",
        "      <td> 2</td>\n",
        "      <td> 3</td>\n",
        "      <td> World</td>\n",
        "    </tr>\n",
        "  </tbody>\n",
        "</table>\n",
        "</div>"
       ],
       "metadata": {},
       "output_type": "pyout",
       "prompt_number": 22,
       "text": [
        "        A  B      C\n",
        "first   1  2  Hello\n",
        "second  2  3  World"
       ]
      }
     ],
     "prompt_number": 22
    },
    {
     "cell_type": "code",
     "collapsed": false,
     "input": [
      "DataFrame(data,columns=['C','A','B'])"
     ],
     "language": "python",
     "metadata": {},
     "outputs": [
      {
       "html": [
        "<div style=\"max-height:1000px;max-width:1500px;overflow:auto;\">\n",
        "<table border=\"1\" class=\"dataframe\">\n",
        "  <thead>\n",
        "    <tr style=\"text-align: right;\">\n",
        "      <th></th>\n",
        "      <th>C</th>\n",
        "      <th>A</th>\n",
        "      <th>B</th>\n",
        "    </tr>\n",
        "  </thead>\n",
        "  <tbody>\n",
        "    <tr>\n",
        "      <th>0</th>\n",
        "      <td> Hello</td>\n",
        "      <td> 1</td>\n",
        "      <td> 2</td>\n",
        "    </tr>\n",
        "    <tr>\n",
        "      <th>1</th>\n",
        "      <td> World</td>\n",
        "      <td> 2</td>\n",
        "      <td> 3</td>\n",
        "    </tr>\n",
        "  </tbody>\n",
        "</table>\n",
        "</div>"
       ],
       "metadata": {},
       "output_type": "pyout",
       "prompt_number": 24,
       "text": [
        "       C  A  B\n",
        "0  Hello  1  2\n",
        "1  World  2  3"
       ]
      }
     ],
     "prompt_number": 24
    },
    {
     "cell_type": "heading",
     "level": 4,
     "metadata": {},
     "source": [
      "5.2.4 From a list of dicts"
     ]
    },
    {
     "cell_type": "code",
     "collapsed": false,
     "input": [
      "data2 = [{'a':1, 'b':2}, {'a':5,'b':10, 'c':20}]"
     ],
     "language": "python",
     "metadata": {},
     "outputs": [],
     "prompt_number": 25
    },
    {
     "cell_type": "code",
     "collapsed": false,
     "input": [
      "DataFrame(data2, index = ['first','second'])"
     ],
     "language": "python",
     "metadata": {},
     "outputs": [
      {
       "html": [
        "<div style=\"max-height:1000px;max-width:1500px;overflow:auto;\">\n",
        "<table border=\"1\" class=\"dataframe\">\n",
        "  <thead>\n",
        "    <tr style=\"text-align: right;\">\n",
        "      <th></th>\n",
        "      <th>a</th>\n",
        "      <th>b</th>\n",
        "      <th>c</th>\n",
        "    </tr>\n",
        "  </thead>\n",
        "  <tbody>\n",
        "    <tr>\n",
        "      <th>first</th>\n",
        "      <td> 1</td>\n",
        "      <td>  2</td>\n",
        "      <td>NaN</td>\n",
        "    </tr>\n",
        "    <tr>\n",
        "      <th>second</th>\n",
        "      <td> 5</td>\n",
        "      <td> 10</td>\n",
        "      <td> 20</td>\n",
        "    </tr>\n",
        "  </tbody>\n",
        "</table>\n",
        "</div>"
       ],
       "metadata": {},
       "output_type": "pyout",
       "prompt_number": 36,
       "text": [
        "        a   b   c\n",
        "first   1   2 NaN\n",
        "second  5  10  20"
       ]
      }
     ],
     "prompt_number": 36
    },
    {
     "cell_type": "code",
     "collapsed": false,
     "input": [
      "DataFrame(data2, columns=['a','b']) # A selection"
     ],
     "language": "python",
     "metadata": {},
     "outputs": [
      {
       "html": [
        "<div style=\"max-height:1000px;max-width:1500px;overflow:auto;\">\n",
        "<table border=\"1\" class=\"dataframe\">\n",
        "  <thead>\n",
        "    <tr style=\"text-align: right;\">\n",
        "      <th></th>\n",
        "      <th>a</th>\n",
        "      <th>b</th>\n",
        "    </tr>\n",
        "  </thead>\n",
        "  <tbody>\n",
        "    <tr>\n",
        "      <th>0</th>\n",
        "      <td> 1</td>\n",
        "      <td>  2</td>\n",
        "    </tr>\n",
        "    <tr>\n",
        "      <th>1</th>\n",
        "      <td> 5</td>\n",
        "      <td> 10</td>\n",
        "    </tr>\n",
        "  </tbody>\n",
        "</table>\n",
        "</div>"
       ],
       "metadata": {},
       "output_type": "pyout",
       "prompt_number": 37,
       "text": [
        "   a   b\n",
        "0  1   2\n",
        "1  5  10"
       ]
      }
     ],
     "prompt_number": 37
    },
    {
     "cell_type": "heading",
     "level": 4,
     "metadata": {},
     "source": [
      "5.2.5 From a Series"
     ]
    },
    {
     "cell_type": "heading",
     "level": 4,
     "metadata": {},
     "source": [
      "5.2.7 Column Selection, addition, deletion"
     ]
    },
    {
     "cell_type": "code",
     "collapsed": false,
     "input": [
      "df['one']"
     ],
     "language": "python",
     "metadata": {},
     "outputs": [
      {
       "metadata": {},
       "output_type": "pyout",
       "prompt_number": 42,
       "text": [
        "a     1\n",
        "b     2\n",
        "c     3\n",
        "d   NaN\n",
        "Name: one, dtype: float64"
       ]
      }
     ],
     "prompt_number": 42
    },
    {
     "cell_type": "code",
     "collapsed": false,
     "input": [
      "df['three'] = df['one']*df['two']"
     ],
     "language": "python",
     "metadata": {},
     "outputs": [],
     "prompt_number": 43
    },
    {
     "cell_type": "code",
     "collapsed": false,
     "input": [
      "boolindex = df['two']>1\n",
      "boolindex"
     ],
     "language": "python",
     "metadata": {},
     "outputs": [
      {
       "metadata": {},
       "output_type": "pyout",
       "prompt_number": 49,
       "text": [
        "a    False\n",
        "b     True\n",
        "c     True\n",
        "d     True\n",
        "Name: two, dtype: bool"
       ]
      }
     ],
     "prompt_number": 49
    },
    {
     "cell_type": "code",
     "collapsed": false,
     "input": [
      "df[boolindex]"
     ],
     "language": "python",
     "metadata": {},
     "outputs": [
      {
       "html": [
        "<div style=\"max-height:1000px;max-width:1500px;overflow:auto;\">\n",
        "<table border=\"1\" class=\"dataframe\">\n",
        "  <thead>\n",
        "    <tr style=\"text-align: right;\">\n",
        "      <th></th>\n",
        "      <th>one</th>\n",
        "      <th>two</th>\n",
        "      <th>three</th>\n",
        "    </tr>\n",
        "  </thead>\n",
        "  <tbody>\n",
        "    <tr>\n",
        "      <th>b</th>\n",
        "      <td>  2</td>\n",
        "      <td> 2</td>\n",
        "      <td>  4</td>\n",
        "    </tr>\n",
        "    <tr>\n",
        "      <th>c</th>\n",
        "      <td>  3</td>\n",
        "      <td> 3</td>\n",
        "      <td>  9</td>\n",
        "    </tr>\n",
        "    <tr>\n",
        "      <th>d</th>\n",
        "      <td>NaN</td>\n",
        "      <td> 4</td>\n",
        "      <td>NaN</td>\n",
        "    </tr>\n",
        "  </tbody>\n",
        "</table>\n",
        "</div>"
       ],
       "metadata": {},
       "output_type": "pyout",
       "prompt_number": 50,
       "text": [
        "   one  two  three\n",
        "b    2    2      4\n",
        "c    3    3      9\n",
        "d  NaN    4    NaN"
       ]
      }
     ],
     "prompt_number": 50
    },
    {
     "cell_type": "code",
     "collapsed": false,
     "input": [
      "df['b']"
     ],
     "language": "python",
     "metadata": {},
     "outputs": [
      {
       "ename": "KeyError",
       "evalue": "u'no item named b'",
       "output_type": "pyerr",
       "traceback": [
        "\u001b[0;31m---------------------------------------------------------------------------\u001b[0m\n\u001b[0;31mKeyError\u001b[0m                                  Traceback (most recent call last)",
        "\u001b[0;32m<ipython-input-52-f2a266ed0ffd>\u001b[0m in \u001b[0;36m<module>\u001b[0;34m()\u001b[0m\n\u001b[0;32m----> 1\u001b[0;31m \u001b[0mdf\u001b[0m\u001b[0;34m[\u001b[0m\u001b[0;34m'b'\u001b[0m\u001b[0;34m]\u001b[0m\u001b[0;34m\u001b[0m\u001b[0m\n\u001b[0m",
        "\u001b[0;32m/Users/chenchen/anaconda/python.app/Contents/lib/python2.7/site-packages/pandas/core/frame.pyc\u001b[0m in \u001b[0;36m__getitem__\u001b[0;34m(self, key)\u001b[0m\n\u001b[1;32m   1926\u001b[0m         \u001b[0;32melse\u001b[0m\u001b[0;34m:\u001b[0m\u001b[0;34m\u001b[0m\u001b[0m\n\u001b[1;32m   1927\u001b[0m             \u001b[0;31m# get column\u001b[0m\u001b[0;34m\u001b[0m\u001b[0;34m\u001b[0m\u001b[0m\n\u001b[0;32m-> 1928\u001b[0;31m             \u001b[0;32mreturn\u001b[0m \u001b[0mself\u001b[0m\u001b[0;34m.\u001b[0m\u001b[0m_get_item_cache\u001b[0m\u001b[0;34m(\u001b[0m\u001b[0mkey\u001b[0m\u001b[0;34m)\u001b[0m\u001b[0;34m\u001b[0m\u001b[0m\n\u001b[0m\u001b[1;32m   1929\u001b[0m \u001b[0;34m\u001b[0m\u001b[0m\n\u001b[1;32m   1930\u001b[0m     \u001b[0;32mdef\u001b[0m \u001b[0m_getitem_slice\u001b[0m\u001b[0;34m(\u001b[0m\u001b[0mself\u001b[0m\u001b[0;34m,\u001b[0m \u001b[0mkey\u001b[0m\u001b[0;34m)\u001b[0m\u001b[0;34m:\u001b[0m\u001b[0;34m\u001b[0m\u001b[0m\n",
        "\u001b[0;32m/Users/chenchen/anaconda/python.app/Contents/lib/python2.7/site-packages/pandas/core/generic.pyc\u001b[0m in \u001b[0;36m_get_item_cache\u001b[0;34m(self, item)\u001b[0m\n\u001b[1;32m    568\u001b[0m             \u001b[0;32mreturn\u001b[0m \u001b[0mcache\u001b[0m\u001b[0;34m[\u001b[0m\u001b[0mitem\u001b[0m\u001b[0;34m]\u001b[0m\u001b[0;34m\u001b[0m\u001b[0m\n\u001b[1;32m    569\u001b[0m         \u001b[0;32mexcept\u001b[0m \u001b[0mException\u001b[0m\u001b[0;34m:\u001b[0m\u001b[0;34m\u001b[0m\u001b[0m\n\u001b[0;32m--> 570\u001b[0;31m             \u001b[0mvalues\u001b[0m \u001b[0;34m=\u001b[0m \u001b[0mself\u001b[0m\u001b[0;34m.\u001b[0m\u001b[0m_data\u001b[0m\u001b[0;34m.\u001b[0m\u001b[0mget\u001b[0m\u001b[0;34m(\u001b[0m\u001b[0mitem\u001b[0m\u001b[0;34m)\u001b[0m\u001b[0;34m\u001b[0m\u001b[0m\n\u001b[0m\u001b[1;32m    571\u001b[0m             \u001b[0mres\u001b[0m \u001b[0;34m=\u001b[0m \u001b[0mself\u001b[0m\u001b[0;34m.\u001b[0m\u001b[0m_box_item_values\u001b[0m\u001b[0;34m(\u001b[0m\u001b[0mitem\u001b[0m\u001b[0;34m,\u001b[0m \u001b[0mvalues\u001b[0m\u001b[0;34m)\u001b[0m\u001b[0;34m\u001b[0m\u001b[0m\n\u001b[1;32m    572\u001b[0m             \u001b[0mcache\u001b[0m\u001b[0;34m[\u001b[0m\u001b[0mitem\u001b[0m\u001b[0;34m]\u001b[0m \u001b[0;34m=\u001b[0m \u001b[0mres\u001b[0m\u001b[0;34m\u001b[0m\u001b[0m\n",
        "\u001b[0;32m/Users/chenchen/anaconda/python.app/Contents/lib/python2.7/site-packages/pandas/core/internals.pyc\u001b[0m in \u001b[0;36mget\u001b[0;34m(self, item)\u001b[0m\n\u001b[1;32m   1381\u001b[0m \u001b[0;34m\u001b[0m\u001b[0m\n\u001b[1;32m   1382\u001b[0m     \u001b[0;32mdef\u001b[0m \u001b[0mget\u001b[0m\u001b[0;34m(\u001b[0m\u001b[0mself\u001b[0m\u001b[0;34m,\u001b[0m \u001b[0mitem\u001b[0m\u001b[0;34m)\u001b[0m\u001b[0;34m:\u001b[0m\u001b[0;34m\u001b[0m\u001b[0m\n\u001b[0;32m-> 1383\u001b[0;31m         \u001b[0m_\u001b[0m\u001b[0;34m,\u001b[0m \u001b[0mblock\u001b[0m \u001b[0;34m=\u001b[0m \u001b[0mself\u001b[0m\u001b[0;34m.\u001b[0m\u001b[0m_find_block\u001b[0m\u001b[0;34m(\u001b[0m\u001b[0mitem\u001b[0m\u001b[0;34m)\u001b[0m\u001b[0;34m\u001b[0m\u001b[0m\n\u001b[0m\u001b[1;32m   1384\u001b[0m         \u001b[0;32mreturn\u001b[0m \u001b[0mblock\u001b[0m\u001b[0;34m.\u001b[0m\u001b[0mget\u001b[0m\u001b[0;34m(\u001b[0m\u001b[0mitem\u001b[0m\u001b[0;34m)\u001b[0m\u001b[0;34m\u001b[0m\u001b[0m\n\u001b[1;32m   1385\u001b[0m \u001b[0;34m\u001b[0m\u001b[0m\n",
        "\u001b[0;32m/Users/chenchen/anaconda/python.app/Contents/lib/python2.7/site-packages/pandas/core/internals.pyc\u001b[0m in \u001b[0;36m_find_block\u001b[0;34m(self, item)\u001b[0m\n\u001b[1;32m   1523\u001b[0m \u001b[0;34m\u001b[0m\u001b[0m\n\u001b[1;32m   1524\u001b[0m     \u001b[0;32mdef\u001b[0m \u001b[0m_find_block\u001b[0m\u001b[0;34m(\u001b[0m\u001b[0mself\u001b[0m\u001b[0;34m,\u001b[0m \u001b[0mitem\u001b[0m\u001b[0;34m)\u001b[0m\u001b[0;34m:\u001b[0m\u001b[0;34m\u001b[0m\u001b[0m\n\u001b[0;32m-> 1525\u001b[0;31m         \u001b[0mself\u001b[0m\u001b[0;34m.\u001b[0m\u001b[0m_check_have\u001b[0m\u001b[0;34m(\u001b[0m\u001b[0mitem\u001b[0m\u001b[0;34m)\u001b[0m\u001b[0;34m\u001b[0m\u001b[0m\n\u001b[0m\u001b[1;32m   1526\u001b[0m         \u001b[0;32mfor\u001b[0m \u001b[0mi\u001b[0m\u001b[0;34m,\u001b[0m \u001b[0mblock\u001b[0m \u001b[0;32min\u001b[0m \u001b[0menumerate\u001b[0m\u001b[0;34m(\u001b[0m\u001b[0mself\u001b[0m\u001b[0;34m.\u001b[0m\u001b[0mblocks\u001b[0m\u001b[0;34m)\u001b[0m\u001b[0;34m:\u001b[0m\u001b[0;34m\u001b[0m\u001b[0m\n\u001b[1;32m   1527\u001b[0m             \u001b[0;32mif\u001b[0m \u001b[0mitem\u001b[0m \u001b[0;32min\u001b[0m \u001b[0mblock\u001b[0m\u001b[0;34m:\u001b[0m\u001b[0;34m\u001b[0m\u001b[0m\n",
        "\u001b[0;32m/Users/chenchen/anaconda/python.app/Contents/lib/python2.7/site-packages/pandas/core/internals.pyc\u001b[0m in \u001b[0;36m_check_have\u001b[0;34m(self, item)\u001b[0m\n\u001b[1;32m   1530\u001b[0m     \u001b[0;32mdef\u001b[0m \u001b[0m_check_have\u001b[0m\u001b[0;34m(\u001b[0m\u001b[0mself\u001b[0m\u001b[0;34m,\u001b[0m \u001b[0mitem\u001b[0m\u001b[0;34m)\u001b[0m\u001b[0;34m:\u001b[0m\u001b[0;34m\u001b[0m\u001b[0m\n\u001b[1;32m   1531\u001b[0m         \u001b[0;32mif\u001b[0m \u001b[0mitem\u001b[0m \u001b[0;32mnot\u001b[0m \u001b[0;32min\u001b[0m \u001b[0mself\u001b[0m\u001b[0;34m.\u001b[0m\u001b[0mitems\u001b[0m\u001b[0;34m:\u001b[0m\u001b[0;34m\u001b[0m\u001b[0m\n\u001b[0;32m-> 1532\u001b[0;31m             \u001b[0;32mraise\u001b[0m \u001b[0mKeyError\u001b[0m\u001b[0;34m(\u001b[0m\u001b[0;34m'no item named %s'\u001b[0m \u001b[0;34m%\u001b[0m \u001b[0mcom\u001b[0m\u001b[0;34m.\u001b[0m\u001b[0mpprint_thing\u001b[0m\u001b[0;34m(\u001b[0m\u001b[0mitem\u001b[0m\u001b[0;34m)\u001b[0m\u001b[0;34m)\u001b[0m\u001b[0;34m\u001b[0m\u001b[0m\n\u001b[0m\u001b[1;32m   1533\u001b[0m \u001b[0;34m\u001b[0m\u001b[0m\n\u001b[1;32m   1534\u001b[0m     \u001b[0;32mdef\u001b[0m \u001b[0mreindex_axis\u001b[0m\u001b[0;34m(\u001b[0m\u001b[0mself\u001b[0m\u001b[0;34m,\u001b[0m \u001b[0mnew_axis\u001b[0m\u001b[0;34m,\u001b[0m \u001b[0mmethod\u001b[0m\u001b[0;34m=\u001b[0m\u001b[0mNone\u001b[0m\u001b[0;34m,\u001b[0m \u001b[0maxis\u001b[0m\u001b[0;34m=\u001b[0m\u001b[0;36m0\u001b[0m\u001b[0;34m,\u001b[0m \u001b[0mcopy\u001b[0m\u001b[0;34m=\u001b[0m\u001b[0mTrue\u001b[0m\u001b[0;34m)\u001b[0m\u001b[0;34m:\u001b[0m\u001b[0;34m\u001b[0m\u001b[0m\n",
        "\u001b[0;31mKeyError\u001b[0m: u'no item named b'"
       ]
      }
     ],
     "prompt_number": 52
    },
    {
     "cell_type": "code",
     "collapsed": false,
     "input": [
      "del df['two']"
     ],
     "language": "python",
     "metadata": {},
     "outputs": [],
     "prompt_number": 53
    },
    {
     "cell_type": "code",
     "collapsed": false,
     "input": [
      "df"
     ],
     "language": "python",
     "metadata": {},
     "outputs": [
      {
       "html": [
        "<div style=\"max-height:1000px;max-width:1500px;overflow:auto;\">\n",
        "<table border=\"1\" class=\"dataframe\">\n",
        "  <thead>\n",
        "    <tr style=\"text-align: right;\">\n",
        "      <th></th>\n",
        "      <th>one</th>\n",
        "      <th>three</th>\n",
        "    </tr>\n",
        "  </thead>\n",
        "  <tbody>\n",
        "    <tr>\n",
        "      <th>a</th>\n",
        "      <td>  1</td>\n",
        "      <td>  1</td>\n",
        "    </tr>\n",
        "    <tr>\n",
        "      <th>b</th>\n",
        "      <td>  2</td>\n",
        "      <td>  4</td>\n",
        "    </tr>\n",
        "    <tr>\n",
        "      <th>c</th>\n",
        "      <td>  3</td>\n",
        "      <td>  9</td>\n",
        "    </tr>\n",
        "    <tr>\n",
        "      <th>d</th>\n",
        "      <td>NaN</td>\n",
        "      <td>NaN</td>\n",
        "    </tr>\n",
        "  </tbody>\n",
        "</table>\n",
        "</div>"
       ],
       "metadata": {},
       "output_type": "pyout",
       "prompt_number": 54,
       "text": [
        "   one  three\n",
        "a    1      1\n",
        "b    2      4\n",
        "c    3      9\n",
        "d  NaN    NaN"
       ]
      }
     ],
     "prompt_number": 54
    },
    {
     "cell_type": "code",
     "collapsed": false,
     "input": [
      "df['new'] = 1"
     ],
     "language": "python",
     "metadata": {},
     "outputs": [],
     "prompt_number": 55
    },
    {
     "cell_type": "code",
     "collapsed": false,
     "input": [
      "df"
     ],
     "language": "python",
     "metadata": {},
     "outputs": [
      {
       "html": [
        "<div style=\"max-height:1000px;max-width:1500px;overflow:auto;\">\n",
        "<table border=\"1\" class=\"dataframe\">\n",
        "  <thead>\n",
        "    <tr style=\"text-align: right;\">\n",
        "      <th></th>\n",
        "      <th>one</th>\n",
        "      <th>three</th>\n",
        "      <th>new</th>\n",
        "    </tr>\n",
        "  </thead>\n",
        "  <tbody>\n",
        "    <tr>\n",
        "      <th>a</th>\n",
        "      <td>  1</td>\n",
        "      <td>  1</td>\n",
        "      <td> 1</td>\n",
        "    </tr>\n",
        "    <tr>\n",
        "      <th>b</th>\n",
        "      <td>  2</td>\n",
        "      <td>  4</td>\n",
        "      <td> 1</td>\n",
        "    </tr>\n",
        "    <tr>\n",
        "      <th>c</th>\n",
        "      <td>  3</td>\n",
        "      <td>  9</td>\n",
        "      <td> 1</td>\n",
        "    </tr>\n",
        "    <tr>\n",
        "      <th>d</th>\n",
        "      <td>NaN</td>\n",
        "      <td>NaN</td>\n",
        "      <td> 1</td>\n",
        "    </tr>\n",
        "  </tbody>\n",
        "</table>\n",
        "</div>"
       ],
       "metadata": {},
       "output_type": "pyout",
       "prompt_number": 56,
       "text": [
        "   one  three  new\n",
        "a    1      1    1\n",
        "b    2      4    1\n",
        "c    3      9    1\n",
        "d  NaN    NaN    1"
       ]
      }
     ],
     "prompt_number": 56
    },
    {
     "cell_type": "code",
     "collapsed": false,
     "input": [
      "df.ix[3]"
     ],
     "language": "python",
     "metadata": {},
     "outputs": [
      {
       "metadata": {},
       "output_type": "pyout",
       "prompt_number": 59,
       "text": [
        "one     NaN\n",
        "three   NaN\n",
        "new       1\n",
        "Name: d, dtype: float64"
       ]
      }
     ],
     "prompt_number": 59
    },
    {
     "cell_type": "heading",
     "level": 4,
     "metadata": {},
     "source": [
      "5.2.8 Indexing/Selection"
     ]
    },
    {
     "cell_type": "markdown",
     "metadata": {},
     "source": [
      "<tb>\n",
      "|Operation                              |    Syntax                      |    Result\n",
      "|Select column                          | df[col]                        |    Series\n",
      "|Select row by lable                    | df.xs(lable) or df.ix[lable]   |    Series\n",
      "|Select row by location(int)            | df.ix[loc]                     |    Series\n",
      "|Slice rows                             | df[5:10]                       |    DataFrame\n",
      "|Selection rows by boolean vector       | df[bool_vec]                   |    DataFrame\n",
      "</tb>"
     ]
    },
    {
     "cell_type": "code",
     "collapsed": false,
     "input": [
      "df[1]"
     ],
     "language": "python",
     "metadata": {},
     "outputs": [
      {
       "ename": "KeyError",
       "evalue": "u'no item named 1'",
       "output_type": "pyerr",
       "traceback": [
        "\u001b[0;31m---------------------------------------------------------------------------\u001b[0m\n\u001b[0;31mKeyError\u001b[0m                                  Traceback (most recent call last)",
        "\u001b[0;32m<ipython-input-64-dc0ea82142cb>\u001b[0m in \u001b[0;36m<module>\u001b[0;34m()\u001b[0m\n\u001b[0;32m----> 1\u001b[0;31m \u001b[0mdf\u001b[0m\u001b[0;34m[\u001b[0m\u001b[0;36m1\u001b[0m\u001b[0;34m]\u001b[0m\u001b[0;34m\u001b[0m\u001b[0m\n\u001b[0m",
        "\u001b[0;32m/Users/chenchen/anaconda/python.app/Contents/lib/python2.7/site-packages/pandas/core/frame.pyc\u001b[0m in \u001b[0;36m__getitem__\u001b[0;34m(self, key)\u001b[0m\n\u001b[1;32m   1926\u001b[0m         \u001b[0;32melse\u001b[0m\u001b[0;34m:\u001b[0m\u001b[0;34m\u001b[0m\u001b[0m\n\u001b[1;32m   1927\u001b[0m             \u001b[0;31m# get column\u001b[0m\u001b[0;34m\u001b[0m\u001b[0;34m\u001b[0m\u001b[0m\n\u001b[0;32m-> 1928\u001b[0;31m             \u001b[0;32mreturn\u001b[0m \u001b[0mself\u001b[0m\u001b[0;34m.\u001b[0m\u001b[0m_get_item_cache\u001b[0m\u001b[0;34m(\u001b[0m\u001b[0mkey\u001b[0m\u001b[0;34m)\u001b[0m\u001b[0;34m\u001b[0m\u001b[0m\n\u001b[0m\u001b[1;32m   1929\u001b[0m \u001b[0;34m\u001b[0m\u001b[0m\n\u001b[1;32m   1930\u001b[0m     \u001b[0;32mdef\u001b[0m \u001b[0m_getitem_slice\u001b[0m\u001b[0;34m(\u001b[0m\u001b[0mself\u001b[0m\u001b[0;34m,\u001b[0m \u001b[0mkey\u001b[0m\u001b[0;34m)\u001b[0m\u001b[0;34m:\u001b[0m\u001b[0;34m\u001b[0m\u001b[0m\n",
        "\u001b[0;32m/Users/chenchen/anaconda/python.app/Contents/lib/python2.7/site-packages/pandas/core/generic.pyc\u001b[0m in \u001b[0;36m_get_item_cache\u001b[0;34m(self, item)\u001b[0m\n\u001b[1;32m    568\u001b[0m             \u001b[0;32mreturn\u001b[0m \u001b[0mcache\u001b[0m\u001b[0;34m[\u001b[0m\u001b[0mitem\u001b[0m\u001b[0;34m]\u001b[0m\u001b[0;34m\u001b[0m\u001b[0m\n\u001b[1;32m    569\u001b[0m         \u001b[0;32mexcept\u001b[0m \u001b[0mException\u001b[0m\u001b[0;34m:\u001b[0m\u001b[0;34m\u001b[0m\u001b[0m\n\u001b[0;32m--> 570\u001b[0;31m             \u001b[0mvalues\u001b[0m \u001b[0;34m=\u001b[0m \u001b[0mself\u001b[0m\u001b[0;34m.\u001b[0m\u001b[0m_data\u001b[0m\u001b[0;34m.\u001b[0m\u001b[0mget\u001b[0m\u001b[0;34m(\u001b[0m\u001b[0mitem\u001b[0m\u001b[0;34m)\u001b[0m\u001b[0;34m\u001b[0m\u001b[0m\n\u001b[0m\u001b[1;32m    571\u001b[0m             \u001b[0mres\u001b[0m \u001b[0;34m=\u001b[0m \u001b[0mself\u001b[0m\u001b[0;34m.\u001b[0m\u001b[0m_box_item_values\u001b[0m\u001b[0;34m(\u001b[0m\u001b[0mitem\u001b[0m\u001b[0;34m,\u001b[0m \u001b[0mvalues\u001b[0m\u001b[0;34m)\u001b[0m\u001b[0;34m\u001b[0m\u001b[0m\n\u001b[1;32m    572\u001b[0m             \u001b[0mcache\u001b[0m\u001b[0;34m[\u001b[0m\u001b[0mitem\u001b[0m\u001b[0;34m]\u001b[0m \u001b[0;34m=\u001b[0m \u001b[0mres\u001b[0m\u001b[0;34m\u001b[0m\u001b[0m\n",
        "\u001b[0;32m/Users/chenchen/anaconda/python.app/Contents/lib/python2.7/site-packages/pandas/core/internals.pyc\u001b[0m in \u001b[0;36mget\u001b[0;34m(self, item)\u001b[0m\n\u001b[1;32m   1381\u001b[0m \u001b[0;34m\u001b[0m\u001b[0m\n\u001b[1;32m   1382\u001b[0m     \u001b[0;32mdef\u001b[0m \u001b[0mget\u001b[0m\u001b[0;34m(\u001b[0m\u001b[0mself\u001b[0m\u001b[0;34m,\u001b[0m \u001b[0mitem\u001b[0m\u001b[0;34m)\u001b[0m\u001b[0;34m:\u001b[0m\u001b[0;34m\u001b[0m\u001b[0m\n\u001b[0;32m-> 1383\u001b[0;31m         \u001b[0m_\u001b[0m\u001b[0;34m,\u001b[0m \u001b[0mblock\u001b[0m \u001b[0;34m=\u001b[0m \u001b[0mself\u001b[0m\u001b[0;34m.\u001b[0m\u001b[0m_find_block\u001b[0m\u001b[0;34m(\u001b[0m\u001b[0mitem\u001b[0m\u001b[0;34m)\u001b[0m\u001b[0;34m\u001b[0m\u001b[0m\n\u001b[0m\u001b[1;32m   1384\u001b[0m         \u001b[0;32mreturn\u001b[0m \u001b[0mblock\u001b[0m\u001b[0;34m.\u001b[0m\u001b[0mget\u001b[0m\u001b[0;34m(\u001b[0m\u001b[0mitem\u001b[0m\u001b[0;34m)\u001b[0m\u001b[0;34m\u001b[0m\u001b[0m\n\u001b[1;32m   1385\u001b[0m \u001b[0;34m\u001b[0m\u001b[0m\n",
        "\u001b[0;32m/Users/chenchen/anaconda/python.app/Contents/lib/python2.7/site-packages/pandas/core/internals.pyc\u001b[0m in \u001b[0;36m_find_block\u001b[0;34m(self, item)\u001b[0m\n\u001b[1;32m   1523\u001b[0m \u001b[0;34m\u001b[0m\u001b[0m\n\u001b[1;32m   1524\u001b[0m     \u001b[0;32mdef\u001b[0m \u001b[0m_find_block\u001b[0m\u001b[0;34m(\u001b[0m\u001b[0mself\u001b[0m\u001b[0;34m,\u001b[0m \u001b[0mitem\u001b[0m\u001b[0;34m)\u001b[0m\u001b[0;34m:\u001b[0m\u001b[0;34m\u001b[0m\u001b[0m\n\u001b[0;32m-> 1525\u001b[0;31m         \u001b[0mself\u001b[0m\u001b[0;34m.\u001b[0m\u001b[0m_check_have\u001b[0m\u001b[0;34m(\u001b[0m\u001b[0mitem\u001b[0m\u001b[0;34m)\u001b[0m\u001b[0;34m\u001b[0m\u001b[0m\n\u001b[0m\u001b[1;32m   1526\u001b[0m         \u001b[0;32mfor\u001b[0m \u001b[0mi\u001b[0m\u001b[0;34m,\u001b[0m \u001b[0mblock\u001b[0m \u001b[0;32min\u001b[0m \u001b[0menumerate\u001b[0m\u001b[0;34m(\u001b[0m\u001b[0mself\u001b[0m\u001b[0;34m.\u001b[0m\u001b[0mblocks\u001b[0m\u001b[0;34m)\u001b[0m\u001b[0;34m:\u001b[0m\u001b[0;34m\u001b[0m\u001b[0m\n\u001b[1;32m   1527\u001b[0m             \u001b[0;32mif\u001b[0m \u001b[0mitem\u001b[0m \u001b[0;32min\u001b[0m \u001b[0mblock\u001b[0m\u001b[0;34m:\u001b[0m\u001b[0;34m\u001b[0m\u001b[0m\n",
        "\u001b[0;32m/Users/chenchen/anaconda/python.app/Contents/lib/python2.7/site-packages/pandas/core/internals.pyc\u001b[0m in \u001b[0;36m_check_have\u001b[0;34m(self, item)\u001b[0m\n\u001b[1;32m   1530\u001b[0m     \u001b[0;32mdef\u001b[0m \u001b[0m_check_have\u001b[0m\u001b[0;34m(\u001b[0m\u001b[0mself\u001b[0m\u001b[0;34m,\u001b[0m \u001b[0mitem\u001b[0m\u001b[0;34m)\u001b[0m\u001b[0;34m:\u001b[0m\u001b[0;34m\u001b[0m\u001b[0m\n\u001b[1;32m   1531\u001b[0m         \u001b[0;32mif\u001b[0m \u001b[0mitem\u001b[0m \u001b[0;32mnot\u001b[0m \u001b[0;32min\u001b[0m \u001b[0mself\u001b[0m\u001b[0;34m.\u001b[0m\u001b[0mitems\u001b[0m\u001b[0;34m:\u001b[0m\u001b[0;34m\u001b[0m\u001b[0m\n\u001b[0;32m-> 1532\u001b[0;31m             \u001b[0;32mraise\u001b[0m \u001b[0mKeyError\u001b[0m\u001b[0;34m(\u001b[0m\u001b[0;34m'no item named %s'\u001b[0m \u001b[0;34m%\u001b[0m \u001b[0mcom\u001b[0m\u001b[0;34m.\u001b[0m\u001b[0mpprint_thing\u001b[0m\u001b[0;34m(\u001b[0m\u001b[0mitem\u001b[0m\u001b[0;34m)\u001b[0m\u001b[0;34m)\u001b[0m\u001b[0;34m\u001b[0m\u001b[0m\n\u001b[0m\u001b[1;32m   1533\u001b[0m \u001b[0;34m\u001b[0m\u001b[0m\n\u001b[1;32m   1534\u001b[0m     \u001b[0;32mdef\u001b[0m \u001b[0mreindex_axis\u001b[0m\u001b[0;34m(\u001b[0m\u001b[0mself\u001b[0m\u001b[0;34m,\u001b[0m \u001b[0mnew_axis\u001b[0m\u001b[0;34m,\u001b[0m \u001b[0mmethod\u001b[0m\u001b[0;34m=\u001b[0m\u001b[0mNone\u001b[0m\u001b[0;34m,\u001b[0m \u001b[0maxis\u001b[0m\u001b[0;34m=\u001b[0m\u001b[0;36m0\u001b[0m\u001b[0;34m,\u001b[0m \u001b[0mcopy\u001b[0m\u001b[0;34m=\u001b[0m\u001b[0mTrue\u001b[0m\u001b[0;34m)\u001b[0m\u001b[0;34m:\u001b[0m\u001b[0;34m\u001b[0m\u001b[0m\n",
        "\u001b[0;31mKeyError\u001b[0m: u'no item named 1'"
       ]
      }
     ],
     "prompt_number": 64
    },
    {
     "cell_type": "markdown",
     "metadata": {},
     "source": [
      "5.2.9 DataTypes"
     ]
    },
    {
     "cell_type": "code",
     "collapsed": false,
     "input": [
      "df['interger'] = 1\n",
      "df['int32'] = df['interger'].astype('int32')\n",
      "df['float32'] = Series([1.0]*len(df),dtype='float32')\n",
      "df['timestamp'] = Timestamp('20010102')"
     ],
     "language": "python",
     "metadata": {},
     "outputs": [],
     "prompt_number": 75
    },
    {
     "cell_type": "code",
     "collapsed": false,
     "input": [
      "df.dtypes"
     ],
     "language": "python",
     "metadata": {},
     "outputs": [
      {
       "metadata": {},
       "output_type": "pyout",
       "prompt_number": 77,
       "text": [
        "one                 float64\n",
        "two                 float64\n",
        "interger              int64\n",
        "int32                 int32\n",
        "float32             float32\n",
        "timestamp    datetime64[ns]\n",
        "dtype: object"
       ]
      }
     ],
     "prompt_number": 77
    },
    {
     "cell_type": "heading",
     "level": 4,
     "metadata": {},
     "source": [
      "5.2.11 Data alignment and arithmetic"
     ]
    },
    {
     "cell_type": "code",
     "collapsed": false,
     "input": [
      "index_df = date_range('1', periods=10)  #use data range as index, otherwise, Boom!!\n",
      "df = DataFrame(randn(10, 4), index=index_df, columns=['A', 'B', 'C', 'D'])\n",
      "df - df['A']\n",
      "(df.T - df['A']).T"
     ],
     "language": "python",
     "metadata": {},
     "outputs": [
      {
       "output_type": "stream",
       "stream": "stderr",
       "text": [
        "/Users/chenchen/anaconda/lib/python2.7/site-packages/pandas/core/frame.py:3619: FutureWarning: TimeSeries broadcasting along DataFrame index by default is deprecated. Please use DataFrame.<op> to explicitly broadcast arithmetic operations along the index\n",
        "  FutureWarning)\n"
       ]
      },
      {
       "html": [
        "<div style=\"max-height:1000px;max-width:1500px;overflow:auto;\">\n",
        "<table border=\"1\" class=\"dataframe\">\n",
        "  <thead>\n",
        "    <tr style=\"text-align: right;\">\n",
        "      <th></th>\n",
        "      <th>A</th>\n",
        "      <th>B</th>\n",
        "      <th>C</th>\n",
        "      <th>D</th>\n",
        "    </tr>\n",
        "  </thead>\n",
        "  <tbody>\n",
        "    <tr>\n",
        "      <th>2013-11-01</th>\n",
        "      <td> 0</td>\n",
        "      <td> 0.070616</td>\n",
        "      <td> 1.764970</td>\n",
        "      <td> 0.483617</td>\n",
        "    </tr>\n",
        "    <tr>\n",
        "      <th>2013-11-02</th>\n",
        "      <td> 0</td>\n",
        "      <td>-2.154749</td>\n",
        "      <td>-0.160766</td>\n",
        "      <td> 1.531038</td>\n",
        "    </tr>\n",
        "    <tr>\n",
        "      <th>2013-11-03</th>\n",
        "      <td> 0</td>\n",
        "      <td>-0.590357</td>\n",
        "      <td> 0.202836</td>\n",
        "      <td> 1.108110</td>\n",
        "    </tr>\n",
        "    <tr>\n",
        "      <th>2013-11-04</th>\n",
        "      <td> 0</td>\n",
        "      <td>-0.219865</td>\n",
        "      <td>-0.262338</td>\n",
        "      <td>-1.444890</td>\n",
        "    </tr>\n",
        "    <tr>\n",
        "      <th>2013-11-05</th>\n",
        "      <td> 0</td>\n",
        "      <td> 0.258523</td>\n",
        "      <td>-1.696840</td>\n",
        "      <td>-1.297896</td>\n",
        "    </tr>\n",
        "    <tr>\n",
        "      <th>2013-11-06</th>\n",
        "      <td> 0</td>\n",
        "      <td>-1.112081</td>\n",
        "      <td> 0.808770</td>\n",
        "      <td>-1.233935</td>\n",
        "    </tr>\n",
        "    <tr>\n",
        "      <th>2013-11-07</th>\n",
        "      <td> 0</td>\n",
        "      <td> 1.497496</td>\n",
        "      <td>-0.272568</td>\n",
        "      <td> 1.900655</td>\n",
        "    </tr>\n",
        "    <tr>\n",
        "      <th>2013-11-08</th>\n",
        "      <td> 0</td>\n",
        "      <td> 1.618075</td>\n",
        "      <td> 0.784253</td>\n",
        "      <td> 0.442696</td>\n",
        "    </tr>\n",
        "    <tr>\n",
        "      <th>2013-11-09</th>\n",
        "      <td> 0</td>\n",
        "      <td> 0.170048</td>\n",
        "      <td> 1.366825</td>\n",
        "      <td> 0.277063</td>\n",
        "    </tr>\n",
        "    <tr>\n",
        "      <th>2013-11-10</th>\n",
        "      <td> 0</td>\n",
        "      <td> 0.676875</td>\n",
        "      <td> 0.121673</td>\n",
        "      <td>-0.862354</td>\n",
        "    </tr>\n",
        "  </tbody>\n",
        "</table>\n",
        "</div>"
       ],
       "metadata": {},
       "output_type": "pyout",
       "prompt_number": 3,
       "text": [
        "            A         B         C         D\n",
        "2013-11-01  0  0.070616  1.764970  0.483617\n",
        "2013-11-02  0 -2.154749 -0.160766  1.531038\n",
        "2013-11-03  0 -0.590357  0.202836  1.108110\n",
        "2013-11-04  0 -0.219865 -0.262338 -1.444890\n",
        "2013-11-05  0  0.258523 -1.696840 -1.297896\n",
        "2013-11-06  0 -1.112081  0.808770 -1.233935\n",
        "2013-11-07  0  1.497496 -0.272568  1.900655\n",
        "2013-11-08  0  1.618075  0.784253  0.442696\n",
        "2013-11-09  0  0.170048  1.366825  0.277063\n",
        "2013-11-10  0  0.676875  0.121673 -0.862354"
       ]
      }
     ],
     "prompt_number": 3
    },
    {
     "cell_type": "code",
     "collapsed": false,
     "input": [
      "df - df['A']\n",
      "df * 5 + 2\n",
      "1/df\n",
      "df ** 4"
     ],
     "language": "python",
     "metadata": {},
     "outputs": [
      {
       "html": [
        "<div style=\"max-height:1000px;max-width:1500px;overflow:auto;\">\n",
        "<table border=\"1\" class=\"dataframe\">\n",
        "  <thead>\n",
        "    <tr style=\"text-align: right;\">\n",
        "      <th></th>\n",
        "      <th>A</th>\n",
        "      <th>B</th>\n",
        "      <th>C</th>\n",
        "      <th>D</th>\n",
        "    </tr>\n",
        "  </thead>\n",
        "  <tbody>\n",
        "    <tr>\n",
        "      <th>2013-11-01</th>\n",
        "      <td> 8.056042</td>\n",
        "      <td>  6.787938</td>\n",
        "      <td> 0.000041</td>\n",
        "      <td>  2.081309</td>\n",
        "    </tr>\n",
        "    <tr>\n",
        "      <th>2013-11-02</th>\n",
        "      <td> 0.000116</td>\n",
        "      <td> 17.694768</td>\n",
        "      <td> 0.000011</td>\n",
        "      <td>  7.142781</td>\n",
        "    </tr>\n",
        "    <tr>\n",
        "      <th>2013-11-03</th>\n",
        "      <td> 0.000301</td>\n",
        "      <td>  0.271847</td>\n",
        "      <td> 0.000026</td>\n",
        "      <td>  0.908869</td>\n",
        "    </tr>\n",
        "    <tr>\n",
        "      <th>2013-11-04</th>\n",
        "      <td> 0.022124</td>\n",
        "      <td>  0.000756</td>\n",
        "      <td> 0.000231</td>\n",
        "      <td>  1.258766</td>\n",
        "    </tr>\n",
        "    <tr>\n",
        "      <th>2013-11-05</th>\n",
        "      <td> 0.314838</td>\n",
        "      <td>  1.030715</td>\n",
        "      <td> 0.806888</td>\n",
        "      <td>  0.090728</td>\n",
        "    </tr>\n",
        "    <tr>\n",
        "      <th>2013-11-06</th>\n",
        "      <td> 0.000267</td>\n",
        "      <td>  0.938527</td>\n",
        "      <td> 0.769471</td>\n",
        "      <td>  1.496948</td>\n",
        "    </tr>\n",
        "    <tr>\n",
        "      <th>2013-11-07</th>\n",
        "      <td> 0.281678</td>\n",
        "      <td>  0.349674</td>\n",
        "      <td> 1.004335</td>\n",
        "      <td>  1.887639</td>\n",
        "    </tr>\n",
        "    <tr>\n",
        "      <th>2013-11-08</th>\n",
        "      <td> 2.014804</td>\n",
        "      <td>  0.033142</td>\n",
        "      <td> 0.027480</td>\n",
        "      <td>  0.314228</td>\n",
        "    </tr>\n",
        "    <tr>\n",
        "      <th>2013-11-09</th>\n",
        "      <td> 0.019255</td>\n",
        "      <td>  0.001680</td>\n",
        "      <td> 0.977456</td>\n",
        "      <td>  0.000083</td>\n",
        "    </tr>\n",
        "    <tr>\n",
        "      <th>2013-11-10</th>\n",
        "      <td> 2.155483</td>\n",
        "      <td>  0.081802</td>\n",
        "      <td> 1.411590</td>\n",
        "      <td> 18.503734</td>\n",
        "    </tr>\n",
        "  </tbody>\n",
        "</table>\n",
        "</div>"
       ],
       "metadata": {},
       "output_type": "pyout",
       "prompt_number": 7,
       "text": [
        "                   A          B         C          D\n",
        "2013-11-01  8.056042   6.787938  0.000041   2.081309\n",
        "2013-11-02  0.000116  17.694768  0.000011   7.142781\n",
        "2013-11-03  0.000301   0.271847  0.000026   0.908869\n",
        "2013-11-04  0.022124   0.000756  0.000231   1.258766\n",
        "2013-11-05  0.314838   1.030715  0.806888   0.090728\n",
        "2013-11-06  0.000267   0.938527  0.769471   1.496948\n",
        "2013-11-07  0.281678   0.349674  1.004335   1.887639\n",
        "2013-11-08  2.014804   0.033142  0.027480   0.314228\n",
        "2013-11-09  0.019255   0.001680  0.977456   0.000083\n",
        "2013-11-10  2.155483   0.081802  1.411590  18.503734"
       ]
      }
     ],
     "prompt_number": 7
    },
    {
     "cell_type": "heading",
     "level": 4,
     "metadata": {},
     "source": [
      "5.2.12 Transposing"
     ]
    },
    {
     "cell_type": "code",
     "collapsed": false,
     "input": [
      "df[:5]"
     ],
     "language": "python",
     "metadata": {},
     "outputs": [
      {
       "html": [
        "<div style=\"max-height:1000px;max-width:1500px;overflow:auto;\">\n",
        "<table border=\"1\" class=\"dataframe\">\n",
        "  <thead>\n",
        "    <tr style=\"text-align: right;\">\n",
        "      <th></th>\n",
        "      <th>A</th>\n",
        "      <th>B</th>\n",
        "      <th>C</th>\n",
        "      <th>D</th>\n",
        "    </tr>\n",
        "  </thead>\n",
        "  <tbody>\n",
        "    <tr>\n",
        "      <th>2013-11-01</th>\n",
        "      <td>-1.684730</td>\n",
        "      <td>-1.614115</td>\n",
        "      <td> 0.080239</td>\n",
        "      <td>-1.201114</td>\n",
        "    </tr>\n",
        "    <tr>\n",
        "      <th>2013-11-02</th>\n",
        "      <td> 0.103770</td>\n",
        "      <td>-2.050979</td>\n",
        "      <td>-0.056996</td>\n",
        "      <td> 1.634808</td>\n",
        "    </tr>\n",
        "    <tr>\n",
        "      <th>2013-11-03</th>\n",
        "      <td>-0.131716</td>\n",
        "      <td>-0.722073</td>\n",
        "      <td> 0.071120</td>\n",
        "      <td> 0.976394</td>\n",
        "    </tr>\n",
        "    <tr>\n",
        "      <th>2013-11-04</th>\n",
        "      <td> 0.385670</td>\n",
        "      <td> 0.165805</td>\n",
        "      <td> 0.123332</td>\n",
        "      <td>-1.059220</td>\n",
        "    </tr>\n",
        "    <tr>\n",
        "      <th>2013-11-05</th>\n",
        "      <td> 0.749069</td>\n",
        "      <td> 1.007592</td>\n",
        "      <td>-0.947771</td>\n",
        "      <td>-0.548827</td>\n",
        "    </tr>\n",
        "  </tbody>\n",
        "</table>\n",
        "</div>"
       ],
       "metadata": {},
       "output_type": "pyout",
       "prompt_number": 8,
       "text": [
        "                   A         B         C         D\n",
        "2013-11-01 -1.684730 -1.614115  0.080239 -1.201114\n",
        "2013-11-02  0.103770 -2.050979 -0.056996  1.634808\n",
        "2013-11-03 -0.131716 -0.722073  0.071120  0.976394\n",
        "2013-11-04  0.385670  0.165805  0.123332 -1.059220\n",
        "2013-11-05  0.749069  1.007592 -0.947771 -0.548827"
       ]
      }
     ],
     "prompt_number": 8
    },
    {
     "cell_type": "code",
     "collapsed": false,
     "input": [
      "df[:5].T"
     ],
     "language": "python",
     "metadata": {},
     "outputs": [
      {
       "html": [
        "<div style=\"max-height:1000px;max-width:1500px;overflow:auto;\">\n",
        "<table border=\"1\" class=\"dataframe\">\n",
        "  <thead>\n",
        "    <tr style=\"text-align: right;\">\n",
        "      <th></th>\n",
        "      <th>2013-11-01 00:00:00</th>\n",
        "      <th>2013-11-02 00:00:00</th>\n",
        "      <th>2013-11-03 00:00:00</th>\n",
        "      <th>2013-11-04 00:00:00</th>\n",
        "      <th>2013-11-05 00:00:00</th>\n",
        "    </tr>\n",
        "  </thead>\n",
        "  <tbody>\n",
        "    <tr>\n",
        "      <th>A</th>\n",
        "      <td>-1.684730</td>\n",
        "      <td> 0.103770</td>\n",
        "      <td>-0.131716</td>\n",
        "      <td> 0.385670</td>\n",
        "      <td> 0.749069</td>\n",
        "    </tr>\n",
        "    <tr>\n",
        "      <th>B</th>\n",
        "      <td>-1.614115</td>\n",
        "      <td>-2.050979</td>\n",
        "      <td>-0.722073</td>\n",
        "      <td> 0.165805</td>\n",
        "      <td> 1.007592</td>\n",
        "    </tr>\n",
        "    <tr>\n",
        "      <th>C</th>\n",
        "      <td> 0.080239</td>\n",
        "      <td>-0.056996</td>\n",
        "      <td> 0.071120</td>\n",
        "      <td> 0.123332</td>\n",
        "      <td>-0.947771</td>\n",
        "    </tr>\n",
        "    <tr>\n",
        "      <th>D</th>\n",
        "      <td>-1.201114</td>\n",
        "      <td> 1.634808</td>\n",
        "      <td> 0.976394</td>\n",
        "      <td>-1.059220</td>\n",
        "      <td>-0.548827</td>\n",
        "    </tr>\n",
        "  </tbody>\n",
        "</table>\n",
        "</div>"
       ],
       "metadata": {},
       "output_type": "pyout",
       "prompt_number": 9,
       "text": [
        "   2013-11-01  2013-11-02  2013-11-03  2013-11-04  2013-11-05\n",
        "A   -1.684730    0.103770   -0.131716    0.385670    0.749069\n",
        "B   -1.614115   -2.050979   -0.722073    0.165805    1.007592\n",
        "C    0.080239   -0.056996    0.071120    0.123332   -0.947771\n",
        "D   -1.201114    1.634808    0.976394   -1.059220   -0.548827"
       ]
      }
     ],
     "prompt_number": 9
    },
    {
     "cell_type": "heading",
     "level": 4,
     "metadata": {},
     "source": [
      "5.2.13DataFrame Interoperability with NumPy functions"
     ]
    },
    {
     "cell_type": "code",
     "collapsed": false,
     "input": [
      "np.exp(df)"
     ],
     "language": "python",
     "metadata": {},
     "outputs": [
      {
       "html": [
        "<div style=\"max-height:1000px;max-width:1500px;overflow:auto;\">\n",
        "<table border=\"1\" class=\"dataframe\">\n",
        "  <thead>\n",
        "    <tr style=\"text-align: right;\">\n",
        "      <th></th>\n",
        "      <th>A</th>\n",
        "      <th>B</th>\n",
        "      <th>C</th>\n",
        "      <th>D</th>\n",
        "    </tr>\n",
        "  </thead>\n",
        "  <tbody>\n",
        "    <tr>\n",
        "      <th>2013-11-01</th>\n",
        "      <td> 0.185494</td>\n",
        "      <td> 0.199067</td>\n",
        "      <td> 1.083546</td>\n",
        "      <td> 0.300859</td>\n",
        "    </tr>\n",
        "    <tr>\n",
        "      <th>2013-11-02</th>\n",
        "      <td> 1.109346</td>\n",
        "      <td> 0.128609</td>\n",
        "      <td> 0.944598</td>\n",
        "      <td> 5.128475</td>\n",
        "    </tr>\n",
        "    <tr>\n",
        "      <th>2013-11-03</th>\n",
        "      <td> 0.876590</td>\n",
        "      <td> 0.485744</td>\n",
        "      <td> 1.073710</td>\n",
        "      <td> 2.654867</td>\n",
        "    </tr>\n",
        "    <tr>\n",
        "      <th>2013-11-04</th>\n",
        "      <td> 1.470599</td>\n",
        "      <td> 1.180343</td>\n",
        "      <td> 1.131260</td>\n",
        "      <td> 0.346726</td>\n",
        "    </tr>\n",
        "    <tr>\n",
        "      <th>2013-11-05</th>\n",
        "      <td> 2.115030</td>\n",
        "      <td> 2.738997</td>\n",
        "      <td> 0.387604</td>\n",
        "      <td> 0.577627</td>\n",
        "    </tr>\n",
        "    <tr>\n",
        "      <th>2013-11-06</th>\n",
        "      <td> 1.136345</td>\n",
        "      <td> 0.373714</td>\n",
        "      <td> 2.551258</td>\n",
        "      <td> 0.330841</td>\n",
        "    </tr>\n",
        "    <tr>\n",
        "      <th>2013-11-07</th>\n",
        "      <td> 0.482625</td>\n",
        "      <td> 2.157568</td>\n",
        "      <td> 0.367482</td>\n",
        "      <td> 3.228897</td>\n",
        "    </tr>\n",
        "    <tr>\n",
        "      <th>2013-11-08</th>\n",
        "      <td> 0.303795</td>\n",
        "      <td> 1.532153</td>\n",
        "      <td> 0.665545</td>\n",
        "      <td> 0.472978</td>\n",
        "    </tr>\n",
        "    <tr>\n",
        "      <th>2013-11-09</th>\n",
        "      <td> 0.689003</td>\n",
        "      <td> 0.816718</td>\n",
        "      <td> 2.702874</td>\n",
        "      <td> 0.908967</td>\n",
        "    </tr>\n",
        "    <tr>\n",
        "      <th>2013-11-10</th>\n",
        "      <td> 0.297698</td>\n",
        "      <td> 0.585786</td>\n",
        "      <td> 0.336216</td>\n",
        "      <td> 0.125678</td>\n",
        "    </tr>\n",
        "  </tbody>\n",
        "</table>\n",
        "</div>"
       ],
       "metadata": {},
       "output_type": "pyout",
       "prompt_number": 10,
       "text": [
        "                   A         B         C         D\n",
        "2013-11-01  0.185494  0.199067  1.083546  0.300859\n",
        "2013-11-02  1.109346  0.128609  0.944598  5.128475\n",
        "2013-11-03  0.876590  0.485744  1.073710  2.654867\n",
        "2013-11-04  1.470599  1.180343  1.131260  0.346726\n",
        "2013-11-05  2.115030  2.738997  0.387604  0.577627\n",
        "2013-11-06  1.136345  0.373714  2.551258  0.330841\n",
        "2013-11-07  0.482625  2.157568  0.367482  3.228897\n",
        "2013-11-08  0.303795  1.532153  0.665545  0.472978\n",
        "2013-11-09  0.689003  0.816718  2.702874  0.908967\n",
        "2013-11-10  0.297698  0.585786  0.336216  0.125678"
       ]
      }
     ],
     "prompt_number": 10
    },
    {
     "cell_type": "code",
     "collapsed": false,
     "input": [
      "np.asarray(df)"
     ],
     "language": "python",
     "metadata": {},
     "outputs": [
      {
       "metadata": {},
       "output_type": "pyout",
       "prompt_number": 11,
       "text": [
        "array([[-1.68473046, -1.61411495,  0.08023923, -1.20111378],\n",
        "       [ 0.10377037, -2.05097901, -0.05699605,  1.63480831],\n",
        "       [-0.13171584, -0.72207297,  0.07112033,  0.97639441],\n",
        "       [ 0.38567009,  0.16580471,  0.12333169, -1.05922022],\n",
        "       [ 0.74906882,  1.00759175, -0.94777076, -0.54882724],\n",
        "       [ 0.12781657, -0.98426416,  0.93658673, -1.10611851],\n",
        "       [-0.72851447,  0.76898165, -1.0010821 ,  1.1721406 ],\n",
        "       [-1.1914016 ,  0.42667381, -0.40714827, -0.74870594],\n",
        "       [-0.37250927, -0.20246151,  0.99431559, -0.09544651],\n",
        "       [-1.21167503, -0.53480017, -1.09000165, -2.07402908]])"
       ]
      }
     ],
     "prompt_number": 11
    },
    {
     "cell_type": "code",
     "collapsed": false,
     "input": [
      "df.T.dot(df)"
     ],
     "language": "python",
     "metadata": {},
     "outputs": [
      {
       "html": [
        "<div style=\"max-height:1000px;max-width:1500px;overflow:auto;\">\n",
        "<table border=\"1\" class=\"dataframe\">\n",
        "  <thead>\n",
        "    <tr style=\"text-align: right;\">\n",
        "      <th></th>\n",
        "      <th>A</th>\n",
        "      <th>B</th>\n",
        "      <th>C</th>\n",
        "      <th>D</th>\n",
        "    </tr>\n",
        "  </thead>\n",
        "  <tbody>\n",
        "    <tr>\n",
        "      <th>A</th>\n",
        "      <td> 7.149707</td>\n",
        "      <td>  2.949391</td>\n",
        "      <td> 1.471583</td>\n",
        "      <td>  3.690284</td>\n",
        "    </tr>\n",
        "    <tr>\n",
        "      <th>B</th>\n",
        "      <td> 2.949391</td>\n",
        "      <td> 10.445165</td>\n",
        "      <td>-2.482248</td>\n",
        "      <td> -0.048738</td>\n",
        "    </tr>\n",
        "    <tr>\n",
        "      <th>C</th>\n",
        "      <td> 1.471583</td>\n",
        "      <td> -2.482248</td>\n",
        "      <td> 5.150122</td>\n",
        "      <td>  0.530655</td>\n",
        "    </tr>\n",
        "    <tr>\n",
        "      <th>D</th>\n",
        "      <td> 3.690284</td>\n",
        "      <td> -0.048738</td>\n",
        "      <td> 0.530655</td>\n",
        "      <td> 13.960456</td>\n",
        "    </tr>\n",
        "  </tbody>\n",
        "</table>\n",
        "</div>"
       ],
       "metadata": {},
       "output_type": "pyout",
       "prompt_number": 13,
       "text": [
        "          A          B         C          D\n",
        "A  7.149707   2.949391  1.471583   3.690284\n",
        "B  2.949391  10.445165 -2.482248  -0.048738\n",
        "C  1.471583  -2.482248  5.150122   0.530655\n",
        "D  3.690284  -0.048738  0.530655  13.960456"
       ]
      }
     ],
     "prompt_number": 13
    },
    {
     "cell_type": "code",
     "collapsed": false,
     "input": [
      "s1 = Series(np.arange(5,10))\n",
      "s1.dot(s1)"
     ],
     "language": "python",
     "metadata": {},
     "outputs": [
      {
       "metadata": {},
       "output_type": "pyout",
       "prompt_number": 14,
       "text": [
        "255"
       ]
      }
     ],
     "prompt_number": 14
    },
    {
     "cell_type": "heading",
     "level": 4,
     "metadata": {},
     "source": [
      "5.2.14 Consol Display"
     ]
    },
    {
     "cell_type": "code",
     "collapsed": false,
     "input": [
      "#baseball = read_csv('a_large_data_set.csv')\n",
      "#print baseball (only have summary)\n",
      "#print baseball.ix[-20:, :12].to_string() represant as a tabulate formate"
     ],
     "language": "python",
     "metadata": {},
     "outputs": [],
     "prompt_number": 15
    },
    {
     "cell_type": "code",
     "collapsed": false,
     "input": [
      "DataFrame(randn(3,12))"
     ],
     "language": "python",
     "metadata": {},
     "outputs": [
      {
       "html": [
        "<pre>\n",
        "&ltclass 'pandas.core.frame.DataFrame'&gt\n",
        "Int64Index: 3 entries, 0 to 2\n",
        "Data columns (total 12 columns):\n",
        "0     3  non-null values\n",
        "1     3  non-null values\n",
        "2     3  non-null values\n",
        "3     3  non-null values\n",
        "4     3  non-null values\n",
        "5     3  non-null values\n",
        "6     3  non-null values\n",
        "7     3  non-null values\n",
        "8     3  non-null values\n",
        "9     3  non-null values\n",
        "10    3  non-null values\n",
        "11    3  non-null values\n",
        "dtypes: float64(12)\n",
        "</pre>"
       ],
       "metadata": {},
       "output_type": "pyout",
       "prompt_number": 21,
       "text": [
        "<class 'pandas.core.frame.DataFrame'>\n",
        "Int64Index: 3 entries, 0 to 2\n",
        "Data columns (total 12 columns):\n",
        "0     3  non-null values\n",
        "1     3  non-null values\n",
        "2     3  non-null values\n",
        "3     3  non-null values\n",
        "4     3  non-null values\n",
        "5     3  non-null values\n",
        "6     3  non-null values\n",
        "7     3  non-null values\n",
        "8     3  non-null values\n",
        "9     3  non-null values\n",
        "10    3  non-null values\n",
        "11    3  non-null values\n",
        "dtypes: float64(12)"
       ]
      }
     ],
     "prompt_number": 21
    },
    {
     "cell_type": "code",
     "collapsed": false,
     "input": [
      "df.C"
     ],
     "language": "python",
     "metadata": {},
     "outputs": [
      {
       "metadata": {},
       "output_type": "pyout",
       "prompt_number": 24,
       "text": [
        "2013-11-01    0.080239\n",
        "2013-11-02   -0.056996\n",
        "2013-11-03    0.071120\n",
        "2013-11-04    0.123332\n",
        "2013-11-05   -0.947771\n",
        "2013-11-06    0.936587\n",
        "2013-11-07   -1.001082\n",
        "2013-11-08   -0.407148\n",
        "2013-11-09    0.994316\n",
        "2013-11-10   -1.090002\n",
        "Freq: D, Name: C, dtype: float64"
       ]
      }
     ],
     "prompt_number": 24
    },
    {
     "cell_type": "heading",
     "level": 3,
     "metadata": {},
     "source": [
      "5.3 Panel : 3D Data"
     ]
    },
    {
     "cell_type": "heading",
     "level": 2,
     "metadata": {},
     "source": [
      "Chapter Six: Essential Basic Functionality"
     ]
    },
    {
     "cell_type": "heading",
     "level": 3,
     "metadata": {},
     "source": [
      "6.1 Head and Tail"
     ]
    },
    {
     "cell_type": "code",
     "collapsed": false,
     "input": [
      "long_series = Series(randn(1000))\n",
      "long_series.head()\n",
      "long_series.tail(3)"
     ],
     "language": "python",
     "metadata": {},
     "outputs": [
      {
       "metadata": {},
       "output_type": "pyout",
       "prompt_number": 30,
       "text": [
        "997    1.102883\n",
        "998   -0.304486\n",
        "999    0.998342\n",
        "dtype: float64"
       ]
      }
     ],
     "prompt_number": 30
    },
    {
     "cell_type": "code",
     "collapsed": false,
     "input": [
      "long_series.values;"
     ],
     "language": "python",
     "metadata": {},
     "outputs": [
      {
       "ename": "NameError",
       "evalue": "name 'long_series' is not defined",
       "output_type": "pyerr",
       "traceback": [
        "\u001b[1;31m---------------------------------------------------------------------------\u001b[0m\n\u001b[1;31mNameError\u001b[0m                                 Traceback (most recent call last)",
        "\u001b[1;32m<ipython-input-1-1fab067e9e82>\u001b[0m in \u001b[0;36m<module>\u001b[1;34m()\u001b[0m\n\u001b[1;32m----> 1\u001b[1;33m \u001b[0mlong_series\u001b[0m\u001b[1;33m.\u001b[0m\u001b[0mvalues\u001b[0m\u001b[1;33m;\u001b[0m\u001b[1;33m\u001b[0m\u001b[0m\n\u001b[0m",
        "\u001b[1;31mNameError\u001b[0m: name 'long_series' is not defined"
       ]
      }
     ],
     "prompt_number": 1
    },
    {
     "cell_type": "heading",
     "level": 3,
     "metadata": {},
     "source": [
      "6.4 Descriptive Statistics"
     ]
    },
    {
     "cell_type": "code",
     "collapsed": false,
     "input": [
      "df"
     ],
     "language": "python",
     "metadata": {},
     "outputs": [
      {
       "html": [
        "<div style=\"max-height:1000px;max-width:1500px;overflow:auto;\">\n",
        "<table border=\"1\" class=\"dataframe\">\n",
        "  <thead>\n",
        "    <tr style=\"text-align: right;\">\n",
        "      <th></th>\n",
        "      <th>A</th>\n",
        "      <th>B</th>\n",
        "      <th>C</th>\n",
        "      <th>D</th>\n",
        "    </tr>\n",
        "  </thead>\n",
        "  <tbody>\n",
        "    <tr>\n",
        "      <th>2013-11-01</th>\n",
        "      <td>-1.684730</td>\n",
        "      <td>-1.614115</td>\n",
        "      <td> 0.080239</td>\n",
        "      <td>-1.201114</td>\n",
        "    </tr>\n",
        "    <tr>\n",
        "      <th>2013-11-02</th>\n",
        "      <td> 0.103770</td>\n",
        "      <td>-2.050979</td>\n",
        "      <td>-0.056996</td>\n",
        "      <td> 1.634808</td>\n",
        "    </tr>\n",
        "    <tr>\n",
        "      <th>2013-11-03</th>\n",
        "      <td>-0.131716</td>\n",
        "      <td>-0.722073</td>\n",
        "      <td> 0.071120</td>\n",
        "      <td> 0.976394</td>\n",
        "    </tr>\n",
        "    <tr>\n",
        "      <th>2013-11-04</th>\n",
        "      <td> 0.385670</td>\n",
        "      <td> 0.165805</td>\n",
        "      <td> 0.123332</td>\n",
        "      <td>-1.059220</td>\n",
        "    </tr>\n",
        "    <tr>\n",
        "      <th>2013-11-05</th>\n",
        "      <td> 0.749069</td>\n",
        "      <td> 1.007592</td>\n",
        "      <td>-0.947771</td>\n",
        "      <td>-0.548827</td>\n",
        "    </tr>\n",
        "    <tr>\n",
        "      <th>2013-11-06</th>\n",
        "      <td> 0.127817</td>\n",
        "      <td>-0.984264</td>\n",
        "      <td> 0.936587</td>\n",
        "      <td>-1.106119</td>\n",
        "    </tr>\n",
        "    <tr>\n",
        "      <th>2013-11-07</th>\n",
        "      <td>-0.728514</td>\n",
        "      <td> 0.768982</td>\n",
        "      <td>-1.001082</td>\n",
        "      <td> 1.172141</td>\n",
        "    </tr>\n",
        "    <tr>\n",
        "      <th>2013-11-08</th>\n",
        "      <td>-1.191402</td>\n",
        "      <td> 0.426674</td>\n",
        "      <td>-0.407148</td>\n",
        "      <td>-0.748706</td>\n",
        "    </tr>\n",
        "    <tr>\n",
        "      <th>2013-11-09</th>\n",
        "      <td>-0.372509</td>\n",
        "      <td>-0.202462</td>\n",
        "      <td> 0.994316</td>\n",
        "      <td>-0.095447</td>\n",
        "    </tr>\n",
        "    <tr>\n",
        "      <th>2013-11-10</th>\n",
        "      <td>-1.211675</td>\n",
        "      <td>-0.534800</td>\n",
        "      <td>-1.090002</td>\n",
        "      <td>-2.074029</td>\n",
        "    </tr>\n",
        "  </tbody>\n",
        "</table>\n",
        "</div>"
       ],
       "metadata": {},
       "output_type": "pyout",
       "prompt_number": 33,
       "text": [
        "                   A         B         C         D\n",
        "2013-11-01 -1.684730 -1.614115  0.080239 -1.201114\n",
        "2013-11-02  0.103770 -2.050979 -0.056996  1.634808\n",
        "2013-11-03 -0.131716 -0.722073  0.071120  0.976394\n",
        "2013-11-04  0.385670  0.165805  0.123332 -1.059220\n",
        "2013-11-05  0.749069  1.007592 -0.947771 -0.548827\n",
        "2013-11-06  0.127817 -0.984264  0.936587 -1.106119\n",
        "2013-11-07 -0.728514  0.768982 -1.001082  1.172141\n",
        "2013-11-08 -1.191402  0.426674 -0.407148 -0.748706\n",
        "2013-11-09 -0.372509 -0.202462  0.994316 -0.095447\n",
        "2013-11-10 -1.211675 -0.534800 -1.090002 -2.074029"
       ]
      }
     ],
     "prompt_number": 33
    },
    {
     "cell_type": "code",
     "collapsed": false,
     "input": [
      "df.mean(0)"
     ],
     "language": "python",
     "metadata": {},
     "outputs": [
      {
       "metadata": {},
       "output_type": "pyout",
       "prompt_number": 37,
       "text": [
        "A   -0.395422\n",
        "B   -0.373964\n",
        "C   -0.129741\n",
        "D   -0.305012\n",
        "dtype: float64"
       ]
      }
     ],
     "prompt_number": 37
    },
    {
     "cell_type": "code",
     "collapsed": false,
     "input": [
      "df.mean(1)"
     ],
     "language": "python",
     "metadata": {},
     "outputs": [
      {
       "metadata": {},
       "output_type": "pyout",
       "prompt_number": 38,
       "text": [
        "2013-11-01   -1.104930\n",
        "2013-11-02   -0.092349\n",
        "2013-11-03    0.048431\n",
        "2013-11-04   -0.096103\n",
        "2013-11-05    0.065016\n",
        "2013-11-06   -0.256495\n",
        "2013-11-07    0.052881\n",
        "2013-11-08   -0.480146\n",
        "2013-11-09    0.080975\n",
        "2013-11-10   -1.227626\n",
        "Freq: D, dtype: float64"
       ]
      }
     ],
     "prompt_number": 38
    },
    {
     "cell_type": "code",
     "collapsed": false,
     "input": [
      "df.sum(0, skipna=True)"
     ],
     "language": "python",
     "metadata": {},
     "outputs": [
      {
       "metadata": {},
       "output_type": "pyout",
       "prompt_number": 39,
       "text": [
        "A   -3.954221\n",
        "B   -3.739641\n",
        "C   -1.297405\n",
        "D   -3.050118\n",
        "dtype: float64"
       ]
      }
     ],
     "prompt_number": 39
    },
    {
     "cell_type": "code",
     "collapsed": false,
     "input": [
      "df.std()"
     ],
     "language": "python",
     "metadata": {},
     "outputs": [
      {
       "metadata": {},
       "output_type": "pyout",
       "prompt_number": 42,
       "text": [
        "A    0.787833\n",
        "B    1.002590\n",
        "C    0.743998\n",
        "D    1.203243\n",
        "dtype: float64"
       ]
      }
     ],
     "prompt_number": 42
    },
    {
     "cell_type": "code",
     "collapsed": false,
     "input": [
      "df.cumsum()"
     ],
     "language": "python",
     "metadata": {},
     "outputs": [
      {
       "html": [
        "<div style=\"max-height:1000px;max-width:1500px;overflow:auto;\">\n",
        "<table border=\"1\" class=\"dataframe\">\n",
        "  <thead>\n",
        "    <tr style=\"text-align: right;\">\n",
        "      <th></th>\n",
        "      <th>A</th>\n",
        "      <th>B</th>\n",
        "      <th>C</th>\n",
        "      <th>D</th>\n",
        "    </tr>\n",
        "  </thead>\n",
        "  <tbody>\n",
        "    <tr>\n",
        "      <th>2013-11-01</th>\n",
        "      <td>-1.684730</td>\n",
        "      <td>-1.614115</td>\n",
        "      <td> 0.080239</td>\n",
        "      <td>-1.201114</td>\n",
        "    </tr>\n",
        "    <tr>\n",
        "      <th>2013-11-02</th>\n",
        "      <td>-1.580960</td>\n",
        "      <td>-3.665094</td>\n",
        "      <td> 0.023243</td>\n",
        "      <td> 0.433695</td>\n",
        "    </tr>\n",
        "    <tr>\n",
        "      <th>2013-11-03</th>\n",
        "      <td>-1.712676</td>\n",
        "      <td>-4.387167</td>\n",
        "      <td> 0.094364</td>\n",
        "      <td> 1.410089</td>\n",
        "    </tr>\n",
        "    <tr>\n",
        "      <th>2013-11-04</th>\n",
        "      <td>-1.327006</td>\n",
        "      <td>-4.221362</td>\n",
        "      <td> 0.217695</td>\n",
        "      <td> 0.350869</td>\n",
        "    </tr>\n",
        "    <tr>\n",
        "      <th>2013-11-05</th>\n",
        "      <td>-0.577937</td>\n",
        "      <td>-3.213770</td>\n",
        "      <td>-0.730076</td>\n",
        "      <td>-0.197959</td>\n",
        "    </tr>\n",
        "    <tr>\n",
        "      <th>2013-11-06</th>\n",
        "      <td>-0.450120</td>\n",
        "      <td>-4.198035</td>\n",
        "      <td> 0.206511</td>\n",
        "      <td>-1.304077</td>\n",
        "    </tr>\n",
        "    <tr>\n",
        "      <th>2013-11-07</th>\n",
        "      <td>-1.178635</td>\n",
        "      <td>-3.429053</td>\n",
        "      <td>-0.794571</td>\n",
        "      <td>-0.131936</td>\n",
        "    </tr>\n",
        "    <tr>\n",
        "      <th>2013-11-08</th>\n",
        "      <td>-2.370037</td>\n",
        "      <td>-3.002379</td>\n",
        "      <td>-1.201719</td>\n",
        "      <td>-0.880642</td>\n",
        "    </tr>\n",
        "    <tr>\n",
        "      <th>2013-11-09</th>\n",
        "      <td>-2.742546</td>\n",
        "      <td>-3.204841</td>\n",
        "      <td>-0.207404</td>\n",
        "      <td>-0.976089</td>\n",
        "    </tr>\n",
        "    <tr>\n",
        "      <th>2013-11-10</th>\n",
        "      <td>-3.954221</td>\n",
        "      <td>-3.739641</td>\n",
        "      <td>-1.297405</td>\n",
        "      <td>-3.050118</td>\n",
        "    </tr>\n",
        "  </tbody>\n",
        "</table>\n",
        "</div>"
       ],
       "metadata": {},
       "output_type": "pyout",
       "prompt_number": 46,
       "text": [
        "                   A         B         C         D\n",
        "2013-11-01 -1.684730 -1.614115  0.080239 -1.201114\n",
        "2013-11-02 -1.580960 -3.665094  0.023243  0.433695\n",
        "2013-11-03 -1.712676 -4.387167  0.094364  1.410089\n",
        "2013-11-04 -1.327006 -4.221362  0.217695  0.350869\n",
        "2013-11-05 -0.577937 -3.213770 -0.730076 -0.197959\n",
        "2013-11-06 -0.450120 -4.198035  0.206511 -1.304077\n",
        "2013-11-07 -1.178635 -3.429053 -0.794571 -0.131936\n",
        "2013-11-08 -2.370037 -3.002379 -1.201719 -0.880642\n",
        "2013-11-09 -2.742546 -3.204841 -0.207404 -0.976089\n",
        "2013-11-10 -3.954221 -3.739641 -1.297405 -3.050118"
       ]
      }
     ],
     "prompt_number": 46
    },
    {
     "cell_type": "markdown",
     "metadata": {},
     "source": [
      "* Other function:\n",
      "    * count\n",
      "    * sum\n",
      "    * mean\n",
      "    * median\n",
      "    * min\n",
      "    * max\n",
      "    * abs\n",
      "    * prod\n",
      "    * std\n",
      "    * var\n",
      "    * skew\n",
      "    * kurt\n",
      "    * quantile\n",
      "    * cumsum\n",
      "    * cumprod\n",
      "    * cummax\n",
      "    * cummin"
     ]
    },
    {
     "cell_type": "code",
     "collapsed": false,
     "input": [
      "long_series.describe()"
     ],
     "language": "python",
     "metadata": {},
     "outputs": [
      {
       "metadata": {},
       "output_type": "pyout",
       "prompt_number": 48,
       "text": [
        "count    1000.000000\n",
        "mean        0.012889\n",
        "std         1.017901\n",
        "min        -2.997970\n",
        "25%        -0.633205\n",
        "50%         0.048765\n",
        "75%         0.693814\n",
        "max         3.278543\n",
        "dtype: float64"
       ]
      }
     ],
     "prompt_number": 48
    },
    {
     "cell_type": "code",
     "collapsed": false,
     "input": [
      "long_series.idxmax()"
     ],
     "language": "python",
     "metadata": {},
     "outputs": [
      {
       "metadata": {},
       "output_type": "pyout",
       "prompt_number": 49,
       "text": [
        "992"
       ]
      }
     ],
     "prompt_number": 49
    },
    {
     "cell_type": "code",
     "collapsed": false,
     "input": [
      "long_series.idxmin()"
     ],
     "language": "python",
     "metadata": {},
     "outputs": [
      {
       "metadata": {},
       "output_type": "pyout",
       "prompt_number": 50,
       "text": [
        "229"
       ]
      }
     ],
     "prompt_number": 50
    },
    {
     "cell_type": "code",
     "collapsed": false,
     "input": [
      "long_series.ix[229]"
     ],
     "language": "python",
     "metadata": {},
     "outputs": [
      {
       "metadata": {},
       "output_type": "pyout",
       "prompt_number": 52,
       "text": [
        "-2.9979700475667403"
       ]
      }
     ],
     "prompt_number": 52
    },
    {
     "cell_type": "code",
     "collapsed": false,
     "input": [
      "df.idxmax(axis=1)"
     ],
     "language": "python",
     "metadata": {},
     "outputs": [
      {
       "metadata": {},
       "output_type": "pyout",
       "prompt_number": 56,
       "text": [
        "2013-11-01    C\n",
        "2013-11-02    D\n",
        "2013-11-03    D\n",
        "2013-11-04    A\n",
        "2013-11-05    B\n",
        "2013-11-06    C\n",
        "2013-11-07    D\n",
        "2013-11-08    B\n",
        "2013-11-09    C\n",
        "2013-11-10    B\n",
        "Freq: D, dtype: object"
       ]
      }
     ],
     "prompt_number": 56
    },
    {
     "cell_type": "code",
     "collapsed": false,
     "input": [
      "df.apply(np.mean)"
     ],
     "language": "python",
     "metadata": {},
     "outputs": [
      {
       "metadata": {},
       "output_type": "pyout",
       "prompt_number": 57,
       "text": [
        "A   -0.395422\n",
        "B   -0.373964\n",
        "C   -0.129741\n",
        "D   -0.305012\n",
        "dtype: float64"
       ]
      }
     ],
     "prompt_number": 57
    },
    {
     "cell_type": "heading",
     "level": 3,
     "metadata": {},
     "source": [
      "6.6 Reindexing and altering lables"
     ]
    },
    {
     "cell_type": "heading",
     "level": 2,
     "metadata": {},
     "source": [
      "Chapter 7 Indexing and Selecting"
     ]
    },
    {
     "cell_type": "heading",
     "level": 1,
     "metadata": {},
     "source": [
      "7.1 Basics"
     ]
    },
    {
     "cell_type": "code",
     "collapsed": false,
     "input": [
      "df = DataFrame(randn(8,4), index=range(1, 9), columns=range(1,9,2))"
     ],
     "language": "python",
     "metadata": {},
     "outputs": [],
     "prompt_number": 65
    },
    {
     "cell_type": "code",
     "collapsed": false,
     "input": [
      "df.ix[1]"
     ],
     "language": "python",
     "metadata": {},
     "outputs": [
      {
       "metadata": {},
       "output_type": "pyout",
       "prompt_number": 66,
       "text": [
        "1    0.718618\n",
        "3   -0.597387\n",
        "5   -1.231868\n",
        "7    1.122448\n",
        "Name: 1, dtype: float64"
       ]
      }
     ],
     "prompt_number": 66
    },
    {
     "cell_type": "code",
     "collapsed": false,
     "input": [
      "df"
     ],
     "language": "python",
     "metadata": {},
     "outputs": [
      {
       "html": [
        "<div style=\"max-height:1000px;max-width:1500px;overflow:auto;\">\n",
        "<table border=\"1\" class=\"dataframe\">\n",
        "  <thead>\n",
        "    <tr style=\"text-align: right;\">\n",
        "      <th></th>\n",
        "      <th>1</th>\n",
        "      <th>3</th>\n",
        "      <th>5</th>\n",
        "      <th>7</th>\n",
        "    </tr>\n",
        "  </thead>\n",
        "  <tbody>\n",
        "    <tr>\n",
        "      <th>1</th>\n",
        "      <td> 0.718618</td>\n",
        "      <td>-0.597387</td>\n",
        "      <td>-1.231868</td>\n",
        "      <td> 1.122448</td>\n",
        "    </tr>\n",
        "    <tr>\n",
        "      <th>2</th>\n",
        "      <td> 0.427829</td>\n",
        "      <td>-0.903850</td>\n",
        "      <td> 0.666879</td>\n",
        "      <td> 1.836270</td>\n",
        "    </tr>\n",
        "    <tr>\n",
        "      <th>3</th>\n",
        "      <td> 0.202233</td>\n",
        "      <td> 1.554029</td>\n",
        "      <td>-0.127751</td>\n",
        "      <td> 0.814677</td>\n",
        "    </tr>\n",
        "    <tr>\n",
        "      <th>4</th>\n",
        "      <td> 0.568951</td>\n",
        "      <td> 1.646502</td>\n",
        "      <td>-1.925555</td>\n",
        "      <td>-2.665528</td>\n",
        "    </tr>\n",
        "    <tr>\n",
        "      <th>5</th>\n",
        "      <td> 0.576323</td>\n",
        "      <td> 0.986997</td>\n",
        "      <td>-1.285871</td>\n",
        "      <td> 2.839785</td>\n",
        "    </tr>\n",
        "    <tr>\n",
        "      <th>6</th>\n",
        "      <td> 0.321969</td>\n",
        "      <td> 0.081332</td>\n",
        "      <td> 0.813703</td>\n",
        "      <td> 0.785385</td>\n",
        "    </tr>\n",
        "    <tr>\n",
        "      <th>7</th>\n",
        "      <td> 0.487467</td>\n",
        "      <td> 1.266642</td>\n",
        "      <td> 0.171523</td>\n",
        "      <td> 0.995347</td>\n",
        "    </tr>\n",
        "    <tr>\n",
        "      <th>8</th>\n",
        "      <td>-0.151233</td>\n",
        "      <td>-0.779178</td>\n",
        "      <td>-0.465204</td>\n",
        "      <td>-0.505634</td>\n",
        "    </tr>\n",
        "  </tbody>\n",
        "</table>\n",
        "</div>"
       ],
       "metadata": {},
       "output_type": "pyout",
       "prompt_number": 67,
       "text": [
        "          1         3         5         7\n",
        "1  0.718618 -0.597387 -1.231868  1.122448\n",
        "2  0.427829 -0.903850  0.666879  1.836270\n",
        "3  0.202233  1.554029 -0.127751  0.814677\n",
        "4  0.568951  1.646502 -1.925555 -2.665528\n",
        "5  0.576323  0.986997 -1.285871  2.839785\n",
        "6  0.321969  0.081332  0.813703  0.785385\n",
        "7  0.487467  1.266642  0.171523  0.995347\n",
        "8 -0.151233 -0.779178 -0.465204 -0.505634"
       ]
      }
     ],
     "prompt_number": 67
    },
    {
     "cell_type": "code",
     "collapsed": false,
     "input": [
      "df.index=range(8)"
     ],
     "language": "python",
     "metadata": {},
     "outputs": [],
     "prompt_number": 68
    },
    {
     "cell_type": "code",
     "collapsed": false,
     "input": [
      "df"
     ],
     "language": "python",
     "metadata": {},
     "outputs": [
      {
       "html": [
        "<div style=\"max-height:1000px;max-width:1500px;overflow:auto;\">\n",
        "<table border=\"1\" class=\"dataframe\">\n",
        "  <thead>\n",
        "    <tr style=\"text-align: right;\">\n",
        "      <th></th>\n",
        "      <th>1</th>\n",
        "      <th>3</th>\n",
        "      <th>5</th>\n",
        "      <th>7</th>\n",
        "    </tr>\n",
        "  </thead>\n",
        "  <tbody>\n",
        "    <tr>\n",
        "      <th>0</th>\n",
        "      <td> 0.718618</td>\n",
        "      <td>-0.597387</td>\n",
        "      <td>-1.231868</td>\n",
        "      <td> 1.122448</td>\n",
        "    </tr>\n",
        "    <tr>\n",
        "      <th>1</th>\n",
        "      <td> 0.427829</td>\n",
        "      <td>-0.903850</td>\n",
        "      <td> 0.666879</td>\n",
        "      <td> 1.836270</td>\n",
        "    </tr>\n",
        "    <tr>\n",
        "      <th>2</th>\n",
        "      <td> 0.202233</td>\n",
        "      <td> 1.554029</td>\n",
        "      <td>-0.127751</td>\n",
        "      <td> 0.814677</td>\n",
        "    </tr>\n",
        "    <tr>\n",
        "      <th>3</th>\n",
        "      <td> 0.568951</td>\n",
        "      <td> 1.646502</td>\n",
        "      <td>-1.925555</td>\n",
        "      <td>-2.665528</td>\n",
        "    </tr>\n",
        "    <tr>\n",
        "      <th>4</th>\n",
        "      <td> 0.576323</td>\n",
        "      <td> 0.986997</td>\n",
        "      <td>-1.285871</td>\n",
        "      <td> 2.839785</td>\n",
        "    </tr>\n",
        "    <tr>\n",
        "      <th>5</th>\n",
        "      <td> 0.321969</td>\n",
        "      <td> 0.081332</td>\n",
        "      <td> 0.813703</td>\n",
        "      <td> 0.785385</td>\n",
        "    </tr>\n",
        "    <tr>\n",
        "      <th>6</th>\n",
        "      <td> 0.487467</td>\n",
        "      <td> 1.266642</td>\n",
        "      <td> 0.171523</td>\n",
        "      <td> 0.995347</td>\n",
        "    </tr>\n",
        "    <tr>\n",
        "      <th>7</th>\n",
        "      <td>-0.151233</td>\n",
        "      <td>-0.779178</td>\n",
        "      <td>-0.465204</td>\n",
        "      <td>-0.505634</td>\n",
        "    </tr>\n",
        "  </tbody>\n",
        "</table>\n",
        "</div>"
       ],
       "metadata": {},
       "output_type": "pyout",
       "prompt_number": 69,
       "text": [
        "          1         3         5         7\n",
        "0  0.718618 -0.597387 -1.231868  1.122448\n",
        "1  0.427829 -0.903850  0.666879  1.836270\n",
        "2  0.202233  1.554029 -0.127751  0.814677\n",
        "3  0.568951  1.646502 -1.925555 -2.665528\n",
        "4  0.576323  0.986997 -1.285871  2.839785\n",
        "5  0.321969  0.081332  0.813703  0.785385\n",
        "6  0.487467  1.266642  0.171523  0.995347\n",
        "7 -0.151233 -0.779178 -0.465204 -0.505634"
       ]
      }
     ],
     "prompt_number": 69
    },
    {
     "cell_type": "code",
     "collapsed": false,
     "input": [],
     "language": "python",
     "metadata": {},
     "outputs": []
    }
   ],
   "metadata": {}
  }
 ]
}