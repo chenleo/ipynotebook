{
 "metadata": {
  "name": "Numpy1"
 },
 "nbformat": 3,
 "nbformat_minor": 0,
 "worksheets": [
  {
   "cells": [
    {
     "cell_type": "markdown",
     "metadata": {},
     "source": [
      "Practice for Numpy according to reference 1.7.0\n",
      "\n",
      "Chapter 1 Array Objects"
     ]
    },
    {
     "cell_type": "code",
     "collapsed": false,
     "input": [],
     "language": "python",
     "metadata": {},
     "outputs": []
    }
   ],
   "metadata": {}
  }
 ]
}