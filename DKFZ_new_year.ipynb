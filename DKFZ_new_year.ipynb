{
 "metadata": {
  "name": ""
 },
 "nbformat": 3,
 "nbformat_minor": 0,
 "worksheets": [
  {
   "cells": [
    {
     "cell_type": "markdown",
     "metadata": {
      "slideshow": {
       "slide_type": "slide"
      }
     },
     "source": [
      "# <center>DKFZ\u534e\u4eba\u4e3b\u9898\u65b0\u5e74\u4f1a\u51c6\u5907</center>\n",
      "<center>Interactive Demo</center>"
     ]
    },
    {
     "cell_type": "code",
     "collapsed": false,
     "input": [
      "#\u521d\u59cb\u5316\n",
      "from IPython.display import YouTubeVideo"
     ],
     "language": "python",
     "metadata": {},
     "outputs": [],
     "prompt_number": 1
    },
    {
     "cell_type": "markdown",
     "metadata": {},
     "source": [
      "# \u58f9\uff1a \u5668\u4e50\u90e8\u5206"
     ]
    },
    {
     "cell_type": "code",
     "collapsed": false,
     "input": [
      "#YouTubeVideo('mgimzBcSHHU',start=30) #Fishermans night song \u6e14\u821f\u5531\u665a\n",
      "#YouTubeVideo('L8Fzl0O5qvw') #Why are the Flowers Fiery red \u82b1\u513f\u4e3a\u4ec0\u4e48\u8fd9\u6837\u7ea2 \n",
      "YouTubeVideo('FMlwvz-4XPg') #\u6c34\u8349\u821e"
     ],
     "language": "python",
     "metadata": {},
     "outputs": [
      {
       "html": [
        "\n",
        "        <iframe\n",
        "            width=\"400\"\n",
        "            height=300\"\n",
        "            src=\"http://www.youtube.com/embed/L8Fzl0O5qvw\"\n",
        "            frameborder=\"0\"\n",
        "            allowfullscreen\n",
        "        ></iframe>\n",
        "        "
       ],
       "metadata": {},
       "output_type": "pyout",
       "prompt_number": 6,
       "text": [
        "<IPython.lib.display.YouTubeVideo at 0x2c4de50>"
       ]
      }
     ],
     "prompt_number": 6
    },
    {
     "cell_type": "markdown",
     "metadata": {},
     "source": [
      "# \u8d30\uff1a\u5408\u5531\u90e8\u5206"
     ]
    },
    {
     "cell_type": "code",
     "collapsed": false,
     "input": [],
     "language": "python",
     "metadata": {},
     "outputs": [],
     "prompt_number": 6
    },
    {
     "cell_type": "code",
     "collapsed": false,
     "input": [],
     "language": "python",
     "metadata": {},
     "outputs": [],
     "prompt_number": 6
    },
    {
     "cell_type": "markdown",
     "metadata": {},
     "source": [
      "# \u53c1\uff1a\u5176\u4ed6"
     ]
    },
    {
     "cell_type": "code",
     "collapsed": false,
     "input": [
      "#YouTubeVideo('AWjK0yNAySg') #\u5929\u4e0a\u6389\u4e0b\u4e2a\u6797\u59b9\u59b9\n",
      "YouTubeVideo('5zXY-opd6Lc') #\u9f9a\u7433\u5a1c\u4e2a\u4eba\u7248"
     ],
     "language": "python",
     "metadata": {},
     "outputs": [
      {
       "html": [
        "\n",
        "        <iframe\n",
        "            width=\"400\"\n",
        "            height=300\"\n",
        "            src=\"http://www.youtube.com/embed/5zXY-opd6Lc\"\n",
        "            frameborder=\"0\"\n",
        "            allowfullscreen\n",
        "        ></iframe>\n",
        "        "
       ],
       "metadata": {},
       "output_type": "pyout",
       "prompt_number": 8,
       "text": [
        "<IPython.lib.display.YouTubeVideo at 0x2c4d910>"
       ]
      }
     ],
     "prompt_number": 8
    },
    {
     "cell_type": "code",
     "collapsed": false,
     "input": [],
     "language": "python",
     "metadata": {},
     "outputs": [],
     "prompt_number": 7
    },
    {
     "cell_type": "markdown",
     "metadata": {},
     "source": [
      "# \u56e0\u53d1\u5c3c\u7279\uff1a"
     ]
    },
    {
     "cell_type": "code",
     "collapsed": false,
     "input": [
      "YouTubeVideo('1sE0YYXsuqM')"
     ],
     "language": "python",
     "metadata": {},
     "outputs": [
      {
       "html": [
        "\n",
        "        <iframe\n",
        "            width=\"400\"\n",
        "            height=300\"\n",
        "            src=\"http://www.youtube.com/embed/1sE0YYXsuqM\"\n",
        "            frameborder=\"0\"\n",
        "            allowfullscreen\n",
        "        ></iframe>\n",
        "        "
       ],
       "metadata": {},
       "output_type": "pyout",
       "prompt_number": 9,
       "text": [
        "<IPython.lib.display.YouTubeVideo at 0x2c4d210>"
       ]
      }
     ],
     "prompt_number": 9
    },
    {
     "cell_type": "code",
     "collapsed": false,
     "input": [],
     "language": "python",
     "metadata": {},
     "outputs": []
    }
   ],
   "metadata": {}
  }
 ]
}