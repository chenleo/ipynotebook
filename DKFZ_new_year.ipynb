{
 "metadata": {
  "name": ""
 },
 "nbformat": 3,
 "nbformat_minor": 0,
 "worksheets": [
  {
   "cells": [
    {
     "cell_type": "markdown",
     "metadata": {
      "slideshow": {
       "slide_type": "slide"
      }
     },
     "source": [
      "<h1><center>DKFZ\u534e\u4eba\u4e3b\u9898\u65b0\u5e74\u4f1a</center></h1>\n",
      "<center>Interactive Demo</center>"
     ]
    },
    {
     "cell_type": "code",
     "collapsed": false,
     "input": [
      "#\u521d\u59cb\u5316\n",
      "from IPython.display import YouTubeVideo, Image"
     ],
     "language": "python",
     "metadata": {
      "slideshow": {
       "slide_type": "skip"
      }
     },
     "outputs": [],
     "prompt_number": 12
    },
    {
     "cell_type": "markdown",
     "metadata": {
      "slideshow": {
       "slide_type": "fragment"
      }
     },
     "source": [
      "<h3>\u6d3b\u52a8\u901a\u77e5\uff1a</h3>\n",
      "<p> \u6700\u540e\u4e00\u6b21\u6392\u7ec3\u65f6\u95f4\uff1a2014\u5e741\u670812\u65e5\uff0c<font color=red><b>\u4e0b\u53483\u70b9</b></font></p>\n",
      "<p> \u8bf71\u67085\u65e5\u53c2\u52a0\u8fc7\u5408\u5531\u6392\u7ec3\u7684\u540c\u5b66\u5e26\u597d\u6b4c\u8bcd</p>\n",
      "<p> [\u5730\u70b9](https://www.google.com/maps/preview#!q=Deutsches+Krebsforschungszentrum&data=!2m1!1e3!4m37!1m36!4m8!1m3!1d2853!2d8.6740134!3d49.4136761!3m2!1i1098!2i844!4f13.1!10b1!19m6!1e1!1e2!1e9!1e10!1e12!4smaps_sv.tactile!20m13!1e1!1e2!1e3!1e4!1e5!1e9!1e10!1e11!1e12!2m2!1i203!2i100!5smaps_sv.tactile!26m4!1e12!1e13!1e3!4smaps_sv.tactile&fid=7): \u70b9\u8fdb\u94fe\u63a5\uff0c\u4e3b\u697c\u5de6\u8fb9\u7684\u90a3\u4e2a\u5706\u623f\u5b50\u5c31\u662f\u3002</p>\n",
      "\n",
      "<p>\u5c0f\u5408\u5531\u670d\u88c5\u8981\u6c42\uff08\u81ea\u5907\uff09:\n",
      "    <ul>\n",
      "        <li>\u7537\u751f\uff1a\u6df1\u8272\u897f\u88c5\u5957\u88c5\uff0c\u6d45\u8272\u886c\u886b\uff1b</li>\n",
      "        <li>\u5973\u751f\uff1a\u9ed1\u8272\u5957\u88c5</li>\n",
      "    </ul>\n",
      "</p>"
     ]
    },
    {
     "cell_type": "markdown",
     "metadata": {},
     "source": [
      "<h2><center>\u56e2\u961f\u5206\u5de5\u53ca\u6d3b\u52a8\u6d41\u7a0b\u7b80\u4ecb</center></h2>"
     ]
    },
    {
     "cell_type": "markdown",
     "metadata": {},
     "source": [
      "<h3>Outline:</h3>\n",
      "<ol>\n",
      "    <li>\u56e2\u961f\u7ec4\u7ec7\u7ed3\u6784</li>\n",
      "    <li>\u5404\u7ec4\u5177\u4f53\u804c\u8d23\u8303\u56f4</li>\n",
      "    <li>\u610f\u5916\u5bf9\u5e94</li>\n",
      "    <li>\u5176\u4ed6</li>\n",
      "</ol>"
     ]
    },
    {
     "cell_type": "markdown",
     "metadata": {},
     "source": [
      "<h4>1 \u56e2\u961f\u7ec4\u7ec7\u7ed3\u6784</h4>\n",
      "<ul>\n",
      "    <li>\n",
      "    \u59d4\u5458\u4f1a\uff1a\n",
      "        <ul>\n",
      "            <li>\u804c\u8d23\uff1a\u5168\u9762\u8d1f\u8d23\u672c\u6b21\u665a\u4f1a\u7684\u7b79\u5907\uff0c\u6392\u7ec3\u548c\u6b63\u5f0f\u6f14\u51fa\u3002<font color=blue>\u5171\u4eab\u5fd7\u613f\u8005\u4fe1\u606f\u94fe\u63a5\uff0c\u5e76\u6709\u6dfb\u52a0\u7f16\u8f91\u6743\u9650\u3002</font></li>\n",
      "            <li>\u8d1f\u8d23\u4eba\uff1a\u9648\u5929\u8f89\uff08\u603bBoss\uff09; \u59d4\u5458\uff1a\u9648\u6668\uff0c\u738b\u5a01\uff0c\u9648\u4f2f\u671b\uff0c\u8def\u987a</li>\n",
      "        </ul>\n",
      "    </li>\n",
      "    \n",
      "    <li>\n",
      "    \u8282\u76ee\u7ec4\uff1a\n",
      "        <ul>\n",
      "            <li>\u8d23\u4efb\uff1a\u8d1f\u8d23\u672c\u6b21\u665a\u4f1a\u7684\u6b63\u5f0f\u6f14\u51fa\u3002</li>\n",
      "            <li>\u8d1f\u8d23\u4eba\uff1a\u9648\u6668\uff1b\u6210\u5458\uff1a\u674e\u60e0\uff0c\u6c64\u6668\u6668\uff0c\u738b\u6db5\uff0c\u5434\u8fea\uff0c\u5408\u5531\u56e2\u5168\u4f53\u6210\u5458\uff08\u6307\u6325\uff1a\u9648\u6668\uff0c<font color=red>\u6700\u7ec8\u6210\u5458\u540d\u5355\u4e8e1\u670812\u65e5\u786e\u5b9a</font>\uff09</li>\n",
      "        </ul>\n",
      "    </li>\n",
      "    \n",
      "    <li>\n",
      "    \u573a\u52a1\u7ec4\uff1a\n",
      "        <ul>\n",
      "            <li>\u8d23\u4efb\uff1a\u7ec4\u7ec7\u73b0\u573aPPT\uff0c\u73b0\u573a\u64ad\u653ePPT\uff0c\u8282\u76ee\u4e0a\u4e0b\u573a\u8854\u63a5\u5d14\u573a\u7b49\u7b49\u3002</li>\n",
      "            <li>\u8d1f\u8d23\u4eba\uff1a\u8def\u987a\uff1b\u6210\u5458\uff1a\u738b\u7d2b\u8559\uff0c\u6f58\u827a</li>\n",
      "        </ul>\n",
      "    </li>\n",
      "    \n",
      "    <li>\n",
      "    \u9053\u5177\u7ec4\uff1a\n",
      "        <ul>\n",
      "            <li>\u8d23\u4efb\uff1a\u786e\u4fdd\u8868\u6f14\u524d\u7684\u88c5\u9970\u54c1\uff08\u7ea2\u706f\u7b3c\u7b49\uff09\u5230\u4f4d\u53ca\u73b0\u573a\u5b89\u88c5\uff1b\u786e\u4fdd\u8868\u6f14\u8005\u53ca\u5176\u9053\u5177\u4fdd\u7ba1\u53ca\u8c03\u8bd5\uff08\u5982\u9ea6\u514b\u98ce\u6548\u679c\uff09\u3002</li>\n",
      "            <li>\u8d1f\u8d23\u4eba\uff1a\u738b\u5a01\uff1b\u6210\u5458\uff1a\u6210\u6770\uff0c\u6f58\u6587\u5f3a</li>\n",
      "        </ul>\n",
      "    </li>\n",
      "    \n",
      "    <li>\n",
      "    \u8054\u7edc\u7ec4\uff08<font color=red>\u5f85\u7ec6\u5316\u660e\u786e</font>\uff09\uff1a\n",
      "        <ul>\n",
      "            <li>\u8d23\u4efb\uff1a\u76f4\u63a5\u4e3a\u8868\u6f14\u7684\u524d\u540e\u8054\u7edc\u670d\u52a1</li>\n",
      "            <li>\u8d1f\u8d23\u4eba\uff1a\u9648\u4f2f\u671b\uff1b\u6210\u5458\uff1a\u52a0\u5fd7\u613f\u8005\u5982Li Yuting \u7b49\u4eba</li>\n",
      "        </ul>\n",
      "    </li>\n",
      "</ul>\n",
      "\n",
      "<p> \u73b0\u573a\u5230\u4f4d\u65f6\u95f4\u5b89\u6392(\u4e3a\u5efa\u8bae\u65f6\u95f4\uff0c\u4e0d\u505a\u786c\u6027\u8981\u6c42<font color=red>\uff08\u8001\u57ce\u540c\u5b66\u4e0d\u53d7\u6b64\u65f6\u95f4\u8868\u9650\u5236\uff09</font>)\uff1a</p>\n",
      "<ul>\n",
      "<li>\u7b79\u59d4\u4f1a14:00\u5230\u573a\uff1b</li>\n",
      "\n",
      "<li>\u8868\u6f14\u7ec4\u4e2a\u4f53\u5316\u5b89\u6392\uff08\u5408\u5531\u56e2\u9884\u6f14\u4e00\u6b2115:30\u5f00\u59cb\uff1b\u5176\u4ed6\u8868\u6f14\u8005\u6700\u8fdf16:00\u5230\u573a\uff09;</li>\n",
      "\n",
      "<li>\u9053\u5177\u7ec414:00\u5230\u573a\uff1b\u8054\u7edc\u7ec414:00\u5230\u573a\uff0c\u573a\u52a1\u7ec41\uff14:00\u5230\u573a\uff09</li>\n",
      "</ul>"
     ]
    },
    {
     "cell_type": "markdown",
     "metadata": {},
     "source": [
      "<h4>2 \u5404\u7ec4\u5177\u4f53\u804c\u8d23\u8303\u56f4</h4>\n",
      "<ul>\n",
      "    <li>\u8282\u76ee\u7ec4\uff1a\n",
      "        <ul>\n",
      "            <li>\u804c\u8d23\u8303\u56f4\uff1a\u8d1f\u8d23\u8282\u76ee\u90e8\u5206</li>\n",
      "            <li>\u540c\u5176\u4ed6\u7ec4\u5173\u7cfb\uff1a\n",
      "                <ul>\n",
      "                <li>\u59d4\u5458\u4f1a\uff1a\u6839\u636e\u8981\u6c42\u968f\u65f6\u505a\u51fa\u8c03\u6574</li>\n",
      "                <li>\u573a\u52a1\u7ec4\uff1a\u63d0\u4f9b\u7ed9\u573a\u52a1\u7ec4\u5fc5\u8981\u7684\u8282\u76ee\u60c5\u62a5\uff0c\u73b0\u573a\u542c\u4ece\u573a\u52a1\u7ec4\u8c03\u5ea6\u6307\u6325</li>\n",
      "                <li>\u9053\u5177\u7ec4\uff1a\u63d0\u8981\u6c42\uff0c\u7531\u9053\u5177\u7ec4\u7ed9\u4e88\u5fc5\u8981\u7684\u652f\u6301\uff08<font color=red>\u5982\u5c0f\u5408\u5531\u6587\u4ef6\u5939</font>\uff09</li>\n",
      "                </ul>\n",
      "            </li>\n",
      "        </ul>\n",
      "    </li>\n",
      "    \n",
      "    <li>\u573a\u52a1\u7ec4\uff1a\n",
      "        <ul>\n",
      "            <li>\u804c\u8d23\u8303\u56f4\uff1a\u8d1f\u8d23\u5e7b\u706f\u7247\u7ec4\u7ec7\u64ad\u653e\uff0c\u8054\u7cfb\u8282\u76ee\u7ec4\u6210\u5458\uff0c\u542c\u53d6\u8282\u76ee\u7ec4\u6210\u5458\u8981\u6c42\uff0c\u4ee5\u53ca\u73b0\u573a\u7684\u63d0\u793a\u50ac\u573a\uff08\u5bf9\u8282\u76ee\u5355\u7684\u65f6\u95f4\u8868\u8981\u975e\u5e38\u719f\u6089\uff09</li>\n",
      "            <li>\u540c\u5176\u4ed6\u7ec4\u5173\u7cfb\uff1a\n",
      "                <ul>\n",
      "                <li>\u59d4\u5458\u4f1a\uff1a\u5173\u4e8e\u80cc\u666f\u97f3\u4e50\u7684\u8981\u6c42\uff0c\u63d2\u5165PPT\u6216\u89c6\u9891\u4e2d</li>\n",
      "                <li>\u8282\u76ee\u7ec4\uff1a\u5411\u8282\u76ee\u6210\u5458\u786e\u8ba4\u5fc5\u8981\u7684\u8282\u76ee\u540d\u79f0\uff0c\u65f6\u95f4\uff0cppt\u8981\u6c42\u53ca\u5176\u4ed6\u989d\u5916\u7684\u8d44\u6e90\u3002\u73b0\u573a\u8c03\u5ea6\u8282\u76ee\u7ec4\u6210\u5458\uff0c\u5b89\u6392\u51fa\u573a\u987a\u5e8f\u3002</li>\n",
      "                <li> \u9053\u5177\u7ec4\uff1a\u73b0\u573a\u6d4b\u8bd5\u5e7b\u706f\u7247\u64ad\u653e\uff0c\u4ee5\u53ca\u5176\u4ed6\u76f8\u5173\u804c\u80fd</li>\n",
      "                </ul>\n",
      "            </li>\n",
      "        </ul>\n",
      "    </li>\n",
      "    \n",
      "    <li>\u9053\u5177\u7ec4\uff1a\n",
      "        <ul>\n",
      "        <li>\u804c\u8d23\u8303\u56f4\uff1a<font color=red>\u4e3a\u5c0f\u5408\u5531\u6210\u5458\u51c6\u5907\u6b4c\u8c31\u6587\u4ef6\u5939\u3002</font>\u8d1f\u8d23\u8282\u76ee\u7ec4\u7684\u9053\u5177\u7ec4\u7ec7\uff0c\u4ee5\u53ca\u73b0\u573a\u8c03\u8bd5\u7b49\uff08\u5982\u7167\u770b\u9053\u5177\uff0c\u73b0\u573a\u9ea6\u514b\u98ce\uff0c\u642c\u8fd0\u9053\u5177\uff08\u5982\u53e4\u7b5d\u7684\u7434\u4f53\u53ca\u6f14\u5458\u5ea7\u6905\uff09\uff09\uff0c\u8054\u7cfb\u548c\u652f\u6301\u540e\u52e4\u90e8\u5206\uff08\u997a\u5b50\u90e8\u5206\uff09\u7b49\uff0c\u4e3a\u8282\u76ee\u7ec4\u63d0\u4f9b\u989d\u5916\u7684\u5fc5\u8981\u652f\u6301\u3002</li>\n",
      "        <li>\u540c\u5176\u4ed6\u7ec4\u5173\u7cfb\uff1a\n",
      "            <ul>\n",
      "            <li>\u59d4\u5458\u4f1a\uff1a\u542c\u4ece\u8c03\u5ea6</li>\n",
      "            <li>\u8282\u76ee\u7ec4\uff1a\u63d0\u4f9b\u9053\u5177\u5b58\u653e\u4f4d\u7f6e\uff0c\u73b0\u573a\u63d0\u524d\u8bd5\u97f3\u3002\u8282\u76ee\u4e0a\u4e0b\u573a\u8d1f\u8d23\u642c\u8fd0\u5fc5\u8981\u7684\u9053\u5177\u3002</li>\n",
      "            <li>\u573a\u52a1\u7ec4\uff1a\u542c\u4ece\u8c03\u5ea6\uff0c\u6d4b\u8bd5\u5e7b\u706f\u7247\u6548\u679c</li>\n",
      "            </ul>\n",
      "        </li>\n",
      "        </ul>\n",
      "    </li>\n",
      "    \n",
      "    <li>\u8054\u7edc\u7ec4\uff1a\uff08\u7ec6\u8282\u5f85\u5b9a\uff09\n",
      "        <ul>\n",
      "        <li>\u804c\u8d23\u8303\u56f4\uff1a\u8d1f\u8d23\u989d\u5916\u7684\u8054\u7edc\u9700\u6c42</li>\n",
      "        </ul>\n",
      "    </li>\n",
      "    \n",
      "    <li>\u673a\u52a8\u7ec4\uff1a\uff08\u5176\u4ed6\u6210\u5458\uff0c\u4e3b\u8981\u7537\u751f\uff0c\u8d1f\u8d23\u9053\u5177\uff09\n",
      "    </li>\n",
      "</ul>"
     ]
    },
    {
     "cell_type": "markdown",
     "metadata": {},
     "source": [
      "<h4>3 \u5371\u673a\u5e94\u5bf9:</h4>\n",
      "<p>\u5404\u4e2a\u7ec4\u522b\u4ee5\u7ec4\u4e3a\u5355\u4f4d\uff0c\u4efb\u4f55\u4e2a\u4eba\u51fa\u73b0\u610f\u5916\u8bf7\u4e8e<font=red>1\u670815\u65e5\u4e4b\u524d\u901a\u77e5\u7ec4\u5185\u6210\u5458\u3002\u9700\u8981\u989d\u5916\u7edf\u7b79\u7531\u5404\u7ec4\u8d1f\u8d23\u4eba\u540c\u603bboss\u6216\u6587\u827a\u90e8\u8d1f\u8d23\u4eba\u6c9f\u901a\u3002</p>"
     ]
    },
    {
     "cell_type": "markdown",
     "metadata": {},
     "source": [
      "<h4>4 \u5176\u4ed6</h4>\n",
      "<p>\u5c0f\u5408\u5531\u670d\u88c5\u8981\u6c42\uff08\u81ea\u5907\uff09:\n",
      "    <ul>\n",
      "        <li>\u7537\u751f\uff1a\u6df1\u8272\u897f\u88c5\u5957\u88c5\uff0c\u6d45\u8272\u886c\u886b\uff1b</li>\n",
      "        <li>\u5973\u751f\uff1a\u9ed1\u8272\u5957\u88c5</li>\n",
      "    </ul>\n",
      "</p>"
     ]
    },
    {
     "cell_type": "markdown",
     "metadata": {
      "slideshow": {
       "slide_type": "slide"
      }
     },
     "source": [
      "<center><h2>\u96f6\uff1a\u6d41\u7a0b\u7b80\u4ecb</h2></center>"
     ]
    },
    {
     "cell_type": "markdown",
     "metadata": {
      "slideshow": {
       "slide_type": "fragment"
      }
     },
     "source": [
      "<ul>\n",
      "<li>\u8be5\u6587\u6863\u4e3a\u8282\u76ee\u53c2\u8003\u76ee\u5f55\u3002</li>\n",
      "<li>\u76ee\u5f55\uff1a</li>\n",
      "    <ul>\n",
      "    <li>\u58f9\uff1a\u5408\u5531\u90e8\u5206</li>\n",
      "    <li>\u8d30\uff1a\u5668\u4e50\u90e8\u5206</li>\n",
      "    <li>\u53c1\uff1a\u5176\u4ed6\u90e8\u5206</li>\n",
      "    <li>\u8086\uff1a\u80cc\u666f\u97f3\u4e50\u53c2\u8003</li>\n",
      "    </ul>\n",
      "</ul>"
     ]
    },
    {
     "cell_type": "markdown",
     "metadata": {
      "slideshow": {
       "slide_type": "slide"
      }
     },
     "source": [
      "<h2><center> \u58f9\uff1a\u5408\u5531\u90e8\u5206 </center></h2>\n",
      "<p><font color = red><center>\u66f2\u76ee\uff1a\u8309\u8389\u82b1\u7248\u672c1 \u548c \u8309\u8389\u82b1\u7248\u672c2</center></font></p>\n",
      "<p><font color = blue><center>\u58f0\u90e8\uff1a\u7537\u58f0 \u548c \u5973\u751f</center></font></p>"
     ]
    },
    {
     "cell_type": "markdown",
     "metadata": {},
     "source": [
      "<h3>\u8309\u8389\u82b11 \u6d41\u7a0b</h3>"
     ]
    },
    {
     "cell_type": "markdown",
     "metadata": {},
     "source": [
      "<p>\u8309\u8389\u82b11\u4e00\u5171\u5531\u4e09\u904d\uff1a</p>\n",
      "<ol>\n",
      "<li>\u7537\u5973\u9f50\u5531</li>\n",
      "<li>\u5973\u5148\u5531\u7b2c\u4e00\u884c\uff0c\u7537\u8ddf\u5531\u7b2c\u4e8c\u884c\uff0c\u9f50\u5531\u540e\u9762\u7684\u90e8\u5206</li>\n",
      "<li>\u5408\u5531\uff0c\u7537\u5148\u5973\u540e\uff0c\u6700\u540e\u52a0\u4e24\u4e2a\u201c\u8309\u8389\u82b1\u201d</li>\n",
      "</ol>"
     ]
    },
    {
     "cell_type": "code",
     "collapsed": false,
     "input": [
      "#\uff01\u8309\u8389\u82b11 \u5b8b\u7956\u82f1\n",
      "YouTubeVideo('szkl60mtdJ0')"
     ],
     "language": "python",
     "metadata": {
      "slideshow": {
       "slide_type": "subslide"
      }
     },
     "outputs": [
      {
       "html": [
        "\n",
        "        <iframe\n",
        "            width=\"400\"\n",
        "            height=300\"\n",
        "            src=\"http://www.youtube.com/embed/szkl60mtdJ0\"\n",
        "            frameborder=\"0\"\n",
        "            allowfullscreen\n",
        "        ></iframe>\n",
        "        "
       ],
       "metadata": {},
       "output_type": "pyout",
       "prompt_number": 2,
       "text": [
        "<IPython.lib.display.YouTubeVideo at 0x10222da50>"
       ]
      }
     ],
     "prompt_number": 2
    },
    {
     "cell_type": "code",
     "collapsed": false,
     "input": [
      "#\uff01\u8309\u8389\u82b11\n",
      "YouTubeVideo('9rf4iqUm-UE',start = 85)"
     ],
     "language": "python",
     "metadata": {
      "slideshow": {
       "slide_type": "subslide"
      }
     },
     "outputs": [
      {
       "html": [
        "\n",
        "        <iframe\n",
        "            width=\"400\"\n",
        "            height=300\"\n",
        "            src=\"http://www.youtube.com/embed/9rf4iqUm-UE?start=85\"\n",
        "            frameborder=\"0\"\n",
        "            allowfullscreen\n",
        "        ></iframe>\n",
        "        "
       ],
       "metadata": {},
       "output_type": "pyout",
       "prompt_number": 7,
       "text": [
        "<IPython.lib.display.YouTubeVideo at 0x10358d210>"
       ]
      }
     ],
     "prompt_number": 7
    },
    {
     "cell_type": "code",
     "collapsed": false,
     "input": [
      "#\u8309\u8389\u82b11\u4f34\u594f\n",
      "#YouTubeVideo('WPSRMyaOX0U') #\u616260s\n",
      "YouTubeVideo('oHEHsxxK9FQ') #\u5feb40s"
     ],
     "language": "python",
     "metadata": {
      "slideshow": {
       "slide_type": "subslide"
      }
     },
     "outputs": [
      {
       "html": [
        "\n",
        "        <iframe\n",
        "            width=\"400\"\n",
        "            height=300\"\n",
        "            src=\"http://www.youtube.com/embed/oHEHsxxK9FQ\"\n",
        "            frameborder=\"0\"\n",
        "            allowfullscreen\n",
        "        ></iframe>\n",
        "        "
       ],
       "metadata": {},
       "output_type": "pyout",
       "prompt_number": 4,
       "text": [
        "<IPython.lib.display.YouTubeVideo at 0x10358bd50>"
       ]
      }
     ],
     "prompt_number": 4
    },
    {
     "cell_type": "markdown",
     "metadata": {
      "slideshow": {
       "slide_type": "slide"
      }
     },
     "source": [
      "<h3>\u8309\u8389\u82b11\u6b4c\u8bcd</h3>\n",
      "<img src=\"https://raw.github.com/maverickmw/ipynotebook/master/dkfzNewYear/image001.jpg\">\n",
      "<img src=\"https://raw.github.com/maverickmw/ipynotebook/master/dkfzNewYear/image002.jpg\">"
     ]
    },
    {
     "cell_type": "markdown",
     "metadata": {},
     "source": [
      "<h3>\u8309\u8389\u82b12 \u6d41\u7a0b\uff08\u4e3b\u8981\u4e3a\u5973\u751f\u8868\u73b0\uff0c\u7ec6\u8282\u5f85\u5b9a\uff09</h3>"
     ]
    },
    {
     "cell_type": "code",
     "collapsed": false,
     "input": [
      "#\u8309\u8389\u82b12\n",
      "YouTubeVideo(\"hDtwqvHULgE\")"
     ],
     "language": "python",
     "metadata": {},
     "outputs": [
      {
       "html": [
        "\n",
        "        <iframe\n",
        "            width=\"400\"\n",
        "            height=300\"\n",
        "            src=\"http://www.youtube.com/embed/hDtwqvHULgE\"\n",
        "            frameborder=\"0\"\n",
        "            allowfullscreen\n",
        "        ></iframe>\n",
        "        "
       ],
       "metadata": {},
       "output_type": "pyout",
       "prompt_number": 18,
       "text": [
        "<IPython.lib.display.YouTubeVideo at 0x104485750>"
       ]
      }
     ],
     "prompt_number": 18
    },
    {
     "cell_type": "markdown",
     "metadata": {},
     "source": [
      "<h3>\u8309\u8389\u82b12 \u6b4c\u8bcd</h3>\n",
      "<img src=\"https://raw.github.com/maverickmw/ipynotebook/master/dkfzNewYear/image003.gif\">\n",
      "<img src=\"https://raw.github.com/maverickmw/ipynotebook/master/dkfzNewYear/image004.gif\">"
     ]
    },
    {
     "cell_type": "markdown",
     "metadata": {
      "slideshow": {
       "slide_type": "slide"
      }
     },
     "source": [
      "<h2> <center>\u8d30\uff1a \u5668\u4e50\u90e8\u5206</center></h2>\n",
      "<center>\u9884\u671f\u6548\u679c\u5c55\u793a</center>"
     ]
    },
    {
     "cell_type": "code",
     "collapsed": false,
     "input": [
      "# \u5c0f\u63d0\u7434\uff1a\u6e14\u821f\u5531\u665a\n",
      "#Fishermans night song \n",
      "YouTubeVideo('mgimzBcSHHU',start=30)"
     ],
     "language": "python",
     "metadata": {
      "slideshow": {
       "slide_type": "subslide"
      }
     },
     "outputs": [
      {
       "html": [
        "\n",
        "        <iframe\n",
        "            width=\"400\"\n",
        "            height=300\"\n",
        "            src=\"http://www.youtube.com/embed/mgimzBcSHHU?start=30\"\n",
        "            frameborder=\"0\"\n",
        "            allowfullscreen\n",
        "        ></iframe>\n",
        "        "
       ],
       "metadata": {},
       "output_type": "pyout",
       "prompt_number": 6,
       "text": [
        "<IPython.lib.display.YouTubeVideo at 0x1025e0790>"
       ]
      }
     ],
     "prompt_number": 6
    },
    {
     "cell_type": "code",
     "collapsed": false,
     "input": [
      "# \u5c0f\u63d0\u7434\uff1a\u82b1\u513f\u4e3a\u4ec0\u4e48\u8fd9\u6837\u7ea2 \n",
      "# Why are the Flowers Fiery red\n",
      "YouTubeVideo('evsb-ExHriQ', start=155)"
     ],
     "language": "python",
     "metadata": {
      "slideshow": {
       "slide_type": "subslide"
      }
     },
     "outputs": [
      {
       "html": [
        "\n",
        "        <iframe\n",
        "            width=\"400\"\n",
        "            height=300\"\n",
        "            src=\"http://www.youtube.com/embed/evsb-ExHriQ?start=155\"\n",
        "            frameborder=\"0\"\n",
        "            allowfullscreen\n",
        "        ></iframe>\n",
        "        "
       ],
       "metadata": {},
       "output_type": "pyout",
       "prompt_number": 12,
       "text": [
        "<IPython.lib.display.YouTubeVideo at 0x1025e0d10>"
       ]
      }
     ],
     "prompt_number": 12
    },
    {
     "cell_type": "code",
     "collapsed": false,
     "input": [
      "#\u94a2\u7434\uff1a\u6c34\u8349\u821e\n",
      "YouTubeVideo('FMlwvz-4XPg')"
     ],
     "language": "python",
     "metadata": {
      "slideshow": {
       "slide_type": "subslide"
      }
     },
     "outputs": [
      {
       "html": [
        "\n",
        "        <iframe\n",
        "            width=\"400\"\n",
        "            height=300\"\n",
        "            src=\"http://www.youtube.com/embed/FMlwvz-4XPg\"\n",
        "            frameborder=\"0\"\n",
        "            allowfullscreen\n",
        "        ></iframe>\n",
        "        "
       ],
       "metadata": {},
       "output_type": "pyout",
       "prompt_number": 10,
       "text": [
        "<IPython.lib.display.YouTubeVideo at 0x1031cf750>"
       ]
      }
     ],
     "prompt_number": 10
    },
    {
     "cell_type": "code",
     "collapsed": false,
     "input": [
      "#\u6e14\u821f\u5531\u665a \u53e4\u7b5d\u7435\u7436\u7248\n",
      "YouTubeVideo('EGB7HfYWNbM')"
     ],
     "language": "python",
     "metadata": {
      "slideshow": {
       "slide_type": "subslide"
      }
     },
     "outputs": [
      {
       "html": [
        "\n",
        "        <iframe\n",
        "            width=\"400\"\n",
        "            height=300\"\n",
        "            src=\"http://www.youtube.com/embed/EGB7HfYWNbM\"\n",
        "            frameborder=\"0\"\n",
        "            allowfullscreen\n",
        "        ></iframe>\n",
        "        "
       ],
       "metadata": {},
       "output_type": "pyout",
       "prompt_number": 11,
       "text": [
        "<IPython.lib.display.YouTubeVideo at 0x1031cf7d0>"
       ]
      }
     ],
     "prompt_number": 11
    },
    {
     "cell_type": "markdown",
     "metadata": {
      "slideshow": {
       "slide_type": "slide"
      }
     },
     "source": [
      "<h2><center>\u53c1\uff1a\u5176\u4ed6\u90e8\u5206</h2></center>"
     ]
    },
    {
     "cell_type": "code",
     "collapsed": false,
     "input": [
      "#1\u9ec4\u6885\u620f \u5973\u9a78\u9a6c \uff08\u5df2\u5b9a, \u9700\u8981\u66f4\u65b0\u4f34\u594f\u7248\u672c\uff09\n",
      "YouTubeVideo('TRDEMrYFuFw')"
     ],
     "language": "python",
     "metadata": {
      "slideshow": {
       "slide_type": "subslide"
      }
     },
     "outputs": [
      {
       "html": [
        "\n",
        "        <iframe\n",
        "            width=\"400\"\n",
        "            height=300\"\n",
        "            src=\"http://www.youtube.com/embed/TRDEMrYFuFw\"\n",
        "            frameborder=\"0\"\n",
        "            allowfullscreen\n",
        "        ></iframe>\n",
        "        "
       ],
       "metadata": {},
       "output_type": "pyout",
       "prompt_number": 20,
       "text": [
        "<IPython.lib.display.YouTubeVideo at 0x104b2bd90>"
       ]
      }
     ],
     "prompt_number": 20
    },
    {
     "cell_type": "markdown",
     "metadata": {
      "slideshow": {
       "slide_type": "slide"
      }
     },
     "source": [
      "<h2><center>\u8086\uff1a\u80cc\u666f\u97f3\u4e50\u53c2\u8003</h2></center>"
     ]
    },
    {
     "cell_type": "code",
     "collapsed": false,
     "input": [
      "#\u82b1\u597d\u6708\u5706\n",
      "YouTubeVideo('1IpInD9dAlA')"
     ],
     "language": "python",
     "metadata": {
      "slideshow": {
       "slide_type": "subslide"
      }
     },
     "outputs": [
      {
       "html": [
        "\n",
        "        <iframe\n",
        "            width=\"400\"\n",
        "            height=300\"\n",
        "            src=\"http://www.youtube.com/embed/1IpInD9dAlA\"\n",
        "            frameborder=\"0\"\n",
        "            allowfullscreen\n",
        "        ></iframe>\n",
        "        "
       ],
       "metadata": {},
       "output_type": "pyout",
       "prompt_number": 3,
       "text": [
        "<IPython.lib.display.YouTubeVideo at 0x103401610>"
       ]
      }
     ],
     "prompt_number": 3
    },
    {
     "cell_type": "code",
     "collapsed": false,
     "input": [
      "#\u6625\u8282\u5e8f\u66f2\n",
      "YouTubeVideo('6VU4k206QhU', start = 20)"
     ],
     "language": "python",
     "metadata": {
      "slideshow": {
       "slide_type": "subslide"
      }
     },
     "outputs": [
      {
       "html": [
        "\n",
        "        <iframe\n",
        "            width=\"400\"\n",
        "            height=300\"\n",
        "            src=\"http://www.youtube.com/embed/6VU4k206QhU?start=20\"\n",
        "            frameborder=\"0\"\n",
        "            allowfullscreen\n",
        "        ></iframe>\n",
        "        "
       ],
       "metadata": {},
       "output_type": "pyout",
       "prompt_number": 3,
       "text": [
        "<IPython.lib.display.YouTubeVideo at 0x102f403d0>"
       ]
      }
     ],
     "prompt_number": 3
    },
    {
     "cell_type": "code",
     "collapsed": false,
     "input": [
      "#\u96be\u5fd8\u4eca\u5bb5\n",
      "YouTubeVideo(\"l1-WVn5QPxg\")"
     ],
     "language": "python",
     "metadata": {
      "slideshow": {
       "slide_type": "subslide"
      }
     },
     "outputs": [
      {
       "html": [
        "\n",
        "        <iframe\n",
        "            width=\"400\"\n",
        "            height=300\"\n",
        "            src=\"http://www.youtube.com/embed/l1-WVn5QPxg\"\n",
        "            frameborder=\"0\"\n",
        "            allowfullscreen\n",
        "        ></iframe>\n",
        "        "
       ],
       "metadata": {},
       "output_type": "pyout",
       "prompt_number": 5,
       "text": [
        "<IPython.lib.display.YouTubeVideo at 0x102f405d0>"
       ]
      }
     ],
     "prompt_number": 5
    },
    {
     "cell_type": "code",
     "collapsed": false,
     "input": [
      "#\u96be\u5fd8\u4eca\u5bb5 \u7eaf\u97f3\u4e50\n",
      "YouTubeVideo(\"E9AmbWwS8Dk\")"
     ],
     "language": "python",
     "metadata": {
      "slideshow": {
       "slide_type": "subslide"
      }
     },
     "outputs": [
      {
       "html": [
        "\n",
        "        <iframe\n",
        "            width=\"400\"\n",
        "            height=300\"\n",
        "            src=\"http://www.youtube.com/embed/E9AmbWwS8Dk\"\n",
        "            frameborder=\"0\"\n",
        "            allowfullscreen\n",
        "        ></iframe>\n",
        "        "
       ],
       "metadata": {},
       "output_type": "pyout",
       "prompt_number": 6,
       "text": [
        "<IPython.lib.display.YouTubeVideo at 0x102f40ad0>"
       ]
      }
     ],
     "prompt_number": 6
    },
    {
     "cell_type": "code",
     "collapsed": false,
     "input": [
      "#\u8d5b\u9a6c\n",
      "YouTubeVideo('2ccN1xub45k', start = 6)"
     ],
     "language": "python",
     "metadata": {
      "slideshow": {
       "slide_type": "subslide"
      }
     },
     "outputs": [
      {
       "html": [
        "\n",
        "        <iframe\n",
        "            width=\"400\"\n",
        "            height=300\"\n",
        "            src=\"http://www.youtube.com/embed/2ccN1xub45k?start=6\"\n",
        "            frameborder=\"0\"\n",
        "            allowfullscreen\n",
        "        ></iframe>\n",
        "        "
       ],
       "metadata": {},
       "output_type": "pyout",
       "prompt_number": 16,
       "text": [
        "<IPython.lib.display.YouTubeVideo at 0x10343a650>"
       ]
      }
     ],
     "prompt_number": 16
    },
    {
     "cell_type": "code",
     "collapsed": false,
     "input": [
      "#\u6b65\u6b65\u9ad8\n",
      "YouTubeVideo('ugN0CdyUJJM')"
     ],
     "language": "python",
     "metadata": {
      "slideshow": {
       "slide_type": "subslide"
      }
     },
     "outputs": [
      {
       "html": [
        "\n",
        "        <iframe\n",
        "            width=\"400\"\n",
        "            height=300\"\n",
        "            src=\"http://www.youtube.com/embed/ugN0CdyUJJM\"\n",
        "            frameborder=\"0\"\n",
        "            allowfullscreen\n",
        "        ></iframe>\n",
        "        "
       ],
       "metadata": {},
       "output_type": "pyout",
       "prompt_number": 2,
       "text": [
        "<IPython.lib.display.YouTubeVideo at 0x10253ae50>"
       ]
      }
     ],
     "prompt_number": 2
    },
    {
     "cell_type": "code",
     "collapsed": false,
     "input": [
      "#\u559c\u6d0b\u6d0b\n",
      "YouTubeVideo(\"O-WkkhuddxE\")"
     ],
     "language": "python",
     "metadata": {},
     "outputs": [
      {
       "html": [
        "\n",
        "        <iframe\n",
        "            width=\"400\"\n",
        "            height=300\"\n",
        "            src=\"http://www.youtube.com/embed/O-WkkhuddxE\"\n",
        "            frameborder=\"0\"\n",
        "            allowfullscreen\n",
        "        ></iframe>\n",
        "        "
       ],
       "metadata": {},
       "output_type": "pyout",
       "prompt_number": 4,
       "text": [
        "<IPython.lib.display.YouTubeVideo at 0x102e378d0>"
       ]
      }
     ],
     "prompt_number": 4
    },
    {
     "cell_type": "code",
     "collapsed": false,
     "input": [
      "#\u9a8f\u9a6c\u5954\u9a70\n",
      "YouTubeVideo('oMKIvEOzw5A')"
     ],
     "language": "python",
     "metadata": {
      "slideshow": {
       "slide_type": "subslide"
      }
     },
     "outputs": [
      {
       "html": [
        "\n",
        "        <iframe\n",
        "            width=\"400\"\n",
        "            height=300\"\n",
        "            src=\"http://www.youtube.com/embed/oMKIvEOzw5A\"\n",
        "            frameborder=\"0\"\n",
        "            allowfullscreen\n",
        "        ></iframe>\n",
        "        "
       ],
       "metadata": {},
       "output_type": "pyout",
       "prompt_number": 13,
       "text": [
        "<IPython.lib.display.YouTubeVideo at 0x10343a290>"
       ]
      }
     ],
     "prompt_number": 13
    },
    {
     "cell_type": "code",
     "collapsed": false,
     "input": [
      "#\u5317\u4eac\u559c\u8baf\u5230\u8fb9\u5be8\n",
      "YouTubeVideo('2BR4gyVEkEg', start=45)"
     ],
     "language": "python",
     "metadata": {
      "slideshow": {
       "slide_type": "subslide"
      }
     },
     "outputs": [
      {
       "html": [
        "\n",
        "        <iframe\n",
        "            width=\"400\"\n",
        "            height=300\"\n",
        "            src=\"http://www.youtube.com/embed/2BR4gyVEkEg?start=45\"\n",
        "            frameborder=\"0\"\n",
        "            allowfullscreen\n",
        "        ></iframe>\n",
        "        "
       ],
       "metadata": {},
       "output_type": "pyout",
       "prompt_number": 9,
       "text": [
        "<IPython.lib.display.YouTubeVideo at 0x103401a50>"
       ]
      }
     ],
     "prompt_number": 9
    },
    {
     "cell_type": "markdown",
     "metadata": {},
     "source": [
      "<h2>Outdated Backup</h2>"
     ]
    },
    {
     "cell_type": "markdown",
     "metadata": {
      "slideshow": {
       "slide_type": "fragment"
      }
     },
     "source": [
      "12\u67088\u65e5\u9996\u6b21\u6392\u7ec3\u5408\u5531\u7ec4\u6210\u5458\u540d\u5355\u53ca\u8bd5\u97f3\u97f3\u57df\uff08\u6210\u5458\u6301\u7eed\u62db\u52df\u4e2d\uff09"
     ]
    },
    {
     "cell_type": "markdown",
     "metadata": {
      "slideshow": {
       "slide_type": "fragment"
      }
     },
     "source": [
      "* \u603b\u76d1\uff1a\n",
      "    * \u9ad8\u73ca\u73ca\uff1a\u4e2d\u9ad8"
     ]
    },
    {
     "cell_type": "markdown",
     "metadata": {
      "slideshow": {
       "slide_type": "fragment"
      }
     },
     "source": [
      "* \u5973\u751f\uff1a\n",
      "    * \u5218\u674e\u73cd\uff1a\u4e2d\u504f\u9ad8\n",
      "    * \u738b\u7d2b\u8559\uff1a\u9ad8\n",
      "    * \u6c64\u6668\u6668\uff1a\u5168\u80fd\n",
      "    * \u67f3\u559c\u6d0b\uff1a\u4e2d\u4f4e\n",
      "    * \u949f\u8587\u8587\uff1a\u4e2d\n",
      "    * \u7ae0\u5a1f\u5a1f\uff1a\u9ad8"
     ]
    },
    {
     "cell_type": "markdown",
     "metadata": {
      "slideshow": {
       "slide_type": "fragment"
      }
     },
     "source": [
      "* \u7537\u751f\uff1a\n",
      "    * \u9648\u4f2f\u671b\uff1a\u4e2d\u9ad8\n",
      "    * \u9ec4\u667a\u52e4\uff1a\u9ad8"
     ]
    },
    {
     "cell_type": "code",
     "collapsed": false,
     "input": [
      "#\u8c01\u8bf4\u5973\u5b50\u4e0d\u5982\u7537\uff0c\u56fd\u6bcd\u7248\n",
      "#YouTubeVideo('wAdTee75pME')\n",
      "\n",
      "#2\u6211\u5bb6\u7684\u8868\u53d4\n",
      "#YouTubeVideo('2P-s7x7xD_4')"
     ],
     "language": "python",
     "metadata": {
      "slideshow": {
       "slide_type": "subslide"
      }
     },
     "outputs": [],
     "prompt_number": 14
    },
    {
     "cell_type": "markdown",
     "metadata": {
      "slideshow": {
       "slide_type": "slide"
      }
     },
     "source": [
      "<h2> $\\infty$\uff1a\u4f5c\u8005\u8349\u7a3f\u4e13\u7528 </h2>"
     ]
    },
    {
     "cell_type": "code",
     "collapsed": false,
     "input": [
      "#\u4e00\u751f\u6240\u7231\n",
      "YouTubeVideo('1S6pNlVNkJ0')"
     ],
     "language": "python",
     "metadata": {
      "slideshow": {
       "slide_type": "subslide"
      }
     },
     "outputs": [
      {
       "html": [
        "\n",
        "        <iframe\n",
        "            width=\"400\"\n",
        "            height=300\"\n",
        "            src=\"http://www.youtube.com/embed/1S6pNlVNkJ0\"\n",
        "            frameborder=\"0\"\n",
        "            allowfullscreen\n",
        "        ></iframe>\n",
        "        "
       ],
       "metadata": {},
       "output_type": "pyout",
       "prompt_number": 5,
       "text": [
        "<IPython.lib.display.YouTubeVideo at 0x10358d750>"
       ]
      }
     ],
     "prompt_number": 5
    },
    {
     "cell_type": "code",
     "collapsed": false,
     "input": [
      "#YouTubeVideo('EckWHa1QvDU', start = 190) #\u590d\u8d5b\n",
      "YouTubeVideo('qCRdaRyAoMM',start=190) #\u534a\u51b3\u8d5b\n",
      "#YouTubeVideo('NNUzJ2rhw2k',start = 182) #\u5468\u6770\u4f26 \u6597\u7434\n",
      "#YouTubeVideo('aJDak07xSkg', start = 7) #Mac tini\n",
      "#YouTubeVideo('iYWzMvlj2RQ') #Nvidia vs Linux \n",
      "#YouTubeVideo('7tHc9xWhFH4') #Haydn - Emperor Quartet Mvt.2"
     ],
     "language": "python",
     "metadata": {
      "slideshow": {
       "slide_type": "skip"
      }
     },
     "outputs": [
      {
       "html": [
        "\n",
        "        <iframe\n",
        "            width=\"400\"\n",
        "            height=300\"\n",
        "            src=\"http://www.youtube.com/embed/qCRdaRyAoMM?start=190\"\n",
        "            frameborder=\"0\"\n",
        "            allowfullscreen\n",
        "        ></iframe>\n",
        "        "
       ],
       "metadata": {},
       "output_type": "pyout",
       "prompt_number": 7,
       "text": [
        "<IPython.lib.display.YouTubeVideo at 0x102f2f710>"
       ]
      }
     ],
     "prompt_number": 7
    },
    {
     "cell_type": "code",
     "collapsed": false,
     "input": [
      "%qtconsole"
     ],
     "language": "python",
     "metadata": {
      "slideshow": {
       "slide_type": "skip"
      }
     },
     "outputs": [],
     "prompt_number": 1
    },
    {
     "cell_type": "code",
     "collapsed": false,
     "input": [
      "import sys\n",
      "sys.version"
     ],
     "language": "python",
     "metadata": {},
     "outputs": [
      {
       "metadata": {},
       "output_type": "pyout",
       "prompt_number": 3,
       "text": [
        "'3.3.3 (default, Nov 23 2013, 16:24:30) \\n[GCC 4.2.1 (Apple Inc. build 5666) (dot 3)]'"
       ]
      }
     ],
     "prompt_number": 3
    },
    {
     "cell_type": "code",
     "collapsed": false,
     "input": [],
     "language": "python",
     "metadata": {},
     "outputs": []
    }
   ],
   "metadata": {}
  }
 ]
}