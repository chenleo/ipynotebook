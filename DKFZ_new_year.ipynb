{
 "metadata": {
  "name": ""
 },
 "nbformat": 3,
 "nbformat_minor": 0,
 "worksheets": [
  {
   "cells": [
    {
     "cell_type": "markdown",
     "metadata": {
      "slideshow": {
       "slide_type": "slide"
      }
     },
     "source": [
      "<h1><center>DKFZ\u534e\u4eba\u4e3b\u9898\u65b0\u5e74\u4f1a</center></h1>\n",
      "<center>Interactive Demo</center>"
     ]
    },
    {
     "cell_type": "code",
     "collapsed": false,
     "input": [
      "#\u521d\u59cb\u5316\n",
      "from IPython.display import YouTubeVideo, Image"
     ],
     "language": "python",
     "metadata": {
      "slideshow": {
       "slide_type": "skip"
      }
     },
     "outputs": [],
     "prompt_number": 2
    },
    {
     "cell_type": "markdown",
     "metadata": {
      "slideshow": {
       "slide_type": "slide"
      }
     },
     "source": [
      "<center><h2>\u96f6\uff1a\u7b80\u4ecb</h2></center>"
     ]
    },
    {
     "cell_type": "markdown",
     "metadata": {
      "slideshow": {
       "slide_type": "fragment"
      }
     },
     "source": [
      "<ul>\n",
      "<li>\u8be5\u6587\u6863\u4e3a\u8282\u76ee\u53c2\u8003\u76ee\u5f55\u3002</li>\n",
      "<li>\u76ee\u5f55\uff1a</li>\n",
      "    <ul>\n",
      "    <li>\u58f9\uff1a\u5408\u5531\u90e8\u5206</li>\n",
      "    <li>\u8d30\uff1a\u5668\u4e50\u90e8\u5206</li>\n",
      "    <li>\u53c1\uff1a\u5176\u4ed6\u90e8\u5206</li>\n",
      "    <li>\u8086\uff1a\u80cc\u666f\u97f3\u4e50\u53c2\u8003</li>\n",
      "    </ul>\n",
      "</ul>"
     ]
    },
    {
     "cell_type": "markdown",
     "metadata": {
      "slideshow": {
       "slide_type": "fragment"
      }
     },
     "source": [
      "* \u4e0b\u6b21\u6392\u7ec3\u65f6\u95f4\uff08\u6682\u5b9a\uff09\uff1a2014\u5e741\u67085\u65e5\uff0c\u4e0b\u5348\uff0c\u5177\u4f53\u65f6\u95f4\u53e6\u884c\u901a\u77e5\n",
      "* [\u5730\u70b9](https://www.google.com/maps/preview#!q=Deutsches+Krebsforschungszentrum&data=!2m1!1e3!4m37!1m36!4m8!1m3!1d2853!2d8.6740134!3d49.4136761!3m2!1i1098!2i844!4f13.1!10b1!19m6!1e1!1e2!1e9!1e10!1e12!4smaps_sv.tactile!20m13!1e1!1e2!1e3!1e4!1e5!1e9!1e10!1e11!1e12!2m2!1i203!2i100!5smaps_sv.tactile!26m4!1e12!1e13!1e3!4smaps_sv.tactile&fid=7): \u70b9\u8fdb\u94fe\u63a5\uff0c\u4e3b\u697c\u5de6\u8fb9\u7684\u90a3\u4e2a\u5706\u623f\u5b50\u5c31\u662f\u3002"
     ]
    },
    {
     "cell_type": "markdown",
     "metadata": {
      "slideshow": {
       "slide_type": "notes"
      }
     },
     "source": [
      "* \u53e6\u5916\uff0cTo: \u9700\u8981\u5904\u7406\uff08\u4efb\u4f55\uff09\u6570\u636e\u7684\u79d1\u5b66\u5de5\u4f5c\u8005\u770b\u4e00\u4e0b\u8fd9\u4e2a\uff1a\n",
      "* ipython notebook\u57fa\u7840\u6559\u7a0b\uff08\u5899\u88c2\u63a8\u8350\uff09\uff1a"
     ]
    },
    {
     "cell_type": "code",
     "collapsed": false,
     "input": [
      "#scipy 2013 Tutorial\n",
      "YouTubeVideo('xe_ATRmw0KM')"
     ],
     "language": "python",
     "metadata": {
      "slideshow": {
       "slide_type": "skip"
      }
     },
     "outputs": [
      {
       "html": [
        "\n",
        "        <iframe\n",
        "            width=\"400\"\n",
        "            height=300\"\n",
        "            src=\"http://www.youtube.com/embed/xe_ATRmw0KM\"\n",
        "            frameborder=\"0\"\n",
        "            allowfullscreen\n",
        "        ></iframe>\n",
        "        "
       ],
       "metadata": {},
       "output_type": "pyout",
       "prompt_number": 3,
       "text": [
        "<IPython.lib.display.YouTubeVideo at 0x103132c10>"
       ]
      }
     ],
     "prompt_number": 3
    },
    {
     "cell_type": "markdown",
     "metadata": {
      "slideshow": {
       "slide_type": "slide"
      }
     },
     "source": [
      "<h2><center> \u58f9\uff1a\u5408\u5531\u90e8\u5206 </center></h2>\n",
      "<font color = \"red\"><center>\u5df2\u5b9a\u8309\u8389\u82b1</center></font>"
     ]
    },
    {
     "cell_type": "markdown",
     "metadata": {
      "slideshow": {
       "slide_type": "fragment"
      }
     },
     "source": [
      "<h2>12\u67088\u65e5\u9996\u6b21\u6392\u7ec3\u5408\u5531\u7ec4\u6210\u5458\u540d\u5355\u53ca\u8bd5\u97f3\u97f3\u57df\uff08\u6210\u5458\u6301\u7eed\u62db\u52df\u4e2d\uff09</h2>"
     ]
    },
    {
     "cell_type": "markdown",
     "metadata": {
      "slideshow": {
       "slide_type": "fragment"
      }
     },
     "source": [
      "* \u603b\u76d1\uff1a\n",
      "    * \u9ad8\u73ca\u73ca\uff1a\u4e2d\u9ad8"
     ]
    },
    {
     "cell_type": "markdown",
     "metadata": {
      "slideshow": {
       "slide_type": "fragment"
      }
     },
     "source": [
      "* \u5973\u751f\uff1a\n",
      "    * \u5218\u674e\u73cd\uff1a\u4e2d\u504f\u9ad8\n",
      "    * \u738b\u7d2b\u8559\uff1a\u9ad8\n",
      "    * \u6c64\u6668\u6668\uff1a\u5168\u80fd\n",
      "    * \u67f3\u559c\u6d0b\uff1a\u4e2d\u4f4e\n",
      "    * \u949f\u8587\u8587\uff1a\u4e2d\n",
      "    * \u7ae0\u5a1f\u5a1f\uff1a\u9ad8"
     ]
    },
    {
     "cell_type": "markdown",
     "metadata": {
      "slideshow": {
       "slide_type": "fragment"
      }
     },
     "source": [
      "* \u7537\u751f\uff1a\n",
      "    * \u9648\u4f2f\u671b\uff1a\u4e2d\u9ad8\n",
      "    * \u9ec4\u667a\u52e4\uff1a\u9ad8"
     ]
    },
    {
     "cell_type": "code",
     "collapsed": false,
     "input": [
      "#\uff01\u8309\u8389\u82b1 \u5b8b\u7956\u82f1\n",
      "YouTubeVideo('szkl60mtdJ0')"
     ],
     "language": "python",
     "metadata": {
      "slideshow": {
       "slide_type": "subslide"
      }
     },
     "outputs": [
      {
       "html": [
        "\n",
        "        <iframe\n",
        "            width=\"400\"\n",
        "            height=300\"\n",
        "            src=\"http://www.youtube.com/embed/szkl60mtdJ0\"\n",
        "            frameborder=\"0\"\n",
        "            allowfullscreen\n",
        "        ></iframe>\n",
        "        "
       ],
       "metadata": {},
       "output_type": "pyout",
       "prompt_number": 2,
       "text": [
        "<IPython.lib.display.YouTubeVideo at 0x10222da50>"
       ]
      }
     ],
     "prompt_number": 2
    },
    {
     "cell_type": "code",
     "collapsed": false,
     "input": [
      "#\uff01\u8309\u8389\u82b1\n",
      "YouTubeVideo('9rf4iqUm-UE',start = 85)"
     ],
     "language": "python",
     "metadata": {
      "slideshow": {
       "slide_type": "subslide"
      }
     },
     "outputs": [
      {
       "html": [
        "\n",
        "        <iframe\n",
        "            width=\"400\"\n",
        "            height=300\"\n",
        "            src=\"http://www.youtube.com/embed/9rf4iqUm-UE?start=85\"\n",
        "            frameborder=\"0\"\n",
        "            allowfullscreen\n",
        "        ></iframe>\n",
        "        "
       ],
       "metadata": {},
       "output_type": "pyout",
       "prompt_number": 7,
       "text": [
        "<IPython.lib.display.YouTubeVideo at 0x10358d210>"
       ]
      }
     ],
     "prompt_number": 7
    },
    {
     "cell_type": "code",
     "collapsed": false,
     "input": [
      "#\u8309\u8389\u82b1\u4f34\u594f\n",
      "#YouTubeVideo('WPSRMyaOX0U') #\u616260s\n",
      "YouTubeVideo('oHEHsxxK9FQ') #\u5feb40s"
     ],
     "language": "python",
     "metadata": {
      "slideshow": {
       "slide_type": "subslide"
      }
     },
     "outputs": [
      {
       "html": [
        "\n",
        "        <iframe\n",
        "            width=\"400\"\n",
        "            height=300\"\n",
        "            src=\"http://www.youtube.com/embed/oHEHsxxK9FQ\"\n",
        "            frameborder=\"0\"\n",
        "            allowfullscreen\n",
        "        ></iframe>\n",
        "        "
       ],
       "metadata": {},
       "output_type": "pyout",
       "prompt_number": 4,
       "text": [
        "<IPython.lib.display.YouTubeVideo at 0x10358bd50>"
       ]
      }
     ],
     "prompt_number": 4
    },
    {
     "cell_type": "markdown",
     "metadata": {
      "slideshow": {
       "slide_type": "slide"
      }
     },
     "source": [
      "* \u9644\uff1a\u6b4c\u8bcd"
     ]
    },
    {
     "cell_type": "code",
     "collapsed": false,
     "input": [
      "Image(\"/Users/chenchen/Desktop/image001.jpg\")"
     ],
     "language": "python",
     "metadata": {
      "slideshow": {
       "slide_type": "subslide"
      }
     },
     "outputs": [
      {
       "jpeg": "[encoded data removed]",
       "metadata": {},
       "output_type": "pyout",
       "prompt_number": 7,
       "text": [
        "<IPython.core.display.Image at 0x1031cf590>"
       ]
      }
     ],
     "prompt_number": 7
    },
    {
     "cell_type": "code",
     "collapsed": false,
     "input": [
      "Image(\"/Users/chenchen/Desktop/image002.jpg\")"
     ],
     "language": "python",
     "metadata": {
      "slideshow": {
       "slide_type": "subslide"
      }
     },
     "outputs": [
      {
       "jpeg": "[encoded data removed]",
       "metadata": {},
       "output_type": "pyout",
       "prompt_number": 8,
       "text": [
        "<IPython.core.display.Image at 0x1031cf6d0>"
       ]
      }
     ],
     "prompt_number": 8
    },
    {
     "cell_type": "markdown",
     "metadata": {
      "slideshow": {
       "slide_type": "slide"
      }
     },
     "source": [
      "<h2> <center>\u8d30\uff1a \u5668\u4e50\u90e8\u5206</center></h2>\n",
      "<center>\u9884\u671f\u6548\u679c\u5c55\u793a</center>"
     ]
    },
    {
     "cell_type": "code",
     "collapsed": false,
     "input": [
      "# \u5c0f\u63d0\u7434\uff1a\u6e14\u821f\u5531\u665a\n",
      "#Fishermans night song \n",
      "YouTubeVideo('mgimzBcSHHU',start=30)"
     ],
     "language": "python",
     "metadata": {
      "slideshow": {
       "slide_type": "subslide"
      }
     },
     "outputs": [
      {
       "html": [
        "\n",
        "        <iframe\n",
        "            width=\"400\"\n",
        "            height=300\"\n",
        "            src=\"http://www.youtube.com/embed/mgimzBcSHHU?start=30\"\n",
        "            frameborder=\"0\"\n",
        "            allowfullscreen\n",
        "        ></iframe>\n",
        "        "
       ],
       "metadata": {},
       "output_type": "pyout",
       "prompt_number": 6,
       "text": [
        "<IPython.lib.display.YouTubeVideo at 0x1025e0790>"
       ]
      }
     ],
     "prompt_number": 6
    },
    {
     "cell_type": "code",
     "collapsed": false,
     "input": [
      "# \u5c0f\u63d0\u7434\uff1a\u82b1\u513f\u4e3a\u4ec0\u4e48\u8fd9\u6837\u7ea2 \n",
      "# Why are the Flowers Fiery red\n",
      "YouTubeVideo('evsb-ExHriQ', start=155)"
     ],
     "language": "python",
     "metadata": {
      "slideshow": {
       "slide_type": "subslide"
      }
     },
     "outputs": [
      {
       "html": [
        "\n",
        "        <iframe\n",
        "            width=\"400\"\n",
        "            height=300\"\n",
        "            src=\"http://www.youtube.com/embed/evsb-ExHriQ?start=155\"\n",
        "            frameborder=\"0\"\n",
        "            allowfullscreen\n",
        "        ></iframe>\n",
        "        "
       ],
       "metadata": {},
       "output_type": "pyout",
       "prompt_number": 12,
       "text": [
        "<IPython.lib.display.YouTubeVideo at 0x1025e0d10>"
       ]
      }
     ],
     "prompt_number": 12
    },
    {
     "cell_type": "code",
     "collapsed": false,
     "input": [
      "#\u94a2\u7434\uff1a\u6c34\u8349\u821e\n",
      "YouTubeVideo('FMlwvz-4XPg')"
     ],
     "language": "python",
     "metadata": {
      "slideshow": {
       "slide_type": "subslide"
      }
     },
     "outputs": [
      {
       "html": [
        "\n",
        "        <iframe\n",
        "            width=\"400\"\n",
        "            height=300\"\n",
        "            src=\"http://www.youtube.com/embed/FMlwvz-4XPg\"\n",
        "            frameborder=\"0\"\n",
        "            allowfullscreen\n",
        "        ></iframe>\n",
        "        "
       ],
       "metadata": {},
       "output_type": "pyout",
       "prompt_number": 10,
       "text": [
        "<IPython.lib.display.YouTubeVideo at 0x1031cf750>"
       ]
      }
     ],
     "prompt_number": 10
    },
    {
     "cell_type": "code",
     "collapsed": false,
     "input": [
      "#\u6e14\u821f\u5531\u665a \u53e4\u7b5d\u7435\u7436\u7248\n",
      "YouTubeVideo('EGB7HfYWNbM')"
     ],
     "language": "python",
     "metadata": {
      "slideshow": {
       "slide_type": "subslide"
      }
     },
     "outputs": [
      {
       "html": [
        "\n",
        "        <iframe\n",
        "            width=\"400\"\n",
        "            height=300\"\n",
        "            src=\"http://www.youtube.com/embed/EGB7HfYWNbM\"\n",
        "            frameborder=\"0\"\n",
        "            allowfullscreen\n",
        "        ></iframe>\n",
        "        "
       ],
       "metadata": {},
       "output_type": "pyout",
       "prompt_number": 11,
       "text": [
        "<IPython.lib.display.YouTubeVideo at 0x1031cf7d0>"
       ]
      }
     ],
     "prompt_number": 11
    },
    {
     "cell_type": "markdown",
     "metadata": {
      "slideshow": {
       "slide_type": "slide"
      }
     },
     "source": [
      "<h2><center>\u53c1\uff1a\u5176\u4ed6\u90e8\u5206</h2></center>\n",
      "<center>\u5907\u9009\u8282\u76ee\uff0c\u9700\u8981\u5fd7\u613f\u8005\u3002\u53ea\u8981\u6709\u4eba\uff0c\u523b\u5f20CD\u5c31\u80fd\u4e0a\u3002</center>"
     ]
    },
    {
     "cell_type": "code",
     "collapsed": false,
     "input": [
      "#1\u9ec4\u6885\u620f \u5973\u9a78\u9a6c \uff08\u5df2\u5b9a, \u9700\u8981\u627e\u4f34\u594f\u7248\u672c\uff09\n",
      "YouTubeVideo('TRDEMrYFuFw')"
     ],
     "language": "python",
     "metadata": {
      "slideshow": {
       "slide_type": "subslide"
      }
     },
     "outputs": [
      {
       "html": [
        "\n",
        "        <iframe\n",
        "            width=\"400\"\n",
        "            height=300\"\n",
        "            src=\"http://www.youtube.com/embed/TRDEMrYFuFw\"\n",
        "            frameborder=\"0\"\n",
        "            allowfullscreen\n",
        "        ></iframe>\n",
        "        "
       ],
       "metadata": {},
       "output_type": "pyout",
       "prompt_number": 23,
       "text": [
        "<IPython.lib.display.YouTubeVideo at 0x104f63650>"
       ]
      }
     ],
     "prompt_number": 23
    },
    {
     "cell_type": "code",
     "collapsed": false,
     "input": [
      "#2\u6211\u5bb6\u7684\u8868\u53d4\n",
      "YouTubeVideo('2P-s7x7xD_4')"
     ],
     "language": "python",
     "metadata": {
      "slideshow": {
       "slide_type": "subslide"
      }
     },
     "outputs": [
      {
       "html": [
        "\n",
        "        <iframe\n",
        "            width=\"400\"\n",
        "            height=300\"\n",
        "            src=\"http://www.youtube.com/embed/2P-s7x7xD_4\"\n",
        "            frameborder=\"0\"\n",
        "            allowfullscreen\n",
        "        ></iframe>\n",
        "        "
       ],
       "metadata": {},
       "output_type": "pyout",
       "prompt_number": 24,
       "text": [
        "<IPython.lib.display.YouTubeVideo at 0x104f63d10>"
       ]
      }
     ],
     "prompt_number": 24
    },
    {
     "cell_type": "code",
     "collapsed": false,
     "input": [
      "#\u8c01\u8bf4\u5973\u5b50\u4e0d\u5982\u7537\uff0c\u56fd\u6bcd\u7248\n",
      "YouTubeVideo('wAdTee75pME')"
     ],
     "language": "python",
     "metadata": {
      "slideshow": {
       "slide_type": "subslide"
      }
     },
     "outputs": [
      {
       "html": [
        "\n",
        "        <iframe\n",
        "            width=\"400\"\n",
        "            height=300\"\n",
        "            src=\"http://www.youtube.com/embed/wAdTee75pME\"\n",
        "            frameborder=\"0\"\n",
        "            allowfullscreen\n",
        "        ></iframe>\n",
        "        "
       ],
       "metadata": {},
       "output_type": "pyout",
       "prompt_number": 28,
       "text": [
        "<IPython.lib.display.YouTubeVideo at 0x102d7b250>"
       ]
      }
     ],
     "prompt_number": 28
    },
    {
     "cell_type": "markdown",
     "metadata": {
      "slideshow": {
       "slide_type": "slide"
      }
     },
     "source": [
      "<h2><center>\u8086\uff1a\u80cc\u666f\u97f3\u4e50\u53c2\u8003</h2></center>"
     ]
    },
    {
     "cell_type": "code",
     "collapsed": false,
     "input": [
      "#\u82b1\u597d\u6708\u5706\n",
      "YouTubeVideo('1IpInD9dAlA')"
     ],
     "language": "python",
     "metadata": {
      "slideshow": {
       "slide_type": "subslide"
      }
     },
     "outputs": [
      {
       "html": [
        "\n",
        "        <iframe\n",
        "            width=\"400\"\n",
        "            height=300\"\n",
        "            src=\"http://www.youtube.com/embed/1IpInD9dAlA\"\n",
        "            frameborder=\"0\"\n",
        "            allowfullscreen\n",
        "        ></iframe>\n",
        "        "
       ],
       "metadata": {},
       "output_type": "pyout",
       "prompt_number": 3,
       "text": [
        "<IPython.lib.display.YouTubeVideo at 0x103401610>"
       ]
      }
     ],
     "prompt_number": 3
    },
    {
     "cell_type": "code",
     "collapsed": false,
     "input": [
      "#\u6625\u8282\u5e8f\u66f2\n",
      "YouTubeVideo('6VU4k206QhU', start = 20)"
     ],
     "language": "python",
     "metadata": {
      "slideshow": {
       "slide_type": "subslide"
      }
     },
     "outputs": [
      {
       "html": [
        "\n",
        "        <iframe\n",
        "            width=\"400\"\n",
        "            height=300\"\n",
        "            src=\"http://www.youtube.com/embed/6VU4k206QhU?start=20\"\n",
        "            frameborder=\"0\"\n",
        "            allowfullscreen\n",
        "        ></iframe>\n",
        "        "
       ],
       "metadata": {},
       "output_type": "pyout",
       "prompt_number": 3,
       "text": [
        "<IPython.lib.display.YouTubeVideo at 0x102f403d0>"
       ]
      }
     ],
     "prompt_number": 3
    },
    {
     "cell_type": "code",
     "collapsed": false,
     "input": [
      "#\u96be\u5fd8\u4eca\u5bb5\n",
      "YouTubeVideo(\"l1-WVn5QPxg\")"
     ],
     "language": "python",
     "metadata": {
      "slideshow": {
       "slide_type": "subslide"
      }
     },
     "outputs": [
      {
       "html": [
        "\n",
        "        <iframe\n",
        "            width=\"400\"\n",
        "            height=300\"\n",
        "            src=\"http://www.youtube.com/embed/l1-WVn5QPxg\"\n",
        "            frameborder=\"0\"\n",
        "            allowfullscreen\n",
        "        ></iframe>\n",
        "        "
       ],
       "metadata": {},
       "output_type": "pyout",
       "prompt_number": 5,
       "text": [
        "<IPython.lib.display.YouTubeVideo at 0x102f405d0>"
       ]
      }
     ],
     "prompt_number": 5
    },
    {
     "cell_type": "code",
     "collapsed": false,
     "input": [
      "#\u96be\u5fd8\u4eca\u5bb5 \u7eaf\u97f3\u4e50\n",
      "YouTubeVideo(\"E9AmbWwS8Dk\")"
     ],
     "language": "python",
     "metadata": {
      "slideshow": {
       "slide_type": "subslide"
      }
     },
     "outputs": [
      {
       "html": [
        "\n",
        "        <iframe\n",
        "            width=\"400\"\n",
        "            height=300\"\n",
        "            src=\"http://www.youtube.com/embed/E9AmbWwS8Dk\"\n",
        "            frameborder=\"0\"\n",
        "            allowfullscreen\n",
        "        ></iframe>\n",
        "        "
       ],
       "metadata": {},
       "output_type": "pyout",
       "prompt_number": 6,
       "text": [
        "<IPython.lib.display.YouTubeVideo at 0x102f40ad0>"
       ]
      }
     ],
     "prompt_number": 6
    },
    {
     "cell_type": "code",
     "collapsed": false,
     "input": [
      "#\u8d5b\u9a6c\n",
      "YouTubeVideo('2ccN1xub45k', start = 6)"
     ],
     "language": "python",
     "metadata": {
      "slideshow": {
       "slide_type": "subslide"
      }
     },
     "outputs": [
      {
       "html": [
        "\n",
        "        <iframe\n",
        "            width=\"400\"\n",
        "            height=300\"\n",
        "            src=\"http://www.youtube.com/embed/2ccN1xub45k?start=6\"\n",
        "            frameborder=\"0\"\n",
        "            allowfullscreen\n",
        "        ></iframe>\n",
        "        "
       ],
       "metadata": {},
       "output_type": "pyout",
       "prompt_number": 16,
       "text": [
        "<IPython.lib.display.YouTubeVideo at 0x10343a650>"
       ]
      }
     ],
     "prompt_number": 16
    },
    {
     "cell_type": "code",
     "collapsed": false,
     "input": [
      "#\u6b65\u6b65\u9ad8\n",
      "YouTubeVideo('ugN0CdyUJJM')"
     ],
     "language": "python",
     "metadata": {
      "slideshow": {
       "slide_type": "subslide"
      }
     },
     "outputs": [
      {
       "html": [
        "\n",
        "        <iframe\n",
        "            width=\"400\"\n",
        "            height=300\"\n",
        "            src=\"http://www.youtube.com/embed/ugN0CdyUJJM\"\n",
        "            frameborder=\"0\"\n",
        "            allowfullscreen\n",
        "        ></iframe>\n",
        "        "
       ],
       "metadata": {},
       "output_type": "pyout",
       "prompt_number": 12,
       "text": [
        "<IPython.lib.display.YouTubeVideo at 0x10343a1d0>"
       ]
      }
     ],
     "prompt_number": 12
    },
    {
     "cell_type": "code",
     "collapsed": false,
     "input": [
      "#\u9a8f\u9a6c\u5954\u9a70\n",
      "YouTubeVideo('oMKIvEOzw5A')"
     ],
     "language": "python",
     "metadata": {
      "slideshow": {
       "slide_type": "subslide"
      }
     },
     "outputs": [
      {
       "html": [
        "\n",
        "        <iframe\n",
        "            width=\"400\"\n",
        "            height=300\"\n",
        "            src=\"http://www.youtube.com/embed/oMKIvEOzw5A\"\n",
        "            frameborder=\"0\"\n",
        "            allowfullscreen\n",
        "        ></iframe>\n",
        "        "
       ],
       "metadata": {},
       "output_type": "pyout",
       "prompt_number": 13,
       "text": [
        "<IPython.lib.display.YouTubeVideo at 0x10343a290>"
       ]
      }
     ],
     "prompt_number": 13
    },
    {
     "cell_type": "code",
     "collapsed": false,
     "input": [
      "#\u5317\u4eac\u559c\u8baf\u5230\u8fb9\u5be8\n",
      "YouTubeVideo('2BR4gyVEkEg', start=45)"
     ],
     "language": "python",
     "metadata": {
      "slideshow": {
       "slide_type": "subslide"
      }
     },
     "outputs": [
      {
       "html": [
        "\n",
        "        <iframe\n",
        "            width=\"400\"\n",
        "            height=300\"\n",
        "            src=\"http://www.youtube.com/embed/2BR4gyVEkEg?start=45\"\n",
        "            frameborder=\"0\"\n",
        "            allowfullscreen\n",
        "        ></iframe>\n",
        "        "
       ],
       "metadata": {},
       "output_type": "pyout",
       "prompt_number": 9,
       "text": [
        "<IPython.lib.display.YouTubeVideo at 0x103401a50>"
       ]
      }
     ],
     "prompt_number": 9
    },
    {
     "cell_type": "markdown",
     "metadata": {
      "slideshow": {
       "slide_type": "slide"
      }
     },
     "source": [
      "<h2> $\\infty$\uff1a\u4f5c\u8005\u8349\u7a3f\u4e13\u7528 </h2>"
     ]
    },
    {
     "cell_type": "code",
     "collapsed": false,
     "input": [
      "#\u4e00\u751f\u6240\u7231\n",
      "YouTubeVideo('1S6pNlVNkJ0')"
     ],
     "language": "python",
     "metadata": {
      "slideshow": {
       "slide_type": "subslide"
      }
     },
     "outputs": [
      {
       "html": [
        "\n",
        "        <iframe\n",
        "            width=\"400\"\n",
        "            height=300\"\n",
        "            src=\"http://www.youtube.com/embed/1S6pNlVNkJ0\"\n",
        "            frameborder=\"0\"\n",
        "            allowfullscreen\n",
        "        ></iframe>\n",
        "        "
       ],
       "metadata": {},
       "output_type": "pyout",
       "prompt_number": 5,
       "text": [
        "<IPython.lib.display.YouTubeVideo at 0x10358d750>"
       ]
      }
     ],
     "prompt_number": 5
    },
    {
     "cell_type": "code",
     "collapsed": false,
     "input": [],
     "language": "python",
     "metadata": {
      "slideshow": {
       "slide_type": "skip"
      }
     },
     "outputs": []
    },
    {
     "cell_type": "code",
     "collapsed": false,
     "input": [
      "#YouTubeVideo('EckWHa1QvDU', start = 190) #\u590d\u8d5b\n",
      "YouTubeVideo('qCRdaRyAoMM',start=190) #\u534a\u51b3\u8d5b\n",
      "#YouTubeVideo('NNUzJ2rhw2k',start = 182) #\u5468\u6770\u4f26 \u6597\u7434\n",
      "#YouTubeVideo('aJDak07xSkg', start = 7) #Mac tini\n",
      "#YouTubeVideo('iYWzMvlj2RQ') #Nvidia vs Linux \n",
      "#YouTubeVideo('7tHc9xWhFH4') #Haydn - Emperor Quartet Mvt.2"
     ],
     "language": "python",
     "metadata": {
      "slideshow": {
       "slide_type": "skip"
      }
     },
     "outputs": [
      {
       "html": [
        "\n",
        "        <iframe\n",
        "            width=\"400\"\n",
        "            height=300\"\n",
        "            src=\"http://www.youtube.com/embed/qCRdaRyAoMM?start=190\"\n",
        "            frameborder=\"0\"\n",
        "            allowfullscreen\n",
        "        ></iframe>\n",
        "        "
       ],
       "metadata": {},
       "output_type": "pyout",
       "prompt_number": 7,
       "text": [
        "<IPython.lib.display.YouTubeVideo at 0x102f2f710>"
       ]
      }
     ],
     "prompt_number": 7
    },
    {
     "cell_type": "code",
     "collapsed": false,
     "input": [
      "%qtconsole"
     ],
     "language": "python",
     "metadata": {
      "slideshow": {
       "slide_type": "skip"
      }
     },
     "outputs": [],
     "prompt_number": 11
    },
    {
     "cell_type": "code",
     "collapsed": false,
     "input": [],
     "language": "python",
     "metadata": {},
     "outputs": []
    }
   ],
   "metadata": {}
  }
 ]
}