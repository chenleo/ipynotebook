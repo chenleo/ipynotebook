{
 "metadata": {
  "name": ""
 },
 "nbformat": 3,
 "nbformat_minor": 0,
 "worksheets": [
  {
   "cells": [
    {
     "cell_type": "markdown",
     "metadata": {
      "slideshow": {
       "slide_type": "slide"
      }
     },
     "source": [
      "<h1><center>DKFZ\u534e\u4eba\u4e3b\u9898\u65b0\u5e74\u4f1a</center></h1>\n",
      "<center>Interactive Demo</center>"
     ]
    },
    {
     "cell_type": "code",
     "collapsed": false,
     "input": [
      "#\u521d\u59cb\u5316\n",
      "from IPython.display import YouTubeVideo, HTML"
     ],
     "language": "python",
     "metadata": {
      "slideshow": {
       "slide_type": "skip"
      }
     },
     "outputs": [],
     "prompt_number": 39
    },
    {
     "cell_type": "markdown",
     "metadata": {
      "slideshow": {
       "slide_type": "subslide"
      }
     },
     "source": [
      "<center><h2>\u96f6\uff1a\u7b80\u4ecb</h2></center>"
     ]
    },
    {
     "cell_type": "markdown",
     "metadata": {
      "slideshow": {
       "slide_type": "fragment"
      }
     },
     "source": [
      "<ul>\n",
      "<li>\u8be5\u6587\u6863\u4e3a\u8282\u76ee\u53c2\u8003\u76ee\u5f55\u3002</li>\n",
      "<li>\u8bf7\u5927\u5bb6\u5173\u6ce8\u4e00\u4e0b<font color=\"red\">\u5408\u5531\u90e8\u5206</font>\u548c<font color=\"blue\">\u5176\u4ed6\u90e8\u5206</font>\u3002</li>\n",
      "<li>\u76ee\u5f55\uff1a</li>\n",
      "    <ul>\n",
      "    <li>\u58f9\uff1a\u5408\u5531\u90e8\u5206</li>\n",
      "    <li>\u8d30\uff1a\u5668\u4e50\u90e8\u5206</li>\n",
      "    <li>\u53c1\uff1a\u5176\u4ed6\u90e8\u5206</li>\n",
      "    </ul>\n",
      "</ul>"
     ]
    },
    {
     "cell_type": "markdown",
     "metadata": {},
     "source": [
      "* \u9996\u6b21\u6392\u7ec3\u65f6\u95f4\uff1a12\u67088\u65e5\u4e0b\u5348\u4e09\u70b9\u534a\u5230\u516d\u70b9\n",
      "* [\u5730\u70b9](https://www.google.com/maps/preview#!q=Deutsches+Krebsforschungszentrum&data=!2m1!1e3!4m37!1m36!4m8!1m3!1d2853!2d8.6740134!3d49.4136761!3m2!1i1098!2i844!4f13.1!10b1!19m6!1e1!1e2!1e9!1e10!1e12!4smaps_sv.tactile!20m13!1e1!1e2!1e3!1e4!1e5!1e9!1e10!1e11!1e12!2m2!1i203!2i100!5smaps_sv.tactile!26m4!1e12!1e13!1e3!4smaps_sv.tactile&fid=7): \u70b9\u8fdb\u94fe\u63a5\uff0c\u4e3b\u697c\u5de6\u8fb9\u7684\u90a3\u4e2a\u5706\u623f\u5b50\u5c31\u662f\u3002"
     ]
    },
    {
     "cell_type": "markdown",
     "metadata": {
      "slideshow": {
       "slide_type": "subslide"
      }
     },
     "source": [
      "<h2><center> \u58f9\uff1a\u5408\u5531\u90e8\u5206 </center></h2>\n",
      "<font color = \"red\"><center>\u8bf7\u5927\u5bb6\u9009\u4e00\u4e0b\u81ea\u5df1\u559c\u6b22\u7684\u66f2\u76ee\uff0c\u6216\u8005\u63d0\u4f9b\u5176\u4ed6\u7684\u5efa\u8bae</center></font>"
     ]
    },
    {
     "cell_type": "code",
     "collapsed": false,
     "input": [
      "#\u8309\u8389\u82b1\n",
      "YouTubeVideo('9rf4iqUm-UE',start = 85)"
     ],
     "language": "python",
     "metadata": {
      "slideshow": {
       "slide_type": "fragment"
      }
     },
     "outputs": [
      {
       "html": [
        "\n",
        "        <iframe\n",
        "            width=\"400\"\n",
        "            height=300\"\n",
        "            src=\"http://www.youtube.com/embed/9rf4iqUm-UE?start=85\"\n",
        "            frameborder=\"0\"\n",
        "            allowfullscreen\n",
        "        ></iframe>\n",
        "        "
       ],
       "metadata": {},
       "output_type": "pyout",
       "prompt_number": 17,
       "text": [
        "<IPython.lib.display.YouTubeVideo at 0x1025e0750>"
       ]
      }
     ],
     "prompt_number": 17
    },
    {
     "cell_type": "code",
     "collapsed": false,
     "input": [
      "#\u540c\u4e00\u9996\u6b4c\n",
      "YouTubeVideo('vlLkdX5jhUw',start = 10)"
     ],
     "language": "python",
     "metadata": {
      "slideshow": {
       "slide_type": "fragment"
      }
     },
     "outputs": [
      {
       "html": [
        "\n",
        "        <iframe\n",
        "            width=\"400\"\n",
        "            height=300\"\n",
        "            src=\"http://www.youtube.com/embed/vlLkdX5jhUw?start=10\"\n",
        "            frameborder=\"0\"\n",
        "            allowfullscreen\n",
        "        ></iframe>\n",
        "        "
       ],
       "metadata": {},
       "output_type": "pyout",
       "prompt_number": 38,
       "text": [
        "<IPython.lib.display.YouTubeVideo at 0x102d7b710>"
       ]
      }
     ],
     "prompt_number": 38
    },
    {
     "cell_type": "code",
     "collapsed": false,
     "input": [
      "#Young Friends Gathering \u5e74\u8f7b\u7684\u670b\u53cb\u6765\u76f8\u4f1a\n",
      "YouTubeVideo('jD8-EX4Z9D8')"
     ],
     "language": "python",
     "metadata": {
      "slideshow": {
       "slide_type": "fragment"
      }
     },
     "outputs": [
      {
       "html": [
        "\n",
        "        <iframe\n",
        "            width=\"400\"\n",
        "            height=300\"\n",
        "            src=\"http://www.youtube.com/embed/jD8-EX4Z9D8\"\n",
        "            frameborder=\"0\"\n",
        "            allowfullscreen\n",
        "        ></iframe>\n",
        "        "
       ],
       "metadata": {},
       "output_type": "pyout",
       "prompt_number": 30,
       "text": [
        "<IPython.lib.display.YouTubeVideo at 0x102d7b350>"
       ]
      }
     ],
     "prompt_number": 30
    },
    {
     "cell_type": "code",
     "collapsed": false,
     "input": [
      "#\u5916\u5a46\u7684\u6f8e\u6e56\u6e7e\n",
      "YouTubeVideo('wrT8YH0xdy0',start = 10)"
     ],
     "language": "python",
     "metadata": {
      "slideshow": {
       "slide_type": "fragment"
      }
     },
     "outputs": [
      {
       "html": [
        "\n",
        "        <iframe\n",
        "            width=\"400\"\n",
        "            height=300\"\n",
        "            src=\"http://www.youtube.com/embed/wrT8YH0xdy0?start=10\"\n",
        "            frameborder=\"0\"\n",
        "            allowfullscreen\n",
        "        ></iframe>\n",
        "        "
       ],
       "metadata": {},
       "output_type": "pyout",
       "prompt_number": 31,
       "text": [
        "<IPython.lib.display.YouTubeVideo at 0x102d7b390>"
       ]
      }
     ],
     "prompt_number": 31
    },
    {
     "cell_type": "code",
     "collapsed": false,
     "input": [
      "#\u6b4c\u58f0\u4e0e\u5fae\u7b11\n",
      "YouTubeVideo('O88bLK5j9eE')"
     ],
     "language": "python",
     "metadata": {
      "slideshow": {
       "slide_type": "fragment"
      }
     },
     "outputs": [
      {
       "html": [
        "\n",
        "        <iframe\n",
        "            width=\"400\"\n",
        "            height=300\"\n",
        "            src=\"http://www.youtube.com/embed/O88bLK5j9eE\"\n",
        "            frameborder=\"0\"\n",
        "            allowfullscreen\n",
        "        ></iframe>\n",
        "        "
       ],
       "metadata": {},
       "output_type": "pyout",
       "prompt_number": 36,
       "text": [
        "<IPython.lib.display.YouTubeVideo at 0x102d7b550>"
       ]
      }
     ],
     "prompt_number": 36
    },
    {
     "cell_type": "code",
     "collapsed": false,
     "input": [
      "#\u7f8e\u4e3d\u7684\u8349\u539f\u6211\u7684\u5bb6\n",
      "YouTubeVideo('DC2dp1XVYjo')"
     ],
     "language": "python",
     "metadata": {
      "slideshow": {
       "slide_type": "fragment"
      }
     },
     "outputs": [
      {
       "html": [
        "\n",
        "        <iframe\n",
        "            width=\"400\"\n",
        "            height=300\"\n",
        "            src=\"http://www.youtube.com/embed/DC2dp1XVYjo\"\n",
        "            frameborder=\"0\"\n",
        "            allowfullscreen\n",
        "        ></iframe>\n",
        "        "
       ],
       "metadata": {},
       "output_type": "pyout",
       "prompt_number": 37,
       "text": [
        "<IPython.lib.display.YouTubeVideo at 0x102d7b590>"
       ]
      }
     ],
     "prompt_number": 37
    },
    {
     "cell_type": "code",
     "collapsed": false,
     "input": [
      "#\u706b\u8f66\u5411\u7740\u97f6\u5c71\u8dd1\n",
      "#\u5947\u8469\u7248\uff0c\u8bf7\u65e0\u89c6\u3002\n",
      "YouTubeVideo('Pn5MbK74sqM')"
     ],
     "language": "python",
     "metadata": {
      "slideshow": {
       "slide_type": "fragment"
      }
     },
     "outputs": [
      {
       "html": [
        "\n",
        "        <iframe\n",
        "            width=\"400\"\n",
        "            height=300\"\n",
        "            src=\"http://www.youtube.com/embed/Pn5MbK74sqM\"\n",
        "            frameborder=\"0\"\n",
        "            allowfullscreen\n",
        "        ></iframe>\n",
        "        "
       ],
       "metadata": {},
       "output_type": "pyout",
       "prompt_number": 34,
       "text": [
        "<IPython.lib.display.YouTubeVideo at 0x102d7b4d0>"
       ]
      }
     ],
     "prompt_number": 34
    },
    {
     "cell_type": "markdown",
     "metadata": {
      "slideshow": {
       "slide_type": "subslide"
      }
     },
     "source": [
      "<h2> <center>\u58f9\uff1a \u5668\u4e50\u90e8\u5206</center></h2>\n",
      "<center>\u9884\u671f\u6548\u679c\u5c55\u793a</center>"
     ]
    },
    {
     "cell_type": "code",
     "collapsed": false,
     "input": [
      "# \u5c0f\u63d0\u7434\uff1a\u6e14\u821f\u5531\u665a\n",
      "#Fishermans night song \n",
      "YouTubeVideo('mgimzBcSHHU',start=30)"
     ],
     "language": "python",
     "metadata": {
      "slideshow": {
       "slide_type": "fragment"
      }
     },
     "outputs": [
      {
       "html": [
        "\n",
        "        <iframe\n",
        "            width=\"400\"\n",
        "            height=300\"\n",
        "            src=\"http://www.youtube.com/embed/mgimzBcSHHU?start=30\"\n",
        "            frameborder=\"0\"\n",
        "            allowfullscreen\n",
        "        ></iframe>\n",
        "        "
       ],
       "metadata": {},
       "output_type": "pyout",
       "prompt_number": 6,
       "text": [
        "<IPython.lib.display.YouTubeVideo at 0x1025e0790>"
       ]
      }
     ],
     "prompt_number": 6
    },
    {
     "cell_type": "code",
     "collapsed": false,
     "input": [
      "# \u5c0f\u63d0\u7434\uff1a\u82b1\u513f\u4e3a\u4ec0\u4e48\u8fd9\u6837\u7ea2 \n",
      "# Why are the Flowers Fiery red\n",
      "YouTubeVideo('evsb-ExHriQ', start=155)"
     ],
     "language": "python",
     "metadata": {
      "slideshow": {
       "slide_type": "fragment"
      }
     },
     "outputs": [
      {
       "html": [
        "\n",
        "        <iframe\n",
        "            width=\"400\"\n",
        "            height=300\"\n",
        "            src=\"http://www.youtube.com/embed/evsb-ExHriQ?start=155\"\n",
        "            frameborder=\"0\"\n",
        "            allowfullscreen\n",
        "        ></iframe>\n",
        "        "
       ],
       "metadata": {},
       "output_type": "pyout",
       "prompt_number": 12,
       "text": [
        "<IPython.lib.display.YouTubeVideo at 0x1025e0d10>"
       ]
      }
     ],
     "prompt_number": 12
    },
    {
     "cell_type": "code",
     "collapsed": false,
     "input": [
      "#\u94a2\u7434\uff1a\u6c34\u8349\u821e\n",
      "YouTubeVideo('FMlwvz-4XPg')"
     ],
     "language": "python",
     "metadata": {
      "slideshow": {
       "slide_type": "fragment"
      }
     },
     "outputs": [
      {
       "html": [
        "\n",
        "        <iframe\n",
        "            width=\"400\"\n",
        "            height=300\"\n",
        "            src=\"http://www.youtube.com/embed/FMlwvz-4XPg\"\n",
        "            frameborder=\"0\"\n",
        "            allowfullscreen\n",
        "        ></iframe>\n",
        "        "
       ],
       "metadata": {},
       "output_type": "pyout",
       "prompt_number": 10,
       "text": [
        "<IPython.lib.display.YouTubeVideo at 0x1025e0650>"
       ]
      }
     ],
     "prompt_number": 10
    },
    {
     "cell_type": "markdown",
     "metadata": {
      "slideshow": {
       "slide_type": "subslide"
      }
     },
     "source": [
      "<h2><center>\u53c1\uff1a\u5176\u4ed6\u90e8\u5206</h2></center>\n",
      "<center>\u5907\u9009\u8282\u76ee\uff0c\u9700\u8981\u5fd7\u613f\u8005\u3002\u53ea\u8981\u6709\u4eba\uff0c\u523b\u5f20CD\u5c31\u80fd\u4e0a\u3002</center>"
     ]
    },
    {
     "cell_type": "code",
     "collapsed": false,
     "input": [
      "#\u5929\u4e0a\u6389\u4e0b\u4e2a\u6797\u59b9\u59b9\n",
      "YouTubeVideo('AWjK0yNAySg') "
     ],
     "language": "python",
     "metadata": {
      "slideshow": {
       "slide_type": "fragment"
      }
     },
     "outputs": [
      {
       "html": [
        "\n",
        "        <iframe\n",
        "            width=\"400\"\n",
        "            height=300\"\n",
        "            src=\"http://www.youtube.com/embed/AWjK0yNAySg\"\n",
        "            frameborder=\"0\"\n",
        "            allowfullscreen\n",
        "        ></iframe>\n",
        "        "
       ],
       "metadata": {},
       "output_type": "pyout",
       "prompt_number": 21,
       "text": [
        "<IPython.lib.display.YouTubeVideo at 0x1025e0f50>"
       ]
      }
     ],
     "prompt_number": 21
    },
    {
     "cell_type": "code",
     "collapsed": false,
     "input": [
      "#\u5929\u4e0a\u6389\u4e0b\u4e2a\u6797\u59b9\u59b9\n",
      "#\u9f9a\u7433\u5a1c\u4e2a\u4eba\u7248\n",
      "YouTubeVideo('5zXY-opd6Lc') "
     ],
     "language": "python",
     "metadata": {
      "slideshow": {
       "slide_type": "fragment"
      }
     },
     "outputs": [
      {
       "html": [
        "\n",
        "        <iframe\n",
        "            width=\"400\"\n",
        "            height=300\"\n",
        "            src=\"http://www.youtube.com/embed/5zXY-opd6Lc\"\n",
        "            frameborder=\"0\"\n",
        "            allowfullscreen\n",
        "        ></iframe>\n",
        "        "
       ],
       "metadata": {},
       "output_type": "pyout",
       "prompt_number": 27,
       "text": [
        "<IPython.lib.display.YouTubeVideo at 0x102d7b110>"
       ]
      }
     ],
     "prompt_number": 27
    },
    {
     "cell_type": "code",
     "collapsed": false,
     "input": [
      "#\u8c01\u8bf4\u5973\u5b50\u4e0d\u5982\u7537\uff0c\u56fd\u6bcd\u7248\n",
      "YouTubeVideo('wAdTee75pME')"
     ],
     "language": "python",
     "metadata": {
      "slideshow": {
       "slide_type": "fragment"
      }
     },
     "outputs": [
      {
       "html": [
        "\n",
        "        <iframe\n",
        "            width=\"400\"\n",
        "            height=300\"\n",
        "            src=\"http://www.youtube.com/embed/wAdTee75pME\"\n",
        "            frameborder=\"0\"\n",
        "            allowfullscreen\n",
        "        ></iframe>\n",
        "        "
       ],
       "metadata": {},
       "output_type": "pyout",
       "prompt_number": 28,
       "text": [
        "<IPython.lib.display.YouTubeVideo at 0x102d7b250>"
       ]
      }
     ],
     "prompt_number": 28
    },
    {
     "cell_type": "code",
     "collapsed": false,
     "input": [
      "#\u7ea2\u706f\u8bb0 \u6d51\u8eab\u662f\u80c6\u96c4\u8d73\u8d73\n",
      "YouTubeVideo('R1hX4rVmaLg',start = 8)"
     ],
     "language": "python",
     "metadata": {
      "slideshow": {
       "slide_type": "fragment"
      }
     },
     "outputs": [
      {
       "html": [
        "\n",
        "        <iframe\n",
        "            width=\"400\"\n",
        "            height=300\"\n",
        "            src=\"http://www.youtube.com/embed/R1hX4rVmaLg?start=8\"\n",
        "            frameborder=\"0\"\n",
        "            allowfullscreen\n",
        "        ></iframe>\n",
        "        "
       ],
       "metadata": {},
       "output_type": "pyout",
       "prompt_number": 23,
       "text": [
        "<IPython.lib.display.YouTubeVideo at 0x102d7b050>"
       ]
      }
     ],
     "prompt_number": 23
    },
    {
     "cell_type": "code",
     "collapsed": false,
     "input": [
      "#\u7a77\u4eba\u7684\u5b69\u5b50\u65e9\u5f53\u5bb6\n",
      "YouTubeVideo('v1E9jPs4jo0',start=6)"
     ],
     "language": "python",
     "metadata": {
      "slideshow": {
       "slide_type": "fragment"
      }
     },
     "outputs": [
      {
       "html": [
        "\n",
        "        <iframe\n",
        "            width=\"400\"\n",
        "            height=300\"\n",
        "            src=\"http://www.youtube.com/embed/v1E9jPs4jo0?start=6\"\n",
        "            frameborder=\"0\"\n",
        "            allowfullscreen\n",
        "        ></iframe>\n",
        "        "
       ],
       "metadata": {},
       "output_type": "pyout",
       "prompt_number": 25,
       "text": [
        "<IPython.lib.display.YouTubeVideo at 0x102d7b150>"
       ]
      }
     ],
     "prompt_number": 25
    },
    {
     "cell_type": "code",
     "collapsed": false,
     "input": [
      "#\u6d77\u6e2f \u5927\u540a\u8f66\u771f\u5389\u5bb3\n",
      "YouTubeVideo('v-X0WSW4D9Q')"
     ],
     "language": "python",
     "metadata": {
      "slideshow": {
       "slide_type": "fragment"
      }
     },
     "outputs": [
      {
       "html": [
        "\n",
        "        <iframe\n",
        "            width=\"400\"\n",
        "            height=300\"\n",
        "            src=\"http://www.youtube.com/embed/v-X0WSW4D9Q\"\n",
        "            frameborder=\"0\"\n",
        "            allowfullscreen\n",
        "        ></iframe>\n",
        "        "
       ],
       "metadata": {},
       "output_type": "pyout",
       "prompt_number": 29,
       "text": [
        "<IPython.lib.display.YouTubeVideo at 0x102d7b290>"
       ]
      }
     ],
     "prompt_number": 29
    },
    {
     "cell_type": "markdown",
     "metadata": {
      "slideshow": {
       "slide_type": "subslide"
      }
     },
     "source": [
      "<h2> $\\infty$\uff1a\u4f5c\u8005\u8349\u7a3f\u4e13\u7528 </h2>"
     ]
    },
    {
     "cell_type": "code",
     "collapsed": false,
     "input": [
      "#\u82b1\u597d\u6708\u5706\n",
      "YouTubeVideo('1IpInD9dAlA')"
     ],
     "language": "python",
     "metadata": {
      "slideshow": {
       "slide_type": "fragment"
      }
     },
     "outputs": [
      {
       "html": [
        "\n",
        "        <iframe\n",
        "            width=\"400\"\n",
        "            height=300\"\n",
        "            src=\"http://www.youtube.com/embed/1IpInD9dAlA\"\n",
        "            frameborder=\"0\"\n",
        "            allowfullscreen\n",
        "        ></iframe>\n",
        "        "
       ],
       "metadata": {},
       "output_type": "pyout",
       "prompt_number": 20,
       "text": [
        "<IPython.lib.display.YouTubeVideo at 0x1025e0cd0>"
       ]
      }
     ],
     "prompt_number": 20
    },
    {
     "cell_type": "code",
     "collapsed": false,
     "input": [
      "#YouTubeVideo('EckWHa1QvDU', start = 190) #\u590d\u8d5b\n",
      "#YouTubeVideo('qCRdaRyAoMM',start=190) #\u534a\u51b3\u8d5b\n",
      "YouTubeVideo('NNUzJ2rhw2k',start = 182) #\u5468\u6770\u4f26 \u6597\u7434\n",
      "#YouTubeVideo('aJDak07xSkg', start = 7) #Mac tini\n",
      "#YouTubeVideo('iYWzMvlj2RQ') #Nvidia vs Linux \n",
      "#YouTubeVideo('7tHc9xWhFH4') #Haydn - Emperor Quartet Mvt.2"
     ],
     "language": "python",
     "metadata": {
      "slideshow": {
       "slide_type": "fragment"
      }
     },
     "outputs": [
      {
       "html": [
        "\n",
        "        <iframe\n",
        "            width=\"400\"\n",
        "            height=300\"\n",
        "            src=\"http://www.youtube.com/embed/NNUzJ2rhw2k?start=182\"\n",
        "            frameborder=\"0\"\n",
        "            allowfullscreen\n",
        "        ></iframe>\n",
        "        "
       ],
       "metadata": {},
       "output_type": "pyout",
       "prompt_number": 35,
       "text": [
        "<IPython.lib.display.YouTubeVideo at 0x102d7b5d0>"
       ]
      }
     ],
     "prompt_number": 35
    },
    {
     "cell_type": "code",
     "collapsed": false,
     "input": [
      "%qtconsole"
     ],
     "language": "python",
     "metadata": {
      "slideshow": {
       "slide_type": "skip"
      }
     },
     "outputs": []
    }
   ],
   "metadata": {}
  }
 ]
}