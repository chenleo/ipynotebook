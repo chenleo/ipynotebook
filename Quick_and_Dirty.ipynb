{
 "metadata": {
  "name": ""
 },
 "nbformat": 3,
 "nbformat_minor": 0,
 "worksheets": [
  {
   "cells": [
    {
     "cell_type": "markdown",
     "metadata": {},
     "source": [
      "<center><h1>Quick and Dirty Storage</h1></center>\n",
      "<font color=blue><center>DEMO</font></center>"
     ]
    },
    {
     "cell_type": "code",
     "collapsed": false,
     "input": [
      "%qtconsole"
     ],
     "language": "python",
     "metadata": {},
     "outputs": [],
     "prompt_number": 6
    },
    {
     "cell_type": "code",
     "collapsed": false,
     "input": [
      "%pylab inline\n",
      "import pandas as pd"
     ],
     "language": "python",
     "metadata": {},
     "outputs": [
      {
       "output_type": "stream",
       "stream": "stdout",
       "text": [
        "Populating the interactive namespace from numpy and matplotlib\n"
       ]
      }
     ],
     "prompt_number": 1
    },
    {
     "cell_type": "code",
     "collapsed": false,
     "input": [
      "import sys, os\n",
      "sys.version"
     ],
     "language": "python",
     "metadata": {},
     "outputs": [
      {
       "metadata": {},
       "output_type": "pyout",
       "prompt_number": 2,
       "text": [
        "'2.7.5 |Anaconda 1.8.0 (x86_64)| (default, Oct 24 2013, 07:02:20) \\n[GCC 4.0.1 (Apple Inc. build 5493)]'"
       ]
      }
     ],
     "prompt_number": 2
    },
    {
     "cell_type": "code",
     "collapsed": false,
     "input": [
      "homeDir = '/Users/chenchen/Documents/Git/ipynotebook'\n",
      "homeDir"
     ],
     "language": "python",
     "metadata": {},
     "outputs": [
      {
       "metadata": {},
       "output_type": "pyout",
       "prompt_number": 59,
       "text": [
        "'/Users/chenchen/Documents/Git/ipynotebook'"
       ]
      }
     ],
     "prompt_number": 59
    },
    {
     "cell_type": "code",
     "collapsed": false,
     "input": [
      "#return to home dir\n",
      "os.chdir(homeDir)\n",
      "!pwd"
     ],
     "language": "python",
     "metadata": {},
     "outputs": [
      {
       "output_type": "stream",
       "stream": "stdout",
       "text": [
        "/Users/chenchen/Documents/Git/ipynotebook\r\n"
       ]
      }
     ],
     "prompt_number": 5
    },
    {
     "cell_type": "markdown",
     "metadata": {},
     "source": [
      "<h1>For introduction:</h1>"
     ]
    },
    {
     "cell_type": "markdown",
     "metadata": {},
     "source": [
      "<h3>#0.2.1 Immobolized Gaussian Pack</h3>"
     ]
    },
    {
     "cell_type": "code",
     "collapsed": false,
     "input": [
      "# plot wave pack and fft wave pack\n",
      "# change w and rerun\n",
      "timeLength = 128       #data length\n",
      "amplitude = 1          #amplitude\n",
      "peakWidth = 72.0       #Width, W > 0, and .0 is required\n",
      "timeIndex = arange(-timeLength/2,timeLength/2)\n",
      "data = amplitude*exp(-timeIndex**2/peakWidth)"
     ],
     "language": "python",
     "metadata": {},
     "outputs": [],
     "prompt_number": 35
    },
    {
     "cell_type": "code",
     "collapsed": false,
     "input": [
      "fig, axes = plt.subplots(2, 1, figsize=(9, 6))\n",
      "axes[0].plot(timeIndex, data)\n",
      "axes[0].set_title(\"Time Domain\")\n",
      "\n",
      "axes[1].plot(timeIndex, fftshift(abs(fft.fft(data))),'r')\n",
      "axes[1].set_title(\"Frequency Domain(FFT)\")\n",
      "fig.tight_layout()\n",
      "fig.show()"
     ],
     "language": "python",
     "metadata": {},
     "outputs": [
      {
       "metadata": {},
       "output_type": "display_data",
       "png": "[encoded data removed]",
       "text": [
        "<matplotlib.figure.Figure at 0x105daa050>"
       ]
      }
     ],
     "prompt_number": 36
    },
    {
     "cell_type": "markdown",
     "metadata": {},
     "source": [
      "<h3>#0.2.2 Non-immobolized gaussian peak: </h3>"
     ]
    },
    {
     "cell_type": "code",
     "collapsed": false,
     "input": [
      "# plot wave pack and fft wave pack\n",
      "# change tau and rerun\n",
      "timeLength = 128       #data length\n",
      "amplitude = 1          #amplitude\n",
      "peakWidth = 72.0       #Width\n",
      "timeIndex = arange(-timeLength/2,timeLength/2)\n",
      "\n",
      "tau = -20 #change this\n",
      "data = amplitude*exp(-(timeIndex-tau)**2/peakWidth)"
     ],
     "language": "python",
     "metadata": {},
     "outputs": [],
     "prompt_number": 51
    },
    {
     "cell_type": "code",
     "collapsed": false,
     "input": [
      "fig, axes = plt.subplots(2, 1, figsize=(6, 6))\n",
      "axes[0].plot(timeIndex, data)\n",
      "axes[0].set_title(\"Time Domain\")\n",
      "\n",
      "axes[1].plot(timeIndex, fftshift(abs(fft.fft(data))),'r')\n",
      "axes[1].set_title(\"Frequency Domain(FFT)\")\n",
      "fig.tight_layout()\n",
      "fig.show()"
     ],
     "language": "python",
     "metadata": {},
     "outputs": [
      {
       "metadata": {},
       "output_type": "display_data",
       "png": "[encoded data removed]",
       "text": [
        "<matplotlib.figure.Figure at 0x105db7e50>"
       ]
      }
     ],
     "prompt_number": 52
    },
    {
     "cell_type": "markdown",
     "metadata": {},
     "source": [
      "<h3>0.2.3 Noise:</h3>"
     ]
    },
    {
     "cell_type": "code",
     "collapsed": false,
     "input": [],
     "language": "python",
     "metadata": {},
     "outputs": [],
     "prompt_number": 351
    },
    {
     "cell_type": "markdown",
     "metadata": {},
     "source": [
      "<h3>0.2.4 filter:</h3>"
     ]
    },
    {
     "cell_type": "markdown",
     "metadata": {},
     "source": [
      "### A: T vs F"
     ]
    },
    {
     "cell_type": "code",
     "collapsed": false,
     "input": [
      "#A Gaussian plus noise \n",
      "N = 160       #data length\n",
      "A = 1          #amplitude\n",
      "W = 72.0       #Width, W > 0, and .0 is required\n",
      "\n",
      "noise_rate = 1 #noise rate, the magic part\n",
      "\n",
      "#Let's sample it for several times, this time do a time shift:\n",
      "sample_time = 30\n",
      "\n",
      "accumulated_dirty_data = zeros(N)"
     ],
     "language": "python",
     "metadata": {},
     "outputs": [],
     "prompt_number": 352
    },
    {
     "cell_type": "code",
     "collapsed": false,
     "input": [
      "##manual loop\n",
      "##for i in arange(sample_time):\n",
      "\n",
      "\n",
      "#time shift:\n",
      "tau = 50*sin(i)\n",
      "noise_data = noise_rate * randn(N)\n",
      "t = arange(-N/2,N/2)\n",
      "\n",
      "#clean data\n",
      "clean_data = A*exp(-(t-tau)**2/W)\n",
      "\n",
      "#add noise to generated dirty data\n",
      "dirty_data = clean_data.__add__(noise_data)\n",
      "\n",
      "#and accumulate them\n",
      "accumulated_dirty_data = accumulated_dirty_data + dirty_data\n",
      "\n",
      "figure(1)\n",
      "#plot clean data\n",
      "subplot(3,1,1)\n",
      "plot(clean_data)\n",
      "legend([\"clean data\"])\n",
      "\n",
      "subplot(3,1,2)\n",
      "plot(dirty_data)\n",
      "legend([\"dirty data\"])\n",
      "\n",
      "subplot(3,1,3)\n",
      "plot(accumulated_dirty_data)\n",
      "legend([\"Dirty accumulate data\"])\n",
      "#pause(0.3)\n",
      "i+= 1\n",
      "    \n",
      "everage_dirty_data = accumulated_dirty_data/sample_time"
     ],
     "language": "python",
     "metadata": {},
     "outputs": [
      {
       "metadata": {},
       "output_type": "display_data",
       "png": "[encoded data removed]",
       "text": [
        "<matplotlib.figure.Figure at 0x105ded590>"
       ]
      }
     ],
     "prompt_number": 371
    },
    {
     "cell_type": "markdown",
     "metadata": {},
     "source": [
      "### B: FFT Domain"
     ]
    },
    {
     "cell_type": "code",
     "collapsed": false,
     "input": [
      "#A Gaussian plus noise \n",
      "N = 160       #data length\n",
      "A = 1          #amplitude\n",
      "W = 72.0       #Width, W > 0, and .0 is required\n",
      "\n",
      "noise_rate = 1 #noise rate, the magic part\n",
      "\n",
      "#Let's sample it for several times, this time do a time shift:\n",
      "sample_time = 30\n",
      "\n",
      "accumulated_dirty_data = zeros(N)\n",
      "accumulated_dirty_data_fft = zeros(N)\n",
      "\n",
      "#loop \n",
      "i = 0"
     ],
     "language": "python",
     "metadata": {},
     "outputs": [],
     "prompt_number": 372
    },
    {
     "cell_type": "code",
     "collapsed": false,
     "input": [
      "##manual loop\n",
      "##for i in arange(sample_time):\n",
      "#time shift:\n",
      "tau = 50*sin(i)\n",
      "\n",
      "#noise\n",
      "noise_data = noise_rate * randn(N)\n",
      "t = arange(-N/2,N/2)\n",
      "\n",
      "#clean data\n",
      "clean_data = A*exp(-(t-tau)**2/W)\n",
      "\n",
      "#add noise to generate dirty data\n",
      "dirty_data = clean_data.__add__(noise_data)\n",
      "\n",
      "#accumulate dirty data\n",
      "accumulated_dirty_data = accumulated_dirty_data + dirty_data\n",
      "\n",
      "#fft dirty data and plus to accumulate_dirty_data_fft\n",
      "accumulated_dirty_data_fft = accumulated_dirty_data_fft + fft.fft(dirty_data)\n",
      "\n",
      "#i++\n",
      "i += 1 \n",
      "\n",
      "#after the loop, do the everage\n",
      "average_dirty_data = accumulated_dirty_data/sample_time\n",
      "average_dirty_data_fft = accumulated_dirty_data_fft/sample_time\n",
      "\n",
      "figure(1)\n",
      "#plot the averaged dirty data\n",
      "subplot(2,1,1)\n",
      "plot(average_dirty_data)\n",
      "legend([\"averaged dirty data\"])\n",
      "\n",
      "#plot the averaged fft\n",
      "subplot(2,1,2)\n",
      "plot(fftshift(abs(average_dirty_data_fft)))\n",
      "legend([\"averaged dirty data fft\"])\n",
      "show()"
     ],
     "language": "python",
     "metadata": {},
     "outputs": [
      {
       "metadata": {},
       "output_type": "display_data",
       "png": "[encoded data removed]",
       "text": [
        "<matplotlib.figure.Figure at 0x10b922210>"
       ]
      }
     ],
     "prompt_number": 400
    },
    {
     "cell_type": "code",
     "collapsed": false,
     "input": [],
     "language": "python",
     "metadata": {},
     "outputs": [],
     "prompt_number": 352
    },
    {
     "cell_type": "code",
     "collapsed": false,
     "input": [],
     "language": "python",
     "metadata": {},
     "outputs": [],
     "prompt_number": 352
    },
    {
     "cell_type": "code",
     "collapsed": false,
     "input": [
      "<ul>\n",
      "<li> Inside B040, every one knows how to calculate auto-correlation function</li>\n",
      "<li>The basic definition of auto-correlation function is:\n",
      "<center> $G(\\tau) = \\frac{<I(t)\\cdot I(t+\\tau)>}{<I(t)><I(t+\\tau)>}$</center>\n",
      "</li>\n",
      "<li> For the real calculation, we use:\n",
      "<center> $g(\\tau) = \\frac{<\\delta I(t)\\cdot \\delta I(t+\\tau)>}{<I(t)><I(t+\\tau)>}$\n",
      "</center></li>\n",
      "<li>The relation between $G(\\tau)$ and $g(\\tau)$ is:\n",
      "<center> $g(\\tau) = G(\\tau) -1$</center>\n",
      "</li>\n",
      "</ul>"
     ],
     "language": "python",
     "metadata": {},
     "outputs": []
    },
    {
     "cell_type": "code",
     "collapsed": false,
     "input": [
      "x = linspace(0, 5, 10)\n",
      "y = x ** 2"
     ],
     "language": "python",
     "metadata": {},
     "outputs": [],
     "prompt_number": 8
    },
    {
     "cell_type": "code",
     "collapsed": false,
     "input": [
      "fig, axes = plt.subplots(figsize=(12,3))\n",
      "\n",
      "axes.plot(x, y, 'r')\n",
      "axes.set_xlabel('x')\n",
      "axes.set_ylabel('y')\n",
      "axes.set_title('title');"
     ],
     "language": "python",
     "metadata": {},
     "outputs": [
      {
       "metadata": {},
       "output_type": "display_data",
       "png": "[encoded data removed]",
       "text": [
        "<matplotlib.figure.Figure at 0x105daa510>"
       ]
      }
     ],
     "prompt_number": 11
    },
    {
     "cell_type": "code",
     "collapsed": false,
     "input": [
      "fig, ax = plt.subplots()\n",
      "\n",
      "ax.plot(x, x**2, label=r\"$y = \\alpha^2$\")\n",
      "ax.plot(x, x**3, label=r\"$y = \\alpha^3$\")\n",
      "ax.set_xlabel(r'$\\alpha$', fontsize=18)\n",
      "ax.set_ylabel(r'$y$', fontsize=18)\n",
      "ax.set_title('title')\n",
      "ax.legend(loc=2); # upper left corner"
     ],
     "language": "python",
     "metadata": {},
     "outputs": [
      {
       "metadata": {},
       "output_type": "pyout",
       "prompt_number": 15,
       "text": [
        "<matplotlib.legend.Legend at 0x10621dd50>"
       ]
      },
      {
       "metadata": {},
       "output_type": "display_data",
       "png": "[encoded data removed]",
       "text": [
        "<matplotlib.figure.Figure at 0x106252d50>"
       ]
      }
     ],
     "prompt_number": 15
    },
    {
     "cell_type": "markdown",
     "metadata": {},
     "source": [
      "<h1>FCS</h1>"
     ]
    },
    {
     "cell_type": "code",
     "collapsed": false,
     "input": [
      "os.chdir(\"dataDemo20140109/FCSSimData/\")\n",
      "currentDir = '/Users/chenchen/Documents/Git/ipynotebook/dataDemo20140109/FCSSimData'\n",
      "currentDir"
     ],
     "language": "python",
     "metadata": {},
     "outputs": [
      {
       "metadata": {},
       "output_type": "pyout",
       "prompt_number": 16,
       "text": [
        "'/Users/chenchen/Documents/Git/ipynotebook/dataDemo20140109/FCSSimData'"
       ]
      }
     ],
     "prompt_number": 16
    },
    {
     "cell_type": "code",
     "collapsed": false,
     "input": [
      "fcsFrame = pd.read_csv(\"bleach5e-08__dg500to550_dr600to700__D30__cAB5_cA2.5_cB2.5__red_detection_bleach0_bts.dat\",header=None,names=[\"time\",\"Intensity\"])"
     ],
     "language": "python",
     "metadata": {},
     "outputs": [],
     "prompt_number": 21
    },
    {
     "cell_type": "code",
     "collapsed": false,
     "input": [
      "fcsFrame.describe()"
     ],
     "language": "python",
     "metadata": {},
     "outputs": [
      {
       "html": [
        "<div style=\"max-height:1000px;max-width:1500px;overflow:auto;\">\n",
        "<table border=\"1\" class=\"dataframe\">\n",
        "  <thead>\n",
        "    <tr style=\"text-align: right;\">\n",
        "      <th></th>\n",
        "      <th>time</th>\n",
        "      <th>Intensity</th>\n",
        "    </tr>\n",
        "  </thead>\n",
        "  <tbody>\n",
        "    <tr>\n",
        "      <th>count</th>\n",
        "      <td> 2999999.000000</td>\n",
        "      <td> 2999999.000000</td>\n",
        "    </tr>\n",
        "    <tr>\n",
        "      <th>mean</th>\n",
        "      <td>      29.999980</td>\n",
        "      <td>      20.833597</td>\n",
        "    </tr>\n",
        "    <tr>\n",
        "      <th>std</th>\n",
        "      <td>      17.320505</td>\n",
        "      <td>      20.523025</td>\n",
        "    </tr>\n",
        "    <tr>\n",
        "      <th>min</th>\n",
        "      <td>       0.000000</td>\n",
        "      <td>       0.000000</td>\n",
        "    </tr>\n",
        "    <tr>\n",
        "      <th>25%</th>\n",
        "      <td>      14.999990</td>\n",
        "      <td>       5.000000</td>\n",
        "    </tr>\n",
        "    <tr>\n",
        "      <th>50%</th>\n",
        "      <td>      29.999980</td>\n",
        "      <td>      14.000000</td>\n",
        "    </tr>\n",
        "    <tr>\n",
        "      <th>75%</th>\n",
        "      <td>      44.999970</td>\n",
        "      <td>      31.000000</td>\n",
        "    </tr>\n",
        "    <tr>\n",
        "      <th>max</th>\n",
        "      <td>      59.999960</td>\n",
        "      <td>     228.000000</td>\n",
        "    </tr>\n",
        "  </tbody>\n",
        "</table>\n",
        "</div>"
       ],
       "metadata": {},
       "output_type": "pyout",
       "prompt_number": 22,
       "text": [
        "                 time       Intensity\n",
        "count  2999999.000000  2999999.000000\n",
        "mean        29.999980       20.833597\n",
        "std         17.320505       20.523025\n",
        "min          0.000000        0.000000\n",
        "25%         14.999990        5.000000\n",
        "50%         29.999980       14.000000\n",
        "75%         44.999970       31.000000\n",
        "max         59.999960      228.000000"
       ]
      }
     ],
     "prompt_number": 22
    },
    {
     "cell_type": "code",
     "collapsed": false,
     "input": [
      "#finish in 5s\n",
      "plot(fcsFrame.time, fcsFrame.Intensity)\n",
      "show()"
     ],
     "language": "python",
     "metadata": {},
     "outputs": [
      {
       "metadata": {},
       "output_type": "display_data",
       "png": "[encoded data removed]",
       "text": [
        "<matplotlib.figure.Figure at 0x11e5a3f50>"
       ]
      }
     ],
     "prompt_number": 116
    },
    {
     "cell_type": "code",
     "collapsed": false,
     "input": [
      "#data point to use\n",
      "k = 2 ** 21 + 2**19 + 2**18 + 2**15\n",
      "print \"Total lenth in Frame is :\", fcsFrame.time.count()\n",
      "print \"No. of data points to play with :\", k\n",
      "print \"ratio of data usage :\", double(k)/fcsFrame.time.count()"
     ],
     "language": "python",
     "metadata": {},
     "outputs": [
      {
       "output_type": "stream",
       "stream": "stdout",
       "text": [
        "Total lenth in Frame is : 2999999\n",
        "No. of data points to play with : 2916352\n",
        "ratio of data usage : 0.972117657373\n"
       ]
      }
     ],
     "prompt_number": 177
    },
    {
     "cell_type": "code",
     "collapsed": false,
     "input": [
      "fcsTarget = fcsFrame.head(k)"
     ],
     "language": "python",
     "metadata": {},
     "outputs": [],
     "prompt_number": 164
    },
    {
     "cell_type": "code",
     "collapsed": false,
     "input": [
      "fcsTarget.describe()"
     ],
     "language": "python",
     "metadata": {},
     "outputs": [
      {
       "html": [
        "<div style=\"max-height:1000px;max-width:1500px;overflow:auto;\">\n",
        "<table border=\"1\" class=\"dataframe\">\n",
        "  <thead>\n",
        "    <tr style=\"text-align: right;\">\n",
        "      <th></th>\n",
        "      <th>time</th>\n",
        "      <th>Intensity</th>\n",
        "    </tr>\n",
        "  </thead>\n",
        "  <tbody>\n",
        "    <tr>\n",
        "      <th>count</th>\n",
        "      <td> 2916352.000000</td>\n",
        "      <td> 2916352.000000</td>\n",
        "    </tr>\n",
        "    <tr>\n",
        "      <th>mean</th>\n",
        "      <td>      29.163510</td>\n",
        "      <td>      21.367234</td>\n",
        "    </tr>\n",
        "    <tr>\n",
        "      <th>std</th>\n",
        "      <td>      16.837569</td>\n",
        "      <td>      20.494596</td>\n",
        "    </tr>\n",
        "    <tr>\n",
        "      <th>min</th>\n",
        "      <td>       0.000000</td>\n",
        "      <td>       0.000000</td>\n",
        "    </tr>\n",
        "    <tr>\n",
        "      <th>25%</th>\n",
        "      <td>      14.581755</td>\n",
        "      <td>       6.000000</td>\n",
        "    </tr>\n",
        "    <tr>\n",
        "      <th>50%</th>\n",
        "      <td>      29.163510</td>\n",
        "      <td>      15.000000</td>\n",
        "    </tr>\n",
        "    <tr>\n",
        "      <th>75%</th>\n",
        "      <td>      43.745265</td>\n",
        "      <td>      31.000000</td>\n",
        "    </tr>\n",
        "    <tr>\n",
        "      <th>max</th>\n",
        "      <td>      58.327020</td>\n",
        "      <td>     228.000000</td>\n",
        "    </tr>\n",
        "  </tbody>\n",
        "</table>\n",
        "</div>"
       ],
       "metadata": {},
       "output_type": "pyout",
       "prompt_number": 165,
       "text": [
        "                 time       Intensity\n",
        "count  2916352.000000  2916352.000000\n",
        "mean        29.163510       21.367234\n",
        "std         16.837569       20.494596\n",
        "min          0.000000        0.000000\n",
        "25%         14.581755        6.000000\n",
        "50%         29.163510       15.000000\n",
        "75%         43.745265       31.000000\n",
        "max         58.327020      228.000000"
       ]
      }
     ],
     "prompt_number": 165
    },
    {
     "cell_type": "code",
     "collapsed": false,
     "input": [
      "fft.fft(fcsTarget.Intensity.values)"
     ],
     "language": "python",
     "metadata": {},
     "outputs": [
      {
       "metadata": {},
       "output_type": "pyout",
       "prompt_number": 166,
       "text": [
        "array([ 62314375.00000000      +0.j        ,\n",
        "          529898.89382111 -327859.11035756j,\n",
        "         -372051.06627613-2071822.7580329j , ...,\n",
        "         -181192.28139900+1914608.09281952j,\n",
        "         -372051.06627611+2071822.7580329j ,\n",
        "          529898.89382111 +327859.11035756j])"
       ]
      }
     ],
     "prompt_number": 166
    },
    {
     "cell_type": "code",
     "collapsed": false,
     "input": [
      "fcsAcf=acf_fft(fcsTarget.Intensity.values) #6s"
     ],
     "language": "python",
     "metadata": {},
     "outputs": [],
     "prompt_number": 169
    },
    {
     "cell_type": "code",
     "collapsed": false,
     "input": [
      "#fcsFrame.Intensity.mean() #less than 1s\n",
      "ft = fft.fft(fcsFrame.Intensity.values)"
     ],
     "language": "python",
     "metadata": {},
     "outputs": [],
     "prompt_number": "*"
    },
    {
     "cell_type": "code",
     "collapsed": false,
     "input": [
      "type(ft)\n",
      "type(fcsFrame.Intensity)\n",
      "type(fcsFrame.Intensity.values)"
     ],
     "language": "python",
     "metadata": {},
     "outputs": [
      {
       "metadata": {},
       "output_type": "pyout",
       "prompt_number": 57,
       "text": [
        "numpy.ndarray"
       ]
      }
     ],
     "prompt_number": 57
    },
    {
     "cell_type": "code",
     "collapsed": false,
     "input": [
      "#dirty log plot 3s\n",
      "semilogx(fcsAcf)\n",
      "show()"
     ],
     "language": "python",
     "metadata": {},
     "outputs": [
      {
       "metadata": {},
       "output_type": "display_data",
       "png": "[encoded data removed]",
       "text": [
        "<matplotlib.figure.Figure at 0x1063c7a90>"
       ]
      }
     ],
     "prompt_number": 178
    },
    {
     "cell_type": "code",
     "collapsed": false,
     "input": [],
     "language": "python",
     "metadata": {},
     "outputs": []
    },
    {
     "cell_type": "code",
     "collapsed": false,
     "input": [],
     "language": "python",
     "metadata": {},
     "outputs": []
    },
    {
     "cell_type": "code",
     "collapsed": false,
     "input": [
      "max(fcsAcf)"
     ],
     "language": "python",
     "metadata": {},
     "outputs": [
      {
       "metadata": {},
       "output_type": "pyout",
       "prompt_number": 42,
       "text": [
        "110807.26976577438"
       ]
      }
     ],
     "prompt_number": 42
    },
    {
     "cell_type": "markdown",
     "metadata": {},
     "source": [
      "<h1><font color=blue>spFRET</font></h1>"
     ]
    },
    {
     "cell_type": "markdown",
     "metadata": {},
     "source": [
      "<h3>2.2 Data Structure</h3>"
     ]
    },
    {
     "cell_type": "code",
     "collapsed": false,
     "input": [
      "currentDir = '/Users/chenchen/Documents/Git/ipynotebook/dataDemo20140109/spFRETTestData/t3r'\n",
      "os.chdir(currentDir)\n",
      "!pwd"
     ],
     "language": "python",
     "metadata": {},
     "outputs": [
      {
       "output_type": "stream",
       "stream": "stdout",
       "text": [
        "/Users/chenchen/Documents/Git/ipynotebook/dataDemo20140109/spFRETTestData/t3r\r\n"
       ]
      }
     ],
     "prompt_number": 317
    },
    {
     "cell_type": "code",
     "collapsed": false,
     "input": [
      "#Good!!\n",
      "#t3r file test\n",
      "f = open(\"buffer.t3r\",\"rb\")"
     ],
     "language": "python",
     "metadata": {},
     "outputs": [],
     "prompt_number": 318
    },
    {
     "cell_type": "code",
     "collapsed": false,
     "input": [
      "#tParamStruct = f.read(12)\n",
      "#tCurrveMapping = f.read(8)\n",
      "#TxtHdr = f.read(304)\n",
      "#BinHdr = f.read(212)\n",
      "#BoardHdr = f.read(24)\n",
      "#TTTRHdr = f.read(52)"
     ],
     "language": "python",
     "metadata": {},
     "outputs": [],
     "prompt_number": 319
    },
    {
     "cell_type": "code",
     "collapsed": false,
     "input": [
      "#Good!!\n",
      "TxtHdr = f.read(304) #A\n",
      "BinHdr = f.read(212) #B\n",
      "BoardHdr = f.read(24) #C\n",
      "TTTRHdr = f.read(52) #D"
     ],
     "language": "python",
     "metadata": {},
     "outputs": [],
     "prompt_number": 320
    },
    {
     "cell_type": "code",
     "collapsed": false,
     "input": [
      "#truetime = (ofltime + TTTRrecord.TimeTag) * TTTRHdr.Globclock * 1e-9;\n",
      "#TimeTag = 0\n",
      "1e-9"
     ],
     "language": "python",
     "metadata": {},
     "outputs": [
      {
       "metadata": {},
       "output_type": "pyout",
       "prompt_number": 321,
       "text": [
        "1e-09"
       ]
      }
     ],
     "prompt_number": 321
    },
    {
     "cell_type": "code",
     "collapsed": false,
     "input": [
      "#Good!!\n",
      "TTTRHdr_Globclock = ord(TTTRHdr[0])\n",
      "TTTRHdr_Globclock"
     ],
     "language": "python",
     "metadata": {},
     "outputs": [
      {
       "metadata": {},
       "output_type": "pyout",
       "prompt_number": 322,
       "text": [
        "100"
       ]
      }
     ],
     "prompt_number": 322
    },
    {
     "cell_type": "code",
     "collapsed": false,
     "input": [
      "#Good!\n",
      "#TTTRHdr_NoOfRecords \n",
      "k = TTTRHdr[44:48]\n",
      "TTTRHdr_NoOfRecords = (ord(k[0])) + (ord(k[1])<<8) + (ord(k[2])<<16)+ (ord(k[3])<<24)\n",
      "TTTRHdr_NoOfRecords"
     ],
     "language": "python",
     "metadata": {},
     "outputs": [
      {
       "metadata": {},
       "output_type": "pyout",
       "prompt_number": 323,
       "text": [
        "189695"
       ]
      }
     ],
     "prompt_number": 323
    },
    {
     "cell_type": "code",
     "collapsed": false,
     "input": [
      "#Good!\n",
      "counts = 0\n",
      "overflows = 0\n",
      "ofltime = 0\n",
      "truetime=0\n",
      "\n",
      "#For loop: \n",
      "#int ii =0; ii < TTTRHdr_NoOfRecords; ++i\n",
      "\n",
      "dataId = []\n",
      "#timeTag = []\n",
      "timeInS=[]\n",
      "#channel=[]\n",
      "route=[]\n",
      "\n",
      "for ii in xrange(TTTRHdr_NoOfRecords):\n",
      "#for ii in xrange(10):\n",
      "    #read in 4bytes each time\n",
      "    TTTRrecord = f.read(4)\n",
      "    \n",
      "    #\n",
      "    TTTRrecord_TimeTag = ord(TTTRrecord[0]) + (ord(TTTRrecord[1])<<8)\n",
      "    TTTRrecord_Channel = ord(TTTRrecord[2]) + ((ord(TTTRrecord[3]) & 0b1111) << 8)\n",
      "    TTTRrecord_Route = (ord(TTTRrecord[3]) & 0b110000) >> 4\n",
      "    TTTRrecord_Valid = (ord(TTTRrecord[3]) & 0b1000000) >> 6\n",
      "    TTTRrecord_Reserved = (ord(TTTRrecord[3]) & 0b10000000) >> 7\n",
      "    \n",
      "    #debug\n",
      "    #print  TTTRrecord_TimeTag, TTTRrecord_Channel, TTTRrecord_Route, TTTRrecord_Valid, TTTRrecord_Reserved\n",
      "    #time resolusion = TTTRHdr_Globclock * 1e-9 \n",
      "    #               = 100 ns (1e-7)\n",
      "    truetime = (ofltime + TTTRrecord_TimeTag) * TTTRHdr_Globclock * 1e-9\n",
      "    \n",
      "    if TTTRrecord_Valid is 1:    #TTTRecord_Valid == 1 \n",
      "        dataId.append(counts)\n",
      "        timeInS.append(truetime)\n",
      "        route.append(TTTRrecord_Route)\n",
      "        counts+=1 ##counts++\n",
      "    else:            #TTTRecord_Valid ==0\n",
      "        if TTTRrecord_Channel & 0x800:\n",
      "            ofltime+=65536   #circled\n",
      "            overflows+=1"
     ],
     "language": "python",
     "metadata": {},
     "outputs": [],
     "prompt_number": 324
    },
    {
     "cell_type": "code",
     "collapsed": false,
     "input": [
      "#Good!\n",
      "print overflows, counts, truetime"
     ],
     "language": "python",
     "metadata": {},
     "outputs": [
      {
       "output_type": "stream",
       "stream": "stdout",
       "text": [
        "27465 162229 179.9958904\n"
       ]
      }
     ],
     "prompt_number": 332
    },
    {
     "cell_type": "code",
     "collapsed": false,
     "input": [
      "TTTRrecord_Channel"
     ],
     "language": "python",
     "metadata": {},
     "outputs": [
      {
       "metadata": {},
       "output_type": "pyout",
       "prompt_number": 325,
       "text": [
        "417"
       ]
      }
     ],
     "prompt_number": 325
    },
    {
     "cell_type": "code",
     "collapsed": false,
     "input": [
      "counts"
     ],
     "language": "python",
     "metadata": {},
     "outputs": [
      {
       "metadata": {},
       "output_type": "pyout",
       "prompt_number": 326,
       "text": [
        "162229"
       ]
      }
     ],
     "prompt_number": 326
    },
    {
     "cell_type": "code",
     "collapsed": false,
     "input": [
      "truetime"
     ],
     "language": "python",
     "metadata": {},
     "outputs": [
      {
       "metadata": {},
       "output_type": "pyout",
       "prompt_number": 327,
       "text": [
        "179.9958904"
       ]
      }
     ],
     "prompt_number": 327
    },
    {
     "cell_type": "code",
     "collapsed": false,
     "input": [
      "ofltime"
     ],
     "language": "python",
     "metadata": {},
     "outputs": [
      {
       "metadata": {},
       "output_type": "pyout",
       "prompt_number": 329,
       "text": [
        "1799946240"
       ]
      }
     ],
     "prompt_number": 329
    },
    {
     "cell_type": "code",
     "collapsed": false,
     "input": [
      "len(dataId)"
     ],
     "language": "python",
     "metadata": {},
     "outputs": [
      {
       "metadata": {},
       "output_type": "pyout",
       "prompt_number": 331,
       "text": [
        "162229"
       ]
      }
     ],
     "prompt_number": 331
    },
    {
     "cell_type": "code",
     "collapsed": false,
     "input": [
      "TTTRrecord = f.read(4)\n",
      "print bin(ord(TTTRrecord[0])), bin(ord(TTTRrecord[1])), bin(ord(TTTRrecord[2])), bin(ord(TTTRrecord[3]))"
     ],
     "language": "python",
     "metadata": {},
     "outputs": [
      {
       "ename": "IndexError",
       "evalue": "string index out of range",
       "output_type": "pyerr",
       "traceback": [
        "\u001b[0;31m---------------------------------------------------------------------------\u001b[0m\n\u001b[0;31mIndexError\u001b[0m                                Traceback (most recent call last)",
        "\u001b[0;32m<ipython-input-281-d823043c50a3>\u001b[0m in \u001b[0;36m<module>\u001b[0;34m()\u001b[0m\n\u001b[1;32m      1\u001b[0m \u001b[0mTTTRrecord\u001b[0m \u001b[0;34m=\u001b[0m \u001b[0mf\u001b[0m\u001b[0;34m.\u001b[0m\u001b[0mread\u001b[0m\u001b[0;34m(\u001b[0m\u001b[0;36m4\u001b[0m\u001b[0;34m)\u001b[0m\u001b[0;34m\u001b[0m\u001b[0m\n\u001b[0;32m----> 2\u001b[0;31m \u001b[0;32mprint\u001b[0m \u001b[0mbin\u001b[0m\u001b[0;34m(\u001b[0m\u001b[0mord\u001b[0m\u001b[0;34m(\u001b[0m\u001b[0mTTTRrecord\u001b[0m\u001b[0;34m[\u001b[0m\u001b[0;36m0\u001b[0m\u001b[0;34m]\u001b[0m\u001b[0;34m)\u001b[0m\u001b[0;34m)\u001b[0m\u001b[0;34m,\u001b[0m \u001b[0mbin\u001b[0m\u001b[0;34m(\u001b[0m\u001b[0mord\u001b[0m\u001b[0;34m(\u001b[0m\u001b[0mTTTRrecord\u001b[0m\u001b[0;34m[\u001b[0m\u001b[0;36m1\u001b[0m\u001b[0;34m]\u001b[0m\u001b[0;34m)\u001b[0m\u001b[0;34m)\u001b[0m\u001b[0;34m,\u001b[0m \u001b[0mbin\u001b[0m\u001b[0;34m(\u001b[0m\u001b[0mord\u001b[0m\u001b[0;34m(\u001b[0m\u001b[0mTTTRrecord\u001b[0m\u001b[0;34m[\u001b[0m\u001b[0;36m2\u001b[0m\u001b[0;34m]\u001b[0m\u001b[0;34m)\u001b[0m\u001b[0;34m)\u001b[0m\u001b[0;34m,\u001b[0m \u001b[0mbin\u001b[0m\u001b[0;34m(\u001b[0m\u001b[0mord\u001b[0m\u001b[0;34m(\u001b[0m\u001b[0mTTTRrecord\u001b[0m\u001b[0;34m[\u001b[0m\u001b[0;36m3\u001b[0m\u001b[0;34m]\u001b[0m\u001b[0;34m)\u001b[0m\u001b[0;34m)\u001b[0m\u001b[0;34m\u001b[0m\u001b[0m\n\u001b[0m",
        "\u001b[0;31mIndexError\u001b[0m: string index out of range"
       ]
      }
     ],
     "prompt_number": 281
    },
    {
     "cell_type": "code",
     "collapsed": false,
     "input": [
      "TTTRrecord = f.read(4)\n",
      "print bin(ord(TTTRrecord[0])), bin(ord(TTTRrecord[1])), bin(ord(TTTRrecord[2])), bin(ord(TTTRrecord[3]))"
     ],
     "language": "python",
     "metadata": {},
     "outputs": [
      {
       "output_type": "stream",
       "stream": "stdout",
       "text": [
        "0b10111011 0b1110110 0b11101001 0b1000000\n"
       ]
      }
     ],
     "prompt_number": 237
    },
    {
     "cell_type": "code",
     "collapsed": false,
     "input": [
      "TTTRrecord = f.read(4)\n",
      "print bin(ord(TTTRrecord[0])), bin(ord(TTTRrecord[1])), bin(ord(TTTRrecord[2])), bin(ord(TTTRrecord[3]))"
     ],
     "language": "python",
     "metadata": {},
     "outputs": [
      {
       "output_type": "stream",
       "stream": "stdout",
       "text": [
        "0b11000 0b10111001 0b11001101 0b1000000\n"
       ]
      }
     ],
     "prompt_number": 238
    },
    {
     "cell_type": "code",
     "collapsed": false,
     "input": [
      "TTTRrecord = f.read(4)\n",
      "print bin(ord(TTTRrecord[0])), bin(ord(TTTRrecord[1])), bin(ord(TTTRrecord[2])), bin(ord(TTTRrecord[3]))"
     ],
     "language": "python",
     "metadata": {},
     "outputs": [
      {
       "output_type": "stream",
       "stream": "stdout",
       "text": [
        "0b10010101 0b10111001 0b1110100 0b1000001\n"
       ]
      }
     ],
     "prompt_number": 239
    },
    {
     "cell_type": "code",
     "collapsed": false,
     "input": [
      "TTTRrecord = f.read(4)\n",
      "print bin(ord(TTTRrecord[0])), bin(ord(TTTRrecord[1])), bin(ord(TTTRrecord[2])), bin(ord(TTTRrecord[3]))"
     ],
     "language": "python",
     "metadata": {},
     "outputs": [
      {
       "output_type": "stream",
       "stream": "stdout",
       "text": [
        "0b10111110 0b10111111 0b1 0b1000010\n"
       ]
      }
     ],
     "prompt_number": 240
    },
    {
     "cell_type": "code",
     "collapsed": false,
     "input": [
      "TTTRrecord = f.read(4)\n",
      "print bin(ord(TTTRrecord[0])), bin(ord(TTTRrecord[1])), bin(ord(TTTRrecord[2])), bin(ord(TTTRrecord[3]))"
     ],
     "language": "python",
     "metadata": {},
     "outputs": [
      {
       "output_type": "stream",
       "stream": "stdout",
       "text": [
        "0b101101 0b11110110 0b10100010 0b1010010\n"
       ]
      }
     ],
     "prompt_number": 241
    },
    {
     "cell_type": "code",
     "collapsed": false,
     "input": [
      "TTTRrecord = f.read(4)\n",
      "print bin(ord(TTTRrecord[0])), bin(ord(TTTRrecord[1])), bin(ord(TTTRrecord[2])), bin(ord(TTTRrecord[3]))"
     ],
     "language": "python",
     "metadata": {},
     "outputs": [
      {
       "output_type": "stream",
       "stream": "stdout",
       "text": [
        "0b11111111 0b11111111 0b0 0b11000\n"
       ]
      }
     ],
     "prompt_number": 242
    },
    {
     "cell_type": "code",
     "collapsed": false,
     "input": [
      "TTTRrecord = f.read(4)\n",
      "print bin(ord(TTTRrecord[0])), bin(ord(TTTRrecord[1])), bin(ord(TTTRrecord[2])), bin(ord(TTTRrecord[3]))"
     ],
     "language": "python",
     "metadata": {},
     "outputs": [
      {
       "output_type": "stream",
       "stream": "stdout",
       "text": [
        "0b1100001 0b1101 0b100000 0b1010010\n"
       ]
      }
     ],
     "prompt_number": 243
    },
    {
     "cell_type": "code",
     "collapsed": false,
     "input": [
      "TTTRrecord = f.read(4)\n",
      "print bin(ord(TTTRrecord[0])), bin(ord(TTTRrecord[1])), bin(ord(TTTRrecord[2])), bin(ord(TTTRrecord[3]))"
     ],
     "language": "python",
     "metadata": {},
     "outputs": [
      {
       "output_type": "stream",
       "stream": "stdout",
       "text": [
        "0b101001 0b1110100 0b11110000 0b1000000\n"
       ]
      }
     ],
     "prompt_number": 254
    },
    {
     "cell_type": "code",
     "collapsed": false,
     "input": [
      "#Test\n",
      "TTTRrecord_TimeTag = ord(TTTRrecord[0]) + (ord(TTTRrecord[1])<<8)\n",
      "TTTRrecord_Channel = ord(TTTRrecord[2]) + ((ord(TTTRrecord[3]) & 0b1111) << 8)\n",
      "TTTRrecord_Route = (ord(TTTRrecord[3]) & 0b110000) >> 4\n",
      "TTTRrecord_Valid = (ord(TTTRrecord[3]) & 0b1000000) >> 6\n",
      "TTTRrecord_Reserved = (ord(TTTRrecord[3]) & 0b10000000) >> 7"
     ],
     "language": "python",
     "metadata": {},
     "outputs": [],
     "prompt_number": 255
    },
    {
     "cell_type": "code",
     "collapsed": false,
     "input": [
      "print TTTRrecord_TimeTag, TTTRrecord_Channel, TTTRrecord_Route, TTTRrecord_Valid, TTTRrecord_Reserved"
     ],
     "language": "python",
     "metadata": {},
     "outputs": [
      {
       "output_type": "stream",
       "stream": "stdout",
       "text": [
        "29737 240 0 1 0\n"
       ]
      }
     ],
     "prompt_number": 256
    },
    {
     "cell_type": "code",
     "collapsed": false,
     "input": [
      "if 0x800 & 2049:\n",
      "    print True"
     ],
     "language": "python",
     "metadata": {},
     "outputs": [
      {
       "output_type": "stream",
       "stream": "stdout",
       "text": [
        "True\n"
       ]
      }
     ],
     "prompt_number": 277
    },
    {
     "cell_type": "code",
     "collapsed": false,
     "input": [
      "bin(65536)"
     ],
     "language": "python",
     "metadata": {},
     "outputs": [
      {
       "metadata": {},
       "output_type": "pyout",
       "prompt_number": 272,
       "text": [
        "'0b10000000000000000'"
       ]
      }
     ],
     "prompt_number": 272
    },
    {
     "cell_type": "code",
     "collapsed": false,
     "input": [
      "2 ** 16"
     ],
     "language": "python",
     "metadata": {},
     "outputs": [
      {
       "metadata": {},
       "output_type": "pyout",
       "prompt_number": 275,
       "text": [
        "65536"
       ]
      }
     ],
     "prompt_number": 275
    },
    {
     "cell_type": "code",
     "collapsed": false,
     "input": [
      "TxtHdr\n",
      "BinHdr\n",
      "BoardHdr\n",
      "TTTRHdr\n",
      "len(TxtHdr)"
     ],
     "language": "python",
     "metadata": {},
     "outputs": [
      {
       "metadata": {},
       "output_type": "pyout",
       "prompt_number": 119,
       "text": [
        "304"
       ]
      }
     ],
     "prompt_number": 119
    },
    {
     "cell_type": "code",
     "collapsed": false,
     "input": [
      "b = 16 + 6 + 6 + 18 + 1\n",
      "ord(TxtHdr[b])"
     ],
     "language": "python",
     "metadata": {},
     "outputs": [
      {
       "metadata": {},
       "output_type": "pyout",
       "prompt_number": 151,
       "text": [
        "10"
       ]
      }
     ],
     "prompt_number": 151
    },
    {
     "cell_type": "code",
     "collapsed": false,
     "input": [
      "BinHdr"
     ],
     "language": "python",
     "metadata": {},
     "outputs": [
      {
       "metadata": {},
       "output_type": "pyout",
       "prompt_number": 152,
       "text": [
        "'\\x00\\x10\\x00\\x00\\x00\\x00\\x00\\x00 \\x00\\x00\\x00\\x04\\x00\\x00\\x00\\x01\\x00\\x00\\x00\\x00\\x00\\x00\\x00\\x02\\x00\\x00\\x00\\x00\\x00\\x00\\x00\\x02\\x00\\x00\\x00\\x00\\x00\\x00\\x00 \\xbf\\x02\\x00\\xff\\xff\\x00\\x00\\x00\\x00\\x00\\x00\\x00\\x00\\x00\\x00\\x00\\x00\\x00\\x00\\xf4\\x01\\x00\\x00\\xbc\\x02\\x00\\x00\\x01\\x00\\x00\\x00\\x1e\\x00\\x00\\x00\\x00\\x00\\x00\\x00\\x01\\x00\\x00\\x00\\x01\\x00\\x00\\x00\\x01\\x00\\x00\\x00\\x02\\x00\\x00\\x00\\x01\\x00\\x00\\x00\\x03\\x00\\x00\\x00\\x01\\x00\\x00\\x00\\x04\\x00\\x00\\x00\\x01\\x00\\x00\\x00\\x05\\x00\\x00\\x00\\x01\\x00\\x00\\x00\\x06\\x00\\x00\\x00\\x01\\x00\\x00\\x00\\x07\\x00\\x00\\x00\\x01\\x00\\x00\\x00\\x00\\x00\\x00\\x00\\x00\\x00\\x00\\x00\\x00\\x00\\x00\\x00\\x00\\x00\\x00\\x00\\x00\\x00\\x00\\x00\\x00\\x00\\x00\\x00\\x00\\x00\\x00\\x00\\x00\\x00\\x00\\x00\\x00\\x00\\x00\\x00\\x00\\x00\\x00\\x00\\x01\\x00\\x00\\x00\\x00\\x00\\x00\\x00\\x00\\x00\\x00\\x00TTTR Mode\\x00\\x00\\x00\\x00\\x00\\x00\\x00\\x00\\x00\\x00\\x00'"
       ]
      }
     ],
     "prompt_number": 152
    },
    {
     "cell_type": "code",
     "collapsed": false,
     "input": [
      "b = 4 + 4 + 4 + 0\n",
      "ord(BinHdr[b])"
     ],
     "language": "python",
     "metadata": {},
     "outputs": [
      {
       "metadata": {},
       "output_type": "pyout",
       "prompt_number": 159,
       "text": [
        "4"
       ]
      }
     ],
     "prompt_number": 159
    },
    {
     "cell_type": "code",
     "collapsed": false,
     "input": [
      "bin(4096)"
     ],
     "language": "python",
     "metadata": {},
     "outputs": [
      {
       "metadata": {},
       "output_type": "pyout",
       "prompt_number": 139,
       "text": [
        "'0b1000000000000'"
       ]
      }
     ],
     "prompt_number": 139
    },
    {
     "cell_type": "code",
     "collapsed": false,
     "input": [
      "t = BinHdr[b]"
     ],
     "language": "python",
     "metadata": {},
     "outputs": [],
     "prompt_number": 145
    },
    {
     "cell_type": "code",
     "collapsed": false,
     "input": [
      "ord(TTTRHdr[0])"
     ],
     "language": "python",
     "metadata": {},
     "outputs": [
      {
       "metadata": {},
       "output_type": "pyout",
       "prompt_number": 192,
       "text": [
        "74"
       ]
      }
     ],
     "prompt_number": 192
    },
    {
     "cell_type": "code",
     "collapsed": false,
     "input": [
      "ord(TTTRHdr[1])"
     ],
     "language": "python",
     "metadata": {},
     "outputs": [
      {
       "metadata": {},
       "output_type": "pyout",
       "prompt_number": 177,
       "text": [
        "0"
       ]
      }
     ],
     "prompt_number": 177
    },
    {
     "cell_type": "code",
     "collapsed": false,
     "input": [
      "ord(TTTRHdr[3])"
     ],
     "language": "python",
     "metadata": {},
     "outputs": [
      {
       "metadata": {},
       "output_type": "pyout",
       "prompt_number": 179,
       "text": [
        "0"
       ]
      }
     ],
     "prompt_number": 179
    },
    {
     "cell_type": "code",
     "collapsed": false,
     "input": [],
     "language": "python",
     "metadata": {},
     "outputs": []
    },
    {
     "cell_type": "code",
     "collapsed": false,
     "input": [
      "k = TTTRHdr[44:48]"
     ],
     "language": "python",
     "metadata": {},
     "outputs": [],
     "prompt_number": 180
    },
    {
     "cell_type": "code",
     "collapsed": false,
     "input": [
      "bin(ord(k[0]))"
     ],
     "language": "python",
     "metadata": {},
     "outputs": [
      {
       "metadata": {},
       "output_type": "pyout",
       "prompt_number": 181,
       "text": [
        "'0b11111111'"
       ]
      }
     ],
     "prompt_number": 181
    },
    {
     "cell_type": "code",
     "collapsed": false,
     "input": [
      "bin(ord(k[1])) \n",
      "#ord(k[1])<< 16"
     ],
     "language": "python",
     "metadata": {},
     "outputs": [
      {
       "metadata": {},
       "output_type": "pyout",
       "prompt_number": 182,
       "text": [
        "'0b11100100'"
       ]
      }
     ],
     "prompt_number": 182
    },
    {
     "cell_type": "code",
     "collapsed": false,
     "input": [
      "bin(ord(k[2]))"
     ],
     "language": "python",
     "metadata": {},
     "outputs": [
      {
       "metadata": {},
       "output_type": "pyout",
       "prompt_number": 183,
       "text": [
        "'0b10'"
       ]
      }
     ],
     "prompt_number": 183
    },
    {
     "cell_type": "code",
     "collapsed": false,
     "input": [
      "bin(ord(k[3]))"
     ],
     "language": "python",
     "metadata": {},
     "outputs": [
      {
       "metadata": {},
       "output_type": "pyout",
       "prompt_number": 184,
       "text": [
        "'0b0'"
       ]
      }
     ],
     "prompt_number": 184
    },
    {
     "cell_type": "code",
     "collapsed": false,
     "input": [
      "(ord(k[0])) + (ord(k[1])<<8) + (ord(k[2])<<16)+ (ord(k[3])<<24)"
     ],
     "language": "python",
     "metadata": {},
     "outputs": [
      {
       "metadata": {},
       "output_type": "pyout",
       "prompt_number": 188,
       "text": [
        "189695"
       ]
      }
     ],
     "prompt_number": 188
    },
    {
     "cell_type": "code",
     "collapsed": false,
     "input": [
      "ord(k[2])<< 16"
     ],
     "language": "python",
     "metadata": {},
     "outputs": [
      {
       "metadata": {},
       "output_type": "pyout",
       "prompt_number": 187,
       "text": [
        "131072"
       ]
      }
     ],
     "prompt_number": 187
    },
    {
     "cell_type": "markdown",
     "metadata": {},
     "source": [
      "<h2>Script and functions</h2>"
     ]
    },
    {
     "cell_type": "markdown",
     "metadata": {},
     "source": [
      "<h3>\u58f9 FFT-FCS</h3>"
     ]
    },
    {
     "cell_type": "code",
     "collapsed": false,
     "input": [
      "#Calculate Auto-correlation function based on fft\n",
      "#only support 1D\n",
      "#for cross correlation, in optimisation\n",
      "#input data suggest to be numpy.ndarray(1d) or pandas.core.series.Series\n",
      "def acf_fft(data):\n",
      "    \"\"\" Series or 1darray ---> Series \n",
      "        Calculate the auto correlation function of input data\n",
      "    \"\"\"\n",
      "    data_mean = data.mean()\n",
      "    \n",
      "    #debug \n",
      "    #print \"mean of data is \", data_mean\n",
      "    \n",
      "    #Step 1: calculate fft for data\n",
      "    fft_data = fft.fft(data)\n",
      "    \n",
      "    #print \"step1 done!\"\n",
      "    \n",
      "    #Step 2: Calculate the pow spectrom,\n",
      "    S_f = fft_data.__mul__(fft_data.conj())\n",
      "    \n",
      "    #print \"Step2 done!\"\n",
      "                           \n",
      "    #Step 3: calculate auto correlation function, result as g(\\tau)\n",
      "    acf = ifft(S_f)/fft_data[0]/data_mean - 1;\n",
      "    \n",
      "    #print \"Step3 done!\"\n",
      "    \n",
      "    #Clean up, return half of data\n",
      "    acf = acf.real[0:int(len(acf)/2)]\n",
      "    #print \"clean up done!\"\n",
      "    \n",
      "    #debug\n",
      "    #print max(acf)\n",
      "    return acf"
     ],
     "language": "python",
     "metadata": {},
     "outputs": [],
     "prompt_number": 168
    },
    {
     "cell_type": "markdown",
     "metadata": {},
     "source": [
      "<h3>Others!</h3>"
     ]
    },
    {
     "cell_type": "code",
     "collapsed": false,
     "input": [
      "#fft\n",
      "factor = 22\n",
      "l = 2 ** factor\n",
      "a = arange(l)\n",
      "k = fft.fft(a)\n",
      "len(k)"
     ],
     "language": "python",
     "metadata": {},
     "outputs": [
      {
       "metadata": {},
       "output_type": "pyout",
       "prompt_number": 28,
       "text": [
        "4194304"
       ]
      }
     ],
     "prompt_number": 28
    },
    {
     "cell_type": "code",
     "collapsed": false,
     "input": [
      "type(a)\n",
      "print a.nbytes, a.dtype\n",
      "a.dtype"
     ],
     "language": "python",
     "metadata": {},
     "outputs": [
      {
       "output_type": "stream",
       "stream": "stdout",
       "text": [
        "33554432 int64\n"
       ]
      },
      {
       "metadata": {},
       "output_type": "pyout",
       "prompt_number": 27,
       "text": [
        "dtype('int64')"
       ]
      }
     ],
     "prompt_number": 27
    },
    {
     "cell_type": "code",
     "collapsed": false,
     "input": [
      "#fcsFrame.Intensity.values.nbytes\n",
      "fcsFrame.Intensity.values.dtype"
     ],
     "language": "python",
     "metadata": {},
     "outputs": [
      {
       "metadata": {},
       "output_type": "pyout",
       "prompt_number": 29,
       "text": [
        "dtype('int64')"
       ]
      }
     ],
     "prompt_number": 29
    },
    {
     "cell_type": "code",
     "collapsed": false,
     "input": [
      "s = fcsFrame.Intensity.values"
     ],
     "language": "python",
     "metadata": {},
     "outputs": [],
     "prompt_number": 31
    },
    {
     "cell_type": "code",
     "collapsed": false,
     "input": [
      "s"
     ],
     "language": "python",
     "metadata": {},
     "outputs": [
      {
       "metadata": {},
       "output_type": "pyout",
       "prompt_number": 37,
       "text": [
        "array([ 84,  74, 115, ...,   0,   0,   0])"
       ]
      }
     ],
     "prompt_number": 37
    },
    {
     "cell_type": "code",
     "collapsed": false,
     "input": [
      "b = zeros(l)"
     ],
     "language": "python",
     "metadata": {},
     "outputs": [],
     "prompt_number": 40
    },
    {
     "cell_type": "code",
     "collapsed": false,
     "input": [
      "a.nbytes > s.nbytes"
     ],
     "language": "python",
     "metadata": {},
     "outputs": [
      {
       "metadata": {},
       "output_type": "pyout",
       "prompt_number": 48,
       "text": [
        "True"
       ]
      }
     ],
     "prompt_number": 48
    },
    {
     "cell_type": "code",
     "collapsed": false,
     "input": [
      "ss = int16(s.real)\n",
      "sd = double(s.real)\n",
      "print ss.nbytes, sd.nbytes"
     ],
     "language": "python",
     "metadata": {},
     "outputs": [
      {
       "output_type": "stream",
       "stream": "stdout",
       "text": [
        "5999998 23999992\n"
       ]
      }
     ],
     "prompt_number": 66
    },
    {
     "cell_type": "code",
     "collapsed": false,
     "input": [
      "fss = fft.fft(ss)"
     ],
     "language": "python",
     "metadata": {},
     "outputs": [],
     "prompt_number": 67
    },
    {
     "cell_type": "code",
     "collapsed": false,
     "input": [
      "len(fss)"
     ],
     "language": "python",
     "metadata": {},
     "outputs": [
      {
       "metadata": {},
       "output_type": "pyout",
       "prompt_number": 56,
       "text": [
        "2999999"
       ]
      }
     ],
     "prompt_number": 56
    },
    {
     "cell_type": "code",
     "collapsed": false,
     "input": [
      "fsd = fft.fft(sd)"
     ],
     "language": "python",
     "metadata": {},
     "outputs": [],
     "prompt_number": 57
    },
    {
     "cell_type": "code",
     "collapsed": false,
     "input": [
      "s.real"
     ],
     "language": "python",
     "metadata": {},
     "outputs": [
      {
       "metadata": {},
       "output_type": "pyout",
       "prompt_number": 68,
       "text": [
        "array([ 84,  74, 115, ...,   0,   0,   0])"
       ]
      }
     ],
     "prompt_number": 68
    },
    {
     "cell_type": "code",
     "collapsed": false,
     "input": [
      "#dirty test\n",
      "targ = zeros(len(s))\n",
      "for i in arange(len(s)):\n",
      "    targ[i] = s[i]"
     ],
     "language": "python",
     "metadata": {},
     "outputs": [],
     "prompt_number": 72
    },
    {
     "cell_type": "code",
     "collapsed": false,
     "input": [
      "len(s)"
     ],
     "language": "python",
     "metadata": {},
     "outputs": [
      {
       "metadata": {},
       "output_type": "pyout",
       "prompt_number": 104,
       "text": [
        "2999999"
       ]
      }
     ],
     "prompt_number": 104
    },
    {
     "cell_type": "code",
     "collapsed": false,
     "input": [
      "double(k)/len(s)"
     ],
     "language": "python",
     "metadata": {},
     "outputs": [
      {
       "metadata": {},
       "output_type": "pyout",
       "prompt_number": 163,
       "text": [
        "0.97211765737255251"
       ]
      }
     ],
     "prompt_number": 163
    },
    {
     "cell_type": "code",
     "collapsed": false,
     "input": [
      "k = 2 ** 21 + 2**19 + 2**18 + 2**15#to 21\n",
      "#k = 2989998"
     ],
     "language": "python",
     "metadata": {},
     "outputs": [],
     "prompt_number": 157
    },
    {
     "cell_type": "code",
     "collapsed": false,
     "input": [
      "st = s[0:k]"
     ],
     "language": "python",
     "metadata": {},
     "outputs": [],
     "prompt_number": 155
    },
    {
     "cell_type": "code",
     "collapsed": false,
     "input": [
      "fft.fft(st)"
     ],
     "language": "python",
     "metadata": {},
     "outputs": [
      {
       "metadata": {},
       "output_type": "pyout",
       "prompt_number": 156,
       "text": [
        "array([ 3926.00000000  +0.j        ,   102.39484860 -33.48610057j,\n",
        "        -103.00946776-292.96466762j, ...,    92.43930431+118.7082213j ,\n",
        "         125.71062567 +15.86055856j,    37.47660992 -21.42350611j])"
       ]
      }
     ],
     "prompt_number": 156
    },
    {
     "cell_type": "markdown",
     "metadata": {},
     "source": [
      "<h3>Speed test for C and Python coding style, and native</h3>"
     ]
    },
    {
     "cell_type": "code",
     "collapsed": false,
     "input": [
      "#Target:\n",
      "#calculate mean value\n",
      "L = 1000\n",
      "target = randn(1000)\n",
      "plot(target)\n",
      "show()"
     ],
     "language": "python",
     "metadata": {},
     "outputs": [
      {
       "metadata": {},
       "output_type": "display_data",
       "png": "[encoded data removed]",
       "text": [
        "<matplotlib.figure.Figure at 0x1054d6150>"
       ]
      }
     ],
     "prompt_number": 2
    },
    {
     "cell_type": "code",
     "collapsed": false,
     "input": [
      "#C style:\n",
      "def cStyleMean(target,length):\n",
      "    SumUp = 0\n",
      "    for i in arange(length):\n",
      "        SumUp += target[i]\n",
      "    return SumUp/length"
     ],
     "language": "python",
     "metadata": {},
     "outputs": [],
     "prompt_number": 7
    },
    {
     "cell_type": "code",
     "collapsed": false,
     "input": [
      "#Python style\n",
      "def pyStyleMean(target):\n",
      "    SumUp = 0\n",
      "    for i in target:\n",
      "        SumUp += i\n",
      "    return SumUp/target.size"
     ],
     "language": "python",
     "metadata": {},
     "outputs": [],
     "prompt_number": 18
    },
    {
     "cell_type": "code",
     "collapsed": false,
     "input": [
      "#Python style method sum\n",
      "def pyStyleMeanIn(target):\n",
      "    SumUp = 0\n",
      "    for i in target:\n",
      "        SumUp.__add__(i)\n",
      "    return SumUp.__truediv__(target.size)"
     ],
     "language": "python",
     "metadata": {},
     "outputs": [],
     "prompt_number": 30
    },
    {
     "cell_type": "code",
     "collapsed": false,
     "input": [
      "%timeit cStyleMean(target, L)\n",
      "%timeit pyStyleMean(target)\n",
      "%timeit pyStyleMeanIn(target)\n",
      "%timeit target.mean()"
     ],
     "language": "python",
     "metadata": {},
     "outputs": [
      {
       "output_type": "stream",
       "stream": "stdout",
       "text": [
        "100 loops, best of 3: 1.15 ms per loop\n",
        "1000 loops, best of 3: 740 \u00b5s per loop"
       ]
      },
      {
       "output_type": "stream",
       "stream": "stdout",
       "text": [
        "\n",
        "1000 loops, best of 3: 381 \u00b5s per loop"
       ]
      },
      {
       "output_type": "stream",
       "stream": "stdout",
       "text": [
        "\n",
        "10000 loops, best of 3: 35.5 \u00b5s per loop"
       ]
      },
      {
       "output_type": "stream",
       "stream": "stdout",
       "text": [
        "\n"
       ]
      }
     ],
     "prompt_number": 31
    },
    {
     "cell_type": "code",
     "collapsed": false,
     "input": [
      "%timeit cStyleMean(target, L)\n",
      "%timeit pyStyleMean(target,L)\n",
      "%timeit target.mean()"
     ],
     "language": "python",
     "metadata": {},
     "outputs": [
      {
       "output_type": "stream",
       "stream": "stdout",
       "text": [
        "100 loops, best of 3: 1.14 ms per loop\n",
        "1000 loops, best of 3: 747 \u00b5s per loop"
       ]
      },
      {
       "output_type": "stream",
       "stream": "stdout",
       "text": [
        "\n",
        "10000 loops, best of 3: 34.5 \u00b5s per loop"
       ]
      },
      {
       "output_type": "stream",
       "stream": "stdout",
       "text": [
        "\n"
       ]
      }
     ],
     "prompt_number": 12
    },
    {
     "cell_type": "code",
     "collapsed": false,
     "input": [
      "%timeit cStyleMean(target, L)\n",
      "%timeit pyStyleMean(target)\n",
      "%timeit target.mean()"
     ],
     "language": "python",
     "metadata": {},
     "outputs": [
      {
       "output_type": "stream",
       "stream": "stdout",
       "text": [
        "100 loops, best of 3: 1.16 ms per loop\n",
        "1000 loops, best of 3: 733 \u00b5s per loop"
       ]
      },
      {
       "output_type": "stream",
       "stream": "stdout",
       "text": [
        "\n",
        "10000 loops, best of 3: 35 \u00b5s per loop"
       ]
      },
      {
       "output_type": "stream",
       "stream": "stdout",
       "text": [
        "\n"
       ]
      }
     ],
     "prompt_number": 17
    },
    {
     "cell_type": "code",
     "collapsed": false,
     "input": [
      "target.size"
     ],
     "language": "python",
     "metadata": {},
     "outputs": [
      {
       "metadata": {},
       "output_type": "pyout",
       "prompt_number": 15,
       "text": [
        "1000"
       ]
      }
     ],
     "prompt_number": 15
    },
    {
     "cell_type": "code",
     "collapsed": false,
     "input": [
      "a = 5\n",
      "b = 2"
     ],
     "language": "python",
     "metadata": {},
     "outputs": [],
     "prompt_number": 26
    },
    {
     "cell_type": "code",
     "collapsed": false,
     "input": [
      "a.__divmod__?"
     ],
     "language": "python",
     "metadata": {},
     "outputs": [],
     "prompt_number": 27
    },
    {
     "cell_type": "code",
     "collapsed": false,
     "input": [
      "a.__truediv__(b)"
     ],
     "language": "python",
     "metadata": {},
     "outputs": [
      {
       "metadata": {},
       "output_type": "pyout",
       "prompt_number": 28,
       "text": [
        "2.5"
       ]
      }
     ],
     "prompt_number": 28
    },
    {
     "cell_type": "markdown",
     "metadata": {},
     "source": [
      "<h1>Matplot Test</h1>"
     ]
    },
    {
     "cell_type": "code",
     "collapsed": false,
     "input": [
      "x = linspace(0, 5, 10)\n",
      "y = x ** 2"
     ],
     "language": "python",
     "metadata": {},
     "outputs": [],
     "prompt_number": 14
    },
    {
     "cell_type": "code",
     "collapsed": false,
     "input": [
      "fig = figure()\n",
      "axes = fig.add_axes([0.1, 0.1, 0.8, 0.8])\n",
      "axes.plot(x,y,'r')\n",
      "axes.set_xlabel(\"x\")\n",
      "axes.set_xlabel(\"y\")\n",
      "axes.set_title(\"Title\")\n",
      "show()"
     ],
     "language": "python",
     "metadata": {},
     "outputs": [
      {
       "metadata": {},
       "output_type": "display_data",
       "png": "[encoded data removed]",
       "text": [
        "<matplotlib.figure.Figure at 0x86549b0>"
       ]
      }
     ],
     "prompt_number": 19
    },
    {
     "cell_type": "code",
     "collapsed": false,
     "input": [
      "axes = fig.add_axes([0.1, 0.1, 0.8, 0.8])\n",
      "axes.plot(x,y,'r')\n",
      "axes.set_xlabel(\"x\")\n",
      "axes.set_xlabel(\"y\")\n",
      "axes.set_title(\"Title\")\n",
      "show()"
     ],
     "language": "python",
     "metadata": {},
     "outputs": [],
     "prompt_number": 20
    },
    {
     "cell_type": "code",
     "collapsed": false,
     "input": [
      "axes = fig.add_axes([0.1, 0.1, 0.8, 0.8])"
     ],
     "language": "python",
     "metadata": {},
     "outputs": [],
     "prompt_number": 16
    },
    {
     "cell_type": "code",
     "collapsed": false,
     "input": [
      "axes.plot(x,y,'r')\n",
      "axes.set_xlabel(\"x\")\n",
      "axes.set_xlabel(\"y\")\n",
      "axes.set_title(\"Title\")\n",
      "show()"
     ],
     "language": "python",
     "metadata": {},
     "outputs": [],
     "prompt_number": 17
    },
    {
     "cell_type": "code",
     "collapsed": false,
     "input": [
      "fig.savefig?"
     ],
     "language": "python",
     "metadata": {},
     "outputs": [],
     "prompt_number": 21
    },
    {
     "cell_type": "code",
     "collapsed": false,
     "input": [
      "%whos"
     ],
     "language": "python",
     "metadata": {},
     "outputs": [
      {
       "output_type": "stream",
       "stream": "stdout",
       "text": [
        "Variable   Type      Data/Info\n",
        "------------------------------\n",
        "homeDir    SList     ['/Users/chenchen/Documents/Git/ipynotebook']\n",
        "os         module    <module 'os' from '/Users<...>ts/lib/python2.7/os.pyc'>\n",
        "pd         module    <module 'pandas' from '/U<...>ges/pandas/__init__.pyc'>\n"
       ]
      }
     ],
     "prompt_number": 13
    },
    {
     "cell_type": "code",
     "collapsed": false,
     "input": [
      "homeDir.s"
     ],
     "language": "python",
     "metadata": {},
     "outputs": [
      {
       "metadata": {},
       "output_type": "pyout",
       "prompt_number": 15,
       "text": [
        "'/Users/chenchen/Documents/Git/ipynotebook'"
       ]
      }
     ],
     "prompt_number": 15
    },
    {
     "cell_type": "code",
     "collapsed": false,
     "input": [
      "whos"
     ],
     "language": "python",
     "metadata": {},
     "outputs": [
      {
       "output_type": "stream",
       "stream": "stdout",
       "text": [
        "Variable     Type      Data/Info\n",
        "--------------------------------\n",
        "currentDir   str       /Users/chenchen/Documents<...>taDemo20140109/FCSSimData\n",
        "homeDir      str       /Users/chenchen/Documents/Git/ipynotebook\n",
        "os           module    <module 'os' from '/Users<...>ts/lib/python2.7/os.pyc'>\n",
        "pd           module    <module 'pandas' from '/U<...>ges/pandas/__init__.pyc'>\n"
       ]
      }
     ],
     "prompt_number": 12
    },
    {
     "cell_type": "code",
     "collapsed": false,
     "input": [],
     "language": "python",
     "metadata": {},
     "outputs": []
    }
   ],
   "metadata": {}
  }
 ]
}