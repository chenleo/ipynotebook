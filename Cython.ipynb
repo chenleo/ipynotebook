{
 "metadata": {
  "name": "Cython"
 },
 "nbformat": 3,
 "nbformat_minor": 0,
 "worksheets": [
  {
   "cells": [
    {
     "cell_type": "heading",
     "level": 1,
     "metadata": {},
     "source": [
      "Cython Tutorial"
     ]
    },
    {
     "cell_type": "heading",
     "level": 2,
     "metadata": {},
     "source": [
      "1 ormal python style"
     ]
    },
    {
     "cell_type": "code",
     "collapsed": false,
     "input": [
      "#initialize\n",
      "%pylab inline\n",
      "%qtconsole"
     ],
     "language": "python",
     "metadata": {},
     "outputs": [
      {
       "output_type": "stream",
       "stream": "stdout",
       "text": [
        "\n",
        "Welcome to pylab, a matplotlib-based Python environment [backend: module://IPython.zmq.pylab.backend_inline].\n",
        "For more information, type 'help(pylab)'.\n"
       ]
      }
     ],
     "prompt_number": 2
    },
    {
     "cell_type": "code",
     "collapsed": false,
     "input": [
      "from math import sqrt"
     ],
     "language": "python",
     "metadata": {},
     "outputs": [],
     "prompt_number": 3
    },
    {
     "cell_type": "code",
     "collapsed": false,
     "input": [
      "class Planet(object):\n",
      "    def __init__(self):\n",
      "        #some initial position and velocity\n",
      "        self.x = 1.0\n",
      "        self.y = 0.0\n",
      "        self.z = 0.0\n",
      "        self.vx = 0.0\n",
      "        self.vy = 0.5\n",
      "        self.vz = 0.0\n",
      "        \n",
      "        #some mass\n",
      "        self.m = 1.0"
     ],
     "language": "python",
     "metadata": {},
     "outputs": [],
     "prompt_number": 4
    },
    {
     "cell_type": "code",
     "collapsed": false,
     "input": [
      "def single_step(Planet, dt):\n",
      "    \"\"\" single time step \"\"\"\n",
      "    \n",
      "    # Compute force: gravity towards origin:\n",
      "    "
     ],
     "language": "python",
     "metadata": {},
     "outputs": []
    }
   ],
   "metadata": {}
  }
 ]
}