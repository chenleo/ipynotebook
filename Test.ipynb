{
 "metadata": {
  "name": ""
 },
 "nbformat": 3,
 "nbformat_minor": 0,
 "worksheets": [
  {
   "cells": [
    {
     "cell_type": "heading",
     "level": 1,
     "metadata": {},
     "source": [
      "Test Book"
     ]
    },
    {
     "cell_type": "code",
     "collapsed": false,
     "input": [
      "import time\n",
      "time.sleep(10)"
     ],
     "language": "python",
     "metadata": {},
     "outputs": [],
     "prompt_number": 2
    },
    {
     "cell_type": "code",
     "collapsed": false,
     "input": [
      "!gcc?"
     ],
     "language": "python",
     "metadata": {},
     "outputs": [
      {
       "output_type": "stream",
       "stream": "stdout",
       "text": [
        "Object `gcc` not found.\n"
       ]
      }
     ],
     "prompt_number": 4
    },
    {
     "cell_type": "code",
     "collapsed": false,
     "input": [
      "from ctypes import CDLL"
     ],
     "language": "python",
     "metadata": {},
     "outputs": [],
     "prompt_number": 6
    },
    {
     "cell_type": "code",
     "collapsed": false,
     "input": [
      "CDLL?"
     ],
     "language": "python",
     "metadata": {},
     "outputs": [],
     "prompt_number": 7
    },
    {
     "cell_type": "code",
     "collapsed": false,
     "input": [
      "dll = 'dylib'\n",
      "libc = CDLL(\"libc.%s\" % dll) "
     ],
     "language": "python",
     "metadata": {},
     "outputs": [],
     "prompt_number": 9
    },
    {
     "cell_type": "code",
     "collapsed": false,
     "input": [
      "libc?"
     ],
     "language": "python",
     "metadata": {},
     "outputs": [],
     "prompt_number": 10
    },
    {
     "cell_type": "code",
     "collapsed": false,
     "input": [
      "libc?"
     ],
     "language": "python",
     "metadata": {},
     "outputs": [],
     "prompt_number": 16
    },
    {
     "cell_type": "code",
     "collapsed": false,
     "input": [
      "message = 'The IPython notebook is great!'\n",
      "# note: the echo command does not run on Windows, it's a unix command.\n",
      "!echo $message"
     ],
     "language": "python",
     "metadata": {},
     "outputs": [
      {
       "output_type": "stream",
       "stream": "stdout",
       "text": [
        "The IPython notebook is great!\r\n"
       ]
      }
     ],
     "prompt_number": 17
    },
    {
     "cell_type": "code",
     "collapsed": false,
     "input": [
      "%load?"
     ],
     "language": "python",
     "metadata": {},
     "outputs": [],
     "prompt_number": 18
    },
    {
     "cell_type": "code",
     "collapsed": false,
     "input": [
      "%load http://matplotlib.sourceforge.net/mpl_examples/pylab_examples/integral_demo.py"
     ],
     "language": "python",
     "metadata": {},
     "outputs": [],
     "prompt_number": 19
    },
    {
     "cell_type": "code",
     "collapsed": false,
     "input": [
      "#!/usr/bin/env python\n",
      "\n",
      "# implement the example graphs/integral from pyx\n",
      "from pylab import *\n",
      "from matplotlib.patches import Polygon\n",
      "\n",
      "def func(x):\n",
      "    return (x-3)*(x-5)*(x-7)+85\n",
      "\n",
      "ax = subplot(111)\n",
      "\n",
      "a, b = 2, 9 # integral area\n",
      "x = arange(0, 10, 0.01)\n",
      "y = func(x)\n",
      "plot(x, y, linewidth=1)\n",
      "\n",
      "# make the shaded region\n",
      "ix = arange(a, b, 0.01)\n",
      "iy = func(ix)\n",
      "verts = [(a,0)] + list(zip(ix,iy)) + [(b,0)]\n",
      "poly = Polygon(verts, facecolor='0.8', edgecolor='k')\n",
      "ax.add_patch(poly)\n",
      "\n",
      "text(0.5 * (a + b), 30,\n",
      "     r\"$\\int_a^b f(x)\\mathrm{d}x$\", horizontalalignment='center',\n",
      "     fontsize=20)\n",
      "\n",
      "axis([0,10, 0, 180])\n",
      "figtext(0.9, 0.05, 'x')\n",
      "figtext(0.1, 0.9, 'y')\n",
      "ax.set_xticks((a,b))\n",
      "ax.set_xticklabels(('a','b'))\n",
      "ax.set_yticks([])\n",
      "show()"
     ],
     "language": "python",
     "metadata": {},
     "outputs": [
      {
       "ename": "ImportError",
       "evalue": "No module named pylab",
       "output_type": "pyerr",
       "traceback": [
        "\u001b[0;31m---------------------------------------------------------------------------\u001b[0m\n\u001b[0;31mImportError\u001b[0m                               Traceback (most recent call last)",
        "\u001b[0;32m<ipython-input-20-766c9cf4d8d7>\u001b[0m in \u001b[0;36m<module>\u001b[0;34m()\u001b[0m\n\u001b[1;32m      2\u001b[0m \u001b[0;34m\u001b[0m\u001b[0m\n\u001b[1;32m      3\u001b[0m \u001b[0;31m# implement the example graphs/integral from pyx\u001b[0m\u001b[0;34m\u001b[0m\u001b[0;34m\u001b[0m\u001b[0m\n\u001b[0;32m----> 4\u001b[0;31m \u001b[0;32mfrom\u001b[0m \u001b[0mpylab\u001b[0m \u001b[0;32mimport\u001b[0m \u001b[0;34m*\u001b[0m\u001b[0;34m\u001b[0m\u001b[0m\n\u001b[0m\u001b[1;32m      5\u001b[0m \u001b[0;32mfrom\u001b[0m \u001b[0mmatplotlib\u001b[0m\u001b[0;34m.\u001b[0m\u001b[0mpatches\u001b[0m \u001b[0;32mimport\u001b[0m \u001b[0mPolygon\u001b[0m\u001b[0;34m\u001b[0m\u001b[0m\n\u001b[1;32m      6\u001b[0m \u001b[0;34m\u001b[0m\u001b[0m\n",
        "\u001b[0;31mImportError\u001b[0m: No module named pylab"
       ]
      }
     ],
     "prompt_number": 20
    },
    {
     "cell_type": "markdown",
     "metadata": {},
     "source": [
      "# What the hell!!"
     ]
    },
    {
     "cell_type": "markdown",
     "metadata": {},
     "source": [
      "- \u56fd\u5bb6\u4e3a\u4e86\u52a0\u5f3a\u5bf9\u623f\u5730\u4ea7\u5e02\u573a\u7684\u5b8f\u89c2\u8c03\u63a7\u63a7\u5236\u623f\u4ef7\u7684\u8fc7\u5feb\u4e0a\u6da8\u3002\uff08\u65e0\u7528\u4fe1\u606f\uff09\n",
      "- \u89c4\u5b9a\u8d2d\u4e70\u65b0\u623f\u6ee1\u4e94\u5e74\u540e\u624d\u53ef\u4ee5\u4e0a\u5e02\u8f6c\u5356\u3002\uff08\u65e0\u7528\u4fe1\u606f\uff09\n",
      "- \u5bf9\u4e8c\u624b\u623f\u4e70\u5356\u5f81\u6536\u5dee\u4ef7\u7684x%\u7684\u9644\u52a0\u7a0e\u3002\uff08\u6c42\u89e3X\uff09\n",
      "- \u67d0\u57ce\u5e02\u5728\u4e0d\u5f81\u6536\u9644\u52a0\u7a0e\u65f6\u6bcf\u5e74\u53ef\u6210\u4ea4\u5341\u4e07\u5957\u4e8c\u624b\u623f\u3002(\u5df2\u77e5\u5e38\u6570\uff1ahouses = 100000)\n",
      "- \u5f81\u6536\u9644\u52a0\u7a0e\u540e\u6bcf\u5e74\u51cf\u5c110.1x\u4e07\u5957\u4e8c\u624b\u623f\u4ea4\u6613\u3002 \uff08newHouses = houses - 0.1*x*10000\uff09\n",
      "- \u73b0\u5df2\u77e5\u6bcf\u5957\u4e8c\u624b\u623f\u4e70\u5356\u7684\u5e73\u5747\u5dee\u4ef7\u4e3a10\u4e07\u5143\u3002(oneHouseProfit = 100000)\n",
      "- \u5982\u679c\u8981\u662f\u6bcf\u5e74\u589e\u6536\u7684\u9644\u52a0\u7a0e\u4e3a16\u4ebf\u5143\uff0c\u5e76\u4e14\u8981\u4f7f\u4e8c\u624b\u623f\u5e02\u573a\u4fdd\u6301\u4e00\u5b9a\u7684\u6d3b\u529b\u3002(totalProfit = x/100 \\* newHouses \\* oneHouseProfit >= 1600000000)\n",
      "- \u6bcf\u5e74\u4e8c\u624b\u623f\u4ea4\u6613\u91cf\u4e0d\u4f4e\u4e8e6\u4e07\u5957\u3002\uff08newHouses >= 60000\uff09\n",
      "- \u95ee\u3002\u4e8c\u624b\u623f\u4ea4\u6613\u9644\u52a0\u7a0e\u7684\u7a0e\u7387\u5e94\u786e\u5b9a\u4e3a\u591a\u5c11\uff1f(Question: X = ?)"
     ]
    },
    {
     "cell_type": "markdown",
     "metadata": {},
     "source": [
      "- \u5df2\u77e5\u6761\u4ef6\uff1a\n",
      "    - \u5e38\u6570\uff1a\n",
      "        - houses = 100000\n",
      "        - oneHouseProfit = 100000\n",
      "    - \u53d8\u91cf\u5173\u7cfb\uff1a\n",
      "        - newHouses = houses - 0.1*x*10000\n",
      "        - totalProfit = x/100 \\* newHouses \\* oneHouseProfit\n",
      "    - \u9650\u5236\u6761\u4ef6\uff1a\n",
      "        - totalProfit >= 1600000000\n",
      "        - newHouses >= 60000\n",
      "    - \u6c42\u89e3\u95ee\u9898\uff1a\n",
      "        - x=?"
     ]
    },
    {
     "cell_type": "code",
     "collapsed": false,
     "input": [
      "x = 0\n",
      "houses = 100000\n",
      "oneHouseProfit = 100000\n",
      "newHouses = houses - 0.1*x*10000\n",
      "totalProfit = x/100*newHouses*oneHouseProfit"
     ],
     "language": "python",
     "metadata": {},
     "outputs": [],
     "prompt_number": 2
    },
    {
     "cell_type": "markdown",
     "metadata": {},
     "source": [
      "- \u89e3\u9898\u601d\u8def\uff1a\n",
      "    - \u5148\u8003\u5bdfx\u7684\u8303\u56f4\uff1a[0, 100]"
     ]
    },
    {
     "cell_type": "code",
     "collapsed": false,
     "input": [
      "#x = 0\n",
      "x = 0\n",
      "houses = 100000\n",
      "oneHouseProfit = 100000\n",
      "newHouses = houses - 0.1*x*10000\n",
      "totalProfit = x/100*newHouses*oneHouseProfit\n",
      "print (\"\u5f53\u7a0e\u7387\u4e3a\",x,\"\u65f6\uff1a\")\n",
      "print (\"\u53ef\u9500\u552e\u623f\u5c4b\u6570\u91cf\u4e3a\uff1a\", newHouses)\n",
      "print (\"\u7a0e\u6536\u4e3a\uff1a\", totalProfit)"
     ],
     "language": "python",
     "metadata": {},
     "outputs": [
      {
       "output_type": "stream",
       "stream": "stdout",
       "text": [
        "\u5f53\u7a0e\u7387\u4e3a 0 \u65f6\uff1a\n",
        "\u53ef\u9500\u552e\u623f\u5c4b\u6570\u91cf\u4e3a\uff1a 100000.0\n",
        "\u7a0e\u6536\u4e3a\uff1a 0.0\n"
       ]
      }
     ],
     "prompt_number": 3
    },
    {
     "cell_type": "code",
     "collapsed": false,
     "input": [
      "#x = 100\n",
      "x = 100\n",
      "houses = 100000\n",
      "oneHouseProfit = 100000\n",
      "newHouses = houses - 0.1*x*10000\n",
      "totalProfit = x/100*newHouses*oneHouseProfit\n",
      "print (\"\u5f53\u7a0e\u7387\u4e3a\",x,\"\u65f6\uff1a\")\n",
      "print (\"\u53ef\u9500\u552e\u623f\u5c4b\u6570\u91cf\u4e3a\uff1a\", newHouses)\n",
      "print (\"\u7a0e\u6536\u4e3a\uff1a\", totalProfit)"
     ],
     "language": "python",
     "metadata": {},
     "outputs": [
      {
       "output_type": "stream",
       "stream": "stdout",
       "text": [
        "\u5f53\u7a0e\u7387\u4e3a 100 \u65f6\uff1a\n",
        "\u53ef\u9500\u552e\u623f\u5c4b\u6570\u91cf\u4e3a\uff1a 0.0\n",
        "\u7a0e\u6536\u4e3a\uff1a 0.0\n"
       ]
      }
     ],
     "prompt_number": 4
    },
    {
     "cell_type": "markdown",
     "metadata": {},
     "source": [
      "## \u6ce8\u610f\u5230\u9500\u552e\u6570\u91cf\u548c\u7a0e\u6536\u7684\u5173\u7cfb\uff0c\u5c06\u5176\u5e26\u5165\u65b9\u7a0b\u4e3a\uff1a"
     ]
    },
    {
     "cell_type": "code",
     "collapsed": false,
     "input": [
      "totalProfit = x/100 * (houses - 0.1*x*10000) * oneHouseProfit"
     ],
     "language": "python",
     "metadata": {},
     "outputs": [],
     "prompt_number": 5
    },
    {
     "cell_type": "markdown",
     "metadata": {},
     "source": [
      "##\u539f\u9898\u8f6c\u5316\u4e3a\u6c42\u89e3\u4e8c\u6b21\u65b9\u7a0b\u7684\u6781\u5927\u503c\u95ee\u9898\u3002\n",
      "\n",
      "- \u4e3a\u4e86\u4fbf\u4e8e\u76f4\u89c2\u8bb2\u89e3\uff0c\u6211\u4eec\u6765\u753b\u4e00\u4e0b\u770b\u770b\uff1a"
     ]
    },
    {
     "cell_type": "code",
     "collapsed": false,
     "input": [
      "fig, axes = subplots(1,2)\n",
      "x = np.linspace(0,100,50)\n",
      "totalProfit = x/100 * (houses - 0.1*x*10000) * oneHouseProfit\n",
      "\n",
      "newHouses = houses - 0.1*x*10000\n",
      "\n",
      "axes[0].plot(x, totalProfit)\n",
      "axes[0].set_xlabel(\"X\")\n",
      "axes[0].set_ylabel(\"totalProfit\")\n",
      "\n",
      "\n",
      "axes[1].plot(x, newHouses)\n",
      "axes[1].set_xlabel(\"x\")\n",
      "axes[1].set_ylabel(\"newHouses\")\n",
      "fig.tight_layout()\n",
      "fig.show()"
     ],
     "language": "python",
     "metadata": {},
     "outputs": [
      {
       "metadata": {},
       "output_type": "display_data",
       "png": "[encoded data removed]",
       "text": [
        "<matplotlib.figure.Figure at 0x1053ebf50>"
       ]
      }
     ],
     "prompt_number": 10
    },
    {
     "cell_type": "markdown",
     "metadata": {},
     "source": [
      "## \u5de6\u56fe\u4e3a\u7a0e\u6536\u968fX\u7684\u53d8\u5316\u72b6\u51b5\u3002\u53f3\u56fe\u4e3a\u623f\u5c4b\u9500\u552e\u6570\u91cf\u7684\u53d8\u5316\u60c5\u51b5\u3002\n",
      "\n",
      "- \u6839\u636e\u9650\u5236\u6761\u4ef6\uff0c\u5219\u4e0d\u96be\u89e3\u51faX\u7684\u53d6\u503c\u3002\n",
      "- Done"
     ]
    },
    {
     "cell_type": "code",
     "collapsed": false,
     "input": [
      "k = axes[0]"
     ],
     "language": "python",
     "metadata": {},
     "outputs": [],
     "prompt_number": 49
    },
    {
     "cell_type": "code",
     "collapsed": false,
     "input": [],
     "language": "python",
     "metadata": {},
     "outputs": [],
     "prompt_number": 33
    },
    {
     "cell_type": "code",
     "collapsed": false,
     "input": [],
     "language": "python",
     "metadata": {},
     "outputs": [],
     "prompt_number": 33
    },
    {
     "cell_type": "code",
     "collapsed": false,
     "input": [
      "%pylab inline"
     ],
     "language": "python",
     "metadata": {},
     "outputs": [
      {
       "output_type": "stream",
       "stream": "stdout",
       "text": [
        "Populating the interactive namespace from numpy and matplotlib\n"
       ]
      }
     ],
     "prompt_number": 7
    },
    {
     "cell_type": "code",
     "collapsed": false,
     "input": [],
     "language": "python",
     "metadata": {},
     "outputs": []
    }
   ],
   "metadata": {}
  }
 ]
}