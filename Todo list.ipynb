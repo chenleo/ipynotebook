{
 "metadata": {
  "name": ""
 },
 "nbformat": 3,
 "nbformat_minor": 0,
 "worksheets": [
  {
   "cells": [
    {
     "cell_type": "heading",
     "level": 1,
     "metadata": {},
     "source": [
      "Todo List"
     ]
    },
    {
     "cell_type": "markdown",
     "metadata": {},
     "source": [
      "* Redifine internal of DNA\n",
      "* Render picture in vmd\n",
      "* For FCS and spFRET generate strange doc (fft based)"
     ]
    },
    {
     "cell_type": "code",
     "collapsed": false,
     "input": [],
     "language": "python",
     "metadata": {},
     "outputs": []
    }
   ],
   "metadata": {}
  }
 ]
}