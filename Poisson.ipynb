{
 "metadata": {
  "name": ""
 },
 "nbformat": 3,
 "nbformat_minor": 0,
 "worksheets": [
  {
   "cells": [
    {
     "cell_type": "code",
     "collapsed": false,
     "input": [
      "%pylab inline"
     ],
     "language": "python",
     "metadata": {},
     "outputs": [
      {
       "output_type": "stream",
       "stream": "stdout",
       "text": [
        "Populating the interactive namespace from numpy and matplotlib\n"
       ]
      }
     ],
     "prompt_number": 1
    },
    {
     "cell_type": "code",
     "collapsed": false,
     "input": [
      "from numpy import random"
     ],
     "language": "python",
     "metadata": {},
     "outputs": [],
     "prompt_number": 1
    },
    {
     "cell_type": "code",
     "collapsed": false,
     "input": [
      "random.poisson?"
     ],
     "language": "python",
     "metadata": {},
     "outputs": [],
     "prompt_number": 3
    },
    {
     "cell_type": "code",
     "collapsed": false,
     "input": [
      "s = random.poisson(1,1000)"
     ],
     "language": "python",
     "metadata": {},
     "outputs": [],
     "prompt_number": 5
    },
    {
     "cell_type": "code",
     "collapsed": false,
     "input": [
      "s.view()"
     ],
     "language": "python",
     "metadata": {},
     "outputs": [
      {
       "metadata": {},
       "output_type": "pyout",
       "prompt_number": 6,
       "text": [
        "array([0, 1, 1, 2, 1, 1, 3, 1, 1, 1, 1, 0, 1, 0, 2, 0, 0, 0, 0, 0, 0, 1, 1,\n",
        "       0, 1, 2, 1, 1, 1, 1, 1, 1, 1, 0, 0, 4, 0, 0, 0, 2, 1, 2, 3, 0, 1, 3,\n",
        "       1, 2, 3, 0, 1, 1, 1, 1, 1, 0, 1, 3, 2, 1, 0, 2, 0, 1, 1, 1, 2, 1, 3,\n",
        "       0, 1, 1, 0, 0, 1, 1, 0, 3, 1, 1, 0, 2, 1, 2, 1, 2, 0, 1, 1, 0, 0, 0,\n",
        "       1, 1, 0, 2, 2, 0, 2, 0, 2, 1, 1, 0, 0, 0, 2, 3, 1, 2, 0, 2, 1, 0, 2,\n",
        "       1, 1, 2, 2, 2, 1, 0, 2, 1, 1, 2, 0, 0, 1, 1, 0, 2, 0, 1, 0, 0, 1, 0,\n",
        "       1, 0, 2, 0, 1, 2, 0, 1, 1, 1, 1, 1, 1, 2, 0, 2, 1, 0, 1, 1, 3, 3, 3,\n",
        "       2, 1, 0, 0, 3, 0, 0, 1, 2, 0, 0, 0, 1, 0, 1, 0, 0, 2, 1, 1, 0, 0, 1,\n",
        "       0, 3, 1, 3, 2, 2, 2, 0, 0, 4, 1, 1, 0, 1, 1, 1, 1, 1, 0, 1, 2, 4, 0,\n",
        "       0, 1, 1, 2, 2, 1, 0, 1, 0, 0, 0, 1, 3, 0, 0, 0, 0, 1, 1, 0, 2, 1, 1,\n",
        "       0, 1, 0, 0, 1, 0, 0, 3, 2, 2, 0, 0, 2, 1, 1, 0, 1, 1, 0, 1, 1, 0, 1,\n",
        "       3, 2, 0, 0, 0, 2, 1, 0, 2, 0, 0, 0, 1, 0, 2, 0, 0, 0, 0, 1, 0, 1, 2,\n",
        "       1, 0, 2, 0, 2, 0, 0, 1, 1, 1, 1, 0, 0, 2, 2, 1, 0, 1, 3, 1, 0, 3, 2,\n",
        "       1, 1, 0, 0, 1, 2, 3, 0, 0, 0, 0, 4, 2, 1, 3, 1, 1, 5, 0, 0, 1, 0, 0,\n",
        "       1, 0, 2, 2, 1, 0, 1, 2, 2, 0, 0, 1, 1, 2, 2, 1, 0, 3, 0, 0, 0, 1, 1,\n",
        "       1, 1, 1, 1, 2, 2, 1, 1, 1, 0, 2, 4, 1, 1, 0, 1, 2, 0, 0, 2, 1, 0, 0,\n",
        "       1, 0, 1, 1, 2, 3, 2, 0, 2, 1, 1, 1, 2, 1, 2, 2, 3, 2, 4, 0, 0, 2, 1,\n",
        "       1, 1, 1, 0, 0, 2, 1, 0, 0, 0, 2, 2, 0, 1, 0, 1, 0, 2, 0, 3, 4, 2, 1,\n",
        "       1, 0, 0, 2, 4, 3, 1, 0, 0, 1, 1, 2, 0, 1, 0, 1, 0, 0, 1, 1, 0, 1, 0,\n",
        "       0, 0, 0, 0, 1, 1, 2, 0, 4, 0, 3, 2, 1, 1, 0, 2, 2, 0, 1, 0, 0, 1, 0,\n",
        "       1, 2, 1, 1, 1, 2, 3, 2, 1, 2, 0, 3, 2, 1, 2, 3, 1, 2, 0, 0, 2, 0, 2,\n",
        "       1, 1, 1, 2, 1, 1, 1, 0, 1, 1, 0, 2, 2, 2, 1, 1, 2, 2, 0, 1, 1, 1, 0,\n",
        "       1, 0, 2, 1, 1, 0, 0, 0, 0, 2, 2, 1, 2, 1, 2, 1, 4, 1, 0, 0, 1, 0, 1,\n",
        "       1, 0, 0, 2, 1, 1, 0, 0, 2, 2, 0, 0, 0, 1, 2, 1, 1, 1, 0, 2, 3, 1, 0,\n",
        "       0, 2, 1, 0, 0, 0, 2, 1, 0, 0, 2, 1, 2, 3, 0, 0, 1, 0, 1, 1, 0, 0, 1,\n",
        "       1, 2, 1, 0, 0, 1, 3, 1, 1, 2, 4, 1, 1, 0, 0, 1, 3, 1, 1, 3, 1, 1, 1,\n",
        "       3, 1, 3, 1, 0, 1, 1, 2, 1, 0, 2, 1, 0, 3, 0, 1, 1, 0, 0, 2, 1, 0, 1,\n",
        "       1, 0, 1, 2, 1, 1, 1, 1, 2, 3, 0, 1, 1, 1, 1, 0, 1, 1, 0, 0, 1, 1, 0,\n",
        "       1, 1, 0, 2, 2, 0, 1, 0, 0, 1, 1, 0, 1, 2, 1, 0, 2, 1, 3, 3, 0, 0, 0,\n",
        "       1, 1, 0, 0, 1, 1, 0, 2, 1, 3, 3, 1, 2, 1, 1, 1, 0, 0, 0, 0, 2, 0, 4,\n",
        "       0, 0, 1, 0, 0, 1, 0, 2, 0, 0, 2, 1, 0, 0, 2, 2, 2, 1, 0, 2, 0, 0, 1,\n",
        "       0, 0, 1, 2, 1, 2, 2, 0, 0, 3, 2, 0, 2, 0, 0, 0, 2, 2, 1, 1, 0, 2, 1,\n",
        "       1, 1, 1, 0, 1, 1, 1, 1, 0, 1, 0, 1, 1, 1, 0, 2, 0, 2, 1, 0, 2, 1, 1,\n",
        "       1, 3, 1, 1, 5, 1, 2, 1, 1, 3, 1, 1, 2, 0, 1, 2, 1, 0, 0, 1, 0, 6, 1,\n",
        "       0, 0, 1, 0, 0, 0, 1, 0, 0, 2, 1, 2, 0, 1, 0, 0, 1, 0, 2, 1, 0, 1, 2,\n",
        "       0, 3, 0, 3, 0, 4, 1, 2, 0, 2, 1, 2, 0, 1, 1, 1, 0, 0, 0, 1, 0, 1, 0,\n",
        "       0, 0, 2, 0, 1, 1, 1, 1, 1, 1, 0, 1, 1, 0, 2, 1, 3, 3, 3, 2, 1, 1, 2,\n",
        "       0, 0, 1, 0, 0, 0, 1, 0, 1, 1, 2, 1, 2, 0, 0, 0, 0, 1, 0, 1, 0, 1, 1,\n",
        "       0, 0, 1, 0, 0, 3, 1, 1, 1, 1, 1, 4, 1, 0, 0, 1, 0, 3, 1, 1, 0, 2, 0,\n",
        "       1, 3, 0, 1, 0, 2, 1, 1, 1, 1, 1, 0, 1, 0, 0, 1, 0, 0, 2, 1, 1, 2, 0,\n",
        "       2, 1, 2, 2, 2, 1, 2, 1, 1, 1, 0, 0, 0, 0, 0, 0, 0, 2, 0, 0, 2, 1, 1,\n",
        "       1, 0, 2, 0, 3, 0, 1, 0, 1, 0, 0, 0, 1, 0, 0, 0, 1, 1, 1, 1, 1, 1, 2,\n",
        "       2, 0, 1, 5, 1, 0, 1, 1, 2, 0, 0, 1, 2, 0, 0, 0, 1, 1, 0, 2, 0, 0, 3,\n",
        "       0, 1, 0, 0, 1, 1, 1, 1, 1, 0, 2])"
       ]
      }
     ],
     "prompt_number": 6
    },
    {
     "cell_type": "code",
     "collapsed": false,
     "input": [
      "plot(s)"
     ],
     "language": "python",
     "metadata": {},
     "outputs": [
      {
       "metadata": {},
       "output_type": "pyout",
       "prompt_number": 18,
       "text": [
        "[<matplotlib.lines.Line2D at 0x106ab7ad0>]"
       ]
      },
      {
       "metadata": {},
       "output_type": "display_data",
       "png": "[encoded data removed]",
       "text": [
        "<matplotlib.figure.Figure at 0x10671ec90>"
       ]
      }
     ],
     "prompt_number": 18
    },
    {
     "cell_type": "code",
     "collapsed": false,
     "input": [
      "hist(s,50)\n",
      "show()"
     ],
     "language": "python",
     "metadata": {},
     "outputs": [
      {
       "metadata": {},
       "output_type": "display_data",
       "png": "[encoded data removed]",
       "text": [
        "<matplotlib.figure.Figure at 0x106ca17d0>"
       ]
      }
     ],
     "prompt_number": 23
    },
    {
     "cell_type": "code",
     "collapsed": false,
     "input": [
      "s.mean()"
     ],
     "language": "python",
     "metadata": {},
     "outputs": [
      {
       "metadata": {},
       "output_type": "pyout",
       "prompt_number": 24,
       "text": [
        "0.99199999999999999"
       ]
      }
     ],
     "prompt_number": 24
    },
    {
     "cell_type": "code",
     "collapsed": false,
     "input": [
      "s.std()"
     ],
     "language": "python",
     "metadata": {},
     "outputs": [
      {
       "metadata": {},
       "output_type": "pyout",
       "prompt_number": 25,
       "text": [
        "0.99996799948797799"
       ]
      }
     ],
     "prompt_number": 25
    },
    {
     "cell_type": "code",
     "collapsed": false,
     "input": [
      "#Calculate Auto-correlation function based on fft\n",
      "#only support 1D\n",
      "#for cross correlation, in optimisation\n",
      "#input data suggest to be numpy.ndarray(1d) or pandas.core.series.Series\n",
      "def acf_fft(data):\n",
      "    \"\"\" Series or 1darray ---> Series \n",
      "        Calculate the auto correlation function of input data\n",
      "    \"\"\"\n",
      "    data_mean = data.mean()\n",
      "    \n",
      "    #Step 1: calculate fft for data\n",
      "    fft_data = fft.fft(data)\n",
      "    \n",
      "    #Step 2: Calculate the pow spectrom,\n",
      "    S_f = fft_data.__mul__(fft_data.conj())\n",
      "                           \n",
      "    #Step 3: calculate auto correlation function, result as g(\\tau)\n",
      "    acf = ifft(S_f)/fft_data[0]/data_mean - 1;\n",
      "    \n",
      "    #Clean up, return half of data\n",
      "    acf = acf.real[0:int(len(acf)/2)]\n",
      "    return acf"
     ],
     "language": "python",
     "metadata": {},
     "outputs": [],
     "prompt_number": 19
    },
    {
     "cell_type": "code",
     "collapsed": false,
     "input": [
      "plot(acf_fft(s),'o')"
     ],
     "language": "python",
     "metadata": {},
     "outputs": [
      {
       "metadata": {},
       "output_type": "pyout",
       "prompt_number": 26,
       "text": [
        "[<matplotlib.lines.Line2D at 0x106ca6190>]"
       ]
      },
      {
       "metadata": {},
       "output_type": "display_data",
       "png": "[encoded data removed]",
       "text": [
        "<matplotlib.figure.Figure at 0x106cbc310>"
       ]
      }
     ],
     "prompt_number": 26
    },
    {
     "cell_type": "code",
     "collapsed": false,
     "input": [
      "import os"
     ],
     "language": "python",
     "metadata": {},
     "outputs": [],
     "prompt_number": 7
    },
    {
     "cell_type": "code",
     "collapsed": false,
     "input": [
      "os?"
     ],
     "language": "python",
     "metadata": {},
     "outputs": [],
     "prompt_number": 8
    },
    {
     "cell_type": "code",
     "collapsed": false,
     "input": [],
     "language": "python",
     "metadata": {},
     "outputs": []
    }
   ],
   "metadata": {}
  }
 ]
}